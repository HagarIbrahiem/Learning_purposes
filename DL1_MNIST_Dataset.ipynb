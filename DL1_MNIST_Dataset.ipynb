{
  "nbformat": 4,
  "nbformat_minor": 0,
  "metadata": {
    "colab": {
      "provenance": [],
      "collapsed_sections": [
        "Qb_XkIesUepv",
        "GL1wj9prUisZ"
      ],
      "authorship_tag": "ABX9TyM4S/IzDrWAlA3GAWpFfbmR",
      "include_colab_link": true
    },
    "kernelspec": {
      "name": "python3",
      "display_name": "Python 3"
    },
    "language_info": {
      "name": "python"
    },
    "accelerator": "GPU",
    "gpuClass": "standard"
  },
  "cells": [
    {
      "cell_type": "markdown",
      "metadata": {
        "id": "view-in-github",
        "colab_type": "text"
      },
      "source": [
        "<a href=\"https://colab.research.google.com/github/HagarIbrahiem/Learning_purposes/blob/main/DL1_MNIST_Dataset.ipynb\" target=\"_parent\"><img src=\"https://colab.research.google.com/assets/colab-badge.svg\" alt=\"Open In Colab\"/></a>"
      ]
    },
    {
      "cell_type": "markdown",
      "source": [
        "#Example1 - Shallow Model"
      ],
      "metadata": {
        "id": "vSVeJv6SGdDC"
      }
    },
    {
      "cell_type": "markdown",
      "source": [
        "## Data"
      ],
      "metadata": {
        "id": "Qb_XkIesUepv"
      }
    },
    {
      "cell_type": "code",
      "execution_count": 2,
      "metadata": {
        "id": "wsPxKilLDVcF"
      },
      "outputs": [],
      "source": [
        "import numpy as np\n",
        "from tensorflow.keras.datasets import mnist"
      ]
    },
    {
      "cell_type": "code",
      "source": [
        "## The MNIST dataset comes pre-loaded in Keras, in the form of a set of four Numpy arrays:\n",
        "(train_images,train_labels),(test_images,test_labels) = mnist.load_data()\n"
      ],
      "metadata": {
        "id": "M2CCNU4HEoev",
        "colab": {
          "base_uri": "https://localhost:8080/"
        },
        "outputId": "e61d0e44-a452-47a3-9036-3fdbcf5e7d2b"
      },
      "execution_count": 3,
      "outputs": [
        {
          "output_type": "stream",
          "name": "stdout",
          "text": [
            "Downloading data from https://storage.googleapis.com/tensorflow/tf-keras-datasets/mnist.npz\n",
            "11490434/11490434 [==============================] - 1s 0us/step\n"
          ]
        }
      ]
    },
    {
      "cell_type": "code",
      "source": [
        "## input as images\n",
        "print(train_images.shape)\n",
        "print(test_images.shape)\n"
      ],
      "metadata": {
        "colab": {
          "base_uri": "https://localhost:8080/"
        },
        "id": "xu0_vOcDF6pN",
        "outputId": "37b1d71f-1b86-495d-e99e-4d9ceb42d2ad"
      },
      "execution_count": 4,
      "outputs": [
        {
          "output_type": "stream",
          "name": "stdout",
          "text": [
            "(60000, 28, 28)\n",
            "(10000, 28, 28)\n"
          ]
        }
      ]
    },
    {
      "cell_type": "code",
      "source": [
        "## outputs/labels are simply an array of digits, ranging from 0 to 9\n",
        "train_labels"
      ],
      "metadata": {
        "colab": {
          "base_uri": "https://localhost:8080/"
        },
        "id": "VbnGEoTwGsxK",
        "outputId": "eb27a9f0-fed5-46f9-ebb7-fb2870c40e57"
      },
      "execution_count": 5,
      "outputs": [
        {
          "output_type": "execute_result",
          "data": {
            "text/plain": [
              "array([5, 0, 4, ..., 5, 6, 8], dtype=uint8)"
            ]
          },
          "metadata": {},
          "execution_count": 5
        }
      ]
    },
    {
      "cell_type": "code",
      "source": [
        "train_labels[5]"
      ],
      "metadata": {
        "colab": {
          "base_uri": "https://localhost:8080/"
        },
        "id": "ACYkB4DQGuLa",
        "outputId": "bed6a8d5-86cd-4546-8a17-2c9a3fb8c625"
      },
      "execution_count": 6,
      "outputs": [
        {
          "output_type": "execute_result",
          "data": {
            "text/plain": [
              "2"
            ]
          },
          "metadata": {},
          "execution_count": 6
        }
      ]
    },
    {
      "cell_type": "code",
      "source": [
        "## will not used , just for clarification\n",
        "from sklearn.model_selection import train_test_split\n",
        "x_train, x_val, y_train, y_val = train_test_split(train_images,train_labels , test_size=0.2,shuffle=True)"
      ],
      "metadata": {
        "id": "zN9noHqdEo4J"
      },
      "execution_count": 7,
      "outputs": []
    },
    {
      "cell_type": "code",
      "source": [
        "print(x_train.shape)\n",
        "print(x_val.shape)"
      ],
      "metadata": {
        "id": "gvRiFlqTEo5g",
        "colab": {
          "base_uri": "https://localhost:8080/"
        },
        "outputId": "ed3d5698-fe0f-4856-9b09-f5d7f78d5444"
      },
      "execution_count": 8,
      "outputs": [
        {
          "output_type": "stream",
          "name": "stdout",
          "text": [
            "(48000, 28, 28)\n",
            "(12000, 28, 28)\n"
          ]
        }
      ]
    },
    {
      "cell_type": "code",
      "source": [
        "print(y_train.shape)\n",
        "print(y_val.shape)"
      ],
      "metadata": {
        "id": "YwAvBReCEo-H",
        "colab": {
          "base_uri": "https://localhost:8080/"
        },
        "outputId": "49461a7d-7c51-4263-b01f-fc9b918d0db7"
      },
      "execution_count": 9,
      "outputs": [
        {
          "output_type": "stream",
          "name": "stdout",
          "text": [
            "(48000,)\n",
            "(12000,)\n"
          ]
        }
      ]
    },
    {
      "cell_type": "code",
      "source": [
        "## (Reshaping to 1D) + (Normalization)\n",
        "## Before training, we will preprocess our data by reshaping it into the shape that the network expects as we deal with dense/FulluConnected Layerwhich expect 1D input\n",
        "\n",
        "train_images=train_images.reshape(60000,28*28)\n",
        "test_images=test_images.reshape(10000,28*28)\n",
        "\n",
        "## scaling data so that all values are in the [0, 1] interval to avoide saturation at the activae fun\n",
        "train_images=train_images.astype('float32')/255\n",
        "test_images=test_images.astype('float32')/255\n",
        "\n",
        "##Previously, our training images were stored in an array of shape (60000, 28, 28) of type uint8 with values in the [0, 255] interval.\n",
        "## now We transform it into a float32 array of shape (60000, 28 * 28) with values in the [0 , 1]."
      ],
      "metadata": {
        "id": "HnmcGiylEpBM"
      },
      "execution_count": 10,
      "outputs": []
    },
    {
      "cell_type": "code",
      "source": [
        "print(train_images.shape)\n",
        "print(test_images.shape)"
      ],
      "metadata": {
        "id": "4TFurn_OEpDu",
        "colab": {
          "base_uri": "https://localhost:8080/"
        },
        "outputId": "f73bfaa9-b1be-40a2-c9de-7b0b50a37529"
      },
      "execution_count": 11,
      "outputs": [
        {
          "output_type": "stream",
          "name": "stdout",
          "text": [
            "(60000, 784)\n",
            "(10000, 784)\n"
          ]
        }
      ]
    },
    {
      "cell_type": "markdown",
      "source": [
        "![image.png](data:image/png;base64,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)"
      ],
      "metadata": {
        "id": "TvSsNZC6Mf2K"
      }
    },
    {
      "cell_type": "markdown",
      "source": [
        "According to the table , out task is MultiClass-SingleLabel, we'll use (( Softmax+Ctegorical_crossEntropy ))\n",
        "\n",
        "Softmax output will be like:\n",
        "\n",
        " y1^hat = [0.1, 0.5, 0.0, 0.1, 0.1, 0.0, 0.0, 0.2, 0.0, 0.0]\n",
        "\n",
        "crossentroy needs y^hat and y_true , y^hat is an array of 10 values , while y_true is only one integer number , so we need to convert y_true from 1 value to array of 10 values.\n",
        "\n",
        "if y_true = 2 , then it will be converted to [0,0,1,0,0,0,0,0,0,0]\n",
        "\n",
        "one_hot enconding in Keras done by using ((to_categorical))"
      ],
      "metadata": {
        "id": "qfs29dJhMi5b"
      }
    },
    {
      "cell_type": "code",
      "source": [
        "print(train_labels.shape)\n",
        "print(test_labels.shape)"
      ],
      "metadata": {
        "colab": {
          "base_uri": "https://localhost:8080/"
        },
        "id": "qDihiy8GGZpO",
        "outputId": "475fe0cd-6485-409a-933a-3d69b3409422"
      },
      "execution_count": 12,
      "outputs": [
        {
          "output_type": "stream",
          "name": "stdout",
          "text": [
            "(60000,)\n",
            "(10000,)\n"
          ]
        }
      ]
    },
    {
      "cell_type": "code",
      "source": [
        "from tensorflow.keras.utils import to_categorical\n",
        "\n",
        "train_labels = to_categorical (train_labels)\n",
        "test_labels = to_categorical (test_labels)"
      ],
      "metadata": {
        "id": "bE1z-kK8EpFb"
      },
      "execution_count": 13,
      "outputs": []
    },
    {
      "cell_type": "code",
      "source": [
        "print(train_labels.shape)\n",
        "print(test_labels.shape)"
      ],
      "metadata": {
        "id": "OOoj8_ziEpH-",
        "colab": {
          "base_uri": "https://localhost:8080/"
        },
        "outputId": "9448439c-6d32-4b2d-fbfc-8b1d3c63adfa"
      },
      "execution_count": 14,
      "outputs": [
        {
          "output_type": "stream",
          "name": "stdout",
          "text": [
            "(60000, 10)\n",
            "(10000, 10)\n"
          ]
        }
      ]
    },
    {
      "cell_type": "markdown",
      "source": [
        "## Model"
      ],
      "metadata": {
        "id": "GL1wj9prUisZ"
      }
    },
    {
      "cell_type": "code",
      "source": [
        "from tensorflow.keras import models\n",
        "from tensorflow.keras import layers"
      ],
      "metadata": {
        "id": "tdKhgH9kEpJc"
      },
      "execution_count": 15,
      "outputs": []
    },
    {
      "cell_type": "code",
      "source": [
        "network = models.Sequential()\n",
        "## simplest form of a NN model is single layer \n",
        "# 10 = output of model , which much be as number as classes ,  exceptin acse of binary classification = 1\n",
        "network.add( layers.Dense( 10  , activation = 'softmax' , input_shape=(28*28,) )) "
      ],
      "metadata": {
        "id": "rrebdigVEpOL"
      },
      "execution_count": 16,
      "outputs": []
    },
    {
      "cell_type": "code",
      "source": [
        "network.summary()\n",
        "\n",
        "## None = No. of Samples used to train the models , w msh htfr2 at each time we run the model \n",
        "## params = weights == 7850 ==  ( 784 feature per each img , each is muliplied by weights which is 784 weighst per each neuron * 10 neuons , 34an 3andy 10 output for eachimg + 10 Bias for each neuron)\n",
        "## Trainable params which the optimizer may change in order to minimize loss\n"
      ],
      "metadata": {
        "colab": {
          "base_uri": "https://localhost:8080/"
        },
        "id": "n-WW4IxNWhAh",
        "outputId": "4936de4f-37a0-441a-a14a-2ff7835318b1"
      },
      "execution_count": 17,
      "outputs": [
        {
          "output_type": "stream",
          "name": "stdout",
          "text": [
            "Model: \"sequential\"\n",
            "_________________________________________________________________\n",
            " Layer (type)                Output Shape              Param #   \n",
            "=================================================================\n",
            " dense (Dense)               (None, 10)                7850      \n",
            "                                                                 \n",
            "=================================================================\n",
            "Total params: 7,850\n",
            "Trainable params: 7,850\n",
            "Non-trainable params: 0\n",
            "_________________________________________________________________\n"
          ]
        }
      ]
    },
    {
      "cell_type": "code",
      "source": [
        "from tensorflow.keras.utils import plot_model\n",
        "plot_model(network)"
      ],
      "metadata": {
        "colab": {
          "base_uri": "https://localhost:8080/",
          "height": 174
        },
        "id": "raEtVc5gF4ra",
        "outputId": "e51800d1-347a-41a5-9845-094a0985e1cc"
      },
      "execution_count": 18,
      "outputs": [
        {
          "output_type": "execute_result",
          "data": {
            "image/png": "[encoded data removed]",
            "text/plain": [
              "<IPython.core.display.Image object>"
            ]
          },
          "metadata": {},
          "execution_count": 18
        }
      ]
    },
    {
      "cell_type": "markdown",
      "source": [
        "##Compilation (loss + optimizer)"
      ],
      "metadata": {
        "id": "UiDNGnQBXgMb"
      }
    },
    {
      "cell_type": "code",
      "source": [
        "network.compile (optimizer='rmsprop', loss= 'categorical_crossentropy' , metrics=['accuracy'])"
      ],
      "metadata": {
        "id": "6bcFemSMWqHf"
      },
      "execution_count": 19,
      "outputs": []
    },
    {
      "cell_type": "code",
      "source": [
        "network.fit( train_images , train_labels , epochs=5 , batch_size =128 )   # x, y , \n",
        "#batch_size must be (2 ^ something ), in order to fit as the GPU and avoid fregmentation , cant be 127 , this is the no of samples to be moved from cpu to GPU , \n",
        "# kol m azod kol mykon better , 1024 , or even 60000 , but the limiting factor is the GPU memory , if batch_size=2 , will generate the same result bs in slower way, we dont know memoery of gpu of colap\n",
        "#batchsize not affect result but performance\n",
        "# for each epoch of 5 , we do the full process including ( forward , loss , backword )\n",
        "# 60000 / 128 , so each epoch contains 469 steps , one batch contains 469 steps\n",
        "# results contains training ( loss, accurcy)"
      ],
      "metadata": {
        "colab": {
          "base_uri": "https://localhost:8080/",
          "height": 450
        },
        "id": "4D_wuMtoWqJB",
        "outputId": "4508e65c-82fc-40c6-e87d-a7e04195f6c6"
      },
      "execution_count": 20,
      "outputs": [
        {
          "output_type": "stream",
          "name": "stdout",
          "text": [
            "Epoch 1/5\n",
            " 74/469 [===>..........................] - ETA: 1s - loss: 1.3507 - accuracy: 0.6774"
          ]
        },
        {
          "output_type": "error",
          "ename": "KeyboardInterrupt",
          "evalue": "ignored",
          "traceback": [
            "\u001b[0;31m---------------------------------------------------------------------------\u001b[0m",
            "\u001b[0;31mKeyboardInterrupt\u001b[0m                         Traceback (most recent call last)",
            "\u001b[0;32m<ipython-input-20-76ddfd3f87f6>\u001b[0m in \u001b[0;36m<module>\u001b[0;34m\u001b[0m\n\u001b[0;32m----> 1\u001b[0;31m \u001b[0mnetwork\u001b[0m\u001b[0;34m.\u001b[0m\u001b[0mfit\u001b[0m\u001b[0;34m(\u001b[0m \u001b[0mtrain_images\u001b[0m \u001b[0;34m,\u001b[0m \u001b[0mtrain_labels\u001b[0m \u001b[0;34m,\u001b[0m \u001b[0mepochs\u001b[0m\u001b[0;34m=\u001b[0m\u001b[0;36m5\u001b[0m \u001b[0;34m,\u001b[0m \u001b[0mbatch_size\u001b[0m \u001b[0;34m=\u001b[0m\u001b[0;36m128\u001b[0m \u001b[0;34m)\u001b[0m   \u001b[0;31m# x, y ,\u001b[0m\u001b[0;34m\u001b[0m\u001b[0;34m\u001b[0m\u001b[0m\n\u001b[0m\u001b[1;32m      2\u001b[0m \u001b[0;31m#batch_size must be (2 ^ something ), in order to fit as the GPU and avoid fregmentation , cant be 127 , this is the no of samples to be moved from cpu to GPU ,\u001b[0m\u001b[0;34m\u001b[0m\u001b[0;34m\u001b[0m\u001b[0;34m\u001b[0m\u001b[0m\n\u001b[1;32m      3\u001b[0m \u001b[0;31m# kol m azod kol mykon better , 1024 , or even 60000 , but the limiting factor is the GPU memory , if batch_size=2 , will generate the same result bs in slower way, we dont know memoery of gpu of colap\u001b[0m\u001b[0;34m\u001b[0m\u001b[0;34m\u001b[0m\u001b[0;34m\u001b[0m\u001b[0m\n\u001b[1;32m      4\u001b[0m \u001b[0;31m#batchsize not affect result but performance\u001b[0m\u001b[0;34m\u001b[0m\u001b[0;34m\u001b[0m\u001b[0;34m\u001b[0m\u001b[0m\n\u001b[1;32m      5\u001b[0m \u001b[0;31m# for each epoch of 5 , we do the full process including ( forward , loss , backword )\u001b[0m\u001b[0;34m\u001b[0m\u001b[0;34m\u001b[0m\u001b[0;34m\u001b[0m\u001b[0m\n",
            "\u001b[0;32m/usr/local/lib/python3.8/dist-packages/keras/utils/traceback_utils.py\u001b[0m in \u001b[0;36merror_handler\u001b[0;34m(*args, **kwargs)\u001b[0m\n\u001b[1;32m     63\u001b[0m         \u001b[0mfiltered_tb\u001b[0m \u001b[0;34m=\u001b[0m \u001b[0;32mNone\u001b[0m\u001b[0;34m\u001b[0m\u001b[0;34m\u001b[0m\u001b[0m\n\u001b[1;32m     64\u001b[0m         \u001b[0;32mtry\u001b[0m\u001b[0;34m:\u001b[0m\u001b[0;34m\u001b[0m\u001b[0;34m\u001b[0m\u001b[0m\n\u001b[0;32m---> 65\u001b[0;31m             \u001b[0;32mreturn\u001b[0m \u001b[0mfn\u001b[0m\u001b[0;34m(\u001b[0m\u001b[0;34m*\u001b[0m\u001b[0margs\u001b[0m\u001b[0;34m,\u001b[0m \u001b[0;34m**\u001b[0m\u001b[0mkwargs\u001b[0m\u001b[0;34m)\u001b[0m\u001b[0;34m\u001b[0m\u001b[0;34m\u001b[0m\u001b[0m\n\u001b[0m\u001b[1;32m     66\u001b[0m         \u001b[0;32mexcept\u001b[0m \u001b[0mException\u001b[0m \u001b[0;32mas\u001b[0m \u001b[0me\u001b[0m\u001b[0;34m:\u001b[0m\u001b[0;34m\u001b[0m\u001b[0;34m\u001b[0m\u001b[0m\n\u001b[1;32m     67\u001b[0m             \u001b[0mfiltered_tb\u001b[0m \u001b[0;34m=\u001b[0m \u001b[0m_process_traceback_frames\u001b[0m\u001b[0;34m(\u001b[0m\u001b[0me\u001b[0m\u001b[0;34m.\u001b[0m\u001b[0m__traceback__\u001b[0m\u001b[0;34m)\u001b[0m\u001b[0;34m\u001b[0m\u001b[0;34m\u001b[0m\u001b[0m\n",
            "\u001b[0;32m/usr/local/lib/python3.8/dist-packages/keras/engine/training.py\u001b[0m in \u001b[0;36mfit\u001b[0;34m(self, x, y, batch_size, epochs, verbose, callbacks, validation_split, validation_data, shuffle, class_weight, sample_weight, initial_epoch, steps_per_epoch, validation_steps, validation_batch_size, validation_freq, max_queue_size, workers, use_multiprocessing)\u001b[0m\n\u001b[1;32m   1648\u001b[0m                         ):\n\u001b[1;32m   1649\u001b[0m                             \u001b[0mcallbacks\u001b[0m\u001b[0;34m.\u001b[0m\u001b[0mon_train_batch_begin\u001b[0m\u001b[0;34m(\u001b[0m\u001b[0mstep\u001b[0m\u001b[0;34m)\u001b[0m\u001b[0;34m\u001b[0m\u001b[0;34m\u001b[0m\u001b[0m\n\u001b[0;32m-> 1650\u001b[0;31m                             \u001b[0mtmp_logs\u001b[0m \u001b[0;34m=\u001b[0m \u001b[0mself\u001b[0m\u001b[0;34m.\u001b[0m\u001b[0mtrain_function\u001b[0m\u001b[0;34m(\u001b[0m\u001b[0miterator\u001b[0m\u001b[0;34m)\u001b[0m\u001b[0;34m\u001b[0m\u001b[0;34m\u001b[0m\u001b[0m\n\u001b[0m\u001b[1;32m   1651\u001b[0m                             \u001b[0;32mif\u001b[0m \u001b[0mdata_handler\u001b[0m\u001b[0;34m.\u001b[0m\u001b[0mshould_sync\u001b[0m\u001b[0;34m:\u001b[0m\u001b[0;34m\u001b[0m\u001b[0;34m\u001b[0m\u001b[0m\n\u001b[1;32m   1652\u001b[0m                                 \u001b[0mcontext\u001b[0m\u001b[0;34m.\u001b[0m\u001b[0masync_wait\u001b[0m\u001b[0;34m(\u001b[0m\u001b[0;34m)\u001b[0m\u001b[0;34m\u001b[0m\u001b[0;34m\u001b[0m\u001b[0m\n",
            "\u001b[0;32m/usr/local/lib/python3.8/dist-packages/tensorflow/python/util/traceback_utils.py\u001b[0m in \u001b[0;36merror_handler\u001b[0;34m(*args, **kwargs)\u001b[0m\n\u001b[1;32m    148\u001b[0m     \u001b[0mfiltered_tb\u001b[0m \u001b[0;34m=\u001b[0m \u001b[0;32mNone\u001b[0m\u001b[0;34m\u001b[0m\u001b[0;34m\u001b[0m\u001b[0m\n\u001b[1;32m    149\u001b[0m     \u001b[0;32mtry\u001b[0m\u001b[0;34m:\u001b[0m\u001b[0;34m\u001b[0m\u001b[0;34m\u001b[0m\u001b[0m\n\u001b[0;32m--> 150\u001b[0;31m       \u001b[0;32mreturn\u001b[0m \u001b[0mfn\u001b[0m\u001b[0;34m(\u001b[0m\u001b[0;34m*\u001b[0m\u001b[0margs\u001b[0m\u001b[0;34m,\u001b[0m \u001b[0;34m**\u001b[0m\u001b[0mkwargs\u001b[0m\u001b[0;34m)\u001b[0m\u001b[0;34m\u001b[0m\u001b[0;34m\u001b[0m\u001b[0m\n\u001b[0m\u001b[1;32m    151\u001b[0m     \u001b[0;32mexcept\u001b[0m \u001b[0mException\u001b[0m \u001b[0;32mas\u001b[0m \u001b[0me\u001b[0m\u001b[0;34m:\u001b[0m\u001b[0;34m\u001b[0m\u001b[0;34m\u001b[0m\u001b[0m\n\u001b[1;32m    152\u001b[0m       \u001b[0mfiltered_tb\u001b[0m \u001b[0;34m=\u001b[0m \u001b[0m_process_traceback_frames\u001b[0m\u001b[0;34m(\u001b[0m\u001b[0me\u001b[0m\u001b[0;34m.\u001b[0m\u001b[0m__traceback__\u001b[0m\u001b[0;34m)\u001b[0m\u001b[0;34m\u001b[0m\u001b[0;34m\u001b[0m\u001b[0m\n",
            "\u001b[0;32m/usr/local/lib/python3.8/dist-packages/tensorflow/python/eager/polymorphic_function/polymorphic_function.py\u001b[0m in \u001b[0;36m__call__\u001b[0;34m(self, *args, **kwds)\u001b[0m\n\u001b[1;32m    878\u001b[0m \u001b[0;34m\u001b[0m\u001b[0m\n\u001b[1;32m    879\u001b[0m       \u001b[0;32mwith\u001b[0m \u001b[0mOptionalXlaContext\u001b[0m\u001b[0;34m(\u001b[0m\u001b[0mself\u001b[0m\u001b[0;34m.\u001b[0m\u001b[0m_jit_compile\u001b[0m\u001b[0;34m)\u001b[0m\u001b[0;34m:\u001b[0m\u001b[0;34m\u001b[0m\u001b[0;34m\u001b[0m\u001b[0m\n\u001b[0;32m--> 880\u001b[0;31m         \u001b[0mresult\u001b[0m \u001b[0;34m=\u001b[0m \u001b[0mself\u001b[0m\u001b[0;34m.\u001b[0m\u001b[0m_call\u001b[0m\u001b[0;34m(\u001b[0m\u001b[0;34m*\u001b[0m\u001b[0margs\u001b[0m\u001b[0;34m,\u001b[0m \u001b[0;34m**\u001b[0m\u001b[0mkwds\u001b[0m\u001b[0;34m)\u001b[0m\u001b[0;34m\u001b[0m\u001b[0;34m\u001b[0m\u001b[0m\n\u001b[0m\u001b[1;32m    881\u001b[0m \u001b[0;34m\u001b[0m\u001b[0m\n\u001b[1;32m    882\u001b[0m       \u001b[0mnew_tracing_count\u001b[0m \u001b[0;34m=\u001b[0m \u001b[0mself\u001b[0m\u001b[0;34m.\u001b[0m\u001b[0mexperimental_get_tracing_count\u001b[0m\u001b[0;34m(\u001b[0m\u001b[0;34m)\u001b[0m\u001b[0;34m\u001b[0m\u001b[0;34m\u001b[0m\u001b[0m\n",
            "\u001b[0;32m/usr/local/lib/python3.8/dist-packages/tensorflow/python/eager/polymorphic_function/polymorphic_function.py\u001b[0m in \u001b[0;36m_call\u001b[0;34m(self, *args, **kwds)\u001b[0m\n\u001b[1;32m    910\u001b[0m       \u001b[0;31m# In this case we have created variables on the first call, so we run the\u001b[0m\u001b[0;34m\u001b[0m\u001b[0;34m\u001b[0m\u001b[0;34m\u001b[0m\u001b[0m\n\u001b[1;32m    911\u001b[0m       \u001b[0;31m# defunned version which is guaranteed to never create variables.\u001b[0m\u001b[0;34m\u001b[0m\u001b[0;34m\u001b[0m\u001b[0;34m\u001b[0m\u001b[0m\n\u001b[0;32m--> 912\u001b[0;31m       \u001b[0;32mreturn\u001b[0m \u001b[0mself\u001b[0m\u001b[0;34m.\u001b[0m\u001b[0m_no_variable_creation_fn\u001b[0m\u001b[0;34m(\u001b[0m\u001b[0;34m*\u001b[0m\u001b[0margs\u001b[0m\u001b[0;34m,\u001b[0m \u001b[0;34m**\u001b[0m\u001b[0mkwds\u001b[0m\u001b[0;34m)\u001b[0m  \u001b[0;31m# pylint: disable=not-callable\u001b[0m\u001b[0;34m\u001b[0m\u001b[0;34m\u001b[0m\u001b[0m\n\u001b[0m\u001b[1;32m    913\u001b[0m     \u001b[0;32melif\u001b[0m \u001b[0mself\u001b[0m\u001b[0;34m.\u001b[0m\u001b[0m_variable_creation_fn\u001b[0m \u001b[0;32mis\u001b[0m \u001b[0;32mnot\u001b[0m \u001b[0;32mNone\u001b[0m\u001b[0;34m:\u001b[0m\u001b[0;34m\u001b[0m\u001b[0;34m\u001b[0m\u001b[0m\n\u001b[1;32m    914\u001b[0m       \u001b[0;31m# Release the lock early so that multiple threads can perform the call\u001b[0m\u001b[0;34m\u001b[0m\u001b[0;34m\u001b[0m\u001b[0;34m\u001b[0m\u001b[0m\n",
            "\u001b[0;32m/usr/local/lib/python3.8/dist-packages/tensorflow/python/eager/polymorphic_function/tracing_compiler.py\u001b[0m in \u001b[0;36m__call__\u001b[0;34m(self, *args, **kwargs)\u001b[0m\n\u001b[1;32m    131\u001b[0m     \u001b[0;32mwith\u001b[0m \u001b[0mself\u001b[0m\u001b[0;34m.\u001b[0m\u001b[0m_lock\u001b[0m\u001b[0;34m:\u001b[0m\u001b[0;34m\u001b[0m\u001b[0;34m\u001b[0m\u001b[0m\n\u001b[1;32m    132\u001b[0m       (concrete_function,\n\u001b[0;32m--> 133\u001b[0;31m        filtered_flat_args) = self._maybe_define_function(args, kwargs)\n\u001b[0m\u001b[1;32m    134\u001b[0m     return concrete_function._call_flat(\n\u001b[1;32m    135\u001b[0m         filtered_flat_args, captured_inputs=concrete_function.captured_inputs)  # pylint: disable=protected-access\n",
            "\u001b[0;32m/usr/local/lib/python3.8/dist-packages/tensorflow/python/eager/polymorphic_function/tracing_compiler.py\u001b[0m in \u001b[0;36m_maybe_define_function\u001b[0;34m(self, args, kwargs)\u001b[0m\n\u001b[1;32m    334\u001b[0m     \u001b[0;31m# A new cache key will be built later when saving ConcreteFunction because\u001b[0m\u001b[0;34m\u001b[0m\u001b[0;34m\u001b[0m\u001b[0;34m\u001b[0m\u001b[0m\n\u001b[1;32m    335\u001b[0m     \u001b[0;31m# only active captures should be saved.\u001b[0m\u001b[0;34m\u001b[0m\u001b[0;34m\u001b[0m\u001b[0;34m\u001b[0m\u001b[0m\n\u001b[0;32m--> 336\u001b[0;31m     lookup_func_key, _ = function_context.make_cache_key((args, kwargs),\n\u001b[0m\u001b[1;32m    337\u001b[0m                                                          captures)\n\u001b[1;32m    338\u001b[0m     \u001b[0mconcrete_function\u001b[0m \u001b[0;34m=\u001b[0m \u001b[0mself\u001b[0m\u001b[0;34m.\u001b[0m\u001b[0m_function_cache\u001b[0m\u001b[0;34m.\u001b[0m\u001b[0mlookup\u001b[0m\u001b[0;34m(\u001b[0m\u001b[0mlookup_func_key\u001b[0m\u001b[0;34m,\u001b[0m \u001b[0;32mTrue\u001b[0m\u001b[0;34m)\u001b[0m\u001b[0;34m\u001b[0m\u001b[0;34m\u001b[0m\u001b[0m\n",
            "\u001b[0;32m/usr/local/lib/python3.8/dist-packages/tensorflow/python/eager/polymorphic_function/function_context.py\u001b[0m in \u001b[0;36mmake_cache_key\u001b[0;34m(args, captures)\u001b[0m\n\u001b[1;32m    131\u001b[0m     \u001b[0mcaptures\u001b[0m \u001b[0;34m=\u001b[0m \u001b[0mdict\u001b[0m\u001b[0;34m(\u001b[0m\u001b[0;34m)\u001b[0m\u001b[0;34m\u001b[0m\u001b[0;34m\u001b[0m\u001b[0m\n\u001b[1;32m    132\u001b[0m   \u001b[0msignature_context\u001b[0m \u001b[0;34m=\u001b[0m \u001b[0mtrace_type\u001b[0m\u001b[0;34m.\u001b[0m\u001b[0mInternalTracingContext\u001b[0m\u001b[0;34m(\u001b[0m\u001b[0;34m)\u001b[0m\u001b[0;34m\u001b[0m\u001b[0;34m\u001b[0m\u001b[0m\n\u001b[0;32m--> 133\u001b[0;31m   args_signature = trace_type.from_value(\n\u001b[0m\u001b[1;32m    134\u001b[0m       args, signature_context)\n\u001b[1;32m    135\u001b[0m   captures_dict_tracetype = trace_type.from_value(\n",
            "\u001b[0;32m/usr/local/lib/python3.8/dist-packages/tensorflow/core/function/trace_type/trace_type_builder.py\u001b[0m in \u001b[0;36mfrom_value\u001b[0;34m(value, context)\u001b[0m\n\u001b[1;32m    127\u001b[0m           named_tuple_type, tuple(from_value(c, context) for c in value))\n\u001b[1;32m    128\u001b[0m     \u001b[0;32melse\u001b[0m\u001b[0;34m:\u001b[0m\u001b[0;34m\u001b[0m\u001b[0;34m\u001b[0m\u001b[0m\n\u001b[0;32m--> 129\u001b[0;31m       \u001b[0;32mreturn\u001b[0m \u001b[0mdefault_types\u001b[0m\u001b[0;34m.\u001b[0m\u001b[0mTuple\u001b[0m\u001b[0;34m(\u001b[0m\u001b[0;34m*\u001b[0m\u001b[0;34m(\u001b[0m\u001b[0mfrom_value\u001b[0m\u001b[0;34m(\u001b[0m\u001b[0mc\u001b[0m\u001b[0;34m,\u001b[0m \u001b[0mcontext\u001b[0m\u001b[0;34m)\u001b[0m \u001b[0;32mfor\u001b[0m \u001b[0mc\u001b[0m \u001b[0;32min\u001b[0m \u001b[0mvalue\u001b[0m\u001b[0;34m)\u001b[0m\u001b[0;34m)\u001b[0m\u001b[0;34m\u001b[0m\u001b[0;34m\u001b[0m\u001b[0m\n\u001b[0m\u001b[1;32m    130\u001b[0m \u001b[0;34m\u001b[0m\u001b[0m\n\u001b[1;32m    131\u001b[0m   \u001b[0;32mif\u001b[0m \u001b[0misinstance\u001b[0m\u001b[0;34m(\u001b[0m\u001b[0mvalue\u001b[0m\u001b[0;34m,\u001b[0m \u001b[0mcollections\u001b[0m\u001b[0;34m.\u001b[0m\u001b[0mabc\u001b[0m\u001b[0;34m.\u001b[0m\u001b[0mMapping\u001b[0m\u001b[0;34m)\u001b[0m\u001b[0;34m:\u001b[0m\u001b[0;34m\u001b[0m\u001b[0;34m\u001b[0m\u001b[0m\n",
            "\u001b[0;32m/usr/local/lib/python3.8/dist-packages/tensorflow/core/function/trace_type/trace_type_builder.py\u001b[0m in \u001b[0;36m<genexpr>\u001b[0;34m(.0)\u001b[0m\n\u001b[1;32m    127\u001b[0m           named_tuple_type, tuple(from_value(c, context) for c in value))\n\u001b[1;32m    128\u001b[0m     \u001b[0;32melse\u001b[0m\u001b[0;34m:\u001b[0m\u001b[0;34m\u001b[0m\u001b[0;34m\u001b[0m\u001b[0m\n\u001b[0;32m--> 129\u001b[0;31m       \u001b[0;32mreturn\u001b[0m \u001b[0mdefault_types\u001b[0m\u001b[0;34m.\u001b[0m\u001b[0mTuple\u001b[0m\u001b[0;34m(\u001b[0m\u001b[0;34m*\u001b[0m\u001b[0;34m(\u001b[0m\u001b[0mfrom_value\u001b[0m\u001b[0;34m(\u001b[0m\u001b[0mc\u001b[0m\u001b[0;34m,\u001b[0m \u001b[0mcontext\u001b[0m\u001b[0;34m)\u001b[0m \u001b[0;32mfor\u001b[0m \u001b[0mc\u001b[0m \u001b[0;32min\u001b[0m \u001b[0mvalue\u001b[0m\u001b[0;34m)\u001b[0m\u001b[0;34m)\u001b[0m\u001b[0;34m\u001b[0m\u001b[0;34m\u001b[0m\u001b[0m\n\u001b[0m\u001b[1;32m    130\u001b[0m \u001b[0;34m\u001b[0m\u001b[0m\n\u001b[1;32m    131\u001b[0m   \u001b[0;32mif\u001b[0m \u001b[0misinstance\u001b[0m\u001b[0;34m(\u001b[0m\u001b[0mvalue\u001b[0m\u001b[0;34m,\u001b[0m \u001b[0mcollections\u001b[0m\u001b[0;34m.\u001b[0m\u001b[0mabc\u001b[0m\u001b[0;34m.\u001b[0m\u001b[0mMapping\u001b[0m\u001b[0;34m)\u001b[0m\u001b[0;34m:\u001b[0m\u001b[0;34m\u001b[0m\u001b[0;34m\u001b[0m\u001b[0m\n",
            "\u001b[0;32m/usr/local/lib/python3.8/dist-packages/tensorflow/core/function/trace_type/trace_type_builder.py\u001b[0m in \u001b[0;36mfrom_value\u001b[0;34m(value, context)\u001b[0m\n\u001b[1;32m    127\u001b[0m           named_tuple_type, tuple(from_value(c, context) for c in value))\n\u001b[1;32m    128\u001b[0m     \u001b[0;32melse\u001b[0m\u001b[0;34m:\u001b[0m\u001b[0;34m\u001b[0m\u001b[0;34m\u001b[0m\u001b[0m\n\u001b[0;32m--> 129\u001b[0;31m       \u001b[0;32mreturn\u001b[0m \u001b[0mdefault_types\u001b[0m\u001b[0;34m.\u001b[0m\u001b[0mTuple\u001b[0m\u001b[0;34m(\u001b[0m\u001b[0;34m*\u001b[0m\u001b[0;34m(\u001b[0m\u001b[0mfrom_value\u001b[0m\u001b[0;34m(\u001b[0m\u001b[0mc\u001b[0m\u001b[0;34m,\u001b[0m \u001b[0mcontext\u001b[0m\u001b[0;34m)\u001b[0m \u001b[0;32mfor\u001b[0m \u001b[0mc\u001b[0m \u001b[0;32min\u001b[0m \u001b[0mvalue\u001b[0m\u001b[0;34m)\u001b[0m\u001b[0;34m)\u001b[0m\u001b[0;34m\u001b[0m\u001b[0;34m\u001b[0m\u001b[0m\n\u001b[0m\u001b[1;32m    130\u001b[0m \u001b[0;34m\u001b[0m\u001b[0m\n\u001b[1;32m    131\u001b[0m   \u001b[0;32mif\u001b[0m \u001b[0misinstance\u001b[0m\u001b[0;34m(\u001b[0m\u001b[0mvalue\u001b[0m\u001b[0;34m,\u001b[0m \u001b[0mcollections\u001b[0m\u001b[0;34m.\u001b[0m\u001b[0mabc\u001b[0m\u001b[0;34m.\u001b[0m\u001b[0mMapping\u001b[0m\u001b[0;34m)\u001b[0m\u001b[0;34m:\u001b[0m\u001b[0;34m\u001b[0m\u001b[0;34m\u001b[0m\u001b[0m\n",
            "\u001b[0;32m/usr/local/lib/python3.8/dist-packages/tensorflow/core/function/trace_type/default_types.py\u001b[0m in \u001b[0;36m__init__\u001b[0;34m(self, *components)\u001b[0m\n\u001b[1;32m    146\u001b[0m \u001b[0;34m\u001b[0m\u001b[0m\n\u001b[1;32m    147\u001b[0m   \u001b[0;32mdef\u001b[0m \u001b[0m__init__\u001b[0m\u001b[0;34m(\u001b[0m\u001b[0mself\u001b[0m\u001b[0;34m,\u001b[0m \u001b[0;34m*\u001b[0m\u001b[0mcomponents\u001b[0m\u001b[0;34m:\u001b[0m \u001b[0mtrace\u001b[0m\u001b[0;34m.\u001b[0m\u001b[0mTraceType\u001b[0m\u001b[0;34m)\u001b[0m\u001b[0;34m:\u001b[0m\u001b[0;34m\u001b[0m\u001b[0;34m\u001b[0m\u001b[0m\n\u001b[0;32m--> 148\u001b[0;31m     \u001b[0mself\u001b[0m\u001b[0;34m.\u001b[0m\u001b[0mcomponents\u001b[0m \u001b[0;34m=\u001b[0m \u001b[0mcomponents\u001b[0m\u001b[0;34m\u001b[0m\u001b[0;34m\u001b[0m\u001b[0m\n\u001b[0m\u001b[1;32m    149\u001b[0m \u001b[0;34m\u001b[0m\u001b[0m\n\u001b[1;32m    150\u001b[0m   \u001b[0;32mdef\u001b[0m \u001b[0mis_subtype_of\u001b[0m\u001b[0;34m(\u001b[0m\u001b[0mself\u001b[0m\u001b[0;34m,\u001b[0m \u001b[0mother\u001b[0m\u001b[0;34m:\u001b[0m \u001b[0mtrace\u001b[0m\u001b[0;34m.\u001b[0m\u001b[0mTraceType\u001b[0m\u001b[0;34m)\u001b[0m \u001b[0;34m->\u001b[0m \u001b[0mbool\u001b[0m\u001b[0;34m:\u001b[0m\u001b[0;34m\u001b[0m\u001b[0;34m\u001b[0m\u001b[0m\n",
            "\u001b[0;31mKeyboardInterrupt\u001b[0m: "
          ]
        }
      ]
    },
    {
      "cell_type": "code",
      "source": [
        "test_loss , test_accuracy = network.evaluate( test_images , test_labels ) \n",
        "\n",
        "## we can see that train error is near by test error , so we dont have overfitting"
      ],
      "metadata": {
        "id": "K9P7UwDwWqMk"
      },
      "execution_count": null,
      "outputs": []
    },
    {
      "cell_type": "code",
      "source": [
        "import matplotlib.pyplot as plt\n",
        "img = test_images[5]\n",
        "plt.imshow( np.reshape(img, (28,28) ) )\n"
      ],
      "metadata": {
        "id": "LTueCm6lWqOP"
      },
      "execution_count": null,
      "outputs": []
    },
    {
      "cell_type": "code",
      "source": [
        "print( img.shape)\n"
      ],
      "metadata": {
        "id": "elJ9w9nrWqRY"
      },
      "execution_count": null,
      "outputs": []
    },
    {
      "cell_type": "code",
      "source": [
        "print(test_labels[5])"
      ],
      "metadata": {
        "id": "KdDJf24FWqTu"
      },
      "execution_count": null,
      "outputs": []
    },
    {
      "cell_type": "code",
      "source": [
        "## use model to predict label of an input img\n",
        "network.predict( img.reshape(1,-1))\n",
        "# network.predict( img)\n",
        "# network.predict( img.reshape( 1,784))"
      ],
      "metadata": {
        "id": "0czfyOahWqWQ"
      },
      "execution_count": null,
      "outputs": []
    },
    {
      "cell_type": "code",
      "source": [
        "# use argmax to choose maximum prob and mapp labels to the real values \n",
        "np.argmax(network.predict( img.reshape(1,-1)))"
      ],
      "metadata": {
        "id": "h6h13vCGWqXz"
      },
      "execution_count": null,
      "outputs": []
    },
    {
      "cell_type": "code",
      "source": [],
      "metadata": {
        "id": "_Dr2Rm49Wqbk"
      },
      "execution_count": null,
      "outputs": []
    },
    {
      "cell_type": "markdown",
      "source": [
        "# Example2 - Deep  Model"
      ],
      "metadata": {
        "id": "is1MwK4cGljl"
      }
    },
    {
      "cell_type": "code",
      "source": [
        "network2 = models.Sequential()\n",
        "# network.add( layers.Dense( 10  , activation = 'softmax' , input_shape=(28*28,) )) \n",
        "network2.add( layers.Dense( 512  , activation = 'relu' , input_shape=(28*28,) ))    ## output of this lyaer is 512 hidden unit (optional), act as a feature extraction part , (784 input pixel + 1 bias )*512=401920\n",
        "network2.add( layers.Dense( 10  , activation = 'softmax' )) \n",
        "\n"
      ],
      "metadata": {
        "id": "76SDZcODGney"
      },
      "execution_count": 22,
      "outputs": []
    },
    {
      "cell_type": "code",
      "source": [
        "network2.summary()"
      ],
      "metadata": {
        "colab": {
          "base_uri": "https://localhost:8080/"
        },
        "id": "lC8JAaUEIhYd",
        "outputId": "b6377ce6-4d80-4802-f34f-b821e3aadbd4"
      },
      "execution_count": 23,
      "outputs": [
        {
          "output_type": "stream",
          "name": "stdout",
          "text": [
            "Model: \"sequential_2\"\n",
            "_________________________________________________________________\n",
            " Layer (type)                Output Shape              Param #   \n",
            "=================================================================\n",
            " dense_3 (Dense)             (None, 512)               401920    \n",
            "                                                                 \n",
            " dense_4 (Dense)             (None, 10)                5130      \n",
            "                                                                 \n",
            "=================================================================\n",
            "Total params: 407,050\n",
            "Trainable params: 407,050\n",
            "Non-trainable params: 0\n",
            "_________________________________________________________________\n"
          ]
        }
      ]
    },
    {
      "cell_type": "code",
      "source": [
        "from tensorflow.keras.utils import plot_model\n",
        "plot_model(network2) \n",
        "## input layer -> hidden layer -> output layer"
      ],
      "metadata": {
        "colab": {
          "base_uri": "https://localhost:8080/",
          "height": 272
        },
        "id": "2Xsgqp8WJIwc",
        "outputId": "ad7c7692-81f5-4af2-9813-ac95a1669563"
      },
      "execution_count": 25,
      "outputs": [
        {
          "output_type": "execute_result",
          "data": {
            "image/png": "[encoded data removed]",
            "text/plain": [
              "<IPython.core.display.Image object>"
            ]
          },
          "metadata": {},
          "execution_count": 25
        }
      ]
    },
    {
      "cell_type": "code",
      "source": [
        "network2.compile (optimizer='rmsprop', loss= 'categorical_crossentropy' , metrics=['accuracy'])"
      ],
      "metadata": {
        "id": "gRhUsNOuJxj6"
      },
      "execution_count": 28,
      "outputs": []
    },
    {
      "cell_type": "code",
      "source": [
        "network2.fit( train_images , train_labels , epochs=5 , batch_size =128 )\n"
      ],
      "metadata": {
        "colab": {
          "base_uri": "https://localhost:8080/"
        },
        "id": "7ApvF8T-JhWr",
        "outputId": "9cb3f03d-467d-4cdf-e75d-84f0549867b4"
      },
      "execution_count": 29,
      "outputs": [
        {
          "output_type": "stream",
          "name": "stdout",
          "text": [
            "Epoch 1/5\n",
            "469/469 [==============================] - 2s 3ms/step - loss: 0.2655 - accuracy: 0.9248\n",
            "Epoch 2/5\n",
            "469/469 [==============================] - 1s 3ms/step - loss: 0.1090 - accuracy: 0.9679\n",
            "Epoch 3/5\n",
            "469/469 [==============================] - 1s 3ms/step - loss: 0.0711 - accuracy: 0.9787\n",
            "Epoch 4/5\n",
            "469/469 [==============================] - 1s 3ms/step - loss: 0.0516 - accuracy: 0.9847\n",
            "Epoch 5/5\n",
            "469/469 [==============================] - 1s 3ms/step - loss: 0.0387 - accuracy: 0.9882\n"
          ]
        },
        {
          "output_type": "execute_result",
          "data": {
            "text/plain": [
              "<keras.callbacks.History at 0x7fd86e2a4cd0>"
            ]
          },
          "metadata": {},
          "execution_count": 29
        }
      ]
    },
    {
      "cell_type": "code",
      "source": [
        "test_loss , test_accuracy = network2.evaluate( test_images , test_labels ) "
      ],
      "metadata": {
        "colab": {
          "base_uri": "https://localhost:8080/"
        },
        "id": "Yb3GhJ44Jk3e",
        "outputId": "d8715231-e936-482f-c09a-851d488b908c"
      },
      "execution_count": 30,
      "outputs": [
        {
          "output_type": "stream",
          "name": "stdout",
          "text": [
            "313/313 [==============================] - 1s 2ms/step - loss: 0.0678 - accuracy: 0.9791\n"
          ]
        }
      ]
    },
    {
      "cell_type": "markdown",
      "source": [
        "**Can see how much improvment at the accuracy**"
      ],
      "metadata": {
        "id": "H4UMLXL6J-dS"
      }
    },
    {
      "cell_type": "markdown",
      "source": [
        "# Example3 - Add More Layers to Deep Model"
      ],
      "metadata": {
        "id": "kmPl11BHIo-G"
      }
    },
    {
      "cell_type": "code",
      "source": [
        "network3 = models.Sequential()\n",
        "network3.add( layers.Dense( 512  , activation = 'relu' , name = 'Layer_1' ,input_shape=(28*28, ) ))  \n",
        "network3.add( layers.Dense( 512  , activation = 'relu' , name = 'Layer_2' ))\n",
        "network3.add( layers.Dense( 256  , activation = 'relu' , name = 'Layer_3' ))\n",
        "network3.add( layers.Dense( 50  , activation = 'relu' , name = 'Layer_4' ))\n",
        "network3.add( layers.Dense( 10  , activation = 'softmax' )) \n",
        "\n",
        "network3.summary()"
      ],
      "metadata": {
        "colab": {
          "base_uri": "https://localhost:8080/"
        },
        "id": "ZE3n6TLYIs8Q",
        "outputId": "5d94112c-520c-44b7-90f4-f7b8fc2486c7"
      },
      "execution_count": 33,
      "outputs": [
        {
          "output_type": "stream",
          "name": "stdout",
          "text": [
            "Model: \"sequential_5\"\n",
            "_________________________________________________________________\n",
            " Layer (type)                Output Shape              Param #   \n",
            "=================================================================\n",
            " Layer_1 (Dense)             (None, 512)               401920    \n",
            "                                                                 \n",
            " Layer_2 (Dense)             (None, 512)               262656    \n",
            "                                                                 \n",
            " Layer_3 (Dense)             (None, 256)               131328    \n",
            "                                                                 \n",
            " Layer_4 (Dense)             (None, 50)                12850     \n",
            "                                                                 \n",
            " dense_7 (Dense)             (None, 10)                510       \n",
            "                                                                 \n",
            "=================================================================\n",
            "Total params: 809,264\n",
            "Trainable params: 809,264\n",
            "Non-trainable params: 0\n",
            "_________________________________________________________________\n"
          ]
        }
      ]
    },
    {
      "cell_type": "code",
      "source": [
        "network2.compile (optimizer='rmsprop', loss= 'categorical_crossentropy' , metrics=['accuracy'])"
      ],
      "metadata": {
        "id": "_bk3PQvfJIRg"
      },
      "execution_count": 34,
      "outputs": []
    },
    {
      "cell_type": "code",
      "source": [
        "network2.fit( train_images , train_labels , epochs=5 , batch_size =128 )\n"
      ],
      "metadata": {
        "colab": {
          "base_uri": "https://localhost:8080/"
        },
        "id": "pmWx0tE8KOyN",
        "outputId": "ce90716c-65af-4d86-d800-4a452cd24cd6"
      },
      "execution_count": 35,
      "outputs": [
        {
          "output_type": "stream",
          "name": "stdout",
          "text": [
            "Epoch 1/5\n",
            "469/469 [==============================] - 2s 3ms/step - loss: 0.0301 - accuracy: 0.9907\n",
            "Epoch 2/5\n",
            "469/469 [==============================] - 1s 3ms/step - loss: 0.0223 - accuracy: 0.9937\n",
            "Epoch 3/5\n",
            "469/469 [==============================] - 1s 3ms/step - loss: 0.0166 - accuracy: 0.9954\n",
            "Epoch 4/5\n",
            "469/469 [==============================] - 1s 3ms/step - loss: 0.0121 - accuracy: 0.9967\n",
            "Epoch 5/5\n",
            "469/469 [==============================] - 1s 3ms/step - loss: 0.0097 - accuracy: 0.9974\n"
          ]
        },
        {
          "output_type": "execute_result",
          "data": {
            "text/plain": [
              "<keras.callbacks.History at 0x7fd86e2896a0>"
            ]
          },
          "metadata": {},
          "execution_count": 35
        }
      ]
    },
    {
      "cell_type": "code",
      "source": [
        "test_loss , test_accuracy = network2.evaluate( test_images , test_labels ) "
      ],
      "metadata": {
        "colab": {
          "base_uri": "https://localhost:8080/"
        },
        "id": "7DmoGbJkKTBc",
        "outputId": "b6b13e62-91fd-4366-9e9e-ba3a41280b88"
      },
      "execution_count": 36,
      "outputs": [
        {
          "output_type": "stream",
          "name": "stdout",
          "text": [
            "313/313 [==============================] - 1s 2ms/step - loss: 0.0651 - accuracy: 0.9817\n"
          ]
        }
      ]
    },
    {
      "cell_type": "markdown",
      "source": [
        "**No so Much Improvments !!!**\n",
        "\n",
        "Adding more layers dosnt mean enhncing accuracy, on contract it may overfit"
      ],
      "metadata": {
        "id": "wDiYEJUvKtJt"
      }
    },
    {
      "cell_type": "markdown",
      "source": [
        "#Example4 - MNIST using ML Model"
      ],
      "metadata": {
        "id": "kJe6owAxKw-s"
      }
    },
    {
      "cell_type": "code",
      "source": [],
      "metadata": {
        "id": "wzOblylrK0I3"
      },
      "execution_count": null,
      "outputs": []
    }
  ]
}