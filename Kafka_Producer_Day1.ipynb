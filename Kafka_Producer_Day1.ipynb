{
  "nbformat": 4,
  "nbformat_minor": 0,
  "metadata": {
    "colab": {
      "provenance": [],
      "authorship_tag": "ABX9TyMAVMRq5sCB8X7EqDJi9Nxh",
      "include_colab_link": true
    },
    "kernelspec": {
      "name": "python3",
      "display_name": "Python 3"
    },
    "language_info": {
      "name": "python"
    }
  },
  "cells": [
    {
      "cell_type": "markdown",
      "metadata": {
        "id": "view-in-github",
        "colab_type": "text"
      },
      "source": [
        "<a href=\"https://colab.research.google.com/github/HagarIbrahiem/Learning_purposes/blob/main/Kafka_Producer_Day1.ipynb\" target=\"_parent\"><img src=\"https://colab.research.google.com/assets/colab-badge.svg\" alt=\"Open In Colab\"/></a>"
      ]
    },
    {
      "cell_type": "code",
      "execution_count": 17,
      "metadata": {
        "colab": {
          "base_uri": "https://localhost:8080/"
        },
        "id": "QyW-zggI5sXh",
        "outputId": "631f2212-6979-4e46-e994-9ddb9e914105"
      },
      "outputs": [
        {
          "output_type": "stream",
          "name": "stdout",
          "text": [
            "Looking in indexes: https://pypi.org/simple, https://us-python.pkg.dev/colab-wheels/public/simple/\n",
            "Requirement already satisfied: confluent-kafka in /usr/local/lib/python3.9/dist-packages (2.0.2)\n"
          ]
        }
      ],
      "source": [
        "# pip install confluent-kafka"
      ]
    },
    {
      "cell_type": "code",
      "source": [
        "from confluent_kafka import Producer\n",
        "import socket\n",
        "\n",
        "topic = 'HagarBendary'\n",
        "client_id='This_is_my_clientID'\n",
        "\n",
        "conf = {'bootstrap.servers': \"34.70.120.136:9094,35.202.98.23:9094,34.133.105.230:9094\",\n",
        "        'client.id': client_id}\n",
        "\n",
        "producer = Producer(conf)"
      ],
      "metadata": {
        "id": "B9h73lCC51Hq"
      },
      "execution_count": 18,
      "outputs": []
    },
    {
      "cell_type": "code",
      "source": [
        "producer.produce(topic, key=\"key\", value=\"This is My Message to the World\")\n",
        "producer.flush()\n"
      ],
      "metadata": {
        "colab": {
          "base_uri": "https://localhost:8080/"
        },
        "id": "UXiQDijo6NcN",
        "outputId": "8b323e6c-3713-4173-8ef9-da5b9ee2c6d5"
      },
      "execution_count": 21,
      "outputs": [
        {
          "output_type": "execute_result",
          "data": {
            "text/plain": [
              "0"
            ]
          },
          "metadata": {},
          "execution_count": 21
        }
      ]
    },
    {
      "cell_type": "code",
      "source": [
        "producer.produce(topic, key=\"key\", value=\"This is My 2nd Message to the World\")\n",
        "producer.flush()\n"
      ],
      "metadata": {
        "colab": {
          "base_uri": "https://localhost:8080/"
        },
        "id": "exJ2O5Kk70i8",
        "outputId": "0a692635-7095-4978-a554-98c7532c9f43"
      },
      "execution_count": 22,
      "outputs": [
        {
          "output_type": "execute_result",
          "data": {
            "text/plain": [
              "0"
            ]
          },
          "metadata": {},
          "execution_count": 22
        }
      ]
    },
    {
      "cell_type": "code",
      "source": [
        "producer.produce(topic, key=\"key\", value=\"This is My 3rd Message to the World\")\n",
        "producer.flush()\n"
      ],
      "metadata": {
        "colab": {
          "base_uri": "https://localhost:8080/"
        },
        "id": "rHR2jCrR-XBP",
        "outputId": "7a29e2b5-fc82-4cf4-b74e-5bb8ed5e3ca3"
      },
      "execution_count": 23,
      "outputs": [
        {
          "output_type": "execute_result",
          "data": {
            "text/plain": [
              "0"
            ]
          },
          "metadata": {},
          "execution_count": 23
        }
      ]
    },
    {
      "cell_type": "code",
      "source": [
        "while True:\n",
        "  msg = \"Hager: \"+ input(\"Hager: \")\n",
        "  producer.produce(topic,value=msg, key='key')\n",
        "  producer.flush()"
      ],
      "metadata": {
        "id": "TArqya_2TTBG"
      },
      "execution_count": null,
      "outputs": []
    },
    {
      "cell_type": "code",
      "source": [],
      "metadata": {
        "id": "NGXuH6eoULMM"
      },
      "execution_count": null,
      "outputs": []
    }
  ]
}