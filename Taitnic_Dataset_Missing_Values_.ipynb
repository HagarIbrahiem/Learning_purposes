{
  "nbformat": 4,
  "nbformat_minor": 0,
  "metadata": {
    "colab": {
      "provenance": [],
      "authorship_tag": "ABX9TyMbPjY/VT5H5oyU9p55DTUH",
      "include_colab_link": true
    },
    "kernelspec": {
      "name": "python3",
      "display_name": "Python 3"
    },
    "language_info": {
      "name": "python"
    }
  },
  "cells": [
    {
      "cell_type": "markdown",
      "metadata": {
        "id": "view-in-github",
        "colab_type": "text"
      },
      "source": [
        "<a href=\"https://colab.research.google.com/github/HagarIbrahiem/Learning_purposes/blob/main/Taitnic_Dataset_Missing_Values_.ipynb\" target=\"_parent\"><img src=\"https://colab.research.google.com/assets/colab-badge.svg\" alt=\"Open In Colab\"/></a>"
      ]
    },
    {
      "cell_type": "code",
      "execution_count": 1,
      "metadata": {
        "id": "vrwl06b2f-tJ"
      },
      "outputs": [],
      "source": [
        "import pandas as pd\n",
        "import numpy as np \n",
        "import seaborn as sns"
      ]
    },
    {
      "cell_type": "code",
      "source": [
        "df = pd.read_csv('train.csv')"
      ],
      "metadata": {
        "id": "KN6GUvcwgRYn"
      },
      "execution_count": 2,
      "outputs": []
    },
    {
      "cell_type": "code",
      "source": [
        "df.head()"
      ],
      "metadata": {
        "colab": {
          "base_uri": "https://localhost:8080/",
          "height": 206
        },
        "id": "OgImb_GAgRZ8",
        "outputId": "690c9323-983b-4514-a740-b587d0b98035"
      },
      "execution_count": 3,
      "outputs": [
        {
          "output_type": "execute_result",
          "data": {
            "text/plain": [
              "   PassengerId  Survived  Pclass  \\\n",
              "0            1         0       3   \n",
              "1            2         1       1   \n",
              "2            3         1       3   \n",
              "3            4         1       1   \n",
              "4            5         0       3   \n",
              "\n",
              "                                                Name     Sex   Age  SibSp  \\\n",
              "0                            Braund, Mr. Owen Harris    male  22.0      1   \n",
              "1  Cumings, Mrs. John Bradley (Florence Briggs Th...  female  38.0      1   \n",
              "2                             Heikkinen, Miss. Laina  female  26.0      0   \n",
              "3       Futrelle, Mrs. Jacques Heath (Lily May Peel)  female  35.0      1   \n",
              "4                           Allen, Mr. William Henry    male  35.0      0   \n",
              "\n",
              "   Parch            Ticket     Fare Cabin Embarked  \n",
              "0      0         A/5 21171   7.2500   NaN        S  \n",
              "1      0          PC 17599  71.2833   C85        C  \n",
              "2      0  STON/O2. 3101282   7.9250   NaN        S  \n",
              "3      0            113803  53.1000  C123        S  \n",
              "4      0            373450   8.0500   NaN        S  "
            ],
            "text/html": [
              "\n",
              "  <div id=\"df-25640aac-c438-4984-8d18-cb0638a1c397\">\n",
              "    <div class=\"colab-df-container\">\n",
              "      <div>\n",
              "<style scoped>\n",
              "    .dataframe tbody tr th:only-of-type {\n",
              "        vertical-align: middle;\n",
              "    }\n",
              "\n",
              "    .dataframe tbody tr th {\n",
              "        vertical-align: top;\n",
              "    }\n",
              "\n",
              "    .dataframe thead th {\n",
              "        text-align: right;\n",
              "    }\n",
              "</style>\n",
              "<table border=\"1\" class=\"dataframe\">\n",
              "  <thead>\n",
              "    <tr style=\"text-align: right;\">\n",
              "      <th></th>\n",
              "      <th>PassengerId</th>\n",
              "      <th>Survived</th>\n",
              "      <th>Pclass</th>\n",
              "      <th>Name</th>\n",
              "      <th>Sex</th>\n",
              "      <th>Age</th>\n",
              "      <th>SibSp</th>\n",
              "      <th>Parch</th>\n",
              "      <th>Ticket</th>\n",
              "      <th>Fare</th>\n",
              "      <th>Cabin</th>\n",
              "      <th>Embarked</th>\n",
              "    </tr>\n",
              "  </thead>\n",
              "  <tbody>\n",
              "    <tr>\n",
              "      <th>0</th>\n",
              "      <td>1</td>\n",
              "      <td>0</td>\n",
              "      <td>3</td>\n",
              "      <td>Braund, Mr. Owen Harris</td>\n",
              "      <td>male</td>\n",
              "      <td>22.0</td>\n",
              "      <td>1</td>\n",
              "      <td>0</td>\n",
              "      <td>A/5 21171</td>\n",
              "      <td>7.2500</td>\n",
              "      <td>NaN</td>\n",
              "      <td>S</td>\n",
              "    </tr>\n",
              "    <tr>\n",
              "      <th>1</th>\n",
              "      <td>2</td>\n",
              "      <td>1</td>\n",
              "      <td>1</td>\n",
              "      <td>Cumings, Mrs. John Bradley (Florence Briggs Th...</td>\n",
              "      <td>female</td>\n",
              "      <td>38.0</td>\n",
              "      <td>1</td>\n",
              "      <td>0</td>\n",
              "      <td>PC 17599</td>\n",
              "      <td>71.2833</td>\n",
              "      <td>C85</td>\n",
              "      <td>C</td>\n",
              "    </tr>\n",
              "    <tr>\n",
              "      <th>2</th>\n",
              "      <td>3</td>\n",
              "      <td>1</td>\n",
              "      <td>3</td>\n",
              "      <td>Heikkinen, Miss. Laina</td>\n",
              "      <td>female</td>\n",
              "      <td>26.0</td>\n",
              "      <td>0</td>\n",
              "      <td>0</td>\n",
              "      <td>STON/O2. 3101282</td>\n",
              "      <td>7.9250</td>\n",
              "      <td>NaN</td>\n",
              "      <td>S</td>\n",
              "    </tr>\n",
              "    <tr>\n",
              "      <th>3</th>\n",
              "      <td>4</td>\n",
              "      <td>1</td>\n",
              "      <td>1</td>\n",
              "      <td>Futrelle, Mrs. Jacques Heath (Lily May Peel)</td>\n",
              "      <td>female</td>\n",
              "      <td>35.0</td>\n",
              "      <td>1</td>\n",
              "      <td>0</td>\n",
              "      <td>113803</td>\n",
              "      <td>53.1000</td>\n",
              "      <td>C123</td>\n",
              "      <td>S</td>\n",
              "    </tr>\n",
              "    <tr>\n",
              "      <th>4</th>\n",
              "      <td>5</td>\n",
              "      <td>0</td>\n",
              "      <td>3</td>\n",
              "      <td>Allen, Mr. William Henry</td>\n",
              "      <td>male</td>\n",
              "      <td>35.0</td>\n",
              "      <td>0</td>\n",
              "      <td>0</td>\n",
              "      <td>373450</td>\n",
              "      <td>8.0500</td>\n",
              "      <td>NaN</td>\n",
              "      <td>S</td>\n",
              "    </tr>\n",
              "  </tbody>\n",
              "</table>\n",
              "</div>\n",
              "      <button class=\"colab-df-convert\" onclick=\"convertToInteractive('df-25640aac-c438-4984-8d18-cb0638a1c397')\"\n",
              "              title=\"Convert this dataframe to an interactive table.\"\n",
              "              style=\"display:none;\">\n",
              "        \n",
              "  <svg xmlns=\"http://www.w3.org/2000/svg\" height=\"24px\"viewBox=\"0 0 24 24\"\n",
              "       width=\"24px\">\n",
              "    <path d=\"M0 0h24v24H0V0z\" fill=\"none\"/>\n",
              "    <path d=\"M18.56 5.44l.94 2.06.94-2.06 2.06-.94-2.06-.94-.94-2.06-.94 2.06-2.06.94zm-11 1L8.5 8.5l.94-2.06 2.06-.94-2.06-.94L8.5 2.5l-.94 2.06-2.06.94zm10 10l.94 2.06.94-2.06 2.06-.94-2.06-.94-.94-2.06-.94 2.06-2.06.94z\"/><path d=\"M17.41 7.96l-1.37-1.37c-.4-.4-.92-.59-1.43-.59-.52 0-1.04.2-1.43.59L10.3 9.45l-7.72 7.72c-.78.78-.78 2.05 0 2.83L4 21.41c.39.39.9.59 1.41.59.51 0 1.02-.2 1.41-.59l7.78-7.78 2.81-2.81c.8-.78.8-2.07 0-2.86zM5.41 20L4 18.59l7.72-7.72 1.47 1.35L5.41 20z\"/>\n",
              "  </svg>\n",
              "      </button>\n",
              "      \n",
              "  <style>\n",
              "    .colab-df-container {\n",
              "      display:flex;\n",
              "      flex-wrap:wrap;\n",
              "      gap: 12px;\n",
              "    }\n",
              "\n",
              "    .colab-df-convert {\n",
              "      background-color: #E8F0FE;\n",
              "      border: none;\n",
              "      border-radius: 50%;\n",
              "      cursor: pointer;\n",
              "      display: none;\n",
              "      fill: #1967D2;\n",
              "      height: 32px;\n",
              "      padding: 0 0 0 0;\n",
              "      width: 32px;\n",
              "    }\n",
              "\n",
              "    .colab-df-convert:hover {\n",
              "      background-color: #E2EBFA;\n",
              "      box-shadow: 0px 1px 2px rgba(60, 64, 67, 0.3), 0px 1px 3px 1px rgba(60, 64, 67, 0.15);\n",
              "      fill: #174EA6;\n",
              "    }\n",
              "\n",
              "    [theme=dark] .colab-df-convert {\n",
              "      background-color: #3B4455;\n",
              "      fill: #D2E3FC;\n",
              "    }\n",
              "\n",
              "    [theme=dark] .colab-df-convert:hover {\n",
              "      background-color: #434B5C;\n",
              "      box-shadow: 0px 1px 3px 1px rgba(0, 0, 0, 0.15);\n",
              "      filter: drop-shadow(0px 1px 2px rgba(0, 0, 0, 0.3));\n",
              "      fill: #FFFFFF;\n",
              "    }\n",
              "  </style>\n",
              "\n",
              "      <script>\n",
              "        const buttonEl =\n",
              "          document.querySelector('#df-25640aac-c438-4984-8d18-cb0638a1c397 button.colab-df-convert');\n",
              "        buttonEl.style.display =\n",
              "          google.colab.kernel.accessAllowed ? 'block' : 'none';\n",
              "\n",
              "        async function convertToInteractive(key) {\n",
              "          const element = document.querySelector('#df-25640aac-c438-4984-8d18-cb0638a1c397');\n",
              "          const dataTable =\n",
              "            await google.colab.kernel.invokeFunction('convertToInteractive',\n",
              "                                                     [key], {});\n",
              "          if (!dataTable) return;\n",
              "\n",
              "          const docLinkHtml = 'Like what you see? Visit the ' +\n",
              "            '<a target=\"_blank\" href=https://colab.research.google.com/notebooks/data_table.ipynb>data table notebook</a>'\n",
              "            + ' to learn more about interactive tables.';\n",
              "          element.innerHTML = '';\n",
              "          dataTable['output_type'] = 'display_data';\n",
              "          await google.colab.output.renderOutput(dataTable, element);\n",
              "          const docLink = document.createElement('div');\n",
              "          docLink.innerHTML = docLinkHtml;\n",
              "          element.appendChild(docLink);\n",
              "        }\n",
              "      </script>\n",
              "    </div>\n",
              "  </div>\n",
              "  "
            ]
          },
          "metadata": {},
          "execution_count": 3
        }
      ]
    },
    {
      "cell_type": "code",
      "source": [
        "df.shape"
      ],
      "metadata": {
        "colab": {
          "base_uri": "https://localhost:8080/"
        },
        "id": "Tm87k0Q1jqLS",
        "outputId": "003936fd-ca6b-4c37-973f-1f4e48befcdb"
      },
      "execution_count": 4,
      "outputs": [
        {
          "output_type": "execute_result",
          "data": {
            "text/plain": [
              "(891, 12)"
            ]
          },
          "metadata": {},
          "execution_count": 4
        }
      ]
    },
    {
      "cell_type": "code",
      "source": [
        "df.isnull().sum()"
      ],
      "metadata": {
        "colab": {
          "base_uri": "https://localhost:8080/"
        },
        "id": "oySwQGT7gRdr",
        "outputId": "b295cb58-9126-41d9-9832-c37f08437415"
      },
      "execution_count": 5,
      "outputs": [
        {
          "output_type": "execute_result",
          "data": {
            "text/plain": [
              "PassengerId      0\n",
              "Survived         0\n",
              "Pclass           0\n",
              "Name             0\n",
              "Sex              0\n",
              "Age            177\n",
              "SibSp            0\n",
              "Parch            0\n",
              "Ticket           0\n",
              "Fare             0\n",
              "Cabin          687\n",
              "Embarked         2\n",
              "dtype: int64"
            ]
          },
          "metadata": {},
          "execution_count": 5
        }
      ]
    },
    {
      "cell_type": "code",
      "source": [
        "df.columns"
      ],
      "metadata": {
        "colab": {
          "base_uri": "https://localhost:8080/"
        },
        "id": "hKa1hCd9j8o5",
        "outputId": "0a490275-239c-44ff-a8a1-66e0a8a25f2f"
      },
      "execution_count": 6,
      "outputs": [
        {
          "output_type": "execute_result",
          "data": {
            "text/plain": [
              "Index(['PassengerId', 'Survived', 'Pclass', 'Name', 'Sex', 'Age', 'SibSp',\n",
              "       'Parch', 'Ticket', 'Fare', 'Cabin', 'Embarked'],\n",
              "      dtype='object')"
            ]
          },
          "metadata": {},
          "execution_count": 6
        }
      ]
    },
    {
      "cell_type": "code",
      "source": [
        "df.info()"
      ],
      "metadata": {
        "colab": {
          "base_uri": "https://localhost:8080/"
        },
        "id": "8i6GW4a6lfck",
        "outputId": "2aaac6f6-93bb-4cf0-bf90-720be6bb14a1"
      },
      "execution_count": 7,
      "outputs": [
        {
          "output_type": "stream",
          "name": "stdout",
          "text": [
            "<class 'pandas.core.frame.DataFrame'>\n",
            "RangeIndex: 891 entries, 0 to 890\n",
            "Data columns (total 12 columns):\n",
            " #   Column       Non-Null Count  Dtype  \n",
            "---  ------       --------------  -----  \n",
            " 0   PassengerId  891 non-null    int64  \n",
            " 1   Survived     891 non-null    int64  \n",
            " 2   Pclass       891 non-null    int64  \n",
            " 3   Name         891 non-null    object \n",
            " 4   Sex          891 non-null    object \n",
            " 5   Age          714 non-null    float64\n",
            " 6   SibSp        891 non-null    int64  \n",
            " 7   Parch        891 non-null    int64  \n",
            " 8   Ticket       891 non-null    object \n",
            " 9   Fare         891 non-null    float64\n",
            " 10  Cabin        204 non-null    object \n",
            " 11  Embarked     889 non-null    object \n",
            "dtypes: float64(2), int64(5), object(5)\n",
            "memory usage: 83.7+ KB\n"
          ]
        }
      ]
    },
    {
      "cell_type": "code",
      "source": [
        "null_values = pd.DataFrame(df.isnull().sum())\n",
        "null_values[1] = (null_values[0]/len(df) ) *100\n",
        "null_values.columns = ['null_count','null_pct']\n",
        "null_values"
      ],
      "metadata": {
        "colab": {
          "base_uri": "https://localhost:8080/",
          "height": 426
        },
        "id": "SmpGIXqahAAI",
        "outputId": "0f34bd8f-33cc-4adf-9296-c34ead478e32"
      },
      "execution_count": 8,
      "outputs": [
        {
          "output_type": "execute_result",
          "data": {
            "text/plain": [
              "             null_count   null_pct\n",
              "PassengerId           0   0.000000\n",
              "Survived              0   0.000000\n",
              "Pclass                0   0.000000\n",
              "Name                  0   0.000000\n",
              "Sex                   0   0.000000\n",
              "Age                 177  19.865320\n",
              "SibSp                 0   0.000000\n",
              "Parch                 0   0.000000\n",
              "Ticket                0   0.000000\n",
              "Fare                  0   0.000000\n",
              "Cabin               687  77.104377\n",
              "Embarked              2   0.224467"
            ],
            "text/html": [
              "\n",
              "  <div id=\"df-00926bd7-f778-4c6c-a704-e54a3e9e7047\">\n",
              "    <div class=\"colab-df-container\">\n",
              "      <div>\n",
              "<style scoped>\n",
              "    .dataframe tbody tr th:only-of-type {\n",
              "        vertical-align: middle;\n",
              "    }\n",
              "\n",
              "    .dataframe tbody tr th {\n",
              "        vertical-align: top;\n",
              "    }\n",
              "\n",
              "    .dataframe thead th {\n",
              "        text-align: right;\n",
              "    }\n",
              "</style>\n",
              "<table border=\"1\" class=\"dataframe\">\n",
              "  <thead>\n",
              "    <tr style=\"text-align: right;\">\n",
              "      <th></th>\n",
              "      <th>null_count</th>\n",
              "      <th>null_pct</th>\n",
              "    </tr>\n",
              "  </thead>\n",
              "  <tbody>\n",
              "    <tr>\n",
              "      <th>PassengerId</th>\n",
              "      <td>0</td>\n",
              "      <td>0.000000</td>\n",
              "    </tr>\n",
              "    <tr>\n",
              "      <th>Survived</th>\n",
              "      <td>0</td>\n",
              "      <td>0.000000</td>\n",
              "    </tr>\n",
              "    <tr>\n",
              "      <th>Pclass</th>\n",
              "      <td>0</td>\n",
              "      <td>0.000000</td>\n",
              "    </tr>\n",
              "    <tr>\n",
              "      <th>Name</th>\n",
              "      <td>0</td>\n",
              "      <td>0.000000</td>\n",
              "    </tr>\n",
              "    <tr>\n",
              "      <th>Sex</th>\n",
              "      <td>0</td>\n",
              "      <td>0.000000</td>\n",
              "    </tr>\n",
              "    <tr>\n",
              "      <th>Age</th>\n",
              "      <td>177</td>\n",
              "      <td>19.865320</td>\n",
              "    </tr>\n",
              "    <tr>\n",
              "      <th>SibSp</th>\n",
              "      <td>0</td>\n",
              "      <td>0.000000</td>\n",
              "    </tr>\n",
              "    <tr>\n",
              "      <th>Parch</th>\n",
              "      <td>0</td>\n",
              "      <td>0.000000</td>\n",
              "    </tr>\n",
              "    <tr>\n",
              "      <th>Ticket</th>\n",
              "      <td>0</td>\n",
              "      <td>0.000000</td>\n",
              "    </tr>\n",
              "    <tr>\n",
              "      <th>Fare</th>\n",
              "      <td>0</td>\n",
              "      <td>0.000000</td>\n",
              "    </tr>\n",
              "    <tr>\n",
              "      <th>Cabin</th>\n",
              "      <td>687</td>\n",
              "      <td>77.104377</td>\n",
              "    </tr>\n",
              "    <tr>\n",
              "      <th>Embarked</th>\n",
              "      <td>2</td>\n",
              "      <td>0.224467</td>\n",
              "    </tr>\n",
              "  </tbody>\n",
              "</table>\n",
              "</div>\n",
              "      <button class=\"colab-df-convert\" onclick=\"convertToInteractive('df-00926bd7-f778-4c6c-a704-e54a3e9e7047')\"\n",
              "              title=\"Convert this dataframe to an interactive table.\"\n",
              "              style=\"display:none;\">\n",
              "        \n",
              "  <svg xmlns=\"http://www.w3.org/2000/svg\" height=\"24px\"viewBox=\"0 0 24 24\"\n",
              "       width=\"24px\">\n",
              "    <path d=\"M0 0h24v24H0V0z\" fill=\"none\"/>\n",
              "    <path d=\"M18.56 5.44l.94 2.06.94-2.06 2.06-.94-2.06-.94-.94-2.06-.94 2.06-2.06.94zm-11 1L8.5 8.5l.94-2.06 2.06-.94-2.06-.94L8.5 2.5l-.94 2.06-2.06.94zm10 10l.94 2.06.94-2.06 2.06-.94-2.06-.94-.94-2.06-.94 2.06-2.06.94z\"/><path d=\"M17.41 7.96l-1.37-1.37c-.4-.4-.92-.59-1.43-.59-.52 0-1.04.2-1.43.59L10.3 9.45l-7.72 7.72c-.78.78-.78 2.05 0 2.83L4 21.41c.39.39.9.59 1.41.59.51 0 1.02-.2 1.41-.59l7.78-7.78 2.81-2.81c.8-.78.8-2.07 0-2.86zM5.41 20L4 18.59l7.72-7.72 1.47 1.35L5.41 20z\"/>\n",
              "  </svg>\n",
              "      </button>\n",
              "      \n",
              "  <style>\n",
              "    .colab-df-container {\n",
              "      display:flex;\n",
              "      flex-wrap:wrap;\n",
              "      gap: 12px;\n",
              "    }\n",
              "\n",
              "    .colab-df-convert {\n",
              "      background-color: #E8F0FE;\n",
              "      border: none;\n",
              "      border-radius: 50%;\n",
              "      cursor: pointer;\n",
              "      display: none;\n",
              "      fill: #1967D2;\n",
              "      height: 32px;\n",
              "      padding: 0 0 0 0;\n",
              "      width: 32px;\n",
              "    }\n",
              "\n",
              "    .colab-df-convert:hover {\n",
              "      background-color: #E2EBFA;\n",
              "      box-shadow: 0px 1px 2px rgba(60, 64, 67, 0.3), 0px 1px 3px 1px rgba(60, 64, 67, 0.15);\n",
              "      fill: #174EA6;\n",
              "    }\n",
              "\n",
              "    [theme=dark] .colab-df-convert {\n",
              "      background-color: #3B4455;\n",
              "      fill: #D2E3FC;\n",
              "    }\n",
              "\n",
              "    [theme=dark] .colab-df-convert:hover {\n",
              "      background-color: #434B5C;\n",
              "      box-shadow: 0px 1px 3px 1px rgba(0, 0, 0, 0.15);\n",
              "      filter: drop-shadow(0px 1px 2px rgba(0, 0, 0, 0.3));\n",
              "      fill: #FFFFFF;\n",
              "    }\n",
              "  </style>\n",
              "\n",
              "      <script>\n",
              "        const buttonEl =\n",
              "          document.querySelector('#df-00926bd7-f778-4c6c-a704-e54a3e9e7047 button.colab-df-convert');\n",
              "        buttonEl.style.display =\n",
              "          google.colab.kernel.accessAllowed ? 'block' : 'none';\n",
              "\n",
              "        async function convertToInteractive(key) {\n",
              "          const element = document.querySelector('#df-00926bd7-f778-4c6c-a704-e54a3e9e7047');\n",
              "          const dataTable =\n",
              "            await google.colab.kernel.invokeFunction('convertToInteractive',\n",
              "                                                     [key], {});\n",
              "          if (!dataTable) return;\n",
              "\n",
              "          const docLinkHtml = 'Like what you see? Visit the ' +\n",
              "            '<a target=\"_blank\" href=https://colab.research.google.com/notebooks/data_table.ipynb>data table notebook</a>'\n",
              "            + ' to learn more about interactive tables.';\n",
              "          element.innerHTML = '';\n",
              "          dataTable['output_type'] = 'display_data';\n",
              "          await google.colab.output.renderOutput(dataTable, element);\n",
              "          const docLink = document.createElement('div');\n",
              "          docLink.innerHTML = docLinkHtml;\n",
              "          element.appendChild(docLink);\n",
              "        }\n",
              "      </script>\n",
              "    </div>\n",
              "  </div>\n",
              "  "
            ]
          },
          "metadata": {},
          "execution_count": 8
        }
      ]
    },
    {
      "cell_type": "code",
      "source": [
        "sns.heatmap(df.isnull(),yticklabels=False,cbar=False)"
      ],
      "metadata": {
        "id": "51vdEZhKvhgQ"
      },
      "execution_count": null,
      "outputs": []
    },
    {
      "cell_type": "code",
      "source": [
        "df.info()"
      ],
      "metadata": {
        "colab": {
          "base_uri": "https://localhost:8080/"
        },
        "id": "bpbHlXXhgRe3",
        "outputId": "bc4628a6-5e9f-4392-ce64-abfe141d5cb1"
      },
      "execution_count": 9,
      "outputs": [
        {
          "output_type": "stream",
          "name": "stdout",
          "text": [
            "<class 'pandas.core.frame.DataFrame'>\n",
            "RangeIndex: 891 entries, 0 to 890\n",
            "Data columns (total 12 columns):\n",
            " #   Column       Non-Null Count  Dtype  \n",
            "---  ------       --------------  -----  \n",
            " 0   PassengerId  891 non-null    int64  \n",
            " 1   Survived     891 non-null    int64  \n",
            " 2   Pclass       891 non-null    int64  \n",
            " 3   Name         891 non-null    object \n",
            " 4   Sex          891 non-null    object \n",
            " 5   Age          714 non-null    float64\n",
            " 6   SibSp        891 non-null    int64  \n",
            " 7   Parch        891 non-null    int64  \n",
            " 8   Ticket       891 non-null    object \n",
            " 9   Fare         891 non-null    float64\n",
            " 10  Cabin        204 non-null    object \n",
            " 11  Embarked     889 non-null    object \n",
            "dtypes: float64(2), int64(5), object(5)\n",
            "memory usage: 83.7+ KB\n"
          ]
        }
      ]
    },
    {
      "cell_type": "markdown",
      "source": [
        "Choose to handle age , as it's a numerical valeus"
      ],
      "metadata": {
        "id": "IQGLBYS6gu03"
      }
    },
    {
      "cell_type": "code",
      "source": [
        "def fun_count_null (df):\n",
        "  print (df.isnull().sum())"
      ],
      "metadata": {
        "id": "tzyhZp9BiAbM"
      },
      "execution_count": 10,
      "outputs": []
    },
    {
      "cell_type": "markdown",
      "source": [
        "**first : Drop null value**"
      ],
      "metadata": {
        "id": "MW5mnDaJgzoL"
      }
    },
    {
      "cell_type": "code",
      "source": [
        "# drop entire col\n",
        "df_drop_col = df.copy()\n",
        "df_drop_col = df_drop_col.drop(['Age'] , axis =1)\n",
        "fun_count_null(df_drop_col)\n"
      ],
      "metadata": {
        "colab": {
          "base_uri": "https://localhost:8080/"
        },
        "id": "A96soi8BgRik",
        "outputId": "3706f40d-69bf-431d-99ef-aeba58b5d028"
      },
      "execution_count": 11,
      "outputs": [
        {
          "output_type": "stream",
          "name": "stdout",
          "text": [
            "PassengerId      0\n",
            "Survived         0\n",
            "Pclass           0\n",
            "Name             0\n",
            "Sex              0\n",
            "SibSp            0\n",
            "Parch            0\n",
            "Ticket           0\n",
            "Fare             0\n",
            "Cabin          687\n",
            "Embarked         2\n",
            "dtype: int64\n"
          ]
        }
      ]
    },
    {
      "cell_type": "code",
      "source": [
        "df_drop_col.shape"
      ],
      "metadata": {
        "colab": {
          "base_uri": "https://localhost:8080/"
        },
        "id": "3UDkHakJkmlG",
        "outputId": "a2a61bfe-29e1-4db4-eba3-33d8a5437f31"
      },
      "execution_count": 12,
      "outputs": [
        {
          "output_type": "execute_result",
          "data": {
            "text/plain": [
              "(891, 11)"
            ]
          },
          "metadata": {},
          "execution_count": 12
        }
      ]
    },
    {
      "cell_type": "code",
      "source": [
        "X_d = df_drop_col[['Pclass', 'SibSp','Parch',  'Fare']]  #drop Sex col , 'Ticket', 'Cabin', 'Embarked' a sthey r categorical\n",
        "y_d = df_drop_col['Survived']\n",
        "\n",
        "\n",
        "X_train_d = X_d[:df_drop_col.shape[0]-100]\n",
        "y_train_d = y_d[:df_drop_col.shape[0]-100]\n",
        "\n",
        "X_test_d = X_d[100:]\n",
        "y_test_d = y_d[100:]"
      ],
      "metadata": {
        "id": "NY8shqDqjlrB"
      },
      "execution_count": 13,
      "outputs": []
    },
    {
      "cell_type": "code",
      "source": [
        "# drop entire row\n",
        "df_drop_row = df.copy()\n",
        "df_drop_row = df_drop_row.dropna(subset = ['Age'], axis =0)\n",
        "fun_count_null(df_drop_row)"
      ],
      "metadata": {
        "colab": {
          "base_uri": "https://localhost:8080/"
        },
        "id": "24gXDlmIgRjz",
        "outputId": "8fc30889-9394-4b2c-b8e4-33a8813aeb0c"
      },
      "execution_count": 14,
      "outputs": [
        {
          "output_type": "stream",
          "name": "stdout",
          "text": [
            "PassengerId      0\n",
            "Survived         0\n",
            "Pclass           0\n",
            "Name             0\n",
            "Sex              0\n",
            "Age              0\n",
            "SibSp            0\n",
            "Parch            0\n",
            "Ticket           0\n",
            "Fare             0\n",
            "Cabin          529\n",
            "Embarked         2\n",
            "dtype: int64\n"
          ]
        }
      ]
    },
    {
      "cell_type": "code",
      "source": [
        "df_drop_row.shape"
      ],
      "metadata": {
        "colab": {
          "base_uri": "https://localhost:8080/"
        },
        "id": "BH-spyXjkzax",
        "outputId": "b1b9dc49-c89e-4f2c-db87-5652c2957504"
      },
      "execution_count": 15,
      "outputs": [
        {
          "output_type": "execute_result",
          "data": {
            "text/plain": [
              "(714, 12)"
            ]
          },
          "metadata": {},
          "execution_count": 15
        }
      ]
    },
    {
      "cell_type": "code",
      "source": [
        "X_d = df_drop_row[['Pclass', 'Age','SibSp','Parch',  'Fare']]   # drop Sex col\n",
        "y_d = df_drop_row['Survived']\n",
        "\n",
        "\n",
        "X_train_d2 = X_d[:df_drop_row.shape[0]-100]\n",
        "y_train_d2 = y_d[:df_drop_row.shape[0]-100]\n",
        "\n",
        "X_test_d2 = X_d[100:]\n",
        "y_test_d2 = y_d[100:]"
      ],
      "metadata": {
        "id": "0pBd0r9QgRny"
      },
      "execution_count": 16,
      "outputs": []
    },
    {
      "cell_type": "markdown",
      "source": [
        "**SECOND: replacing null with an arbbitary / fixed value**"
      ],
      "metadata": {
        "id": "jDo8L5TWmuUN"
      }
    },
    {
      "cell_type": "code",
      "source": [
        "df_replaceWithFixed = df.copy()"
      ],
      "metadata": {
        "id": "USGysbp6gRpD"
      },
      "execution_count": 17,
      "outputs": []
    },
    {
      "cell_type": "code",
      "source": [
        "df_replaceWithFixed.describe()['Age']"
      ],
      "metadata": {
        "colab": {
          "base_uri": "https://localhost:8080/"
        },
        "id": "zTId51cwmzKI",
        "outputId": "55dcc6f7-5bb4-42e6-e5a8-6a62dcaa5916"
      },
      "execution_count": 18,
      "outputs": [
        {
          "output_type": "execute_result",
          "data": {
            "text/plain": [
              "count    714.000000\n",
              "mean      29.699118\n",
              "std       14.526497\n",
              "min        0.420000\n",
              "25%       20.125000\n",
              "50%       28.000000\n",
              "75%       38.000000\n",
              "max       80.000000\n",
              "Name: Age, dtype: float64"
            ]
          },
          "metadata": {},
          "execution_count": 18
        }
      ]
    },
    {
      "cell_type": "code",
      "source": [
        "df_replaceWithFixed['Age']= df_replaceWithFixed['Age'].fillna( 0)\n",
        "fun_count_null(df_replaceWithFixed)"
      ],
      "metadata": {
        "colab": {
          "base_uri": "https://localhost:8080/"
        },
        "id": "ukWQjxpNmzLy",
        "outputId": "3f4ad2a3-d30c-4116-a3a3-0ee218d5ab21"
      },
      "execution_count": 19,
      "outputs": [
        {
          "output_type": "stream",
          "name": "stdout",
          "text": [
            "PassengerId      0\n",
            "Survived         0\n",
            "Pclass           0\n",
            "Name             0\n",
            "Sex              0\n",
            "Age              0\n",
            "SibSp            0\n",
            "Parch            0\n",
            "Ticket           0\n",
            "Fare             0\n",
            "Cabin          687\n",
            "Embarked         2\n",
            "dtype: int64\n"
          ]
        }
      ]
    },
    {
      "cell_type": "code",
      "source": [
        "X_d = df_replaceWithFixed[['Pclass', 'Age','SibSp','Parch',  'Fare']]  \n",
        "y_d = df_replaceWithFixed['Survived']\n",
        "\n",
        "\n",
        "X_train_replace= X_d[:df_replaceWithFixed.shape[0]-100]\n",
        "y_train_replace = y_d[:df_replaceWithFixed.shape[0]-100]\n",
        "\n",
        "X_test_replace = X_d[100:]\n",
        "y_test_replace = y_d[100:]"
      ],
      "metadata": {
        "id": "Zzhw37rfmzPI"
      },
      "execution_count": 20,
      "outputs": []
    },
    {
      "cell_type": "markdown",
      "source": [
        "**Third :  Mean/Median/Mode Imputation**\n",
        "- Using Pandas + Numpy \n",
        "- Using Sklearn"
      ],
      "metadata": {
        "id": "fRhDF8CepMEt"
      }
    },
    {
      "cell_type": "code",
      "source": [
        "#Using Pandas + Numpy\n",
        "df_mean = df.copy()\n",
        "df_mean['Age'] = df_mean['Age'].fillna(np.mean(df_mean['Age']))\n",
        "fun_count_null(df_mean)"
      ],
      "metadata": {
        "colab": {
          "base_uri": "https://localhost:8080/"
        },
        "id": "mIFKZ3wamzQt",
        "outputId": "c9b2dce8-d977-4db1-9f7e-9b645da7337c"
      },
      "execution_count": 21,
      "outputs": [
        {
          "output_type": "stream",
          "name": "stdout",
          "text": [
            "PassengerId      0\n",
            "Survived         0\n",
            "Pclass           0\n",
            "Name             0\n",
            "Sex              0\n",
            "Age              0\n",
            "SibSp            0\n",
            "Parch            0\n",
            "Ticket           0\n",
            "Fare             0\n",
            "Cabin          687\n",
            "Embarked         2\n",
            "dtype: int64\n"
          ]
        }
      ]
    },
    {
      "cell_type": "code",
      "source": [
        "#Using Sklearn\n",
        "\n",
        "from sklearn.impute import SimpleImputer\n",
        "\n",
        "_SimpleImputer = SimpleImputer(missing_values=np.nan, strategy='mean' )\n",
        "\n",
        "\n",
        "df_mean_simpleImp = df.copy()\n",
        "df_mean_simpleImp.Age = _SimpleImputer.fit_transform(df_mean_simpleImp['Age'].values.reshape(-1,1))[:,0]\n",
        "fun_count_null(df_mean_simpleImp)"
      ],
      "metadata": {
        "colab": {
          "base_uri": "https://localhost:8080/"
        },
        "id": "kEu_2z9VmzUP",
        "outputId": "b613c9db-2eb5-48dc-9187-760613743918"
      },
      "execution_count": 22,
      "outputs": [
        {
          "output_type": "stream",
          "name": "stdout",
          "text": [
            "PassengerId      0\n",
            "Survived         0\n",
            "Pclass           0\n",
            "Name             0\n",
            "Sex              0\n",
            "Age              0\n",
            "SibSp            0\n",
            "Parch            0\n",
            "Ticket           0\n",
            "Fare             0\n",
            "Cabin          687\n",
            "Embarked         2\n",
            "dtype: int64\n"
          ]
        }
      ]
    },
    {
      "cell_type": "code",
      "source": [
        "df_mean['Age'].equals(df_mean_simpleImp['Age'])"
      ],
      "metadata": {
        "colab": {
          "base_uri": "https://localhost:8080/"
        },
        "id": "9a4DCFt9q9fZ",
        "outputId": "72f94fe0-a136-4f15-c166-74058c91364f"
      },
      "execution_count": 23,
      "outputs": [
        {
          "output_type": "execute_result",
          "data": {
            "text/plain": [
              "True"
            ]
          },
          "metadata": {},
          "execution_count": 23
        }
      ]
    },
    {
      "cell_type": "code",
      "source": [
        "X_d = df_mean[['Pclass', 'Age','SibSp','Parch',  'Fare']]  \n",
        "y_d = df_mean['Survived']\n",
        "\n",
        "\n",
        "X_train_mean= X_d[:df_mean.shape[0]-100]\n",
        "y_train_mean = y_d[:df_mean.shape[0]-100]\n",
        "\n",
        "X_test_mean = X_d[100:]\n",
        "y_test_mean = y_d[100:]"
      ],
      "metadata": {
        "id": "AsmFXBBjmzVw"
      },
      "execution_count": 24,
      "outputs": []
    },
    {
      "cell_type": "markdown",
      "source": [
        "**FORTH: backword fill/WOCF (fill with next value) OR forward fill/LOCF  (using previous value)**"
      ],
      "metadata": {
        "id": "7WA-SlbWsHm0"
      }
    },
    {
      "cell_type": "code",
      "source": [
        "df_locf = df.copy()\n",
        "df_locf['Age'] = df_locf['Age'].fillna(method='bfill')\n",
        "fun_count_null(df_locf)"
      ],
      "metadata": {
        "colab": {
          "base_uri": "https://localhost:8080/"
        },
        "id": "AwyK9724smj1",
        "outputId": "949ce920-b3eb-4364-a23f-5b0aa396d694"
      },
      "execution_count": 25,
      "outputs": [
        {
          "output_type": "stream",
          "name": "stdout",
          "text": [
            "PassengerId      0\n",
            "Survived         0\n",
            "Pclass           0\n",
            "Name             0\n",
            "Sex              0\n",
            "Age              0\n",
            "SibSp            0\n",
            "Parch            0\n",
            "Ticket           0\n",
            "Fare             0\n",
            "Cabin          687\n",
            "Embarked         2\n",
            "dtype: int64\n"
          ]
        }
      ]
    },
    {
      "cell_type": "code",
      "source": [
        "X_d = df_locf[['Pclass', 'Age','SibSp','Parch',  'Fare']]  \n",
        "y_d = df_locf['Survived']\n",
        "\n",
        "\n",
        "X_train_locf= X_d[:df_locf.shape[0]-100]\n",
        "y_train_locf = y_d[:df_locf.shape[0]-100]\n",
        "\n",
        "X_test_locf = X_d[100:]\n",
        "y_test_locf = y_d[100:]"
      ],
      "metadata": {
        "id": "p7IzFklKsmx4"
      },
      "execution_count": 26,
      "outputs": []
    },
    {
      "cell_type": "markdown",
      "source": [
        "**FIFTH : interpolation (Types)**"
      ],
      "metadata": {
        "id": "q-6ENjvoytLR"
      }
    },
    {
      "cell_type": "code",
      "source": [
        "df_interpolate = df.copy()\n",
        "df_interpolate['Age'] = df_interpolate['Age'].interpolate()\n",
        "fun_count_null(df_interpolate)"
      ],
      "metadata": {
        "colab": {
          "base_uri": "https://localhost:8080/"
        },
        "id": "sKj2HYhZsm4F",
        "outputId": "f4b01684-303c-4e0a-e587-5593e40c701d"
      },
      "execution_count": 27,
      "outputs": [
        {
          "output_type": "stream",
          "name": "stdout",
          "text": [
            "PassengerId      0\n",
            "Survived         0\n",
            "Pclass           0\n",
            "Name             0\n",
            "Sex              0\n",
            "Age              0\n",
            "SibSp            0\n",
            "Parch            0\n",
            "Ticket           0\n",
            "Fare             0\n",
            "Cabin          687\n",
            "Embarked         2\n",
            "dtype: int64\n"
          ]
        }
      ]
    },
    {
      "cell_type": "code",
      "source": [
        "X_d = df_interpolate[['Pclass', 'Age','SibSp','Parch',  'Fare']]  \n",
        "y_d = df_interpolate['Survived']\n",
        "\n",
        "\n",
        "X_train_interpolate= X_d[:df_interpolate.shape[0]-100]\n",
        "y_train_interpolate = y_d[:df_interpolate.shape[0]-100]\n",
        "\n",
        "X_test_interpolate = X_d[100:]\n",
        "y_test_interpolate = y_d[100:]"
      ],
      "metadata": {
        "id": "XsjByF7Nsm5b"
      },
      "execution_count": 28,
      "outputs": []
    },
    {
      "cell_type": "markdown",
      "source": [
        "**SIXTH : Multiple Imputation / MultiVaraite Approach**"
      ],
      "metadata": {
        "id": "iAPQ9fuM0YSh"
      }
    },
    {
      "cell_type": "code",
      "source": [
        "# Using IterativeImputer (LinearRegression)\n",
        "from sklearn.experimental import enable_iterative_imputer\n",
        "from sklearn.impute import IterativeImputer, KNNImputer\n",
        "from sklearn.linear_model import LinearRegression\n",
        "\n",
        "df_lr = df.copy()\n",
        "fun_count_null(df_lr)\n",
        "\n",
        "X_d = df_lr[['Pclass', 'Age','SibSp','Parch',  'Fare']]  \n",
        "y_d = df_lr['Survived']\n",
        "\n",
        "\n",
        "X_train_lr= X_d[:df_lr.shape[0]-100]\n",
        "y_train_lr = y_d[:df_lr.shape[0]-100]\n",
        "\n",
        "X_test_lr = X_d[100:]\n",
        "y_test_lr = y_d[100:]\n",
        "\n",
        "\n",
        "\n",
        "imp = IterativeImputer ( estimator=LinearRegression(), max_iter=10 , random_state= 0 )\n",
        "\n",
        "X_train_lr = imp.fit_transform(X_train_lr)\n",
        "X_test_lr = imp.fit_transform(X_test_lr)\n",
        "\n",
        "\n",
        "X_train_lr = pd.DataFrame(X_train_lr)\n",
        "X_train_lr.columns = X_train_lr.columns\n",
        "\n",
        "X_test_lr = pd.DataFrame(X_test_lr)\n",
        "X_test_lr.columns = X_test_lr.columns\n",
        "\n",
        "df_lr = pd.concat([X_train_lr , X_test_lr] , axis= 0)\n",
        "\n",
        "df_lr.columns = X_d.columns\n",
        "print('\\n')\n",
        "fun_count_null(df_lr)\n",
        "\n"
      ],
      "metadata": {
        "colab": {
          "base_uri": "https://localhost:8080/"
        },
        "id": "QyVITrS10Ymp",
        "outputId": "caa18843-8618-466f-d9d9-37c5960f4965"
      },
      "execution_count": 29,
      "outputs": [
        {
          "output_type": "stream",
          "name": "stdout",
          "text": [
            "PassengerId      0\n",
            "Survived         0\n",
            "Pclass           0\n",
            "Name             0\n",
            "Sex              0\n",
            "Age            177\n",
            "SibSp            0\n",
            "Parch            0\n",
            "Ticket           0\n",
            "Fare             0\n",
            "Cabin          687\n",
            "Embarked         2\n",
            "dtype: int64\n",
            "\n",
            "\n",
            "Pclass    0\n",
            "Age       0\n",
            "SibSp     0\n",
            "Parch     0\n",
            "Fare      0\n",
            "dtype: int64\n"
          ]
        }
      ]
    },
    {
      "cell_type": "code",
      "source": [
        "## using KnnImputer\n",
        "df_k = df.copy()\n",
        "X_d = df_k[['Pclass', 'Age','SibSp','Parch',  'Fare']]  \n",
        "y_d = df_k['Survived']\n",
        "\n",
        "X_train_k= X_d[:df_k.shape[0]-100]\n",
        "y_train_k = y_d[:df_k.shape[0]-100]\n",
        "\n",
        "X_test_k = X_d[100:]\n",
        "y_test_k = y_d[100:]\n",
        "\n",
        "knnImp = KNNImputer (weights='uniform' , n_neighbors=5) # for this null values , we will find the 5 closest values to get the impuation   \n",
        "\n",
        "X_train_k = imp.fit_transform(X_train_k)\n",
        "X_test_k = imp.fit_transform(X_test_k)\n",
        "\n",
        "X_train_k = pd.DataFrame(X_train_k)\n",
        "X_train_k.columns = X_train_k.columns\n",
        "\n",
        "X_test_k = pd.DataFrame(X_test_k)\n",
        "X_test_k.columns = X_test_k.columns\n",
        "\n",
        "df_k = pd.concat([X_train_k, X_test_k] , axis= 0)\n",
        "\n",
        "df_k.columns = X_d.columns\n",
        "fun_count_null(df_k)\n"
      ],
      "metadata": {
        "colab": {
          "base_uri": "https://localhost:8080/"
        },
        "id": "6F0MGV910YoR",
        "outputId": "47a2249c-0f6a-4662-8da2-28ac63e45f16"
      },
      "execution_count": 30,
      "outputs": [
        {
          "output_type": "stream",
          "name": "stdout",
          "text": [
            "Pclass    0\n",
            "Age       0\n",
            "SibSp     0\n",
            "Parch     0\n",
            "Fare      0\n",
            "dtype: int64\n"
          ]
        }
      ]
    },
    {
      "cell_type": "markdown",
      "source": [
        "**SEVENTH : Imputation using Deep Learning Library — Datawig**"
      ],
      "metadata": {
        "id": "y8ckMpYOBblX"
      }
    },
    {
      "cell_type": "code",
      "source": [
        "pip install datawig"
      ],
      "metadata": {
        "colab": {
          "base_uri": "https://localhost:8080/"
        },
        "id": "zd3eC-jd0Yr6",
        "outputId": "b835e149-bbf5-4edb-aa76-c3961c424365"
      },
      "execution_count": 31,
      "outputs": [
        {
          "output_type": "stream",
          "name": "stdout",
          "text": [
            "Looking in indexes: https://pypi.org/simple, https://us-python.pkg.dev/colab-wheels/public/simple/\n",
            "Collecting datawig\n",
            "  Downloading datawig-0.2.0.tar.gz (61 kB)\n",
            "\u001b[2K     \u001b[90m━━━━━━━━━━━━━━━━━━━━━━━━━━━━━━━━━━━━━━━━\u001b[0m \u001b[32m61.5/61.5 KB\u001b[0m \u001b[31m1.7 MB/s\u001b[0m eta \u001b[36m0:00:00\u001b[0m\n",
            "\u001b[?25h  Preparing metadata (setup.py) ... \u001b[?25l\u001b[?25hdone\n",
            "Collecting scikit-learn[alldeps]==0.22.1\n",
            "  Downloading scikit_learn-0.22.1-cp38-cp38-manylinux1_x86_64.whl (7.0 MB)\n",
            "\u001b[2K     \u001b[90m━━━━━━━━━━━━━━━━━━━━━━━━━━━━━━━━━━━━━━━━\u001b[0m \u001b[32m7.0/7.0 MB\u001b[0m \u001b[31m29.0 MB/s\u001b[0m eta \u001b[36m0:00:00\u001b[0m\n",
            "\u001b[?25hCollecting typing==3.6.6\n",
            "  Downloading typing-3.6.6-py3-none-any.whl (25 kB)\n",
            "Collecting pandas==0.25.3\n",
            "  Downloading pandas-0.25.3-cp38-cp38-manylinux1_x86_64.whl (10.4 MB)\n",
            "\u001b[2K     \u001b[90m━━━━━━━━━━━━━━━━━━━━━━━━━━━━━━━━━━━━━━━━\u001b[0m \u001b[32m10.4/10.4 MB\u001b[0m \u001b[31m20.0 MB/s\u001b[0m eta \u001b[36m0:00:00\u001b[0m\n",
            "\u001b[?25hCollecting mxnet==1.4.0\n",
            "  Downloading mxnet-1.4.0-py2.py3-none-manylinux1_x86_64.whl (29.6 MB)\n",
            "\u001b[2K     \u001b[90m━━━━━━━━━━━━━━━━━━━━━━━━━━━━━━━━━━━━━━━━\u001b[0m \u001b[32m29.6/29.6 MB\u001b[0m \u001b[31m12.5 MB/s\u001b[0m eta \u001b[36m0:00:00\u001b[0m\n",
            "\u001b[?25hCollecting graphviz<0.9.0,>=0.8.1\n",
            "  Downloading graphviz-0.8.4-py2.py3-none-any.whl (16 kB)\n",
            "Collecting numpy<1.15.0,>=1.8.2\n",
            "  Downloading numpy-1.14.6.zip (4.9 MB)\n",
            "\u001b[2K     \u001b[90m━━━━━━━━━━━━━━━━━━━━━━━━━━━━━━━━━━━━━━━━\u001b[0m \u001b[32m4.9/4.9 MB\u001b[0m \u001b[31m16.8 MB/s\u001b[0m eta \u001b[36m0:00:00\u001b[0m\n",
            "\u001b[?25h  Preparing metadata (setup.py) ... \u001b[?25l\u001b[?25hdone\n",
            "Requirement already satisfied: requests>=2.20.0 in /usr/local/lib/python3.8/dist-packages (from mxnet==1.4.0->datawig) (2.25.1)\n",
            "Requirement already satisfied: python-dateutil>=2.6.1 in /usr/local/lib/python3.8/dist-packages (from pandas==0.25.3->datawig) (2.8.2)\n",
            "Requirement already satisfied: pytz>=2017.2 in /usr/local/lib/python3.8/dist-packages (from pandas==0.25.3->datawig) (2022.7.1)\n",
            "Requirement already satisfied: scipy>=0.17.0 in /usr/local/lib/python3.8/dist-packages (from scikit-learn[alldeps]==0.22.1->datawig) (1.7.3)\n",
            "Requirement already satisfied: joblib>=0.11 in /usr/local/lib/python3.8/dist-packages (from scikit-learn[alldeps]==0.22.1->datawig) (1.2.0)\n",
            "Requirement already satisfied: six>=1.5 in /usr/local/lib/python3.8/dist-packages (from python-dateutil>=2.6.1->pandas==0.25.3->datawig) (1.15.0)\n",
            "Requirement already satisfied: idna<3,>=2.5 in /usr/local/lib/python3.8/dist-packages (from requests>=2.20.0->mxnet==1.4.0->datawig) (2.10)\n",
            "Requirement already satisfied: chardet<5,>=3.0.2 in /usr/local/lib/python3.8/dist-packages (from requests>=2.20.0->mxnet==1.4.0->datawig) (4.0.0)\n",
            "Requirement already satisfied: urllib3<1.27,>=1.21.1 in /usr/local/lib/python3.8/dist-packages (from requests>=2.20.0->mxnet==1.4.0->datawig) (1.24.3)\n",
            "Requirement already satisfied: certifi>=2017.4.17 in /usr/local/lib/python3.8/dist-packages (from requests>=2.20.0->mxnet==1.4.0->datawig) (2022.12.7)\n",
            "Collecting scipy>=0.17.0\n",
            "  Downloading scipy-1.10.0-cp38-cp38-manylinux_2_17_x86_64.manylinux2014_x86_64.whl (34.5 MB)\n",
            "\u001b[2K     \u001b[90m━━━━━━━━━━━━━━━━━━━━━━━━━━━━━━━━━━━━━━━━\u001b[0m \u001b[32m34.5/34.5 MB\u001b[0m \u001b[31m30.5 MB/s\u001b[0m eta \u001b[36m0:00:00\u001b[0m\n",
            "\u001b[?25h  Downloading scipy-1.9.3-cp38-cp38-manylinux_2_17_x86_64.manylinux2014_x86_64.whl (33.8 MB)\n",
            "\u001b[2K     \u001b[90m━━━━━━━━━━━━━━━━━━━━━━━━━━━━━━━━━━━━━━━━\u001b[0m \u001b[32m33.8/33.8 MB\u001b[0m \u001b[31m13.7 MB/s\u001b[0m eta \u001b[36m0:00:00\u001b[0m\n",
            "\u001b[?25h  Downloading scipy-1.9.2-cp38-cp38-manylinux_2_17_x86_64.manylinux2014_x86_64.whl (33.8 MB)\n",
            "\u001b[2K     \u001b[90m━━━━━━━━━━━━━━━━━━━━━━━━━━━━━━━━━━━━━━━━\u001b[0m \u001b[32m33.8/33.8 MB\u001b[0m \u001b[31m34.0 MB/s\u001b[0m eta \u001b[36m0:00:00\u001b[0m\n",
            "\u001b[?25h  Downloading scipy-1.9.1-cp38-cp38-manylinux_2_17_x86_64.manylinux2014_x86_64.whl (43.4 MB)\n",
            "\u001b[2K     \u001b[90m━━━━━━━━━━━━━━━━━━━━━━━━━━━━━━━━━━━━━━━━\u001b[0m \u001b[32m43.4/43.4 MB\u001b[0m \u001b[31m14.0 MB/s\u001b[0m eta \u001b[36m0:00:00\u001b[0m\n",
            "\u001b[?25h  Downloading scipy-1.9.0-cp38-cp38-manylinux_2_17_x86_64.manylinux2014_x86_64.whl (43.4 MB)\n",
            "\u001b[2K     \u001b[90m━━━━━━━━━━━━━━━━━━━━━━━━━━━━━━━━━━━━━━━━\u001b[0m \u001b[32m43.4/43.4 MB\u001b[0m \u001b[31m16.4 MB/s\u001b[0m eta \u001b[36m0:00:00\u001b[0m\n",
            "\u001b[?25h  Downloading scipy-1.8.1-cp38-cp38-manylinux_2_17_x86_64.manylinux2014_x86_64.whl (41.6 MB)\n",
            "\u001b[2K     \u001b[90m━━━━━━━━━━━━━━━━━━━━━━━━━━━━━━━━━━━━━━━━\u001b[0m \u001b[32m41.6/41.6 MB\u001b[0m \u001b[31m17.0 MB/s\u001b[0m eta \u001b[36m0:00:00\u001b[0m\n",
            "\u001b[?25h  Downloading scipy-1.8.0-cp38-cp38-manylinux_2_17_x86_64.manylinux2014_x86_64.whl (41.6 MB)\n",
            "\u001b[2K     \u001b[90m━━━━━━━━━━━━━━━━━━━━━━━━━━━━━━━━━━━━━━━━\u001b[0m \u001b[32m41.6/41.6 MB\u001b[0m \u001b[31m16.4 MB/s\u001b[0m eta \u001b[36m0:00:00\u001b[0m\n",
            "\u001b[?25h  Downloading scipy-1.7.2-cp38-cp38-manylinux_2_17_x86_64.manylinux2014_x86_64.whl (39.3 MB)\n",
            "\u001b[2K     \u001b[90m━━━━━━━━━━━━━━━━━━━━━━━━━━━━━━━━━━━━━━━━\u001b[0m \u001b[32m39.3/39.3 MB\u001b[0m \u001b[31m13.9 MB/s\u001b[0m eta \u001b[36m0:00:00\u001b[0m\n",
            "\u001b[?25h  Downloading scipy-1.7.1-cp38-cp38-manylinux_2_5_x86_64.manylinux1_x86_64.whl (28.4 MB)\n",
            "\u001b[2K     \u001b[90m━━━━━━━━━━━━━━━━━━━━━━━━━━━━━━━━━━━━━━━━\u001b[0m \u001b[32m28.4/28.4 MB\u001b[0m \u001b[31m35.4 MB/s\u001b[0m eta \u001b[36m0:00:00\u001b[0m\n",
            "\u001b[?25h  Downloading scipy-1.7.0-cp38-cp38-manylinux_2_5_x86_64.manylinux1_x86_64.whl (28.4 MB)\n",
            "\u001b[2K     \u001b[90m━━━━━━━━━━━━━━━━━━━━━━━━━━━━━━━━━━━━━━━━\u001b[0m \u001b[32m28.4/28.4 MB\u001b[0m \u001b[31m36.3 MB/s\u001b[0m eta \u001b[36m0:00:00\u001b[0m\n",
            "\u001b[?25h  Downloading scipy-1.6.3-cp38-cp38-manylinux1_x86_64.whl (27.2 MB)\n",
            "\u001b[2K     \u001b[90m━━━━━━━━━━━━━━━━━━━━━━━━━━━━━━━━━━━━━━━━\u001b[0m \u001b[32m27.2/27.2 MB\u001b[0m \u001b[31m14.8 MB/s\u001b[0m eta \u001b[36m0:00:00\u001b[0m\n",
            "\u001b[?25h  Downloading scipy-1.6.2-cp38-cp38-manylinux1_x86_64.whl (27.2 MB)\n",
            "\u001b[2K     \u001b[90m━━━━━━━━━━━━━━━━━━━━━━━━━━━━━━━━━━━━━━━━\u001b[0m \u001b[32m27.2/27.2 MB\u001b[0m \u001b[31m26.4 MB/s\u001b[0m eta \u001b[36m0:00:00\u001b[0m\n",
            "\u001b[?25h  Downloading scipy-1.6.1-cp38-cp38-manylinux1_x86_64.whl (27.3 MB)\n",
            "\u001b[2K     \u001b[90m━━━━━━━━━━━━━━━━━━━━━━━━━━━━━━━━━━━━━━━━\u001b[0m \u001b[32m27.3/27.3 MB\u001b[0m \u001b[31m26.2 MB/s\u001b[0m eta \u001b[36m0:00:00\u001b[0m\n",
            "\u001b[?25h  Downloading scipy-1.6.0-cp38-cp38-manylinux1_x86_64.whl (27.2 MB)\n",
            "\u001b[2K     \u001b[90m━━━━━━━━━━━━━━━━━━━━━━━━━━━━━━━━━━━━━━━━\u001b[0m \u001b[32m27.2/27.2 MB\u001b[0m \u001b[31m16.4 MB/s\u001b[0m eta \u001b[36m0:00:00\u001b[0m\n",
            "\u001b[?25h  Downloading scipy-1.5.4-cp38-cp38-manylinux1_x86_64.whl (25.8 MB)\n",
            "\u001b[2K     \u001b[90m━━━━━━━━━━━━━━━━━━━━━━━━━━━━━━━━━━━━━━━━\u001b[0m \u001b[32m25.8/25.8 MB\u001b[0m \u001b[31m26.5 MB/s\u001b[0m eta \u001b[36m0:00:00\u001b[0m\n",
            "\u001b[?25hBuilding wheels for collected packages: datawig, numpy\n",
            "  Building wheel for datawig (setup.py) ... \u001b[?25l\u001b[?25hdone\n",
            "  Created wheel for datawig: filename=datawig-0.2.0-py3-none-any.whl size=72677 sha256=4adab124c5aa49eade25aa62cd4819a6e4c941163717505c7f6ea1b6ebe3d420\n",
            "  Stored in directory: /root/.cache/pip/wheels/75/98/7e/0361b6b68a18ee5bb5398f7ab50d54772f8bcf6946a1eb9ef2\n",
            "  Building wheel for numpy (setup.py) ... \u001b[?25l\u001b[?25hdone\n",
            "  Created wheel for numpy: filename=numpy-1.14.6-cp38-cp38-linux_x86_64.whl size=9740354 sha256=3b2a6189fb0938e6d5e8cef9289087e46ee0661147971e9feb8fe54d6d0f6ad0\n",
            "  Stored in directory: /root/.cache/pip/wheels/77/81/aa/e309a6725c1cb6f5b37c3c67b74828fd4db0827592ff4a4f85\n",
            "Successfully built datawig numpy\n",
            "Installing collected packages: typing, numpy, graphviz, scipy, pandas, mxnet, scikit-learn, datawig\n",
            "  Attempting uninstall: numpy\n",
            "    Found existing installation: numpy 1.21.6\n",
            "    Uninstalling numpy-1.21.6:\n",
            "      Successfully uninstalled numpy-1.21.6\n",
            "  Attempting uninstall: graphviz\n",
            "    Found existing installation: graphviz 0.10.1\n",
            "    Uninstalling graphviz-0.10.1:\n",
            "      Successfully uninstalled graphviz-0.10.1\n",
            "  Attempting uninstall: scipy\n",
            "    Found existing installation: scipy 1.7.3\n",
            "    Uninstalling scipy-1.7.3:\n",
            "      Successfully uninstalled scipy-1.7.3\n",
            "  Attempting uninstall: pandas\n",
            "    Found existing installation: pandas 1.3.5\n",
            "    Uninstalling pandas-1.3.5:\n",
            "      Successfully uninstalled pandas-1.3.5\n",
            "  Attempting uninstall: scikit-learn\n",
            "    Found existing installation: scikit-learn 1.0.2\n",
            "    Uninstalling scikit-learn-1.0.2:\n",
            "      Successfully uninstalled scikit-learn-1.0.2\n",
            "\u001b[31mERROR: pip's dependency resolver does not currently take into account all the packages that are installed. This behaviour is the source of the following dependency conflicts.\n",
            "yellowbrick 1.5 requires numpy>=1.16.0, but you have numpy 1.14.6 which is incompatible.\n",
            "yellowbrick 1.5 requires scikit-learn>=1.0.0, but you have scikit-learn 0.22.1 which is incompatible.\n",
            "xarray 2022.12.0 requires numpy>=1.20, but you have numpy 1.14.6 which is incompatible.\n",
            "xarray 2022.12.0 requires pandas>=1.3, but you have pandas 0.25.3 which is incompatible.\n",
            "xarray-einstats 0.5.1 requires numpy>=1.20, but you have numpy 1.14.6 which is incompatible.\n",
            "xarray-einstats 0.5.1 requires scipy>=1.6, but you have scipy 1.5.4 which is incompatible.\n",
            "thinc 8.1.7 requires numpy>=1.15.0, but you have numpy 1.14.6 which is incompatible.\n",
            "tensorflow 2.11.0 requires numpy>=1.20, but you have numpy 1.14.6 which is incompatible.\n",
            "tables 3.7.0 requires numpy>=1.19.0, but you have numpy 1.14.6 which is incompatible.\n",
            "statsmodels 0.12.2 requires numpy>=1.15, but you have numpy 1.14.6 which is incompatible.\n",
            "spacy 3.4.4 requires numpy>=1.15.0, but you have numpy 1.14.6 which is incompatible.\n",
            "seaborn 0.11.2 requires numpy>=1.15, but you have numpy 1.14.6 which is incompatible.\n",
            "scikit-image 0.18.3 requires numpy>=1.16.5, but you have numpy 1.14.6 which is incompatible.\n",
            "resampy 0.4.2 requires numpy>=1.17, but you have numpy 1.14.6 which is incompatible.\n",
            "pywavelets 1.4.1 requires numpy>=1.17.3, but you have numpy 1.14.6 which is incompatible.\n",
            "pymc 4.1.4 requires numpy>=1.15.0, but you have numpy 1.14.6 which is incompatible.\n",
            "pyerfa 2.0.0.1 requires numpy>=1.17, but you have numpy 1.14.6 which is incompatible.\n",
            "pyarrow 9.0.0 requires numpy>=1.16.6, but you have numpy 1.14.6 which is incompatible.\n",
            "prophet 1.1.2 requires numpy>=1.15.4, but you have numpy 1.14.6 which is incompatible.\n",
            "prophet 1.1.2 requires pandas>=1.0.4, but you have pandas 0.25.3 which is incompatible.\n",
            "plotnine 0.8.0 requires numpy>=1.19.0, but you have numpy 1.14.6 which is incompatible.\n",
            "plotnine 0.8.0 requires pandas>=1.1.0, but you have pandas 0.25.3 which is incompatible.\n",
            "pandas-gbq 0.17.9 requires numpy>=1.16.6, but you have numpy 1.14.6 which is incompatible.\n",
            "opencv-python 4.6.0.66 requires numpy>=1.17.3; python_version >= \"3.8\", but you have numpy 1.14.6 which is incompatible.\n",
            "opencv-python-headless 4.7.0.68 requires numpy>=1.17.0; python_version >= \"3.7\", but you have numpy 1.14.6 which is incompatible.\n",
            "opencv-python-headless 4.7.0.68 requires numpy>=1.17.3; python_version >= \"3.8\", but you have numpy 1.14.6 which is incompatible.\n",
            "opencv-contrib-python 4.6.0.66 requires numpy>=1.17.3; python_version >= \"3.8\", but you have numpy 1.14.6 which is incompatible.\n",
            "numba 0.56.4 requires numpy<1.24,>=1.18, but you have numpy 1.14.6 which is incompatible.\n",
            "mizani 0.7.3 requires pandas>=1.1.0, but you have pandas 0.25.3 which is incompatible.\n",
            "librosa 0.8.1 requires numpy>=1.15.0, but you have numpy 1.14.6 which is incompatible.\n",
            "kapre 0.3.7 requires numpy>=1.18.5, but you have numpy 1.14.6 which is incompatible.\n",
            "jaxlib 0.3.25+cuda11.cudnn805 requires numpy>=1.20, but you have numpy 1.14.6 which is incompatible.\n",
            "jax 0.3.25 requires numpy>=1.20, but you have numpy 1.14.6 which is incompatible.\n",
            "imgaug 0.4.0 requires numpy>=1.15, but you have numpy 1.14.6 which is incompatible.\n",
            "imbalanced-learn 0.8.1 requires scikit-learn>=0.24, but you have scikit-learn 0.22.1 which is incompatible.\n",
            "httpstan 4.6.1 requires numpy<2.0,>=1.16, but you have numpy 1.14.6 which is incompatible.\n",
            "h5py 3.1.0 requires numpy>=1.17.5; python_version == \"3.8\", but you have numpy 1.14.6 which is incompatible.\n",
            "gym 0.25.2 requires numpy>=1.18.0, but you have numpy 1.14.6 which is incompatible.\n",
            "google-colab 1.0.0 requires pandas>=1.1.0, but you have pandas 0.25.3 which is incompatible.\n",
            "db-dtypes 1.0.5 requires numpy<2.0dev,>=1.16.6, but you have numpy 1.14.6 which is incompatible.\n",
            "cvxpy 1.2.3 requires numpy>=1.15, but you have numpy 1.14.6 which is incompatible.\n",
            "cmdstanpy 1.1.0 requires numpy>=1.21, but you have numpy 1.14.6 which is incompatible.\n",
            "blis 0.7.9 requires numpy>=1.15.0, but you have numpy 1.14.6 which is incompatible.\n",
            "astropy 4.3.1 requires numpy>=1.17, but you have numpy 1.14.6 which is incompatible.\n",
            "aesara 2.7.9 requires numpy>=1.17.0, but you have numpy 1.14.6 which is incompatible.\n",
            "aeppl 0.0.33 requires numpy>=1.18.1, but you have numpy 1.14.6 which is incompatible.\u001b[0m\u001b[31m\n",
            "\u001b[0mSuccessfully installed datawig-0.2.0 graphviz-0.8.4 mxnet-1.4.0 numpy-1.14.6 pandas-0.25.3 scikit-learn-0.22.1 scipy-1.5.4 typing-3.6.6\n"
          ]
        }
      ]
    },
    {
      "cell_type": "code",
      "source": [
        "import datawig\n",
        "\n",
        "df_dl = df.copy()\n",
        "df_train, df_test = datawig.utils.random_split(df_dl)\n",
        "\n",
        "#Initialize a SimpleImputer model\n",
        "imputer = datawig.SimpleImputer(\n",
        "    input_columns=['Pclass','SibSp','Parch',  'Fare'], # column(s) containing information about the column we want to impute\n",
        "    output_column= 'Age', # the column we'd like to impute values for\n",
        "    output_path = 'imputer_model' # stores model data and metrics\n",
        "    )\n",
        "\n",
        "#Fit an imputer model on the train data\n",
        "imputer.fit(train_df=df_train, num_epochs=50)\n",
        "\n",
        "#Impute missing values and return original dataframe with predictions\n",
        "imputed = imputer.predict(df_test)"
      ],
      "metadata": {
        "colab": {
          "base_uri": "https://localhost:8080/"
        },
        "id": "c4lGqo9M0Yti",
        "outputId": "0d590958-3f4b-4dd5-95cd-cfec934c6080"
      },
      "execution_count": 32,
      "outputs": [
        {
          "output_type": "stream",
          "name": "stderr",
          "text": [
            "INFO:root:\n",
            "========== start: fit model\n",
            "2023-02-12 08:33:16,379 [INFO]  \n",
            "========== start: fit model\n",
            "WARNING:root:Already bound, ignoring bind()\n",
            "2023-02-12 08:33:16,383 [WARNING]  Already bound, ignoring bind()\n",
            "INFO:root:Epoch[0] Batch [0-20]\tSpeed: 12560.50 samples/sec\tcross-entropy=16.810839\tAge-accuracy=0.000000\n",
            "2023-02-12 08:33:16,421 [INFO]  Epoch[0] Batch [0-20]\tSpeed: 12560.50 samples/sec\tcross-entropy=16.810839\tAge-accuracy=0.000000\n",
            "INFO:root:Epoch[0] Train-cross-entropy=15.026931\n",
            "2023-02-12 08:33:16,452 [INFO]  Epoch[0] Train-cross-entropy=15.026931\n",
            "INFO:root:Epoch[0] Train-Age-accuracy=0.000000\n",
            "2023-02-12 08:33:16,460 [INFO]  Epoch[0] Train-Age-accuracy=0.000000\n",
            "INFO:root:Epoch[0] Time cost=0.074\n",
            "2023-02-12 08:33:16,464 [INFO]  Epoch[0] Time cost=0.074\n",
            "INFO:root:Saved checkpoint to \"imputer_model/model-0000.params\"\n",
            "2023-02-12 08:33:16,473 [INFO]  Saved checkpoint to \"imputer_model/model-0000.params\"\n",
            "INFO:root:Epoch[0] Validation-cross-entropy=14.792902\n",
            "2023-02-12 08:33:16,486 [INFO]  Epoch[0] Validation-cross-entropy=14.792902\n",
            "INFO:root:Epoch[0] Validation-Age-accuracy=0.000000\n",
            "2023-02-12 08:33:16,490 [INFO]  Epoch[0] Validation-Age-accuracy=0.000000\n",
            "INFO:root:Epoch[1] Batch [0-20]\tSpeed: 13220.43 samples/sec\tcross-entropy=14.873321\tAge-accuracy=0.000000\n",
            "2023-02-12 08:33:16,525 [INFO]  Epoch[1] Batch [0-20]\tSpeed: 13220.43 samples/sec\tcross-entropy=14.873321\tAge-accuracy=0.000000\n",
            "INFO:root:Epoch[1] Train-cross-entropy=13.861021\n",
            "2023-02-12 08:33:16,558 [INFO]  Epoch[1] Train-cross-entropy=13.861021\n",
            "INFO:root:Epoch[1] Train-Age-accuracy=0.000000\n",
            "2023-02-12 08:33:16,564 [INFO]  Epoch[1] Train-Age-accuracy=0.000000\n",
            "INFO:root:Epoch[1] Time cost=0.076\n",
            "2023-02-12 08:33:16,571 [INFO]  Epoch[1] Time cost=0.076\n",
            "INFO:root:Saved checkpoint to \"imputer_model/model-0001.params\"\n",
            "2023-02-12 08:33:16,581 [INFO]  Saved checkpoint to \"imputer_model/model-0001.params\"\n",
            "INFO:root:Epoch[1] Validation-cross-entropy=14.864267\n",
            "2023-02-12 08:33:16,591 [INFO]  Epoch[1] Validation-cross-entropy=14.864267\n",
            "INFO:root:Epoch[1] Validation-Age-accuracy=0.000000\n",
            "2023-02-12 08:33:16,598 [INFO]  Epoch[1] Validation-Age-accuracy=0.000000\n",
            "INFO:root:Epoch[2] Batch [0-20]\tSpeed: 10311.59 samples/sec\tcross-entropy=14.669557\tAge-accuracy=0.000000\n",
            "2023-02-12 08:33:16,639 [INFO]  Epoch[2] Batch [0-20]\tSpeed: 10311.59 samples/sec\tcross-entropy=14.669557\tAge-accuracy=0.000000\n",
            "INFO:root:Epoch[2] Train-cross-entropy=13.632871\n",
            "2023-02-12 08:33:16,671 [INFO]  Epoch[2] Train-cross-entropy=13.632871\n",
            "INFO:root:Epoch[2] Train-Age-accuracy=0.000000\n",
            "2023-02-12 08:33:16,678 [INFO]  Epoch[2] Train-Age-accuracy=0.000000\n",
            "INFO:root:Epoch[2] Time cost=0.078\n",
            "2023-02-12 08:33:16,681 [INFO]  Epoch[2] Time cost=0.078\n",
            "INFO:root:Saved checkpoint to \"imputer_model/model-0002.params\"\n",
            "2023-02-12 08:33:16,688 [INFO]  Saved checkpoint to \"imputer_model/model-0002.params\"\n",
            "INFO:root:Epoch[2] Validation-cross-entropy=14.784704\n",
            "2023-02-12 08:33:16,698 [INFO]  Epoch[2] Validation-cross-entropy=14.784704\n",
            "INFO:root:Epoch[2] Validation-Age-accuracy=0.000000\n",
            "2023-02-12 08:33:16,701 [INFO]  Epoch[2] Validation-Age-accuracy=0.000000\n",
            "INFO:root:Epoch[3] Batch [0-20]\tSpeed: 7388.93 samples/sec\tcross-entropy=14.535517\tAge-accuracy=0.000000\n",
            "2023-02-12 08:33:16,749 [INFO]  Epoch[3] Batch [0-20]\tSpeed: 7388.93 samples/sec\tcross-entropy=14.535517\tAge-accuracy=0.000000\n",
            "INFO:root:Epoch[3] Train-cross-entropy=13.473602\n",
            "2023-02-12 08:33:16,792 [INFO]  Epoch[3] Train-cross-entropy=13.473602\n",
            "INFO:root:Epoch[3] Train-Age-accuracy=0.000000\n",
            "2023-02-12 08:33:16,798 [INFO]  Epoch[3] Train-Age-accuracy=0.000000\n",
            "INFO:root:Epoch[3] Time cost=0.099\n",
            "2023-02-12 08:33:16,802 [INFO]  Epoch[3] Time cost=0.099\n",
            "INFO:root:Saved checkpoint to \"imputer_model/model-0003.params\"\n",
            "2023-02-12 08:33:16,811 [INFO]  Saved checkpoint to \"imputer_model/model-0003.params\"\n",
            "INFO:root:Epoch[3] Validation-cross-entropy=14.725611\n",
            "2023-02-12 08:33:16,817 [INFO]  Epoch[3] Validation-cross-entropy=14.725611\n",
            "INFO:root:Epoch[3] Validation-Age-accuracy=0.000000\n",
            "2023-02-12 08:33:16,820 [INFO]  Epoch[3] Validation-Age-accuracy=0.000000\n",
            "INFO:root:Epoch[4] Batch [0-20]\tSpeed: 8672.41 samples/sec\tcross-entropy=14.453408\tAge-accuracy=0.000000\n",
            "2023-02-12 08:33:16,862 [INFO]  Epoch[4] Batch [0-20]\tSpeed: 8672.41 samples/sec\tcross-entropy=14.453408\tAge-accuracy=0.000000\n",
            "INFO:root:Epoch[4] Train-cross-entropy=13.362623\n",
            "2023-02-12 08:33:16,894 [INFO]  Epoch[4] Train-cross-entropy=13.362623\n",
            "INFO:root:Epoch[4] Train-Age-accuracy=0.000000\n",
            "2023-02-12 08:33:16,898 [INFO]  Epoch[4] Train-Age-accuracy=0.000000\n",
            "INFO:root:Epoch[4] Time cost=0.079\n",
            "2023-02-12 08:33:16,902 [INFO]  Epoch[4] Time cost=0.079\n",
            "INFO:root:Saved checkpoint to \"imputer_model/model-0004.params\"\n",
            "2023-02-12 08:33:16,908 [INFO]  Saved checkpoint to \"imputer_model/model-0004.params\"\n",
            "INFO:root:Epoch[4] Validation-cross-entropy=14.667934\n",
            "2023-02-12 08:33:16,919 [INFO]  Epoch[4] Validation-cross-entropy=14.667934\n",
            "INFO:root:Epoch[4] Validation-Age-accuracy=0.000000\n",
            "2023-02-12 08:33:16,921 [INFO]  Epoch[4] Validation-Age-accuracy=0.000000\n",
            "INFO:root:Epoch[5] Batch [0-20]\tSpeed: 9112.73 samples/sec\tcross-entropy=14.376306\tAge-accuracy=0.000000\n",
            "2023-02-12 08:33:16,962 [INFO]  Epoch[5] Batch [0-20]\tSpeed: 9112.73 samples/sec\tcross-entropy=14.376306\tAge-accuracy=0.000000\n",
            "INFO:root:Epoch[5] Train-cross-entropy=13.264042\n",
            "2023-02-12 08:33:17,000 [INFO]  Epoch[5] Train-cross-entropy=13.264042\n",
            "INFO:root:Epoch[5] Train-Age-accuracy=0.000000\n",
            "2023-02-12 08:33:17,009 [INFO]  Epoch[5] Train-Age-accuracy=0.000000\n",
            "INFO:root:Epoch[5] Time cost=0.091\n",
            "2023-02-12 08:33:17,015 [INFO]  Epoch[5] Time cost=0.091\n",
            "INFO:root:Saved checkpoint to \"imputer_model/model-0005.params\"\n",
            "2023-02-12 08:33:17,025 [INFO]  Saved checkpoint to \"imputer_model/model-0005.params\"\n",
            "INFO:root:Epoch[5] Validation-cross-entropy=14.595688\n",
            "2023-02-12 08:33:17,032 [INFO]  Epoch[5] Validation-cross-entropy=14.595688\n",
            "INFO:root:Epoch[5] Validation-Age-accuracy=0.000000\n",
            "2023-02-12 08:33:17,036 [INFO]  Epoch[5] Validation-Age-accuracy=0.000000\n",
            "INFO:root:Epoch[6] Batch [0-20]\tSpeed: 7521.64 samples/sec\tcross-entropy=14.303050\tAge-accuracy=0.000000\n",
            "2023-02-12 08:33:17,084 [INFO]  Epoch[6] Batch [0-20]\tSpeed: 7521.64 samples/sec\tcross-entropy=14.303050\tAge-accuracy=0.000000\n",
            "INFO:root:Epoch[6] Train-cross-entropy=13.174226\n",
            "2023-02-12 08:33:17,116 [INFO]  Epoch[6] Train-cross-entropy=13.174226\n",
            "INFO:root:Epoch[6] Train-Age-accuracy=0.000000\n",
            "2023-02-12 08:33:17,121 [INFO]  Epoch[6] Train-Age-accuracy=0.000000\n",
            "INFO:root:Epoch[6] Time cost=0.087\n",
            "2023-02-12 08:33:17,126 [INFO]  Epoch[6] Time cost=0.087\n",
            "INFO:root:Saved checkpoint to \"imputer_model/model-0006.params\"\n",
            "2023-02-12 08:33:17,135 [INFO]  Saved checkpoint to \"imputer_model/model-0006.params\"\n",
            "INFO:root:Epoch[6] Validation-cross-entropy=14.537929\n",
            "2023-02-12 08:33:17,142 [INFO]  Epoch[6] Validation-cross-entropy=14.537929\n",
            "INFO:root:Epoch[6] Validation-Age-accuracy=0.000000\n",
            "2023-02-12 08:33:17,146 [INFO]  Epoch[6] Validation-Age-accuracy=0.000000\n",
            "INFO:root:Epoch[7] Batch [0-20]\tSpeed: 4241.46 samples/sec\tcross-entropy=14.235478\tAge-accuracy=0.000000\n",
            "2023-02-12 08:33:17,225 [INFO]  Epoch[7] Batch [0-20]\tSpeed: 4241.46 samples/sec\tcross-entropy=14.235478\tAge-accuracy=0.000000\n",
            "INFO:root:Epoch[7] Train-cross-entropy=13.096189\n",
            "2023-02-12 08:33:17,273 [INFO]  Epoch[7] Train-cross-entropy=13.096189\n",
            "INFO:root:Epoch[7] Train-Age-accuracy=0.000000\n",
            "2023-02-12 08:33:17,282 [INFO]  Epoch[7] Train-Age-accuracy=0.000000\n",
            "INFO:root:Epoch[7] Time cost=0.143\n",
            "2023-02-12 08:33:17,290 [INFO]  Epoch[7] Time cost=0.143\n",
            "INFO:root:Saved checkpoint to \"imputer_model/model-0007.params\"\n",
            "2023-02-12 08:33:17,299 [INFO]  Saved checkpoint to \"imputer_model/model-0007.params\"\n",
            "INFO:root:Epoch[7] Validation-cross-entropy=14.535154\n",
            "2023-02-12 08:33:17,317 [INFO]  Epoch[7] Validation-cross-entropy=14.535154\n",
            "INFO:root:Epoch[7] Validation-Age-accuracy=0.000000\n",
            "2023-02-12 08:33:17,321 [INFO]  Epoch[7] Validation-Age-accuracy=0.000000\n",
            "INFO:root:Epoch[8] Batch [0-20]\tSpeed: 6199.63 samples/sec\tcross-entropy=14.184270\tAge-accuracy=0.000000\n",
            "2023-02-12 08:33:17,383 [INFO]  Epoch[8] Batch [0-20]\tSpeed: 6199.63 samples/sec\tcross-entropy=14.184270\tAge-accuracy=0.000000\n",
            "INFO:root:Epoch[8] Train-cross-entropy=13.028870\n",
            "2023-02-12 08:33:17,428 [INFO]  Epoch[8] Train-cross-entropy=13.028870\n",
            "INFO:root:Epoch[8] Train-Age-accuracy=0.000000\n",
            "2023-02-12 08:33:17,435 [INFO]  Epoch[8] Train-Age-accuracy=0.000000\n",
            "INFO:root:Epoch[8] Time cost=0.113\n",
            "2023-02-12 08:33:17,439 [INFO]  Epoch[8] Time cost=0.113\n",
            "INFO:root:Saved checkpoint to \"imputer_model/model-0008.params\"\n",
            "2023-02-12 08:33:17,450 [INFO]  Saved checkpoint to \"imputer_model/model-0008.params\"\n",
            "INFO:root:Epoch[8] Validation-cross-entropy=14.518959\n",
            "2023-02-12 08:33:17,467 [INFO]  Epoch[8] Validation-cross-entropy=14.518959\n",
            "INFO:root:Epoch[8] Validation-Age-accuracy=0.000000\n",
            "2023-02-12 08:33:17,470 [INFO]  Epoch[8] Validation-Age-accuracy=0.000000\n",
            "INFO:root:Epoch[9] Batch [0-20]\tSpeed: 8298.21 samples/sec\tcross-entropy=14.147495\tAge-accuracy=0.000000\n",
            "2023-02-12 08:33:17,530 [INFO]  Epoch[9] Batch [0-20]\tSpeed: 8298.21 samples/sec\tcross-entropy=14.147495\tAge-accuracy=0.000000\n",
            "INFO:root:Epoch[9] Train-cross-entropy=12.968457\n",
            "2023-02-12 08:33:17,572 [INFO]  Epoch[9] Train-cross-entropy=12.968457\n",
            "INFO:root:Epoch[9] Train-Age-accuracy=0.000000\n",
            "2023-02-12 08:33:17,584 [INFO]  Epoch[9] Train-Age-accuracy=0.000000\n",
            "INFO:root:Epoch[9] Time cost=0.114\n",
            "2023-02-12 08:33:17,593 [INFO]  Epoch[9] Time cost=0.114\n",
            "INFO:root:Saved checkpoint to \"imputer_model/model-0009.params\"\n",
            "2023-02-12 08:33:17,601 [INFO]  Saved checkpoint to \"imputer_model/model-0009.params\"\n",
            "INFO:root:Epoch[9] Validation-cross-entropy=14.502652\n",
            "2023-02-12 08:33:17,613 [INFO]  Epoch[9] Validation-cross-entropy=14.502652\n",
            "INFO:root:Epoch[9] Validation-Age-accuracy=0.000000\n",
            "2023-02-12 08:33:17,627 [INFO]  Epoch[9] Validation-Age-accuracy=0.000000\n",
            "INFO:root:Epoch[10] Batch [0-20]\tSpeed: 10518.22 samples/sec\tcross-entropy=14.100737\tAge-accuracy=0.000000\n",
            "2023-02-12 08:33:17,664 [INFO]  Epoch[10] Batch [0-20]\tSpeed: 10518.22 samples/sec\tcross-entropy=14.100737\tAge-accuracy=0.000000\n",
            "INFO:root:Epoch[10] Train-cross-entropy=12.916785\n",
            "2023-02-12 08:33:17,694 [INFO]  Epoch[10] Train-cross-entropy=12.916785\n",
            "INFO:root:Epoch[10] Train-Age-accuracy=0.000000\n",
            "2023-02-12 08:33:17,698 [INFO]  Epoch[10] Train-Age-accuracy=0.000000\n",
            "INFO:root:Epoch[10] Time cost=0.072\n",
            "2023-02-12 08:33:17,702 [INFO]  Epoch[10] Time cost=0.072\n",
            "INFO:root:Saved checkpoint to \"imputer_model/model-0010.params\"\n",
            "2023-02-12 08:33:17,710 [INFO]  Saved checkpoint to \"imputer_model/model-0010.params\"\n",
            "INFO:root:Epoch[10] Validation-cross-entropy=14.492174\n",
            "2023-02-12 08:33:17,720 [INFO]  Epoch[10] Validation-cross-entropy=14.492174\n",
            "INFO:root:Epoch[10] Validation-Age-accuracy=0.000000\n",
            "2023-02-12 08:33:17,722 [INFO]  Epoch[10] Validation-Age-accuracy=0.000000\n",
            "INFO:root:Epoch[11] Batch [0-20]\tSpeed: 9410.01 samples/sec\tcross-entropy=14.063930\tAge-accuracy=0.000000\n",
            "2023-02-12 08:33:17,762 [INFO]  Epoch[11] Batch [0-20]\tSpeed: 9410.01 samples/sec\tcross-entropy=14.063930\tAge-accuracy=0.000000\n",
            "INFO:root:Epoch[11] Train-cross-entropy=12.859357\n",
            "2023-02-12 08:33:17,794 [INFO]  Epoch[11] Train-cross-entropy=12.859357\n",
            "INFO:root:Epoch[11] Train-Age-accuracy=0.000000\n",
            "2023-02-12 08:33:17,800 [INFO]  Epoch[11] Train-Age-accuracy=0.000000\n",
            "INFO:root:Epoch[11] Time cost=0.081\n",
            "2023-02-12 08:33:17,806 [INFO]  Epoch[11] Time cost=0.081\n",
            "INFO:root:Saved checkpoint to \"imputer_model/model-0011.params\"\n",
            "2023-02-12 08:33:17,816 [INFO]  Saved checkpoint to \"imputer_model/model-0011.params\"\n",
            "INFO:root:Epoch[11] Validation-cross-entropy=14.446700\n",
            "2023-02-12 08:33:17,832 [INFO]  Epoch[11] Validation-cross-entropy=14.446700\n",
            "INFO:root:Epoch[11] Validation-Age-accuracy=0.000000\n",
            "2023-02-12 08:33:17,835 [INFO]  Epoch[11] Validation-Age-accuracy=0.000000\n",
            "INFO:root:Epoch[12] Batch [0-20]\tSpeed: 8570.52 samples/sec\tcross-entropy=14.007091\tAge-accuracy=0.000000\n",
            "2023-02-12 08:33:17,878 [INFO]  Epoch[12] Batch [0-20]\tSpeed: 8570.52 samples/sec\tcross-entropy=14.007091\tAge-accuracy=0.000000\n",
            "INFO:root:Epoch[12] Train-cross-entropy=12.795541\n",
            "2023-02-12 08:33:17,913 [INFO]  Epoch[12] Train-cross-entropy=12.795541\n",
            "INFO:root:Epoch[12] Train-Age-accuracy=0.000000\n",
            "2023-02-12 08:33:17,923 [INFO]  Epoch[12] Train-Age-accuracy=0.000000\n",
            "INFO:root:Epoch[12] Time cost=0.091\n",
            "2023-02-12 08:33:17,929 [INFO]  Epoch[12] Time cost=0.091\n",
            "INFO:root:Saved checkpoint to \"imputer_model/model-0012.params\"\n",
            "2023-02-12 08:33:17,937 [INFO]  Saved checkpoint to \"imputer_model/model-0012.params\"\n",
            "INFO:root:Epoch[12] Validation-cross-entropy=14.415836\n",
            "2023-02-12 08:33:17,950 [INFO]  Epoch[12] Validation-cross-entropy=14.415836\n",
            "INFO:root:Epoch[12] Validation-Age-accuracy=0.000000\n",
            "2023-02-12 08:33:17,953 [INFO]  Epoch[12] Validation-Age-accuracy=0.000000\n",
            "INFO:root:Epoch[13] Batch [0-20]\tSpeed: 9797.99 samples/sec\tcross-entropy=13.971668\tAge-accuracy=0.000000\n",
            "2023-02-12 08:33:17,994 [INFO]  Epoch[13] Batch [0-20]\tSpeed: 9797.99 samples/sec\tcross-entropy=13.971668\tAge-accuracy=0.000000\n",
            "INFO:root:Epoch[13] Train-cross-entropy=12.741982\n",
            "2023-02-12 08:33:18,031 [INFO]  Epoch[13] Train-cross-entropy=12.741982\n",
            "INFO:root:Epoch[13] Train-Age-accuracy=0.000000\n",
            "2023-02-12 08:33:18,043 [INFO]  Epoch[13] Train-Age-accuracy=0.000000\n",
            "INFO:root:Epoch[13] Time cost=0.093\n",
            "2023-02-12 08:33:18,048 [INFO]  Epoch[13] Time cost=0.093\n",
            "INFO:root:Saved checkpoint to \"imputer_model/model-0013.params\"\n",
            "2023-02-12 08:33:18,058 [INFO]  Saved checkpoint to \"imputer_model/model-0013.params\"\n",
            "INFO:root:Epoch[13] Validation-cross-entropy=14.376010\n",
            "2023-02-12 08:33:18,068 [INFO]  Epoch[13] Validation-cross-entropy=14.376010\n",
            "INFO:root:Epoch[13] Validation-Age-accuracy=0.000000\n",
            "2023-02-12 08:33:18,072 [INFO]  Epoch[13] Validation-Age-accuracy=0.000000\n",
            "INFO:root:Epoch[14] Batch [0-20]\tSpeed: 13465.67 samples/sec\tcross-entropy=13.916687\tAge-accuracy=0.000000\n",
            "2023-02-12 08:33:18,108 [INFO]  Epoch[14] Batch [0-20]\tSpeed: 13465.67 samples/sec\tcross-entropy=13.916687\tAge-accuracy=0.000000\n",
            "INFO:root:Epoch[14] Train-cross-entropy=12.685367\n",
            "2023-02-12 08:33:18,140 [INFO]  Epoch[14] Train-cross-entropy=12.685367\n",
            "INFO:root:Epoch[14] Train-Age-accuracy=0.000000\n",
            "2023-02-12 08:33:18,146 [INFO]  Epoch[14] Train-Age-accuracy=0.000000\n",
            "INFO:root:Epoch[14] Time cost=0.078\n",
            "2023-02-12 08:33:18,155 [INFO]  Epoch[14] Time cost=0.078\n",
            "INFO:root:Saved checkpoint to \"imputer_model/model-0014.params\"\n",
            "2023-02-12 08:33:18,162 [INFO]  Saved checkpoint to \"imputer_model/model-0014.params\"\n",
            "INFO:root:Epoch[14] Validation-cross-entropy=14.358974\n",
            "2023-02-12 08:33:18,170 [INFO]  Epoch[14] Validation-cross-entropy=14.358974\n",
            "INFO:root:Epoch[14] Validation-Age-accuracy=0.000000\n",
            "2023-02-12 08:33:18,173 [INFO]  Epoch[14] Validation-Age-accuracy=0.000000\n",
            "INFO:root:Epoch[15] Batch [0-20]\tSpeed: 10174.95 samples/sec\tcross-entropy=13.871362\tAge-accuracy=0.000000\n",
            "2023-02-12 08:33:18,209 [INFO]  Epoch[15] Batch [0-20]\tSpeed: 10174.95 samples/sec\tcross-entropy=13.871362\tAge-accuracy=0.000000\n",
            "INFO:root:Epoch[15] Train-cross-entropy=12.636590\n",
            "2023-02-12 08:33:18,250 [INFO]  Epoch[15] Train-cross-entropy=12.636590\n",
            "INFO:root:Epoch[15] Train-Age-accuracy=0.000000\n",
            "2023-02-12 08:33:18,254 [INFO]  Epoch[15] Train-Age-accuracy=0.000000\n",
            "INFO:root:Epoch[15] Time cost=0.083\n",
            "2023-02-12 08:33:18,259 [INFO]  Epoch[15] Time cost=0.083\n",
            "INFO:root:Saved checkpoint to \"imputer_model/model-0015.params\"\n",
            "2023-02-12 08:33:18,267 [INFO]  Saved checkpoint to \"imputer_model/model-0015.params\"\n",
            "INFO:root:Epoch[15] Validation-cross-entropy=14.318670\n",
            "2023-02-12 08:33:18,273 [INFO]  Epoch[15] Validation-cross-entropy=14.318670\n",
            "INFO:root:Epoch[15] Validation-Age-accuracy=0.000000\n",
            "2023-02-12 08:33:18,276 [INFO]  Epoch[15] Validation-Age-accuracy=0.000000\n",
            "INFO:root:Epoch[16] Batch [0-20]\tSpeed: 9231.88 samples/sec\tcross-entropy=13.831628\tAge-accuracy=0.000000\n",
            "2023-02-12 08:33:18,316 [INFO]  Epoch[16] Batch [0-20]\tSpeed: 9231.88 samples/sec\tcross-entropy=13.831628\tAge-accuracy=0.000000\n",
            "INFO:root:Epoch[16] Train-cross-entropy=12.589101\n",
            "2023-02-12 08:33:18,346 [INFO]  Epoch[16] Train-cross-entropy=12.589101\n",
            "INFO:root:Epoch[16] Train-Age-accuracy=0.000000\n",
            "2023-02-12 08:33:18,350 [INFO]  Epoch[16] Train-Age-accuracy=0.000000\n",
            "INFO:root:Epoch[16] Time cost=0.076\n",
            "2023-02-12 08:33:18,355 [INFO]  Epoch[16] Time cost=0.076\n",
            "INFO:root:Saved checkpoint to \"imputer_model/model-0016.params\"\n",
            "2023-02-12 08:33:18,363 [INFO]  Saved checkpoint to \"imputer_model/model-0016.params\"\n",
            "INFO:root:Epoch[16] Validation-cross-entropy=14.275593\n",
            "2023-02-12 08:33:18,369 [INFO]  Epoch[16] Validation-cross-entropy=14.275593\n",
            "INFO:root:Epoch[16] Validation-Age-accuracy=0.000000\n",
            "2023-02-12 08:33:18,372 [INFO]  Epoch[16] Validation-Age-accuracy=0.000000\n",
            "INFO:root:Epoch[17] Batch [0-20]\tSpeed: 9383.95 samples/sec\tcross-entropy=13.786592\tAge-accuracy=0.000000\n",
            "2023-02-12 08:33:18,410 [INFO]  Epoch[17] Batch [0-20]\tSpeed: 9383.95 samples/sec\tcross-entropy=13.786592\tAge-accuracy=0.000000\n",
            "INFO:root:Epoch[17] Train-cross-entropy=12.531857\n",
            "2023-02-12 08:33:18,439 [INFO]  Epoch[17] Train-cross-entropy=12.531857\n",
            "INFO:root:Epoch[17] Train-Age-accuracy=0.000000\n",
            "2023-02-12 08:33:18,443 [INFO]  Epoch[17] Train-Age-accuracy=0.000000\n",
            "INFO:root:Epoch[17] Time cost=0.073\n",
            "2023-02-12 08:33:18,448 [INFO]  Epoch[17] Time cost=0.073\n",
            "INFO:root:Saved checkpoint to \"imputer_model/model-0017.params\"\n",
            "2023-02-12 08:33:18,455 [INFO]  Saved checkpoint to \"imputer_model/model-0017.params\"\n",
            "INFO:root:Epoch[17] Validation-cross-entropy=14.248944\n",
            "2023-02-12 08:33:18,462 [INFO]  Epoch[17] Validation-cross-entropy=14.248944\n",
            "INFO:root:Epoch[17] Validation-Age-accuracy=0.000000\n",
            "2023-02-12 08:33:18,465 [INFO]  Epoch[17] Validation-Age-accuracy=0.000000\n",
            "INFO:root:Epoch[18] Batch [0-20]\tSpeed: 9156.37 samples/sec\tcross-entropy=13.743821\tAge-accuracy=0.000000\n",
            "2023-02-12 08:33:18,504 [INFO]  Epoch[18] Batch [0-20]\tSpeed: 9156.37 samples/sec\tcross-entropy=13.743821\tAge-accuracy=0.000000\n",
            "INFO:root:Epoch[18] Train-cross-entropy=12.469756\n",
            "2023-02-12 08:33:18,537 [INFO]  Epoch[18] Train-cross-entropy=12.469756\n",
            "INFO:root:Epoch[18] Train-Age-accuracy=0.000000\n",
            "2023-02-12 08:33:18,541 [INFO]  Epoch[18] Train-Age-accuracy=0.000000\n",
            "INFO:root:Epoch[18] Time cost=0.078\n",
            "2023-02-12 08:33:18,545 [INFO]  Epoch[18] Time cost=0.078\n",
            "INFO:root:Saved checkpoint to \"imputer_model/model-0018.params\"\n",
            "2023-02-12 08:33:18,557 [INFO]  Saved checkpoint to \"imputer_model/model-0018.params\"\n",
            "INFO:root:Epoch[18] Validation-cross-entropy=14.216610\n",
            "2023-02-12 08:33:18,566 [INFO]  Epoch[18] Validation-cross-entropy=14.216610\n",
            "INFO:root:Epoch[18] Validation-Age-accuracy=0.000000\n",
            "2023-02-12 08:33:18,569 [INFO]  Epoch[18] Validation-Age-accuracy=0.000000\n",
            "INFO:root:Epoch[19] Batch [0-20]\tSpeed: 9299.82 samples/sec\tcross-entropy=13.704177\tAge-accuracy=0.000000\n",
            "2023-02-12 08:33:18,608 [INFO]  Epoch[19] Batch [0-20]\tSpeed: 9299.82 samples/sec\tcross-entropy=13.704177\tAge-accuracy=0.000000\n",
            "INFO:root:Epoch[19] Train-cross-entropy=12.428620\n",
            "2023-02-12 08:33:18,638 [INFO]  Epoch[19] Train-cross-entropy=12.428620\n",
            "INFO:root:Epoch[19] Train-Age-accuracy=0.000000\n",
            "2023-02-12 08:33:18,647 [INFO]  Epoch[19] Train-Age-accuracy=0.000000\n",
            "INFO:root:Epoch[19] Time cost=0.080\n",
            "2023-02-12 08:33:18,651 [INFO]  Epoch[19] Time cost=0.080\n",
            "INFO:root:Saved checkpoint to \"imputer_model/model-0019.params\"\n",
            "2023-02-12 08:33:18,660 [INFO]  Saved checkpoint to \"imputer_model/model-0019.params\"\n",
            "INFO:root:Epoch[19] Validation-cross-entropy=14.207506\n",
            "2023-02-12 08:33:18,668 [INFO]  Epoch[19] Validation-cross-entropy=14.207506\n",
            "INFO:root:Epoch[19] Validation-Age-accuracy=0.000000\n",
            "2023-02-12 08:33:18,670 [INFO]  Epoch[19] Validation-Age-accuracy=0.000000\n",
            "INFO:root:Epoch[20] Batch [0-20]\tSpeed: 8037.86 samples/sec\tcross-entropy=13.664508\tAge-accuracy=0.000000\n",
            "2023-02-12 08:33:18,714 [INFO]  Epoch[20] Batch [0-20]\tSpeed: 8037.86 samples/sec\tcross-entropy=13.664508\tAge-accuracy=0.000000\n",
            "INFO:root:Epoch[20] Train-cross-entropy=12.376576\n",
            "2023-02-12 08:33:18,745 [INFO]  Epoch[20] Train-cross-entropy=12.376576\n",
            "INFO:root:Epoch[20] Train-Age-accuracy=0.000000\n",
            "2023-02-12 08:33:18,754 [INFO]  Epoch[20] Train-Age-accuracy=0.000000\n",
            "INFO:root:Epoch[20] Time cost=0.090\n",
            "2023-02-12 08:33:18,762 [INFO]  Epoch[20] Time cost=0.090\n",
            "INFO:root:Saved checkpoint to \"imputer_model/model-0020.params\"\n",
            "2023-02-12 08:33:18,772 [INFO]  Saved checkpoint to \"imputer_model/model-0020.params\"\n",
            "INFO:root:Epoch[20] Validation-cross-entropy=14.186199\n",
            "2023-02-12 08:33:18,781 [INFO]  Epoch[20] Validation-cross-entropy=14.186199\n",
            "INFO:root:Epoch[20] Validation-Age-accuracy=0.000000\n",
            "2023-02-12 08:33:18,784 [INFO]  Epoch[20] Validation-Age-accuracy=0.000000\n",
            "INFO:root:Epoch[21] Batch [0-20]\tSpeed: 9028.81 samples/sec\tcross-entropy=13.625583\tAge-accuracy=0.000000\n",
            "2023-02-12 08:33:18,824 [INFO]  Epoch[21] Batch [0-20]\tSpeed: 9028.81 samples/sec\tcross-entropy=13.625583\tAge-accuracy=0.000000\n",
            "INFO:root:Epoch[21] Train-cross-entropy=12.332252\n",
            "2023-02-12 08:33:18,856 [INFO]  Epoch[21] Train-cross-entropy=12.332252\n",
            "INFO:root:Epoch[21] Train-Age-accuracy=0.000000\n",
            "2023-02-12 08:33:18,862 [INFO]  Epoch[21] Train-Age-accuracy=0.000000\n",
            "INFO:root:Epoch[21] Time cost=0.081\n",
            "2023-02-12 08:33:18,867 [INFO]  Epoch[21] Time cost=0.081\n",
            "INFO:root:Saved checkpoint to \"imputer_model/model-0021.params\"\n",
            "2023-02-12 08:33:18,874 [INFO]  Saved checkpoint to \"imputer_model/model-0021.params\"\n",
            "INFO:root:Epoch[21] Validation-cross-entropy=14.183714\n",
            "2023-02-12 08:33:18,886 [INFO]  Epoch[21] Validation-cross-entropy=14.183714\n",
            "INFO:root:Epoch[21] Validation-Age-accuracy=0.000000\n",
            "2023-02-12 08:33:18,889 [INFO]  Epoch[21] Validation-Age-accuracy=0.000000\n",
            "INFO:root:Epoch[22] Batch [0-20]\tSpeed: 9201.82 samples/sec\tcross-entropy=13.593869\tAge-accuracy=0.000000\n",
            "2023-02-12 08:33:18,929 [INFO]  Epoch[22] Batch [0-20]\tSpeed: 9201.82 samples/sec\tcross-entropy=13.593869\tAge-accuracy=0.000000\n",
            "INFO:root:Epoch[22] Train-cross-entropy=12.287239\n",
            "2023-02-12 08:33:18,960 [INFO]  Epoch[22] Train-cross-entropy=12.287239\n",
            "INFO:root:Epoch[22] Train-Age-accuracy=0.000000\n",
            "2023-02-12 08:33:18,970 [INFO]  Epoch[22] Train-Age-accuracy=0.000000\n",
            "INFO:root:Epoch[22] Time cost=0.083\n",
            "2023-02-12 08:33:18,975 [INFO]  Epoch[22] Time cost=0.083\n",
            "INFO:root:Saved checkpoint to \"imputer_model/model-0022.params\"\n",
            "2023-02-12 08:33:18,981 [INFO]  Saved checkpoint to \"imputer_model/model-0022.params\"\n",
            "INFO:root:Epoch[22] Validation-cross-entropy=14.178998\n",
            "2023-02-12 08:33:18,990 [INFO]  Epoch[22] Validation-cross-entropy=14.178998\n",
            "INFO:root:Epoch[22] Validation-Age-accuracy=0.000000\n",
            "2023-02-12 08:33:18,993 [INFO]  Epoch[22] Validation-Age-accuracy=0.000000\n",
            "INFO:root:Epoch[23] Batch [0-20]\tSpeed: 9280.33 samples/sec\tcross-entropy=13.553133\tAge-accuracy=0.000000\n",
            "2023-02-12 08:33:19,032 [INFO]  Epoch[23] Batch [0-20]\tSpeed: 9280.33 samples/sec\tcross-entropy=13.553133\tAge-accuracy=0.000000\n",
            "INFO:root:Epoch[23] Train-cross-entropy=12.243665\n",
            "2023-02-12 08:33:19,064 [INFO]  Epoch[23] Train-cross-entropy=12.243665\n",
            "INFO:root:Epoch[23] Train-Age-accuracy=0.000000\n",
            "2023-02-12 08:33:19,072 [INFO]  Epoch[23] Train-Age-accuracy=0.000000\n",
            "INFO:root:Epoch[23] Time cost=0.085\n",
            "2023-02-12 08:33:19,080 [INFO]  Epoch[23] Time cost=0.085\n",
            "INFO:root:Saved checkpoint to \"imputer_model/model-0023.params\"\n",
            "2023-02-12 08:33:19,089 [INFO]  Saved checkpoint to \"imputer_model/model-0023.params\"\n",
            "INFO:root:Epoch[23] Validation-cross-entropy=14.193717\n",
            "2023-02-12 08:33:19,103 [INFO]  Epoch[23] Validation-cross-entropy=14.193717\n",
            "INFO:root:Epoch[23] Validation-Age-accuracy=0.000000\n",
            "2023-02-12 08:33:19,108 [INFO]  Epoch[23] Validation-Age-accuracy=0.000000\n",
            "INFO:root:Epoch[24] Batch [0-20]\tSpeed: 6760.34 samples/sec\tcross-entropy=13.515867\tAge-accuracy=0.000000\n",
            "2023-02-12 08:33:19,162 [INFO]  Epoch[24] Batch [0-20]\tSpeed: 6760.34 samples/sec\tcross-entropy=13.515867\tAge-accuracy=0.000000\n",
            "INFO:root:Epoch[24] Train-cross-entropy=12.203618\n",
            "2023-02-12 08:33:19,205 [INFO]  Epoch[24] Train-cross-entropy=12.203618\n",
            "INFO:root:Epoch[24] Train-Age-accuracy=0.000000\n",
            "2023-02-12 08:33:19,213 [INFO]  Epoch[24] Train-Age-accuracy=0.000000\n",
            "INFO:root:Epoch[24] Time cost=0.109\n",
            "2023-02-12 08:33:19,220 [INFO]  Epoch[24] Time cost=0.109\n",
            "INFO:root:Saved checkpoint to \"imputer_model/model-0024.params\"\n",
            "2023-02-12 08:33:19,225 [INFO]  Saved checkpoint to \"imputer_model/model-0024.params\"\n",
            "INFO:root:Epoch[24] Validation-cross-entropy=14.199499\n",
            "2023-02-12 08:33:19,240 [INFO]  Epoch[24] Validation-cross-entropy=14.199499\n",
            "INFO:root:Epoch[24] Validation-Age-accuracy=0.000000\n",
            "2023-02-12 08:33:19,242 [INFO]  Epoch[24] Validation-Age-accuracy=0.000000\n",
            "INFO:root:Epoch[25] Batch [0-20]\tSpeed: 7901.95 samples/sec\tcross-entropy=13.489689\tAge-accuracy=0.000000\n",
            "2023-02-12 08:33:19,290 [INFO]  Epoch[25] Batch [0-20]\tSpeed: 7901.95 samples/sec\tcross-entropy=13.489689\tAge-accuracy=0.000000\n",
            "INFO:root:Epoch[25] Train-cross-entropy=12.169899\n",
            "2023-02-12 08:33:19,333 [INFO]  Epoch[25] Train-cross-entropy=12.169899\n",
            "INFO:root:Epoch[25] Train-Age-accuracy=0.000000\n",
            "2023-02-12 08:33:19,340 [INFO]  Epoch[25] Train-Age-accuracy=0.000000\n",
            "INFO:root:Epoch[25] Time cost=0.097\n",
            "2023-02-12 08:33:19,344 [INFO]  Epoch[25] Time cost=0.097\n",
            "INFO:root:Saved checkpoint to \"imputer_model/model-0025.params\"\n",
            "2023-02-12 08:33:19,362 [INFO]  Saved checkpoint to \"imputer_model/model-0025.params\"\n",
            "INFO:root:Epoch[25] Validation-cross-entropy=14.194839\n",
            "2023-02-12 08:33:19,371 [INFO]  Epoch[25] Validation-cross-entropy=14.194839\n",
            "INFO:root:Epoch[25] Validation-Age-accuracy=0.000000\n",
            "2023-02-12 08:33:19,379 [INFO]  Epoch[25] Validation-Age-accuracy=0.000000\n",
            "INFO:root:Epoch[26] Batch [0-20]\tSpeed: 4742.79 samples/sec\tcross-entropy=13.436994\tAge-accuracy=0.000000\n",
            "2023-02-12 08:33:19,456 [INFO]  Epoch[26] Batch [0-20]\tSpeed: 4742.79 samples/sec\tcross-entropy=13.436994\tAge-accuracy=0.000000\n",
            "INFO:root:Epoch[26] Train-cross-entropy=12.121248\n",
            "2023-02-12 08:33:19,505 [INFO]  Epoch[26] Train-cross-entropy=12.121248\n",
            "INFO:root:Epoch[26] Train-Age-accuracy=0.000000\n",
            "2023-02-12 08:33:19,510 [INFO]  Epoch[26] Train-Age-accuracy=0.000000\n",
            "INFO:root:Epoch[26] Time cost=0.132\n",
            "2023-02-12 08:33:19,514 [INFO]  Epoch[26] Time cost=0.132\n",
            "INFO:root:Saved checkpoint to \"imputer_model/model-0026.params\"\n",
            "2023-02-12 08:33:19,522 [INFO]  Saved checkpoint to \"imputer_model/model-0026.params\"\n",
            "INFO:root:No improvement detected for 5 epochs compared to 14.183714389801025 last error obtained: 14.210990190505981, stopping here\n",
            "2023-02-12 08:33:19,529 [INFO]  No improvement detected for 5 epochs compared to 14.183714389801025 last error obtained: 14.210990190505981, stopping here\n",
            "INFO:root:\n",
            "========== done (3.154184579849243 s) fit model\n",
            "2023-02-12 08:33:19,532 [INFO]  \n",
            "========== done (3.154184579849243 s) fit model\n"
          ]
        }
      ]
    },
    {
      "cell_type": "code",
      "source": [
        "fun_count_null(imputed)"
      ],
      "metadata": {
        "colab": {
          "base_uri": "https://localhost:8080/"
        },
        "id": "JLbmJ1nC0YxI",
        "outputId": "31d79f6a-bd52-452c-82e0-da13d7ecb2da"
      },
      "execution_count": 33,
      "outputs": [
        {
          "output_type": "stream",
          "name": "stdout",
          "text": [
            "PassengerId      0\n",
            "Survived         0\n",
            "Pclass           0\n",
            "Name             0\n",
            "Sex              0\n",
            "Age             31\n",
            "SibSp            0\n",
            "Parch            0\n",
            "Ticket           0\n",
            "Fare             0\n",
            "Cabin          140\n",
            "Embarked         0\n",
            "Age_imputed      0\n",
            "dtype: int64\n"
          ]
        }
      ]
    },
    {
      "cell_type": "code",
      "source": [
        "X_d = imputed[['Pclass', 'Age_imputed','SibSp','Parch',  'Fare']]  \n",
        "y_d = imputed['Survived']\n",
        "\n",
        "X_train_dl= X_d[:imputed.shape[0]-100]\n",
        "y_train_dl= y_d[:imputed.shape[0]-100]\n",
        "\n",
        "X_test_dl = X_d[100:]\n",
        "y_test_dl= y_d[100:]\n"
      ],
      "metadata": {
        "id": "dAxoGA5q0Yyt"
      },
      "execution_count": 34,
      "outputs": []
    },
    {
      "cell_type": "code",
      "source": [],
      "metadata": {
        "id": "IxjaMSE90Y2N"
      },
      "execution_count": 34,
      "outputs": []
    },
    {
      "cell_type": "code",
      "source": [],
      "metadata": {
        "id": "6QwHKht70Y31"
      },
      "execution_count": 34,
      "outputs": []
    },
    {
      "cell_type": "code",
      "source": [],
      "metadata": {
        "id": "sLorEU26sm95"
      },
      "execution_count": 34,
      "outputs": []
    },
    {
      "cell_type": "code",
      "source": [
        "from sklearn.ensemble import RandomForestRegressor\n",
        "from sklearn.metrics import mean_absolute_error\n",
        "\n",
        "# Drop Null Col-'Age'\n",
        "clf_n = RandomForestRegressor(random_state=0)\n",
        "clf_n.fit(X_train_d, y_train_d)\n",
        "pred_dropna = clf_n.predict(X_test_d)\n",
        "\n",
        "# Drop Null rows\n",
        "clf_n = RandomForestRegressor(random_state=0)\n",
        "clf_n.fit(X_train_d2, y_train_d2)\n",
        "pred_dropna2 = clf_n.predict(X_test_d2)\n",
        "\n",
        "# Replace with fixed value\n",
        "clf_n = RandomForestRegressor(random_state=0)\n",
        "clf_n.fit(X_train_replace, y_train_replace)\n",
        "pred_replace = clf_n.predict(X_test_replace)\n",
        "\n",
        "# Mean Imputation Model\n",
        "clf_m = RandomForestRegressor(random_state=0)\n",
        "clf_m.fit(X_train_mean, y_train_mean)\n",
        "pred_mean = clf_m.predict(X_test_mean)\n",
        "\n",
        "\n",
        "# LOCF Imputation Model\n",
        "clf_m = RandomForestRegressor(random_state=0)\n",
        "clf_m.fit(X_train_locf, y_train_locf)\n",
        "pred_locf = clf_m.predict(X_test_locf)\n",
        "\n",
        "\n",
        "# interpolation Imputation Model\n",
        "clf_m = RandomForestRegressor(random_state=0)\n",
        "clf_m.fit(X_train_interpolate, y_train_interpolate)\n",
        "pred_interpolate = clf_m.predict(X_test_interpolate)\n",
        "\n",
        "\n",
        "# Regression Imputation\n",
        "clf_r = RandomForestRegressor(random_state=0)\n",
        "clf_r.fit(X_train_lr, y_train_lr)\n",
        "pred_lr = clf_r.predict(X_test_lr)\n",
        "\n",
        "#Nearest Neighbor Imputation\n",
        "clf_n = RandomForestRegressor(random_state=0)\n",
        "clf_n.fit(X_train_k, y_train_k)\n",
        "pred_k = clf_n.predict(X_test_k)\n",
        "\n",
        "#Deep Learning - Datawig Imputation\n",
        "clf_n = RandomForestRegressor(random_state=0)\n",
        "clf_n.fit(X_train_dl, y_train_dl)\n",
        "pred_dl = clf_n.predict(X_test_dl)\n",
        "\n",
        "\n",
        "print('Drop Entire Null Col MAE Score: %.3f' % mean_absolute_error(y_test_d,pred_dropna))\n",
        "print('Drop Null rows MAE Score: %.3f' % mean_absolute_error(y_test_d2,pred_dropna2))\n",
        "print('Replace with Fixed value MAE Score: %.3f' % mean_absolute_error(y_test_replace,pred_replace))\n",
        "print('Mean Impute MAE Score: %.3f' % mean_absolute_error(y_test_mean,pred_mean))\n",
        "print('LOCF Impute MAE Score: %.3f' % mean_absolute_error(y_test_locf,pred_locf))\n",
        "print('interpolation Impute MAE Score: %.3f' % mean_absolute_error(y_test_interpolate,pred_interpolate))\n",
        "print('Regression MAE Score: %.3f '% mean_absolute_error(y_test_lr,pred_lr))\n",
        "print('Nearest Neighbor MAE Score: %.3f'% mean_absolute_error(y_test_k,pred_k))\n",
        "print('Deep Learning - Datawig MAE Score: %.3f'% mean_absolute_error(y_test_dl,pred_dl))"
      ],
      "metadata": {
        "colab": {
          "base_uri": "https://localhost:8080/",
          "height": 519
        },
        "id": "udyPtOBmgRtq",
        "outputId": "baa17acf-5321-47fc-bc1d-63c974480ba4"
      },
      "execution_count": 35,
      "outputs": [
        {
          "output_type": "error",
          "ename": "ImportError",
          "evalue": "ignored",
          "traceback": [
            "\u001b[0;31m---------------------------------------------------------------------------\u001b[0m",
            "\u001b[0;31mImportError\u001b[0m                               Traceback (most recent call last)",
            "\u001b[0;32m<ipython-input-35-682442ebd2cc>\u001b[0m in \u001b[0;36m<module>\u001b[0;34m\u001b[0m\n\u001b[0;32m----> 1\u001b[0;31m \u001b[0;32mfrom\u001b[0m \u001b[0msklearn\u001b[0m\u001b[0;34m.\u001b[0m\u001b[0mensemble\u001b[0m \u001b[0;32mimport\u001b[0m \u001b[0mRandomForestRegressor\u001b[0m\u001b[0;34m\u001b[0m\u001b[0;34m\u001b[0m\u001b[0m\n\u001b[0m\u001b[1;32m      2\u001b[0m \u001b[0;32mfrom\u001b[0m \u001b[0msklearn\u001b[0m\u001b[0;34m.\u001b[0m\u001b[0mmetrics\u001b[0m \u001b[0;32mimport\u001b[0m \u001b[0mmean_absolute_error\u001b[0m\u001b[0;34m\u001b[0m\u001b[0;34m\u001b[0m\u001b[0m\n\u001b[1;32m      3\u001b[0m \u001b[0;34m\u001b[0m\u001b[0m\n\u001b[1;32m      4\u001b[0m \u001b[0;31m# Drop Null Col-'Age'\u001b[0m\u001b[0;34m\u001b[0m\u001b[0;34m\u001b[0m\u001b[0;34m\u001b[0m\u001b[0m\n\u001b[1;32m      5\u001b[0m \u001b[0mclf_n\u001b[0m \u001b[0;34m=\u001b[0m \u001b[0mRandomForestRegressor\u001b[0m\u001b[0;34m(\u001b[0m\u001b[0mrandom_state\u001b[0m\u001b[0;34m=\u001b[0m\u001b[0;36m0\u001b[0m\u001b[0;34m)\u001b[0m\u001b[0;34m\u001b[0m\u001b[0;34m\u001b[0m\u001b[0m\n",
            "\u001b[0;32m/usr/local/lib/python3.8/dist-packages/sklearn/ensemble/__init__.py\u001b[0m in \u001b[0;36m<module>\u001b[0;34m\u001b[0m\n\u001b[1;32m     15\u001b[0m \u001b[0;32mfrom\u001b[0m \u001b[0;34m.\u001b[0m\u001b[0m_weight_boosting\u001b[0m \u001b[0;32mimport\u001b[0m \u001b[0mAdaBoostClassifier\u001b[0m\u001b[0;34m\u001b[0m\u001b[0;34m\u001b[0m\u001b[0m\n\u001b[1;32m     16\u001b[0m \u001b[0;32mfrom\u001b[0m \u001b[0;34m.\u001b[0m\u001b[0m_weight_boosting\u001b[0m \u001b[0;32mimport\u001b[0m \u001b[0mAdaBoostRegressor\u001b[0m\u001b[0;34m\u001b[0m\u001b[0;34m\u001b[0m\u001b[0m\n\u001b[0;32m---> 17\u001b[0;31m \u001b[0;32mfrom\u001b[0m \u001b[0;34m.\u001b[0m\u001b[0m_gb\u001b[0m \u001b[0;32mimport\u001b[0m \u001b[0mGradientBoostingClassifier\u001b[0m\u001b[0;34m\u001b[0m\u001b[0;34m\u001b[0m\u001b[0m\n\u001b[0m\u001b[1;32m     18\u001b[0m \u001b[0;32mfrom\u001b[0m \u001b[0;34m.\u001b[0m\u001b[0m_gb\u001b[0m \u001b[0;32mimport\u001b[0m \u001b[0mGradientBoostingRegressor\u001b[0m\u001b[0;34m\u001b[0m\u001b[0;34m\u001b[0m\u001b[0m\n\u001b[1;32m     19\u001b[0m \u001b[0;32mfrom\u001b[0m \u001b[0;34m.\u001b[0m\u001b[0m_voting\u001b[0m \u001b[0;32mimport\u001b[0m \u001b[0mVotingClassifier\u001b[0m\u001b[0;34m\u001b[0m\u001b[0;34m\u001b[0m\u001b[0m\n",
            "\u001b[0;32m/usr/local/lib/python3.8/dist-packages/sklearn/ensemble/_gb.py\u001b[0m in \u001b[0;36m<module>\u001b[0;34m\u001b[0m\n\u001b[1;32m     48\u001b[0m \u001b[0;32mfrom\u001b[0m \u001b[0;34m.\u001b[0m\u001b[0;34m.\u001b[0m\u001b[0mtree\u001b[0m\u001b[0;34m.\u001b[0m\u001b[0m_tree\u001b[0m \u001b[0;32mimport\u001b[0m \u001b[0mDTYPE\u001b[0m\u001b[0;34m,\u001b[0m \u001b[0mDOUBLE\u001b[0m\u001b[0;34m\u001b[0m\u001b[0;34m\u001b[0m\u001b[0m\n\u001b[1;32m     49\u001b[0m \u001b[0;32mfrom\u001b[0m \u001b[0;34m.\u001b[0m\u001b[0;34m.\u001b[0m\u001b[0mtree\u001b[0m\u001b[0;34m.\u001b[0m\u001b[0m_tree\u001b[0m \u001b[0;32mimport\u001b[0m \u001b[0mTREE_LEAF\u001b[0m\u001b[0;34m\u001b[0m\u001b[0;34m\u001b[0m\u001b[0m\n\u001b[0;32m---> 50\u001b[0;31m \u001b[0;32mfrom\u001b[0m \u001b[0;34m.\u001b[0m \u001b[0;32mimport\u001b[0m \u001b[0m_gb_losses\u001b[0m\u001b[0;34m\u001b[0m\u001b[0;34m\u001b[0m\u001b[0m\n\u001b[0m\u001b[1;32m     51\u001b[0m \u001b[0;34m\u001b[0m\u001b[0m\n\u001b[1;32m     52\u001b[0m \u001b[0;32mfrom\u001b[0m \u001b[0;34m.\u001b[0m\u001b[0;34m.\u001b[0m\u001b[0mutils\u001b[0m \u001b[0;32mimport\u001b[0m \u001b[0mcheck_random_state\u001b[0m\u001b[0;34m\u001b[0m\u001b[0;34m\u001b[0m\u001b[0m\n",
            "\u001b[0;32m/usr/local/lib/python3.8/dist-packages/sklearn/ensemble/_gb_losses.py\u001b[0m in \u001b[0;36m<module>\u001b[0;34m\u001b[0m\n\u001b[1;32m     10\u001b[0m \u001b[0;34m\u001b[0m\u001b[0m\n\u001b[1;32m     11\u001b[0m \u001b[0;32mfrom\u001b[0m \u001b[0;34m.\u001b[0m\u001b[0;34m.\u001b[0m\u001b[0mtree\u001b[0m\u001b[0;34m.\u001b[0m\u001b[0m_tree\u001b[0m \u001b[0;32mimport\u001b[0m \u001b[0mTREE_LEAF\u001b[0m\u001b[0;34m\u001b[0m\u001b[0;34m\u001b[0m\u001b[0m\n\u001b[0;32m---> 12\u001b[0;31m \u001b[0;32mfrom\u001b[0m \u001b[0;34m.\u001b[0m\u001b[0;34m.\u001b[0m\u001b[0mutils\u001b[0m\u001b[0;34m.\u001b[0m\u001b[0mfixes\u001b[0m \u001b[0;32mimport\u001b[0m \u001b[0mlogsumexp\u001b[0m\u001b[0;34m\u001b[0m\u001b[0;34m\u001b[0m\u001b[0m\n\u001b[0m\u001b[1;32m     13\u001b[0m \u001b[0;32mfrom\u001b[0m \u001b[0;34m.\u001b[0m\u001b[0;34m.\u001b[0m\u001b[0mutils\u001b[0m\u001b[0;34m.\u001b[0m\u001b[0mstats\u001b[0m \u001b[0;32mimport\u001b[0m \u001b[0m_weighted_percentile\u001b[0m\u001b[0;34m\u001b[0m\u001b[0;34m\u001b[0m\u001b[0m\n\u001b[1;32m     14\u001b[0m \u001b[0;32mfrom\u001b[0m \u001b[0;34m.\u001b[0m\u001b[0;34m.\u001b[0m\u001b[0mdummy\u001b[0m \u001b[0;32mimport\u001b[0m \u001b[0mDummyClassifier\u001b[0m\u001b[0;34m\u001b[0m\u001b[0;34m\u001b[0m\u001b[0m\n",
            "\u001b[0;31mImportError\u001b[0m: cannot import name 'logsumexp' from 'sklearn.utils.fixes' (/usr/local/lib/python3.8/dist-packages/sklearn/utils/fixes.py)",
            "",
            "\u001b[0;31m---------------------------------------------------------------------------\u001b[0;32m\nNOTE: If your import is failing due to a missing package, you can\nmanually install dependencies using either !pip or !apt.\n\nTo view examples of installing some common dependencies, click the\n\"Open Examples\" button below.\n\u001b[0;31m---------------------------------------------------------------------------\u001b[0m\n"
          ],
          "errorDetails": {
            "actions": [
              {
                "action": "open_url",
                "actionText": "Open Examples",
                "url": "/notebooks/snippets/importing_libraries.ipynb"
              }
            ]
          }
        }
      ]
    },
    {
      "cell_type": "code",
      "source": [],
      "metadata": {
        "id": "Gn_OepW5FtY5"
      },
      "execution_count": null,
      "outputs": []
    },
    {
      "cell_type": "markdown",
      "source": [
        "**Resources**\n",
        "- https://towardsdatascience.com/imputation-of-missing-data-in-tables-with-datawig-2d7ab327ece2 \n",
        "\n",
        "- https://medium.com/geekculture/quick-primer-on-types-of-missing-data-and-imputation-techniques-cf253ce88755\n",
        "\n",
        "- https://towardsdatascience.com/how-to-find-the-best-theoretical-distribution-for-your-data-a26e5673b4bd\n",
        "\n",
        "- https://medium.com/@shouke.wei/different-methods-to-impute-missing-values-of-dataset-using-python-pandas-e1ef81ecca83\n",
        "\n",
        "- https://towardsdatascience.com/6-tips-for-dealing-with-null-values-e16d1d1a1b33\n",
        "\n",
        "- https://analyticsindiamag.com/5-ways-handle-missing-values-machine-learning-datasets/ \n",
        "\n",
        "- https://www.analyticsvidhya.com/blog/2021/10/handling-missing-value/ \n",
        "\n",
        "- https://learn.365datascience.com/courses/learn-machine-learning-process-a-z/treating-outliers/"
      ],
      "metadata": {
        "id": "WFmcMP0ygUeh"
      }
    },
    {
      "cell_type": "code",
      "source": [],
      "metadata": {
        "id": "hWdyApDmgsho"
      },
      "execution_count": null,
      "outputs": []
    }
  ]
}