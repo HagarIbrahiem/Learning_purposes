{
  "nbformat": 4,
  "nbformat_minor": 0,
  "metadata": {
    "colab": {
      "provenance": [],
      "authorship_tag": "ABX9TyMmDMacsdw6EmRBxDHbC2DF",
      "include_colab_link": true
    },
    "kernelspec": {
      "name": "python3",
      "display_name": "Python 3"
    },
    "language_info": {
      "name": "python"
    }
  },
  "cells": [
    {
      "cell_type": "markdown",
      "metadata": {
        "id": "view-in-github",
        "colab_type": "text"
      },
      "source": [
        "<a href=\"https://colab.research.google.com/github/HagarIbrahiem/Learning_purposes/blob/main/EDA_Scaling.ipynb\" target=\"_parent\"><img src=\"https://colab.research.google.com/assets/colab-badge.svg\" alt=\"Open In Colab\"/></a>"
      ]
    },
    {
      "cell_type": "markdown",
      "source": [
        "At the dataset , there would be multiple features spanning varying degrees of magnitude, range, and units. This is a significant obstacle as a few machine learning algorithms are highly sensitive to these features, i.e., most algorithms work well only on a normal distribution. So how can we use these features when they vary so vastly in terms of what they’re presenting?In this notebook we will cover \n",
        "- scaling, \n",
        "- transformations, and \n",
        "- interactive features"
      ],
      "metadata": {
        "id": "WMwd1-QNfISG"
      }
    },
    {
      "cell_type": "markdown",
      "source": [
        "![image.png](data:image/png;base64,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)"
      ],
      "metadata": {
        "id": "TWsQvPlqvOoQ"
      }
    },
    {
      "cell_type": "markdown",
      "source": [
        "**Gradient Descent Based Algorithms**\n",
        "\n",
        "Machine learning algorithms like linear regression, logistic regression, neural network, PCA (principal component analysis), etc., that use gradient descent as an optimization technique require data to be scaled. \n",
        "\n",
        " The difference in the ranges of features will cause different step sizes for each feature. To ensure that the gradient descent moves smoothly towards the minima and that the steps for gradient descent are updated at the same rate for all the features, we scale the data before feeding it to the model."
      ],
      "metadata": {
        "id": "H1jq90vYvfNt"
      }
    },
    {
      "cell_type": "markdown",
      "source": [
        "**Distance-Based Algorithms**\n",
        "\n",
        "Distance algorithms like KNN, K-means clustering, and SVM(support vector machines) are most affected by the range of features. This is because, behind the scenes, they are using distances between data points to determine their similarity."
      ],
      "metadata": {
        "id": "EPZWVGSQvtlF"
      }
    },
    {
      "cell_type": "markdown",
      "source": [
        "**Tree-Based Algorithms**\n",
        "Tree-based algorithms, on the other hand, are fairly insensitive to the scale of the features. Think about it, a decision tree only splits a node based on a single feature. The decision tree splits a node on a feature that increases the homogeneity of the node. Other features do not influence this split on a feature.\n",
        "\n",
        "So, the remaining features have virtually no effect on the split. This is what makes them invariant to the scale of the features!"
      ],
      "metadata": {
        "id": "V05sG7J4wRqP"
      }
    },
    {
      "cell_type": "markdown",
      "source": [
        "##Is Feature Scaling actually helpful?"
      ],
      "metadata": {
        "id": "f79MEtRFIjh4"
      }
    },
    {
      "cell_type": "markdown",
      "source": [
        "Let’s look at an example of a College Admission dataset, in which your goal is to predict the chance of admission for each student based on the other features given.\n",
        "\n",
        "You can download the dataset from the link below.\n",
        "[link](https://www.kaggle.com/mohansacharya/graduate-admissions)"
      ],
      "metadata": {
        "id": "2Ie2QRaVIrVb"
      }
    },
    {
      "cell_type": "code",
      "execution_count": 4,
      "metadata": {
        "id": "jQQ64ed5ekxh"
      },
      "outputs": [],
      "source": [
        "import pandas as pd\n",
        "import numpy as np\n",
        "import matplotlib.pyplot as plt \n",
        "import os\n",
        "for dirname, _, filenames in os.walk('/kaggle/input'):\n",
        "    for filename in filenames:\n",
        "        print(os.path.join(dirname, filename))\n",
        "\n"
      ]
    },
    {
      "cell_type": "code",
      "source": [
        "import pandas as pd\n",
        "df = pd.read_csv(\"Admission_Predict.csv\")\n",
        "df.head()"
      ],
      "metadata": {
        "id": "dwBlqETKImgj"
      },
      "execution_count": 5,
      "outputs": []
    },
    {
      "cell_type": "markdown",
      "source": [
        "The dataset has a wide variety of features with different ranges. The first column Serial No. is not important, so I am going to be deleting it. Then I am splitting the dataset into training and test dataset."
      ],
      "metadata": {
        "id": "kTJbgpBBJf5L"
      }
    },
    {
      "cell_type": "code",
      "source": [
        "df.drop(\"Serial No.\",axis=1,inplace=True)\n",
        "y = df['Chance of Admit ']\n",
        "df.drop(\"Chance of Admit \",axis=1,inplace=True)"
      ],
      "metadata": {
        "id": "4Nv50CegJbln"
      },
      "execution_count": 101,
      "outputs": []
    },
    {
      "cell_type": "code",
      "source": [
        "from sklearn.model_selection import train_test_split\n",
        "x_train,x_test,y_train,y_test = train_test_split(df,y,test_size=0.2)"
      ],
      "metadata": {
        "id": "ukN-VEArJbrx"
      },
      "execution_count": 102,
      "outputs": []
    },
    {
      "cell_type": "code",
      "source": [
        "#  linear regression model, first without normalization\n",
        "from sklearn.linear_model import LinearRegression\n",
        "lr = LinearRegression()\n",
        "lr.fit(x_train,y_train)\n",
        "pred = lr.predict(x_test)\n",
        "\n",
        "from sklearn import metrics\n",
        "rmse = np.sqrt(metrics.mean_squared_error(y_test,pred))\n",
        "rmse"
      ],
      "metadata": {
        "colab": {
          "base_uri": "https://localhost:8080/"
        },
        "id": "E7h0vmTeJbtU",
        "outputId": "464358f2-a72e-4484-fa93-ccc0bbf1f3b2"
      },
      "execution_count": 103,
      "outputs": [
        {
          "output_type": "execute_result",
          "data": {
            "text/plain": [
              "0.06842533675005649"
            ]
          },
          "metadata": {},
          "execution_count": 103
        }
      ]
    },
    {
      "cell_type": "code",
      "source": [
        "#  linear regression model,  with normalization\n",
        "\n",
        "from sklearn.preprocessing import StandardScaler\n",
        "sc = StandardScaler()\n",
        "sc.fit(df)\n",
        "df = sc.transform(df)\n",
        "from sklearn.model_selection import train_test_split\n",
        "x_train,x_test,y_train,y_test = train_test_split(df,y,test_size=0.2)\n",
        "\n",
        "from sklearn.linear_model import LinearRegression\n",
        "lr = LinearRegression()\n",
        "lr.fit(x_train,y_train)\n",
        "pred = lr.predict(x_test)\n",
        "\n",
        "\n",
        "from sklearn import metrics\n",
        "rmse = np.sqrt(metrics.mean_squared_error(y_test,pred))\n",
        "rmse"
      ],
      "metadata": {
        "colab": {
          "base_uri": "https://localhost:8080/"
        },
        "id": "QLw2sKrmJbwW",
        "outputId": "691cb1cf-846f-4d67-caa4-a3b65d9d54fa"
      },
      "execution_count": 104,
      "outputs": [
        {
          "output_type": "execute_result",
          "data": {
            "text/plain": [
              "0.055469593925837286"
            ]
          },
          "metadata": {},
          "execution_count": 104
        }
      ]
    },
    {
      "cell_type": "markdown",
      "source": [
        "we are able to get a significant reduction in the error when we used the standardization technique."
      ],
      "metadata": {
        "id": "reNeWVU1KFvY"
      }
    },
    {
      "cell_type": "markdown",
      "source": [
        "##Features Scale Approaches\n",
        "\n",
        "\n",
        "Feature scaling is important if  we are using **models with a distance metric**. If our features are of different scales, they can be overcompensated for in the models. \n",
        "- Absolute Max Scaling (Normalization)\n",
        "- MinMax Scaling\n",
        "- Z-Score Normalization (Standard Scaler)\n",
        "- Robust Scaler "
      ],
      "metadata": {
        "id": "NY8KrpJ4f9Ac"
      }
    },
    {
      "cell_type": "markdown",
      "source": [
        "**Load vehicles_sample Data**"
      ],
      "metadata": {
        "id": "jdiTW0-HKVCi"
      }
    },
    {
      "cell_type": "code",
      "source": [
        "\n",
        "        \n",
        "from google.colab import drive\n",
        "drive.mount('/content/drive')\n",
        "!ls drive/'My Drive'/ML_Process_Data_Files/Section_7_Feature_Engineering  \n",
        "df = pd.read_csv(\"drive/My Drive/ML_Process_Data_Files/Section_7_Feature_Engineering/vehicles_sample.csv\")\n",
        "\n"
      ],
      "metadata": {
        "colab": {
          "base_uri": "https://localhost:8080/"
        },
        "id": "3TCwnkL1f-1n",
        "outputId": "588b0e02-980b-42ac-c598-6b93ae074af1"
      },
      "execution_count": 6,
      "outputs": [
        {
          "output_type": "stream",
          "name": "stdout",
          "text": [
            "Drive already mounted at /content/drive; to attempt to forcibly remount, call drive.mount(\"/content/drive\", force_remount=True).\n",
            "AB_NYC_2019.csv  airbnb_dataset_ml_process.csv\tvehicles_sample.csv\n"
          ]
        }
      ]
    },
    {
      "cell_type": "code",
      "source": [
        "df.head(1)"
      ],
      "metadata": {
        "colab": {
          "base_uri": "https://localhost:8080/",
          "height": 244
        },
        "id": "ictiwGc1gRXT",
        "outputId": "800d24d8-3938-4f9b-86c9-a7648fd9f9aa"
      },
      "execution_count": 3,
      "outputs": [
        {
          "output_type": "execute_result",
          "data": {
            "text/plain": [
              "           id                                                url  \\\n",
              "0  7314973697  https://reno.craigslist.org/cto/d/hayward-2006...   \n",
              "\n",
              "         region                   region_url  price    year manufacturer  \\\n",
              "0  reno / tahoe  https://reno.craigslist.org  14500  2006.0    chevrolet   \n",
              "\n",
              "          model condition cylinders  ... size  type paint_color  \\\n",
              "0  c4500 kodiak      good       NaN  ...  NaN   NaN       white   \n",
              "\n",
              "                                           image_url  \\\n",
              "0  https://images.craigslist.org/00r0r_2PNOZAxrzS...   \n",
              "\n",
              "                                         description county state      lat  \\\n",
              "0  2006 Chevy c4500 Duramax Diesel  12ft stake be...    NaN    ca  37.6332   \n",
              "\n",
              "       long              posting_date  \n",
              "0 -122.0971  2021-04-30T12:36:10-0700  \n",
              "\n",
              "[1 rows x 26 columns]"
            ],
            "text/html": [
              "\n",
              "  <div id=\"df-ed93735b-9ed5-4412-9abe-62c816cf0b66\">\n",
              "    <div class=\"colab-df-container\">\n",
              "      <div>\n",
              "<style scoped>\n",
              "    .dataframe tbody tr th:only-of-type {\n",
              "        vertical-align: middle;\n",
              "    }\n",
              "\n",
              "    .dataframe tbody tr th {\n",
              "        vertical-align: top;\n",
              "    }\n",
              "\n",
              "    .dataframe thead th {\n",
              "        text-align: right;\n",
              "    }\n",
              "</style>\n",
              "<table border=\"1\" class=\"dataframe\">\n",
              "  <thead>\n",
              "    <tr style=\"text-align: right;\">\n",
              "      <th></th>\n",
              "      <th>id</th>\n",
              "      <th>url</th>\n",
              "      <th>region</th>\n",
              "      <th>region_url</th>\n",
              "      <th>price</th>\n",
              "      <th>year</th>\n",
              "      <th>manufacturer</th>\n",
              "      <th>model</th>\n",
              "      <th>condition</th>\n",
              "      <th>cylinders</th>\n",
              "      <th>...</th>\n",
              "      <th>size</th>\n",
              "      <th>type</th>\n",
              "      <th>paint_color</th>\n",
              "      <th>image_url</th>\n",
              "      <th>description</th>\n",
              "      <th>county</th>\n",
              "      <th>state</th>\n",
              "      <th>lat</th>\n",
              "      <th>long</th>\n",
              "      <th>posting_date</th>\n",
              "    </tr>\n",
              "  </thead>\n",
              "  <tbody>\n",
              "    <tr>\n",
              "      <th>0</th>\n",
              "      <td>7314973697</td>\n",
              "      <td>https://reno.craigslist.org/cto/d/hayward-2006...</td>\n",
              "      <td>reno / tahoe</td>\n",
              "      <td>https://reno.craigslist.org</td>\n",
              "      <td>14500</td>\n",
              "      <td>2006.0</td>\n",
              "      <td>chevrolet</td>\n",
              "      <td>c4500 kodiak</td>\n",
              "      <td>good</td>\n",
              "      <td>NaN</td>\n",
              "      <td>...</td>\n",
              "      <td>NaN</td>\n",
              "      <td>NaN</td>\n",
              "      <td>white</td>\n",
              "      <td>https://images.craigslist.org/00r0r_2PNOZAxrzS...</td>\n",
              "      <td>2006 Chevy c4500 Duramax Diesel  12ft stake be...</td>\n",
              "      <td>NaN</td>\n",
              "      <td>ca</td>\n",
              "      <td>37.6332</td>\n",
              "      <td>-122.0971</td>\n",
              "      <td>2021-04-30T12:36:10-0700</td>\n",
              "    </tr>\n",
              "  </tbody>\n",
              "</table>\n",
              "<p>1 rows × 26 columns</p>\n",
              "</div>\n",
              "      <button class=\"colab-df-convert\" onclick=\"convertToInteractive('df-ed93735b-9ed5-4412-9abe-62c816cf0b66')\"\n",
              "              title=\"Convert this dataframe to an interactive table.\"\n",
              "              style=\"display:none;\">\n",
              "        \n",
              "  <svg xmlns=\"http://www.w3.org/2000/svg\" height=\"24px\"viewBox=\"0 0 24 24\"\n",
              "       width=\"24px\">\n",
              "    <path d=\"M0 0h24v24H0V0z\" fill=\"none\"/>\n",
              "    <path d=\"M18.56 5.44l.94 2.06.94-2.06 2.06-.94-2.06-.94-.94-2.06-.94 2.06-2.06.94zm-11 1L8.5 8.5l.94-2.06 2.06-.94-2.06-.94L8.5 2.5l-.94 2.06-2.06.94zm10 10l.94 2.06.94-2.06 2.06-.94-2.06-.94-.94-2.06-.94 2.06-2.06.94z\"/><path d=\"M17.41 7.96l-1.37-1.37c-.4-.4-.92-.59-1.43-.59-.52 0-1.04.2-1.43.59L10.3 9.45l-7.72 7.72c-.78.78-.78 2.05 0 2.83L4 21.41c.39.39.9.59 1.41.59.51 0 1.02-.2 1.41-.59l7.78-7.78 2.81-2.81c.8-.78.8-2.07 0-2.86zM5.41 20L4 18.59l7.72-7.72 1.47 1.35L5.41 20z\"/>\n",
              "  </svg>\n",
              "      </button>\n",
              "      \n",
              "  <style>\n",
              "    .colab-df-container {\n",
              "      display:flex;\n",
              "      flex-wrap:wrap;\n",
              "      gap: 12px;\n",
              "    }\n",
              "\n",
              "    .colab-df-convert {\n",
              "      background-color: #E8F0FE;\n",
              "      border: none;\n",
              "      border-radius: 50%;\n",
              "      cursor: pointer;\n",
              "      display: none;\n",
              "      fill: #1967D2;\n",
              "      height: 32px;\n",
              "      padding: 0 0 0 0;\n",
              "      width: 32px;\n",
              "    }\n",
              "\n",
              "    .colab-df-convert:hover {\n",
              "      background-color: #E2EBFA;\n",
              "      box-shadow: 0px 1px 2px rgba(60, 64, 67, 0.3), 0px 1px 3px 1px rgba(60, 64, 67, 0.15);\n",
              "      fill: #174EA6;\n",
              "    }\n",
              "\n",
              "    [theme=dark] .colab-df-convert {\n",
              "      background-color: #3B4455;\n",
              "      fill: #D2E3FC;\n",
              "    }\n",
              "\n",
              "    [theme=dark] .colab-df-convert:hover {\n",
              "      background-color: #434B5C;\n",
              "      box-shadow: 0px 1px 3px 1px rgba(0, 0, 0, 0.15);\n",
              "      filter: drop-shadow(0px 1px 2px rgba(0, 0, 0, 0.3));\n",
              "      fill: #FFFFFF;\n",
              "    }\n",
              "  </style>\n",
              "\n",
              "      <script>\n",
              "        const buttonEl =\n",
              "          document.querySelector('#df-ed93735b-9ed5-4412-9abe-62c816cf0b66 button.colab-df-convert');\n",
              "        buttonEl.style.display =\n",
              "          google.colab.kernel.accessAllowed ? 'block' : 'none';\n",
              "\n",
              "        async function convertToInteractive(key) {\n",
              "          const element = document.querySelector('#df-ed93735b-9ed5-4412-9abe-62c816cf0b66');\n",
              "          const dataTable =\n",
              "            await google.colab.kernel.invokeFunction('convertToInteractive',\n",
              "                                                     [key], {});\n",
              "          if (!dataTable) return;\n",
              "\n",
              "          const docLinkHtml = 'Like what you see? Visit the ' +\n",
              "            '<a target=\"_blank\" href=https://colab.research.google.com/notebooks/data_table.ipynb>data table notebook</a>'\n",
              "            + ' to learn more about interactive tables.';\n",
              "          element.innerHTML = '';\n",
              "          dataTable['output_type'] = 'display_data';\n",
              "          await google.colab.output.renderOutput(dataTable, element);\n",
              "          const docLink = document.createElement('div');\n",
              "          docLink.innerHTML = docLinkHtml;\n",
              "          element.appendChild(docLink);\n",
              "        }\n",
              "      </script>\n",
              "    </div>\n",
              "  </div>\n",
              "  "
            ]
          },
          "metadata": {},
          "execution_count": 3
        }
      ]
    },
    {
      "cell_type": "code",
      "source": [
        "df.shape"
      ],
      "metadata": {
        "colab": {
          "base_uri": "https://localhost:8080/"
        },
        "id": "MgGk-1h1g56u",
        "outputId": "d4c80812-3367-459b-d38f-8158f7405757"
      },
      "execution_count": 4,
      "outputs": [
        {
          "output_type": "execute_result",
          "data": {
            "text/plain": [
              "(20000, 26)"
            ]
          },
          "metadata": {},
          "execution_count": 4
        }
      ]
    },
    {
      "cell_type": "code",
      "source": [
        "df.info()"
      ],
      "metadata": {
        "colab": {
          "base_uri": "https://localhost:8080/"
        },
        "id": "Utp1vWQYgkr_",
        "outputId": "d750c9cc-6e81-4b49-83c1-97237b95f972"
      },
      "execution_count": 5,
      "outputs": [
        {
          "output_type": "stream",
          "name": "stdout",
          "text": [
            "<class 'pandas.core.frame.DataFrame'>\n",
            "RangeIndex: 20000 entries, 0 to 19999\n",
            "Data columns (total 26 columns):\n",
            " #   Column        Non-Null Count  Dtype  \n",
            "---  ------        --------------  -----  \n",
            " 0   id            20000 non-null  int64  \n",
            " 1   url           20000 non-null  object \n",
            " 2   region        20000 non-null  object \n",
            " 3   region_url    20000 non-null  object \n",
            " 4   price         20000 non-null  int64  \n",
            " 5   year          19951 non-null  float64\n",
            " 6   manufacturer  19216 non-null  object \n",
            " 7   model         19754 non-null  object \n",
            " 8   condition     11921 non-null  object \n",
            " 9   cylinders     11634 non-null  object \n",
            " 10  fuel          19869 non-null  object \n",
            " 11  odometer      19814 non-null  float64\n",
            " 12  title_status  19667 non-null  object \n",
            " 13  transmission  19899 non-null  object \n",
            " 14  VIN           12485 non-null  object \n",
            " 15  drive         13903 non-null  object \n",
            " 16  size          5663 non-null   object \n",
            " 17  type          15685 non-null  object \n",
            " 18  paint_color   13881 non-null  object \n",
            " 19  image_url     19998 non-null  object \n",
            " 20  description   19998 non-null  object \n",
            " 21  county        0 non-null      float64\n",
            " 22  state         20000 non-null  object \n",
            " 23  lat           19702 non-null  float64\n",
            " 24  long          19702 non-null  float64\n",
            " 25  posting_date  19998 non-null  object \n",
            "dtypes: float64(5), int64(2), object(19)\n",
            "memory usage: 4.0+ MB\n"
          ]
        }
      ]
    },
    {
      "cell_type": "code",
      "source": [
        "df.describe()"
      ],
      "metadata": {
        "colab": {
          "base_uri": "https://localhost:8080/",
          "height": 300
        },
        "id": "Um3b1aPugoyO",
        "outputId": "9fce33de-17d3-4ba6-993e-a41635c52cfa"
      },
      "execution_count": 8,
      "outputs": [
        {
          "output_type": "execute_result",
          "data": {
            "text/plain": [
              "                 id         price          year      odometer  county  \\\n",
              "count  2.000000e+04  2.000000e+04  19951.000000  1.981400e+04     0.0   \n",
              "mean   7.311462e+09  1.761475e+04   2011.217282  9.865501e+04     NaN   \n",
              "std    4.484711e+06  1.998158e+04      9.575279  2.363314e+05     NaN   \n",
              "min    7.217189e+09  0.000000e+00   1900.000000  0.000000e+00     NaN   \n",
              "25%    7.308054e+09  5.950000e+03   2008.000000  3.747300e+04     NaN   \n",
              "50%    7.312474e+09  1.385000e+04   2014.000000  8.400000e+04     NaN   \n",
              "75%    7.315259e+09  2.659000e+04   2017.000000  1.323340e+05     NaN   \n",
              "max    7.317096e+09  1.234567e+06   2022.000000  1.000000e+07     NaN   \n",
              "\n",
              "                lat          long  \n",
              "count  19702.000000  19702.000000  \n",
              "mean      38.483050    -94.647057  \n",
              "std        5.889468     18.358730  \n",
              "min      -56.527029   -159.365530  \n",
              "25%       34.610000   -111.937599  \n",
              "50%       39.140834    -88.230050  \n",
              "75%       42.370000    -80.705055  \n",
              "max       64.878089     94.163200  "
            ],
            "text/html": [
              "\n",
              "  <div id=\"df-d55d85be-1658-4303-b5a4-5990942190a1\">\n",
              "    <div class=\"colab-df-container\">\n",
              "      <div>\n",
              "<style scoped>\n",
              "    .dataframe tbody tr th:only-of-type {\n",
              "        vertical-align: middle;\n",
              "    }\n",
              "\n",
              "    .dataframe tbody tr th {\n",
              "        vertical-align: top;\n",
              "    }\n",
              "\n",
              "    .dataframe thead th {\n",
              "        text-align: right;\n",
              "    }\n",
              "</style>\n",
              "<table border=\"1\" class=\"dataframe\">\n",
              "  <thead>\n",
              "    <tr style=\"text-align: right;\">\n",
              "      <th></th>\n",
              "      <th>id</th>\n",
              "      <th>price</th>\n",
              "      <th>year</th>\n",
              "      <th>odometer</th>\n",
              "      <th>county</th>\n",
              "      <th>lat</th>\n",
              "      <th>long</th>\n",
              "    </tr>\n",
              "  </thead>\n",
              "  <tbody>\n",
              "    <tr>\n",
              "      <th>count</th>\n",
              "      <td>2.000000e+04</td>\n",
              "      <td>2.000000e+04</td>\n",
              "      <td>19951.000000</td>\n",
              "      <td>1.981400e+04</td>\n",
              "      <td>0.0</td>\n",
              "      <td>19702.000000</td>\n",
              "      <td>19702.000000</td>\n",
              "    </tr>\n",
              "    <tr>\n",
              "      <th>mean</th>\n",
              "      <td>7.311462e+09</td>\n",
              "      <td>1.761475e+04</td>\n",
              "      <td>2011.217282</td>\n",
              "      <td>9.865501e+04</td>\n",
              "      <td>NaN</td>\n",
              "      <td>38.483050</td>\n",
              "      <td>-94.647057</td>\n",
              "    </tr>\n",
              "    <tr>\n",
              "      <th>std</th>\n",
              "      <td>4.484711e+06</td>\n",
              "      <td>1.998158e+04</td>\n",
              "      <td>9.575279</td>\n",
              "      <td>2.363314e+05</td>\n",
              "      <td>NaN</td>\n",
              "      <td>5.889468</td>\n",
              "      <td>18.358730</td>\n",
              "    </tr>\n",
              "    <tr>\n",
              "      <th>min</th>\n",
              "      <td>7.217189e+09</td>\n",
              "      <td>0.000000e+00</td>\n",
              "      <td>1900.000000</td>\n",
              "      <td>0.000000e+00</td>\n",
              "      <td>NaN</td>\n",
              "      <td>-56.527029</td>\n",
              "      <td>-159.365530</td>\n",
              "    </tr>\n",
              "    <tr>\n",
              "      <th>25%</th>\n",
              "      <td>7.308054e+09</td>\n",
              "      <td>5.950000e+03</td>\n",
              "      <td>2008.000000</td>\n",
              "      <td>3.747300e+04</td>\n",
              "      <td>NaN</td>\n",
              "      <td>34.610000</td>\n",
              "      <td>-111.937599</td>\n",
              "    </tr>\n",
              "    <tr>\n",
              "      <th>50%</th>\n",
              "      <td>7.312474e+09</td>\n",
              "      <td>1.385000e+04</td>\n",
              "      <td>2014.000000</td>\n",
              "      <td>8.400000e+04</td>\n",
              "      <td>NaN</td>\n",
              "      <td>39.140834</td>\n",
              "      <td>-88.230050</td>\n",
              "    </tr>\n",
              "    <tr>\n",
              "      <th>75%</th>\n",
              "      <td>7.315259e+09</td>\n",
              "      <td>2.659000e+04</td>\n",
              "      <td>2017.000000</td>\n",
              "      <td>1.323340e+05</td>\n",
              "      <td>NaN</td>\n",
              "      <td>42.370000</td>\n",
              "      <td>-80.705055</td>\n",
              "    </tr>\n",
              "    <tr>\n",
              "      <th>max</th>\n",
              "      <td>7.317096e+09</td>\n",
              "      <td>1.234567e+06</td>\n",
              "      <td>2022.000000</td>\n",
              "      <td>1.000000e+07</td>\n",
              "      <td>NaN</td>\n",
              "      <td>64.878089</td>\n",
              "      <td>94.163200</td>\n",
              "    </tr>\n",
              "  </tbody>\n",
              "</table>\n",
              "</div>\n",
              "      <button class=\"colab-df-convert\" onclick=\"convertToInteractive('df-d55d85be-1658-4303-b5a4-5990942190a1')\"\n",
              "              title=\"Convert this dataframe to an interactive table.\"\n",
              "              style=\"display:none;\">\n",
              "        \n",
              "  <svg xmlns=\"http://www.w3.org/2000/svg\" height=\"24px\"viewBox=\"0 0 24 24\"\n",
              "       width=\"24px\">\n",
              "    <path d=\"M0 0h24v24H0V0z\" fill=\"none\"/>\n",
              "    <path d=\"M18.56 5.44l.94 2.06.94-2.06 2.06-.94-2.06-.94-.94-2.06-.94 2.06-2.06.94zm-11 1L8.5 8.5l.94-2.06 2.06-.94-2.06-.94L8.5 2.5l-.94 2.06-2.06.94zm10 10l.94 2.06.94-2.06 2.06-.94-2.06-.94-.94-2.06-.94 2.06-2.06.94z\"/><path d=\"M17.41 7.96l-1.37-1.37c-.4-.4-.92-.59-1.43-.59-.52 0-1.04.2-1.43.59L10.3 9.45l-7.72 7.72c-.78.78-.78 2.05 0 2.83L4 21.41c.39.39.9.59 1.41.59.51 0 1.02-.2 1.41-.59l7.78-7.78 2.81-2.81c.8-.78.8-2.07 0-2.86zM5.41 20L4 18.59l7.72-7.72 1.47 1.35L5.41 20z\"/>\n",
              "  </svg>\n",
              "      </button>\n",
              "      \n",
              "  <style>\n",
              "    .colab-df-container {\n",
              "      display:flex;\n",
              "      flex-wrap:wrap;\n",
              "      gap: 12px;\n",
              "    }\n",
              "\n",
              "    .colab-df-convert {\n",
              "      background-color: #E8F0FE;\n",
              "      border: none;\n",
              "      border-radius: 50%;\n",
              "      cursor: pointer;\n",
              "      display: none;\n",
              "      fill: #1967D2;\n",
              "      height: 32px;\n",
              "      padding: 0 0 0 0;\n",
              "      width: 32px;\n",
              "    }\n",
              "\n",
              "    .colab-df-convert:hover {\n",
              "      background-color: #E2EBFA;\n",
              "      box-shadow: 0px 1px 2px rgba(60, 64, 67, 0.3), 0px 1px 3px 1px rgba(60, 64, 67, 0.15);\n",
              "      fill: #174EA6;\n",
              "    }\n",
              "\n",
              "    [theme=dark] .colab-df-convert {\n",
              "      background-color: #3B4455;\n",
              "      fill: #D2E3FC;\n",
              "    }\n",
              "\n",
              "    [theme=dark] .colab-df-convert:hover {\n",
              "      background-color: #434B5C;\n",
              "      box-shadow: 0px 1px 3px 1px rgba(0, 0, 0, 0.15);\n",
              "      filter: drop-shadow(0px 1px 2px rgba(0, 0, 0, 0.3));\n",
              "      fill: #FFFFFF;\n",
              "    }\n",
              "  </style>\n",
              "\n",
              "      <script>\n",
              "        const buttonEl =\n",
              "          document.querySelector('#df-d55d85be-1658-4303-b5a4-5990942190a1 button.colab-df-convert');\n",
              "        buttonEl.style.display =\n",
              "          google.colab.kernel.accessAllowed ? 'block' : 'none';\n",
              "\n",
              "        async function convertToInteractive(key) {\n",
              "          const element = document.querySelector('#df-d55d85be-1658-4303-b5a4-5990942190a1');\n",
              "          const dataTable =\n",
              "            await google.colab.kernel.invokeFunction('convertToInteractive',\n",
              "                                                     [key], {});\n",
              "          if (!dataTable) return;\n",
              "\n",
              "          const docLinkHtml = 'Like what you see? Visit the ' +\n",
              "            '<a target=\"_blank\" href=https://colab.research.google.com/notebooks/data_table.ipynb>data table notebook</a>'\n",
              "            + ' to learn more about interactive tables.';\n",
              "          element.innerHTML = '';\n",
              "          dataTable['output_type'] = 'display_data';\n",
              "          await google.colab.output.renderOutput(dataTable, element);\n",
              "          const docLink = document.createElement('div');\n",
              "          docLink.innerHTML = docLinkHtml;\n",
              "          element.appendChild(docLink);\n",
              "        }\n",
              "      </script>\n",
              "    </div>\n",
              "  </div>\n",
              "  "
            ]
          },
          "metadata": {},
          "execution_count": 8
        }
      ]
    },
    {
      "cell_type": "code",
      "source": [
        "##adding a new column (Car_age)\n",
        "df['car_age'] = df['year'].max() - df['year']   ##df['year'].max() is the year of collecting data"
      ],
      "metadata": {
        "id": "SoT2n5N5hPhq"
      },
      "execution_count": 9,
      "outputs": []
    },
    {
      "cell_type": "code",
      "source": [
        "df.columns"
      ],
      "metadata": {
        "colab": {
          "base_uri": "https://localhost:8080/"
        },
        "id": "lTm3goKlhaJO",
        "outputId": "37fd096c-3f5a-4529-97df-c1e62f2b61b5"
      },
      "execution_count": 10,
      "outputs": [
        {
          "output_type": "execute_result",
          "data": {
            "text/plain": [
              "Index(['id', 'url', 'region', 'region_url', 'price', 'year', 'manufacturer',\n",
              "       'model', 'condition', 'cylinders', 'fuel', 'odometer', 'title_status',\n",
              "       'transmission', 'VIN', 'drive', 'size', 'type', 'paint_color',\n",
              "       'image_url', 'description', 'county', 'state', 'lat', 'long',\n",
              "       'posting_date', 'car_age'],\n",
              "      dtype='object')"
            ]
          },
          "metadata": {},
          "execution_count": 10
        }
      ]
    },
    {
      "cell_type": "code",
      "source": [
        "df.info()"
      ],
      "metadata": {
        "colab": {
          "base_uri": "https://localhost:8080/"
        },
        "id": "s-K_84Pju-jr",
        "outputId": "9466e6de-717e-41f4-e8c1-57b4bfd5d3e1"
      },
      "execution_count": 11,
      "outputs": [
        {
          "output_type": "stream",
          "name": "stdout",
          "text": [
            "<class 'pandas.core.frame.DataFrame'>\n",
            "RangeIndex: 20000 entries, 0 to 19999\n",
            "Data columns (total 27 columns):\n",
            " #   Column        Non-Null Count  Dtype  \n",
            "---  ------        --------------  -----  \n",
            " 0   id            20000 non-null  int64  \n",
            " 1   url           20000 non-null  object \n",
            " 2   region        20000 non-null  object \n",
            " 3   region_url    20000 non-null  object \n",
            " 4   price         20000 non-null  int64  \n",
            " 5   year          19951 non-null  float64\n",
            " 6   manufacturer  19216 non-null  object \n",
            " 7   model         19754 non-null  object \n",
            " 8   condition     11921 non-null  object \n",
            " 9   cylinders     11634 non-null  object \n",
            " 10  fuel          19869 non-null  object \n",
            " 11  odometer      19814 non-null  float64\n",
            " 12  title_status  19667 non-null  object \n",
            " 13  transmission  19899 non-null  object \n",
            " 14  VIN           12485 non-null  object \n",
            " 15  drive         13903 non-null  object \n",
            " 16  size          5663 non-null   object \n",
            " 17  type          15685 non-null  object \n",
            " 18  paint_color   13881 non-null  object \n",
            " 19  image_url     19998 non-null  object \n",
            " 20  description   19998 non-null  object \n",
            " 21  county        0 non-null      float64\n",
            " 22  state         20000 non-null  object \n",
            " 23  lat           19702 non-null  float64\n",
            " 24  long          19702 non-null  float64\n",
            " 25  posting_date  19998 non-null  object \n",
            " 26  car_age       19951 non-null  float64\n",
            "dtypes: float64(6), int64(2), object(19)\n",
            "memory usage: 4.1+ MB\n"
          ]
        }
      ]
    },
    {
      "cell_type": "code",
      "source": [
        "df.describe()"
      ],
      "metadata": {
        "colab": {
          "base_uri": "https://localhost:8080/",
          "height": 300
        },
        "id": "CjqRXqkatnym",
        "outputId": "0ad43e29-6c2e-4420-aa0a-f8fc6347fcb7"
      },
      "execution_count": 12,
      "outputs": [
        {
          "output_type": "execute_result",
          "data": {
            "text/plain": [
              "                 id         price          year      odometer  county  \\\n",
              "count  2.000000e+04  2.000000e+04  19951.000000  1.981400e+04     0.0   \n",
              "mean   7.311462e+09  1.761475e+04   2011.217282  9.865501e+04     NaN   \n",
              "std    4.484711e+06  1.998158e+04      9.575279  2.363314e+05     NaN   \n",
              "min    7.217189e+09  0.000000e+00   1900.000000  0.000000e+00     NaN   \n",
              "25%    7.308054e+09  5.950000e+03   2008.000000  3.747300e+04     NaN   \n",
              "50%    7.312474e+09  1.385000e+04   2014.000000  8.400000e+04     NaN   \n",
              "75%    7.315259e+09  2.659000e+04   2017.000000  1.323340e+05     NaN   \n",
              "max    7.317096e+09  1.234567e+06   2022.000000  1.000000e+07     NaN   \n",
              "\n",
              "                lat          long       car_age  \n",
              "count  19702.000000  19702.000000  19951.000000  \n",
              "mean      38.483050    -94.647057     10.782718  \n",
              "std        5.889468     18.358730      9.575279  \n",
              "min      -56.527029   -159.365530      0.000000  \n",
              "25%       34.610000   -111.937599      5.000000  \n",
              "50%       39.140834    -88.230050      8.000000  \n",
              "75%       42.370000    -80.705055     14.000000  \n",
              "max       64.878089     94.163200    122.000000  "
            ],
            "text/html": [
              "\n",
              "  <div id=\"df-a6add72a-6fc5-4eaf-922f-1f9e23bdfa92\">\n",
              "    <div class=\"colab-df-container\">\n",
              "      <div>\n",
              "<style scoped>\n",
              "    .dataframe tbody tr th:only-of-type {\n",
              "        vertical-align: middle;\n",
              "    }\n",
              "\n",
              "    .dataframe tbody tr th {\n",
              "        vertical-align: top;\n",
              "    }\n",
              "\n",
              "    .dataframe thead th {\n",
              "        text-align: right;\n",
              "    }\n",
              "</style>\n",
              "<table border=\"1\" class=\"dataframe\">\n",
              "  <thead>\n",
              "    <tr style=\"text-align: right;\">\n",
              "      <th></th>\n",
              "      <th>id</th>\n",
              "      <th>price</th>\n",
              "      <th>year</th>\n",
              "      <th>odometer</th>\n",
              "      <th>county</th>\n",
              "      <th>lat</th>\n",
              "      <th>long</th>\n",
              "      <th>car_age</th>\n",
              "    </tr>\n",
              "  </thead>\n",
              "  <tbody>\n",
              "    <tr>\n",
              "      <th>count</th>\n",
              "      <td>2.000000e+04</td>\n",
              "      <td>2.000000e+04</td>\n",
              "      <td>19951.000000</td>\n",
              "      <td>1.981400e+04</td>\n",
              "      <td>0.0</td>\n",
              "      <td>19702.000000</td>\n",
              "      <td>19702.000000</td>\n",
              "      <td>19951.000000</td>\n",
              "    </tr>\n",
              "    <tr>\n",
              "      <th>mean</th>\n",
              "      <td>7.311462e+09</td>\n",
              "      <td>1.761475e+04</td>\n",
              "      <td>2011.217282</td>\n",
              "      <td>9.865501e+04</td>\n",
              "      <td>NaN</td>\n",
              "      <td>38.483050</td>\n",
              "      <td>-94.647057</td>\n",
              "      <td>10.782718</td>\n",
              "    </tr>\n",
              "    <tr>\n",
              "      <th>std</th>\n",
              "      <td>4.484711e+06</td>\n",
              "      <td>1.998158e+04</td>\n",
              "      <td>9.575279</td>\n",
              "      <td>2.363314e+05</td>\n",
              "      <td>NaN</td>\n",
              "      <td>5.889468</td>\n",
              "      <td>18.358730</td>\n",
              "      <td>9.575279</td>\n",
              "    </tr>\n",
              "    <tr>\n",
              "      <th>min</th>\n",
              "      <td>7.217189e+09</td>\n",
              "      <td>0.000000e+00</td>\n",
              "      <td>1900.000000</td>\n",
              "      <td>0.000000e+00</td>\n",
              "      <td>NaN</td>\n",
              "      <td>-56.527029</td>\n",
              "      <td>-159.365530</td>\n",
              "      <td>0.000000</td>\n",
              "    </tr>\n",
              "    <tr>\n",
              "      <th>25%</th>\n",
              "      <td>7.308054e+09</td>\n",
              "      <td>5.950000e+03</td>\n",
              "      <td>2008.000000</td>\n",
              "      <td>3.747300e+04</td>\n",
              "      <td>NaN</td>\n",
              "      <td>34.610000</td>\n",
              "      <td>-111.937599</td>\n",
              "      <td>5.000000</td>\n",
              "    </tr>\n",
              "    <tr>\n",
              "      <th>50%</th>\n",
              "      <td>7.312474e+09</td>\n",
              "      <td>1.385000e+04</td>\n",
              "      <td>2014.000000</td>\n",
              "      <td>8.400000e+04</td>\n",
              "      <td>NaN</td>\n",
              "      <td>39.140834</td>\n",
              "      <td>-88.230050</td>\n",
              "      <td>8.000000</td>\n",
              "    </tr>\n",
              "    <tr>\n",
              "      <th>75%</th>\n",
              "      <td>7.315259e+09</td>\n",
              "      <td>2.659000e+04</td>\n",
              "      <td>2017.000000</td>\n",
              "      <td>1.323340e+05</td>\n",
              "      <td>NaN</td>\n",
              "      <td>42.370000</td>\n",
              "      <td>-80.705055</td>\n",
              "      <td>14.000000</td>\n",
              "    </tr>\n",
              "    <tr>\n",
              "      <th>max</th>\n",
              "      <td>7.317096e+09</td>\n",
              "      <td>1.234567e+06</td>\n",
              "      <td>2022.000000</td>\n",
              "      <td>1.000000e+07</td>\n",
              "      <td>NaN</td>\n",
              "      <td>64.878089</td>\n",
              "      <td>94.163200</td>\n",
              "      <td>122.000000</td>\n",
              "    </tr>\n",
              "  </tbody>\n",
              "</table>\n",
              "</div>\n",
              "      <button class=\"colab-df-convert\" onclick=\"convertToInteractive('df-a6add72a-6fc5-4eaf-922f-1f9e23bdfa92')\"\n",
              "              title=\"Convert this dataframe to an interactive table.\"\n",
              "              style=\"display:none;\">\n",
              "        \n",
              "  <svg xmlns=\"http://www.w3.org/2000/svg\" height=\"24px\"viewBox=\"0 0 24 24\"\n",
              "       width=\"24px\">\n",
              "    <path d=\"M0 0h24v24H0V0z\" fill=\"none\"/>\n",
              "    <path d=\"M18.56 5.44l.94 2.06.94-2.06 2.06-.94-2.06-.94-.94-2.06-.94 2.06-2.06.94zm-11 1L8.5 8.5l.94-2.06 2.06-.94-2.06-.94L8.5 2.5l-.94 2.06-2.06.94zm10 10l.94 2.06.94-2.06 2.06-.94-2.06-.94-.94-2.06-.94 2.06-2.06.94z\"/><path d=\"M17.41 7.96l-1.37-1.37c-.4-.4-.92-.59-1.43-.59-.52 0-1.04.2-1.43.59L10.3 9.45l-7.72 7.72c-.78.78-.78 2.05 0 2.83L4 21.41c.39.39.9.59 1.41.59.51 0 1.02-.2 1.41-.59l7.78-7.78 2.81-2.81c.8-.78.8-2.07 0-2.86zM5.41 20L4 18.59l7.72-7.72 1.47 1.35L5.41 20z\"/>\n",
              "  </svg>\n",
              "      </button>\n",
              "      \n",
              "  <style>\n",
              "    .colab-df-container {\n",
              "      display:flex;\n",
              "      flex-wrap:wrap;\n",
              "      gap: 12px;\n",
              "    }\n",
              "\n",
              "    .colab-df-convert {\n",
              "      background-color: #E8F0FE;\n",
              "      border: none;\n",
              "      border-radius: 50%;\n",
              "      cursor: pointer;\n",
              "      display: none;\n",
              "      fill: #1967D2;\n",
              "      height: 32px;\n",
              "      padding: 0 0 0 0;\n",
              "      width: 32px;\n",
              "    }\n",
              "\n",
              "    .colab-df-convert:hover {\n",
              "      background-color: #E2EBFA;\n",
              "      box-shadow: 0px 1px 2px rgba(60, 64, 67, 0.3), 0px 1px 3px 1px rgba(60, 64, 67, 0.15);\n",
              "      fill: #174EA6;\n",
              "    }\n",
              "\n",
              "    [theme=dark] .colab-df-convert {\n",
              "      background-color: #3B4455;\n",
              "      fill: #D2E3FC;\n",
              "    }\n",
              "\n",
              "    [theme=dark] .colab-df-convert:hover {\n",
              "      background-color: #434B5C;\n",
              "      box-shadow: 0px 1px 3px 1px rgba(0, 0, 0, 0.15);\n",
              "      filter: drop-shadow(0px 1px 2px rgba(0, 0, 0, 0.3));\n",
              "      fill: #FFFFFF;\n",
              "    }\n",
              "  </style>\n",
              "\n",
              "      <script>\n",
              "        const buttonEl =\n",
              "          document.querySelector('#df-a6add72a-6fc5-4eaf-922f-1f9e23bdfa92 button.colab-df-convert');\n",
              "        buttonEl.style.display =\n",
              "          google.colab.kernel.accessAllowed ? 'block' : 'none';\n",
              "\n",
              "        async function convertToInteractive(key) {\n",
              "          const element = document.querySelector('#df-a6add72a-6fc5-4eaf-922f-1f9e23bdfa92');\n",
              "          const dataTable =\n",
              "            await google.colab.kernel.invokeFunction('convertToInteractive',\n",
              "                                                     [key], {});\n",
              "          if (!dataTable) return;\n",
              "\n",
              "          const docLinkHtml = 'Like what you see? Visit the ' +\n",
              "            '<a target=\"_blank\" href=https://colab.research.google.com/notebooks/data_table.ipynb>data table notebook</a>'\n",
              "            + ' to learn more about interactive tables.';\n",
              "          element.innerHTML = '';\n",
              "          dataTable['output_type'] = 'display_data';\n",
              "          await google.colab.output.renderOutput(dataTable, element);\n",
              "          const docLink = document.createElement('div');\n",
              "          docLink.innerHTML = docLinkHtml;\n",
              "          element.appendChild(docLink);\n",
              "        }\n",
              "      </script>\n",
              "    </div>\n",
              "  </div>\n",
              "  "
            ]
          },
          "metadata": {},
          "execution_count": 12
        }
      ]
    },
    {
      "cell_type": "code",
      "source": [
        "##Select only some features for the models\n",
        "##remove /null\n",
        "df_example = df.loc[:,['price','car_age','odometer']].dropna()\n",
        "df_example.head()"
      ],
      "metadata": {
        "colab": {
          "base_uri": "https://localhost:8080/",
          "height": 206
        },
        "id": "z5bJ1YrztoAe",
        "outputId": "f16ed16c-75f2-4667-81a1-0b03a172d5d6"
      },
      "execution_count": 13,
      "outputs": [
        {
          "output_type": "execute_result",
          "data": {
            "text/plain": [
              "   price  car_age  odometer\n",
              "0  14500     16.0   84000.0\n",
              "1   9999     11.0   85971.0\n",
              "2   2250     18.0  170000.0\n",
              "3   9899      9.0   78664.0\n",
              "4   1995     16.0  140000.0"
            ],
            "text/html": [
              "\n",
              "  <div id=\"df-5f1bf838-cc62-4fb6-9005-8644b2c4b54b\">\n",
              "    <div class=\"colab-df-container\">\n",
              "      <div>\n",
              "<style scoped>\n",
              "    .dataframe tbody tr th:only-of-type {\n",
              "        vertical-align: middle;\n",
              "    }\n",
              "\n",
              "    .dataframe tbody tr th {\n",
              "        vertical-align: top;\n",
              "    }\n",
              "\n",
              "    .dataframe thead th {\n",
              "        text-align: right;\n",
              "    }\n",
              "</style>\n",
              "<table border=\"1\" class=\"dataframe\">\n",
              "  <thead>\n",
              "    <tr style=\"text-align: right;\">\n",
              "      <th></th>\n",
              "      <th>price</th>\n",
              "      <th>car_age</th>\n",
              "      <th>odometer</th>\n",
              "    </tr>\n",
              "  </thead>\n",
              "  <tbody>\n",
              "    <tr>\n",
              "      <th>0</th>\n",
              "      <td>14500</td>\n",
              "      <td>16.0</td>\n",
              "      <td>84000.0</td>\n",
              "    </tr>\n",
              "    <tr>\n",
              "      <th>1</th>\n",
              "      <td>9999</td>\n",
              "      <td>11.0</td>\n",
              "      <td>85971.0</td>\n",
              "    </tr>\n",
              "    <tr>\n",
              "      <th>2</th>\n",
              "      <td>2250</td>\n",
              "      <td>18.0</td>\n",
              "      <td>170000.0</td>\n",
              "    </tr>\n",
              "    <tr>\n",
              "      <th>3</th>\n",
              "      <td>9899</td>\n",
              "      <td>9.0</td>\n",
              "      <td>78664.0</td>\n",
              "    </tr>\n",
              "    <tr>\n",
              "      <th>4</th>\n",
              "      <td>1995</td>\n",
              "      <td>16.0</td>\n",
              "      <td>140000.0</td>\n",
              "    </tr>\n",
              "  </tbody>\n",
              "</table>\n",
              "</div>\n",
              "      <button class=\"colab-df-convert\" onclick=\"convertToInteractive('df-5f1bf838-cc62-4fb6-9005-8644b2c4b54b')\"\n",
              "              title=\"Convert this dataframe to an interactive table.\"\n",
              "              style=\"display:none;\">\n",
              "        \n",
              "  <svg xmlns=\"http://www.w3.org/2000/svg\" height=\"24px\"viewBox=\"0 0 24 24\"\n",
              "       width=\"24px\">\n",
              "    <path d=\"M0 0h24v24H0V0z\" fill=\"none\"/>\n",
              "    <path d=\"M18.56 5.44l.94 2.06.94-2.06 2.06-.94-2.06-.94-.94-2.06-.94 2.06-2.06.94zm-11 1L8.5 8.5l.94-2.06 2.06-.94-2.06-.94L8.5 2.5l-.94 2.06-2.06.94zm10 10l.94 2.06.94-2.06 2.06-.94-2.06-.94-.94-2.06-.94 2.06-2.06.94z\"/><path d=\"M17.41 7.96l-1.37-1.37c-.4-.4-.92-.59-1.43-.59-.52 0-1.04.2-1.43.59L10.3 9.45l-7.72 7.72c-.78.78-.78 2.05 0 2.83L4 21.41c.39.39.9.59 1.41.59.51 0 1.02-.2 1.41-.59l7.78-7.78 2.81-2.81c.8-.78.8-2.07 0-2.86zM5.41 20L4 18.59l7.72-7.72 1.47 1.35L5.41 20z\"/>\n",
              "  </svg>\n",
              "      </button>\n",
              "      \n",
              "  <style>\n",
              "    .colab-df-container {\n",
              "      display:flex;\n",
              "      flex-wrap:wrap;\n",
              "      gap: 12px;\n",
              "    }\n",
              "\n",
              "    .colab-df-convert {\n",
              "      background-color: #E8F0FE;\n",
              "      border: none;\n",
              "      border-radius: 50%;\n",
              "      cursor: pointer;\n",
              "      display: none;\n",
              "      fill: #1967D2;\n",
              "      height: 32px;\n",
              "      padding: 0 0 0 0;\n",
              "      width: 32px;\n",
              "    }\n",
              "\n",
              "    .colab-df-convert:hover {\n",
              "      background-color: #E2EBFA;\n",
              "      box-shadow: 0px 1px 2px rgba(60, 64, 67, 0.3), 0px 1px 3px 1px rgba(60, 64, 67, 0.15);\n",
              "      fill: #174EA6;\n",
              "    }\n",
              "\n",
              "    [theme=dark] .colab-df-convert {\n",
              "      background-color: #3B4455;\n",
              "      fill: #D2E3FC;\n",
              "    }\n",
              "\n",
              "    [theme=dark] .colab-df-convert:hover {\n",
              "      background-color: #434B5C;\n",
              "      box-shadow: 0px 1px 3px 1px rgba(0, 0, 0, 0.15);\n",
              "      filter: drop-shadow(0px 1px 2px rgba(0, 0, 0, 0.3));\n",
              "      fill: #FFFFFF;\n",
              "    }\n",
              "  </style>\n",
              "\n",
              "      <script>\n",
              "        const buttonEl =\n",
              "          document.querySelector('#df-5f1bf838-cc62-4fb6-9005-8644b2c4b54b button.colab-df-convert');\n",
              "        buttonEl.style.display =\n",
              "          google.colab.kernel.accessAllowed ? 'block' : 'none';\n",
              "\n",
              "        async function convertToInteractive(key) {\n",
              "          const element = document.querySelector('#df-5f1bf838-cc62-4fb6-9005-8644b2c4b54b');\n",
              "          const dataTable =\n",
              "            await google.colab.kernel.invokeFunction('convertToInteractive',\n",
              "                                                     [key], {});\n",
              "          if (!dataTable) return;\n",
              "\n",
              "          const docLinkHtml = 'Like what you see? Visit the ' +\n",
              "            '<a target=\"_blank\" href=https://colab.research.google.com/notebooks/data_table.ipynb>data table notebook</a>'\n",
              "            + ' to learn more about interactive tables.';\n",
              "          element.innerHTML = '';\n",
              "          dataTable['output_type'] = 'display_data';\n",
              "          await google.colab.output.renderOutput(dataTable, element);\n",
              "          const docLink = document.createElement('div');\n",
              "          docLink.innerHTML = docLinkHtml;\n",
              "          element.appendChild(docLink);\n",
              "        }\n",
              "      </script>\n",
              "    </div>\n",
              "  </div>\n",
              "  "
            ]
          },
          "metadata": {},
          "execution_count": 13
        }
      ]
    },
    {
      "cell_type": "code",
      "source": [
        "#Creating subplot of each column with its own scale\n",
        "df_example.boxplot()"
      ],
      "metadata": {
        "colab": {
          "base_uri": "https://localhost:8080/",
          "height": 293
        },
        "id": "9zjvlIt3-BQN",
        "outputId": "9da5c4ce-99a5-49db-9f51-4336dd17a7e8"
      },
      "execution_count": 14,
      "outputs": [
        {
          "output_type": "execute_result",
          "data": {
            "text/plain": [
              "<AxesSubplot:>"
            ]
          },
          "metadata": {},
          "execution_count": 14
        },
        {
          "output_type": "display_data",
          "data": {
            "text/plain": [
              "<Figure size 432x288 with 1 Axes>"
            ],
            "image/png": "[encoded data removed]"
          },
          "metadata": {
            "needs_background": "light"
          }
        }
      ]
    },
    {
      "cell_type": "markdown",
      "source": [
        "As we can see in the table above, the features Price, Car_age and Odometer are measured on different scales, so that Feature Scaling is necessary important prior to any comparison or combination of these data."
      ],
      "metadata": {
        "id": "Anc7NYII9u4f"
      }
    },
    {
      "cell_type": "markdown",
      "source": [
        "**Split Data**"
      ],
      "metadata": {
        "id": "J8uAUVpVvpgF"
      }
    },
    {
      "cell_type": "markdown",
      "source": [
        "It is a good practice to fit the scaler on the training data and then use it to transform the testing data. This would avoid any data leakage during the model testing process. Also, the scaling of target values is generally not required."
      ],
      "metadata": {
        "id": "bI-Rc-PE5Q8-"
      }
    },
    {
      "cell_type": "code",
      "source": [
        "##splitting data before Scaling to avoid Data leakage\n",
        "from sklearn.model_selection import train_test_split\n",
        "\n",
        "X = df_example.drop('price' , axis=1)\n",
        "y = df_example[['price']]\n",
        "X_train ,X_test, y_train , y_test = train_test_split(X, y , test_size=0.2, random_state=42)"
      ],
      "metadata": {
        "id": "0ycIutHovr8F"
      },
      "execution_count": 15,
      "outputs": []
    },
    {
      "cell_type": "code",
      "source": [
        "print(X_train.shape)\n",
        "print( X_test.shape)\n",
        "print(y_train.shape)\n",
        "print( y_test.shape)\n"
      ],
      "metadata": {
        "colab": {
          "base_uri": "https://localhost:8080/"
        },
        "id": "lnUuaayWwMzD",
        "outputId": "66296117-6454-4169-8339-fdbcaed5074e"
      },
      "execution_count": 16,
      "outputs": [
        {
          "output_type": "stream",
          "name": "stdout",
          "text": [
            "(15813, 2)\n",
            "(3954, 2)\n",
            "(15813, 1)\n",
            "(3954, 1)\n"
          ]
        }
      ]
    },
    {
      "cell_type": "markdown",
      "source": [
        "**Now comes the fun part – putting what we have learned into practice!**"
      ],
      "metadata": {
        "id": "f8WtwdzD6WUF"
      }
    },
    {
      "cell_type": "markdown",
      "source": [
        "###1-Absolute Max Scaling (Normalization)"
      ],
      "metadata": {
        "id": "qPm0rRON1Akm"
      }
    },
    {
      "cell_type": "markdown",
      "source": [
        "Steps:\n",
        "- Find the absolute maximum value of the feature in the dataset\n",
        "- Divide all the values in the column by that maximum value\n",
        "\n",
        "\n",
        "If we do this for all the numerical columns, then all their **values will lie between -1 and 1**\n",
        "\n",
        "\n",
        "For absolute max scaling, this works best if:\n",
        "- our data doesn't have massive outliers. In this case, we would likely want to remove outliers from price and odometer. \n",
        "- This also keeps the same distribution of the data. For absolute maximum scaling, let's do this on the year data for the cars."
      ],
      "metadata": {
        "id": "PSEUzGs027rL"
      }
    },
    {
      "cell_type": "code",
      "source": [
        "from sklearn.preprocessing import MaxAbsScaler\n",
        "\n",
        "#Scale data \n",
        "df_am = MaxAbsScaler().fit_transform(X_train)\n",
        "\n",
        "#convert to dataframe to see table\n",
        "df_am = pd.DataFrame(df_am, columns = X_train.columns)\n",
        "\n",
        "#obvious problems with outliers regarding price & odometer \n",
        "df_am.describe()\n"
      ],
      "metadata": {
        "colab": {
          "base_uri": "https://localhost:8080/",
          "height": 300
        },
        "id": "jgxKu3QqfhDR",
        "outputId": "889d4fde-803b-4854-e7e2-8d77e213f3c4"
      },
      "execution_count": 17,
      "outputs": [
        {
          "output_type": "execute_result",
          "data": {
            "text/plain": [
              "            car_age      odometer\n",
              "count  15813.000000  15813.000000\n",
              "mean       0.088493      0.009822\n",
              "std        0.079693      0.023839\n",
              "min        0.000000      0.000000\n",
              "25%        0.040984      0.003746\n",
              "50%        0.065574      0.008389\n",
              "75%        0.114754      0.013200\n",
              "max        1.000000      1.000000"
            ],
            "text/html": [
              "\n",
              "  <div id=\"df-c34e4835-97cc-448f-b82c-f8ab072eddde\">\n",
              "    <div class=\"colab-df-container\">\n",
              "      <div>\n",
              "<style scoped>\n",
              "    .dataframe tbody tr th:only-of-type {\n",
              "        vertical-align: middle;\n",
              "    }\n",
              "\n",
              "    .dataframe tbody tr th {\n",
              "        vertical-align: top;\n",
              "    }\n",
              "\n",
              "    .dataframe thead th {\n",
              "        text-align: right;\n",
              "    }\n",
              "</style>\n",
              "<table border=\"1\" class=\"dataframe\">\n",
              "  <thead>\n",
              "    <tr style=\"text-align: right;\">\n",
              "      <th></th>\n",
              "      <th>car_age</th>\n",
              "      <th>odometer</th>\n",
              "    </tr>\n",
              "  </thead>\n",
              "  <tbody>\n",
              "    <tr>\n",
              "      <th>count</th>\n",
              "      <td>15813.000000</td>\n",
              "      <td>15813.000000</td>\n",
              "    </tr>\n",
              "    <tr>\n",
              "      <th>mean</th>\n",
              "      <td>0.088493</td>\n",
              "      <td>0.009822</td>\n",
              "    </tr>\n",
              "    <tr>\n",
              "      <th>std</th>\n",
              "      <td>0.079693</td>\n",
              "      <td>0.023839</td>\n",
              "    </tr>\n",
              "    <tr>\n",
              "      <th>min</th>\n",
              "      <td>0.000000</td>\n",
              "      <td>0.000000</td>\n",
              "    </tr>\n",
              "    <tr>\n",
              "      <th>25%</th>\n",
              "      <td>0.040984</td>\n",
              "      <td>0.003746</td>\n",
              "    </tr>\n",
              "    <tr>\n",
              "      <th>50%</th>\n",
              "      <td>0.065574</td>\n",
              "      <td>0.008389</td>\n",
              "    </tr>\n",
              "    <tr>\n",
              "      <th>75%</th>\n",
              "      <td>0.114754</td>\n",
              "      <td>0.013200</td>\n",
              "    </tr>\n",
              "    <tr>\n",
              "      <th>max</th>\n",
              "      <td>1.000000</td>\n",
              "      <td>1.000000</td>\n",
              "    </tr>\n",
              "  </tbody>\n",
              "</table>\n",
              "</div>\n",
              "      <button class=\"colab-df-convert\" onclick=\"convertToInteractive('df-c34e4835-97cc-448f-b82c-f8ab072eddde')\"\n",
              "              title=\"Convert this dataframe to an interactive table.\"\n",
              "              style=\"display:none;\">\n",
              "        \n",
              "  <svg xmlns=\"http://www.w3.org/2000/svg\" height=\"24px\"viewBox=\"0 0 24 24\"\n",
              "       width=\"24px\">\n",
              "    <path d=\"M0 0h24v24H0V0z\" fill=\"none\"/>\n",
              "    <path d=\"M18.56 5.44l.94 2.06.94-2.06 2.06-.94-2.06-.94-.94-2.06-.94 2.06-2.06.94zm-11 1L8.5 8.5l.94-2.06 2.06-.94-2.06-.94L8.5 2.5l-.94 2.06-2.06.94zm10 10l.94 2.06.94-2.06 2.06-.94-2.06-.94-.94-2.06-.94 2.06-2.06.94z\"/><path d=\"M17.41 7.96l-1.37-1.37c-.4-.4-.92-.59-1.43-.59-.52 0-1.04.2-1.43.59L10.3 9.45l-7.72 7.72c-.78.78-.78 2.05 0 2.83L4 21.41c.39.39.9.59 1.41.59.51 0 1.02-.2 1.41-.59l7.78-7.78 2.81-2.81c.8-.78.8-2.07 0-2.86zM5.41 20L4 18.59l7.72-7.72 1.47 1.35L5.41 20z\"/>\n",
              "  </svg>\n",
              "      </button>\n",
              "      \n",
              "  <style>\n",
              "    .colab-df-container {\n",
              "      display:flex;\n",
              "      flex-wrap:wrap;\n",
              "      gap: 12px;\n",
              "    }\n",
              "\n",
              "    .colab-df-convert {\n",
              "      background-color: #E8F0FE;\n",
              "      border: none;\n",
              "      border-radius: 50%;\n",
              "      cursor: pointer;\n",
              "      display: none;\n",
              "      fill: #1967D2;\n",
              "      height: 32px;\n",
              "      padding: 0 0 0 0;\n",
              "      width: 32px;\n",
              "    }\n",
              "\n",
              "    .colab-df-convert:hover {\n",
              "      background-color: #E2EBFA;\n",
              "      box-shadow: 0px 1px 2px rgba(60, 64, 67, 0.3), 0px 1px 3px 1px rgba(60, 64, 67, 0.15);\n",
              "      fill: #174EA6;\n",
              "    }\n",
              "\n",
              "    [theme=dark] .colab-df-convert {\n",
              "      background-color: #3B4455;\n",
              "      fill: #D2E3FC;\n",
              "    }\n",
              "\n",
              "    [theme=dark] .colab-df-convert:hover {\n",
              "      background-color: #434B5C;\n",
              "      box-shadow: 0px 1px 3px 1px rgba(0, 0, 0, 0.15);\n",
              "      filter: drop-shadow(0px 1px 2px rgba(0, 0, 0, 0.3));\n",
              "      fill: #FFFFFF;\n",
              "    }\n",
              "  </style>\n",
              "\n",
              "      <script>\n",
              "        const buttonEl =\n",
              "          document.querySelector('#df-c34e4835-97cc-448f-b82c-f8ab072eddde button.colab-df-convert');\n",
              "        buttonEl.style.display =\n",
              "          google.colab.kernel.accessAllowed ? 'block' : 'none';\n",
              "\n",
              "        async function convertToInteractive(key) {\n",
              "          const element = document.querySelector('#df-c34e4835-97cc-448f-b82c-f8ab072eddde');\n",
              "          const dataTable =\n",
              "            await google.colab.kernel.invokeFunction('convertToInteractive',\n",
              "                                                     [key], {});\n",
              "          if (!dataTable) return;\n",
              "\n",
              "          const docLinkHtml = 'Like what you see? Visit the ' +\n",
              "            '<a target=\"_blank\" href=https://colab.research.google.com/notebooks/data_table.ipynb>data table notebook</a>'\n",
              "            + ' to learn more about interactive tables.';\n",
              "          element.innerHTML = '';\n",
              "          dataTable['output_type'] = 'display_data';\n",
              "          await google.colab.output.renderOutput(dataTable, element);\n",
              "          const docLink = document.createElement('div');\n",
              "          docLink.innerHTML = docLinkHtml;\n",
              "          element.appendChild(docLink);\n",
              "        }\n",
              "      </script>\n",
              "    </div>\n",
              "  </div>\n",
              "  "
            ]
          },
          "metadata": {},
          "execution_count": 17
        }
      ]
    },
    {
      "cell_type": "markdown",
      "source": [
        "###2- Min Max Scaling\n",
        "Another simple form of scaling is called min max. Min Max scaling **will scale all our data points between 0 and 1**. We’d use the following formula to scale our data, where we subtract the min from the raw data and then divide it by the max minus the min.\n",
        "\n",
        "-  this approach is not robust to outliers."
      ],
      "metadata": {
        "id": "NgtRgSfF3R-j"
      }
    },
    {
      "cell_type": "code",
      "source": [
        "from sklearn.preprocessing import MinMaxScaler\n",
        "df_min_max = MinMaxScaler().fit_transform(X_train)\n",
        "df_min_max = pd.DataFrame(df_min_max, columns = X_train.columns)"
      ],
      "metadata": {
        "id": "jEQidREcfhEk"
      },
      "execution_count": 18,
      "outputs": []
    },
    {
      "cell_type": "code",
      "source": [
        "\n",
        "print('Min-value for the original data :\\ncar_age={:.2f},  odometer={:.2f}'\n",
        "      .format(X_train['car_age'].min(), X_train['odometer'].min()))\n",
        "print('\\nMax-value for the original data :\\ncar_age={:.2f},  odometer={:.2f}'\n",
        "      .format(X_train['car_age'].max(), X_train['odometer'].max()))\n",
        "\n",
        "\n",
        "print('\\nMin-value after min-max scaling:\\ncar_age={:.2f},  odometer={:.2f}'\n",
        "      .format(df_min_max['car_age'].min(), df_min_max['odometer'].min()))\n",
        "print('\\nMax-value after min-max scaling:\\ncar_age={:.2f},  odometer={:.2f}'\n",
        "      .format(df_min_max['car_age'].max(), df_min_max['odometer'].max()))"
      ],
      "metadata": {
        "colab": {
          "base_uri": "https://localhost:8080/"
        },
        "id": "BEXWx2iufhJS",
        "outputId": "d7150cc9-4979-4d69-c9c4-bb3d9be2127b"
      },
      "execution_count": 19,
      "outputs": [
        {
          "output_type": "stream",
          "name": "stdout",
          "text": [
            "Min-value for the original data :\n",
            "car_age=0.00,  odometer=0.00\n",
            "\n",
            "Max-value for the original data :\n",
            "car_age=122.00,  odometer=10000000.00\n",
            "\n",
            "Min-value after min-max scaling:\n",
            "car_age=0.00,  odometer=0.00\n",
            "\n",
            "Max-value after min-max scaling:\n",
            "car_age=1.00,  odometer=1.00\n"
          ]
        }
      ]
    },
    {
      "cell_type": "markdown",
      "source": [
        "###3-Z Score Normalization (Standardization)\n",
        "Another approach is standardization which transforms the data into the z-score, where **the mean is zero and the standard deviation is 1.**\n",
        "\n",
        "- This approach is **more robust to outliers**, but still can have issues if outliers cause massive changes to standard deviation. \n",
        "- However, this does **assume a normal distribution** which is inaccurate for some of our data (Year)."
      ],
      "metadata": {
        "id": "whWEKp1o3qJ9"
      }
    },
    {
      "cell_type": "code",
      "source": [
        "from sklearn.preprocessing import StandardScaler\n",
        "df_std = X_train.copy()\n",
        "#only scale numeric varaibles in this case rather than the dummy variables for categories \n",
        "df_std.loc[:,['car_age','odometer']] = StandardScaler().fit_transform(df_std.loc[:, ['car_age','odometer']])"
      ],
      "metadata": {
        "id": "4lP09Pos36zn"
      },
      "execution_count": 20,
      "outputs": []
    },
    {
      "cell_type": "code",
      "source": [
        "\n",
        "print('Min-value for the original data :\\ncar_age={:.2f},  odometer={:.2f}'\n",
        "      .format(X_train['car_age'].min().min(), X_train['odometer'].min()))\n",
        "print('\\nMax-value for the original data :\\ncar_age={:.2f},  odometer={:.2f}'\n",
        "      .format(X_train['car_age'].max(), X_train['odometer'].max()))\n",
        "\n",
        "\n",
        "print('\\nMin-value after min-max scaling:\\ncar_age={:.2f},  odometer={:.2f}'\n",
        "      .format(df_std['car_age'].min().min(), df_std['odometer'].min()))\n",
        "print('\\nMax-value after min-max scaling:\\ncar_age={:.2f},  odometer={:.2f}'\n",
        "      .format(df_std['car_age'].max(), df_std['odometer'].max()))"
      ],
      "metadata": {
        "colab": {
          "base_uri": "https://localhost:8080/"
        },
        "id": "tCf39poY37JP",
        "outputId": "8ec89fb3-a8f1-470b-bedc-d19e95b1f7d4"
      },
      "execution_count": 21,
      "outputs": [
        {
          "output_type": "stream",
          "name": "stdout",
          "text": [
            "Min-value for the original data :\n",
            "car_age=0.00,  odometer=0.00\n",
            "\n",
            "Max-value for the original data :\n",
            "car_age=122.00,  odometer=10000000.00\n",
            "\n",
            "Min-value after min-max scaling:\n",
            "car_age=-1.11,  odometer=-0.41\n",
            "\n",
            "Max-value after min-max scaling:\n",
            "car_age=11.44,  odometer=41.54\n"
          ]
        }
      ]
    },
    {
      "cell_type": "code",
      "source": [
        "\n",
        "print('Mean-value for the original data :\\ncar_age={:.2f},  odometer={:.2f}'\n",
        "      .format(X_train['car_age'].mean(), X_train['odometer'].mean()))\n",
        "print('\\nSTD-value for the original data :\\ncar_age={:.2f},  odometer={:.2f}'\n",
        "      .format(X_train['car_age'].std(), X_train['odometer'].std()))\n",
        "\n",
        "\n",
        "print('\\nMean-value after min-max scaling:\\ncar_age={:.2f},  odometer={:.2f}'\n",
        "      .format(df_std['car_age'].mean(), df_std['odometer'].mean()))\n",
        "print('\\nSTD-value after min-max scaling:\\ncar_age={:.2f},  odometer={:.2f}'\n",
        "      .format(df_std['car_age'].std(), df_std['odometer'].std()))"
      ],
      "metadata": {
        "colab": {
          "base_uri": "https://localhost:8080/"
        },
        "id": "QN7JybgDA-yu",
        "outputId": "e79382fb-486d-4521-eed7-1e1cc4a61e04"
      },
      "execution_count": 22,
      "outputs": [
        {
          "output_type": "stream",
          "name": "stdout",
          "text": [
            "Mean-value for the original data :\n",
            "car_age=10.80,  odometer=98223.23\n",
            "\n",
            "STD-value for the original data :\n",
            "car_age=9.72,  odometer=238390.17\n",
            "\n",
            "Mean-value after min-max scaling:\n",
            "car_age=-0.00,  odometer=0.00\n",
            "\n",
            "STD-value after min-max scaling:\n",
            "car_age=1.00,  odometer=1.00\n"
          ]
        }
      ]
    },
    {
      "cell_type": "code",
      "source": [
        "from matplotlib import pyplot as plt\n",
        "%matplotlib inline\n",
        "\n",
        "def plot():\n",
        "    plt.figure(figsize=(8,6))\n",
        "\n",
        "    plt.scatter(df['car_age'], df['odometer'],\n",
        "            color='green', label='input scale', alpha=0.5)\n",
        "\n",
        "    plt.scatter(df_std['car_age'], df_std['odometer'], \n",
        "                color='red', label='Standardized [mean=0 , std=1] ', alpha=0.3)\n",
        "\n",
        "    plt.scatter(df_min_max['car_age'], df_min_max['odometer'],\n",
        "            color='blue', label='min-max scaled [min=0, max=1]', alpha=0.3)\n",
        "\n",
        "    plt.title('car_age and odometer of the dataset')\n",
        "    plt.xlabel('car_age')\n",
        "    plt.ylabel('odometer ')\n",
        "    plt.legend(loc='upper left')\n",
        "    plt.grid()\n",
        "\n",
        "    plt.tight_layout()\n",
        "\n",
        "plot()\n",
        "plt.show()"
      ],
      "metadata": {
        "colab": {
          "base_uri": "https://localhost:8080/",
          "height": 441
        },
        "id": "DIPQDK57BaXn",
        "outputId": "0afc72dc-9e0f-4d49-f62a-ec773bf7e38a"
      },
      "execution_count": 23,
      "outputs": [
        {
          "output_type": "display_data",
          "data": {
            "text/plain": [
              "<Figure size 576x432 with 1 Axes>"
            ],
            "image/png": "[encoded data removed]"
          },
          "metadata": {
            "needs_background": "light"
          }
        }
      ]
    },
    {
      "cell_type": "markdown",
      "source": [
        "The plot above includes the  datapoints on all three different scales: the input scale where the car_age content was measured in volume-percent (green), the standardized features (red), and the normalized features (blue).\n",
        "\n",
        "\n"
      ],
      "metadata": {
        "id": "UzrXZwOwCzPS"
      }
    },
    {
      "cell_type": "code",
      "source": [
        "import seaborn as sns\n",
        "\n",
        "combined_dfs = pd.DataFrame({'car_age_df': df['car_age'],\n",
        "                             'car_age_df_std': df_std['car_age'],\n",
        "                             'car_age_df_min_max': df_min_max['car_age']})\n",
        "sns.set_style('white')\n",
        "sns.boxplot(data=combined_dfs, palette='flare')\n",
        "sns.despine()\n",
        "plt.show()\n"
      ],
      "metadata": {
        "colab": {
          "base_uri": "https://localhost:8080/",
          "height": 266
        },
        "id": "0hOj_JdzHg6C",
        "outputId": "2f08a75a-c5d5-41d6-8fdb-f34b4ceca2ec"
      },
      "execution_count": 41,
      "outputs": [
        {
          "output_type": "display_data",
          "data": {
            "text/plain": [
              "<Figure size 432x288 with 1 Axes>"
            ],
            "image/png": "[encoded data removed]"
          },
          "metadata": {}
        }
      ]
    },
    {
      "cell_type": "code",
      "source": [
        "import seaborn as sns\n",
        "\n",
        "combined_dfs = pd.DataFrame({'odometer_df': df['odometer'],\n",
        "                             'odometer_df_std': df_std['odometer'],\n",
        "                             'odometer_df_min_max': df_min_max['odometer']})\n",
        "sns.set_style('white')\n",
        "sns.boxplot(data=combined_dfs, palette='flare')\n",
        "sns.despine()\n",
        "plt.show()\n"
      ],
      "metadata": {
        "colab": {
          "base_uri": "https://localhost:8080/",
          "height": 277
        },
        "id": "0r3Cd-F8I-by",
        "outputId": "87ac7c00-93d1-4866-9b3d-4c41272af2fe"
      },
      "execution_count": 42,
      "outputs": [
        {
          "output_type": "display_data",
          "data": {
            "text/plain": [
              "<Figure size 432x288 with 1 Axes>"
            ],
            "image/png": "[encoded data removed]"
          },
          "metadata": {}
        }
      ]
    },
    {
      "cell_type": "markdown",
      "source": [
        "You can notice how scaling the features brings everything into perspective. The features are now more comparable and will have a similar effect on the learning models."
      ],
      "metadata": {
        "id": "_7OjwEfDI-vH"
      }
    },
    {
      "cell_type": "markdown",
      "source": [
        "###4-Robust Scaler\n",
        "With Robust Scaler, we’re subtracting the median and then scaling the column by the IQR.\n",
        "\n",
        "- This method centres the median value at zero\n",
        "\n",
        "- This is the approach most robust to outliers that we will cover."
      ],
      "metadata": {
        "id": "BkF9PUk_4MD2"
      }
    },
    {
      "cell_type": "code",
      "source": [
        "from sklearn.preprocessing import RobustScaler\n",
        "df_rob = X_train.copy()\n",
        "#only scale numeric varaibles in this case rather than the dummy variables for categories \n",
        "df_rob.loc[:,['car_age','odometer']] = RobustScaler().fit_transform(df_rob.loc[:, ['car_age','odometer']])"
      ],
      "metadata": {
        "id": "2J5Vh-ec4Lf0"
      },
      "execution_count": 24,
      "outputs": []
    },
    {
      "cell_type": "code",
      "source": [
        "df_rob.describe()"
      ],
      "metadata": {
        "colab": {
          "base_uri": "https://localhost:8080/",
          "height": 300
        },
        "id": "o663n0xz4Vbe",
        "outputId": "aa7cbe7c-9340-4545-bc2e-9d6de64c430b"
      },
      "execution_count": 25,
      "outputs": [
        {
          "output_type": "execute_result",
          "data": {
            "text/plain": [
              "            car_age      odometer\n",
              "count  15813.000000  15813.000000\n",
              "mean       0.310680      0.151628\n",
              "std        1.080276      2.521527\n",
              "min       -0.888889     -0.887309\n",
              "25%       -0.333333     -0.491104\n",
              "50%        0.000000      0.000000\n",
              "75%        0.666667      0.508896\n",
              "max       12.666667    104.885786"
            ],
            "text/html": [
              "\n",
              "  <div id=\"df-e67143c3-6f15-40d1-bf88-458281a8cf5c\">\n",
              "    <div class=\"colab-df-container\">\n",
              "      <div>\n",
              "<style scoped>\n",
              "    .dataframe tbody tr th:only-of-type {\n",
              "        vertical-align: middle;\n",
              "    }\n",
              "\n",
              "    .dataframe tbody tr th {\n",
              "        vertical-align: top;\n",
              "    }\n",
              "\n",
              "    .dataframe thead th {\n",
              "        text-align: right;\n",
              "    }\n",
              "</style>\n",
              "<table border=\"1\" class=\"dataframe\">\n",
              "  <thead>\n",
              "    <tr style=\"text-align: right;\">\n",
              "      <th></th>\n",
              "      <th>car_age</th>\n",
              "      <th>odometer</th>\n",
              "    </tr>\n",
              "  </thead>\n",
              "  <tbody>\n",
              "    <tr>\n",
              "      <th>count</th>\n",
              "      <td>15813.000000</td>\n",
              "      <td>15813.000000</td>\n",
              "    </tr>\n",
              "    <tr>\n",
              "      <th>mean</th>\n",
              "      <td>0.310680</td>\n",
              "      <td>0.151628</td>\n",
              "    </tr>\n",
              "    <tr>\n",
              "      <th>std</th>\n",
              "      <td>1.080276</td>\n",
              "      <td>2.521527</td>\n",
              "    </tr>\n",
              "    <tr>\n",
              "      <th>min</th>\n",
              "      <td>-0.888889</td>\n",
              "      <td>-0.887309</td>\n",
              "    </tr>\n",
              "    <tr>\n",
              "      <th>25%</th>\n",
              "      <td>-0.333333</td>\n",
              "      <td>-0.491104</td>\n",
              "    </tr>\n",
              "    <tr>\n",
              "      <th>50%</th>\n",
              "      <td>0.000000</td>\n",
              "      <td>0.000000</td>\n",
              "    </tr>\n",
              "    <tr>\n",
              "      <th>75%</th>\n",
              "      <td>0.666667</td>\n",
              "      <td>0.508896</td>\n",
              "    </tr>\n",
              "    <tr>\n",
              "      <th>max</th>\n",
              "      <td>12.666667</td>\n",
              "      <td>104.885786</td>\n",
              "    </tr>\n",
              "  </tbody>\n",
              "</table>\n",
              "</div>\n",
              "      <button class=\"colab-df-convert\" onclick=\"convertToInteractive('df-e67143c3-6f15-40d1-bf88-458281a8cf5c')\"\n",
              "              title=\"Convert this dataframe to an interactive table.\"\n",
              "              style=\"display:none;\">\n",
              "        \n",
              "  <svg xmlns=\"http://www.w3.org/2000/svg\" height=\"24px\"viewBox=\"0 0 24 24\"\n",
              "       width=\"24px\">\n",
              "    <path d=\"M0 0h24v24H0V0z\" fill=\"none\"/>\n",
              "    <path d=\"M18.56 5.44l.94 2.06.94-2.06 2.06-.94-2.06-.94-.94-2.06-.94 2.06-2.06.94zm-11 1L8.5 8.5l.94-2.06 2.06-.94-2.06-.94L8.5 2.5l-.94 2.06-2.06.94zm10 10l.94 2.06.94-2.06 2.06-.94-2.06-.94-.94-2.06-.94 2.06-2.06.94z\"/><path d=\"M17.41 7.96l-1.37-1.37c-.4-.4-.92-.59-1.43-.59-.52 0-1.04.2-1.43.59L10.3 9.45l-7.72 7.72c-.78.78-.78 2.05 0 2.83L4 21.41c.39.39.9.59 1.41.59.51 0 1.02-.2 1.41-.59l7.78-7.78 2.81-2.81c.8-.78.8-2.07 0-2.86zM5.41 20L4 18.59l7.72-7.72 1.47 1.35L5.41 20z\"/>\n",
              "  </svg>\n",
              "      </button>\n",
              "      \n",
              "  <style>\n",
              "    .colab-df-container {\n",
              "      display:flex;\n",
              "      flex-wrap:wrap;\n",
              "      gap: 12px;\n",
              "    }\n",
              "\n",
              "    .colab-df-convert {\n",
              "      background-color: #E8F0FE;\n",
              "      border: none;\n",
              "      border-radius: 50%;\n",
              "      cursor: pointer;\n",
              "      display: none;\n",
              "      fill: #1967D2;\n",
              "      height: 32px;\n",
              "      padding: 0 0 0 0;\n",
              "      width: 32px;\n",
              "    }\n",
              "\n",
              "    .colab-df-convert:hover {\n",
              "      background-color: #E2EBFA;\n",
              "      box-shadow: 0px 1px 2px rgba(60, 64, 67, 0.3), 0px 1px 3px 1px rgba(60, 64, 67, 0.15);\n",
              "      fill: #174EA6;\n",
              "    }\n",
              "\n",
              "    [theme=dark] .colab-df-convert {\n",
              "      background-color: #3B4455;\n",
              "      fill: #D2E3FC;\n",
              "    }\n",
              "\n",
              "    [theme=dark] .colab-df-convert:hover {\n",
              "      background-color: #434B5C;\n",
              "      box-shadow: 0px 1px 3px 1px rgba(0, 0, 0, 0.15);\n",
              "      filter: drop-shadow(0px 1px 2px rgba(0, 0, 0, 0.3));\n",
              "      fill: #FFFFFF;\n",
              "    }\n",
              "  </style>\n",
              "\n",
              "      <script>\n",
              "        const buttonEl =\n",
              "          document.querySelector('#df-e67143c3-6f15-40d1-bf88-458281a8cf5c button.colab-df-convert');\n",
              "        buttonEl.style.display =\n",
              "          google.colab.kernel.accessAllowed ? 'block' : 'none';\n",
              "\n",
              "        async function convertToInteractive(key) {\n",
              "          const element = document.querySelector('#df-e67143c3-6f15-40d1-bf88-458281a8cf5c');\n",
              "          const dataTable =\n",
              "            await google.colab.kernel.invokeFunction('convertToInteractive',\n",
              "                                                     [key], {});\n",
              "          if (!dataTable) return;\n",
              "\n",
              "          const docLinkHtml = 'Like what you see? Visit the ' +\n",
              "            '<a target=\"_blank\" href=https://colab.research.google.com/notebooks/data_table.ipynb>data table notebook</a>'\n",
              "            + ' to learn more about interactive tables.';\n",
              "          element.innerHTML = '';\n",
              "          dataTable['output_type'] = 'display_data';\n",
              "          await google.colab.output.renderOutput(dataTable, element);\n",
              "          const docLink = document.createElement('div');\n",
              "          docLink.innerHTML = docLinkHtml;\n",
              "          element.appendChild(docLink);\n",
              "        }\n",
              "      </script>\n",
              "    </div>\n",
              "  </div>\n",
              "  "
            ]
          },
          "metadata": {},
          "execution_count": 25
        }
      ]
    },
    {
      "cell_type": "markdown",
      "source": [
        "### Modeling \n",
        "\n",
        "However, at the end of the day, the choice of using normalization or standardization will depend on your problem and the machine learning algorithm you are using. There is no hard and fast rule to tell you when to normalize or standardize your data. You can always start by fitting your model to:\n",
        "- 1-  raw, \n",
        "- 2- normalized\n",
        "- 3-  standardized data \n",
        "\n",
        "then comparing the performance for the best results."
      ],
      "metadata": {
        "id": "JTfB0ymP4xSP"
      }
    },
    {
      "cell_type": "markdown",
      "source": [
        "**1-KNeighborsRegressor**"
      ],
      "metadata": {
        "id": "xlckbZHpR-TK"
      }
    },
    {
      "cell_type": "code",
      "source": [
        "#let's do a simple exmaple where we compare results with the different features scaling techniques. We will remove the categorical data for this. \n",
        "\n",
        "#the model we will be using is K Nearest Neighbors which can use euclidean distance. \n",
        "\n",
        "#we will use year and odometer to predict price \n",
        "\n",
        "from sklearn.neighbors import KNeighborsRegressor\n",
        "from sklearn.metrics import mean_absolute_error\n",
        "\n",
        "#noscaling \n",
        "neigh_am = KNeighborsRegressor(n_neighbors=3)\n",
        "neigh_am.fit(X_train.loc[:,['car_age','odometer']], y_train)\n",
        "pred = neigh_am.predict(X_test.loc[:,['car_age','odometer']])\n",
        "\n",
        "#absolute max \n",
        "neigh_am = KNeighborsRegressor(n_neighbors=3)\n",
        "neigh_am.fit(df_am.loc[:,['car_age','odometer']], y_train)\n",
        "am_pred = neigh_am.predict(X_test.loc[:,['car_age','odometer']])\n",
        "\n",
        "#min max (should get same results)\n",
        "neigh_mm = KNeighborsRegressor(n_neighbors=3)\n",
        "neigh_mm.fit(df_min_max.loc[:,['car_age','odometer']], y_train)\n",
        "mm_pred = neigh_mm.predict(X_test.loc[:,['car_age','odometer']])\n",
        "\n",
        "#standard (z score)\n",
        "neigh_std = KNeighborsRegressor(n_neighbors=3)\n",
        "neigh_std.fit(df_std.loc[:,['car_age','odometer']], y_train)\n",
        "std_pred = neigh_std.predict(X_test.loc[:,['car_age','odometer']])\n",
        "\n",
        "#robust scaler \n",
        "neigh_rob = KNeighborsRegressor(n_neighbors=3)\n",
        "neigh_rob.fit(df_rob.loc[:,['car_age','odometer']], y_train)\n",
        "rob_pred = neigh_rob.predict(X_test.loc[:,['car_age','odometer']])\n",
        "\n"
      ],
      "metadata": {
        "id": "115GKpcI4-tP"
      },
      "execution_count": 26,
      "outputs": []
    },
    {
      "cell_type": "code",
      "source": [
        "# print('No Scaling: %.3f' % mean_absolute_error(y_test,pred))\n",
        "# print('Abosolute Max Score: %.3f' % mean_absolute_error(y_test,am_pred))\n",
        "# print('Min Max Score: %.3f' % mean_absolute_error(y_test,mm_pred))\n",
        "# print('Standard Scaling Score: %.3f' % mean_absolute_error(y_test,std_pred))\n",
        "# print('Robust Scaler Score: %.3f' % mean_absolute_error(y_test,rob_pred))\n",
        "\n",
        "rmse=[]\n",
        "rmse.append(mean_absolute_error(y_test,pred) )\n",
        "rmse.append( mean_absolute_error(y_test,am_pred))\n",
        "rmse.append(mean_absolute_error(y_test,mm_pred))\n",
        "rmse.append(mean_absolute_error(y_test,std_pred))\n",
        "rmse.append(mean_absolute_error(y_test,rob_pred))\n",
        "\n",
        "# visualizing the result\n",
        "df_reults = pd.DataFrame({'MAE':KNeighborsRegressor},index=['No Scaling','Abosolute Max Score','Min Max Score','standard Scaling','Robust Scaler'])\n",
        "df_reults\n"
      ],
      "metadata": {
        "colab": {
          "base_uri": "https://localhost:8080/",
          "height": 206
        },
        "id": "MXPwAgQe5Bc_",
        "outputId": "8d5fe739-932b-4202-b465-a3fdf1fa121d"
      },
      "execution_count": 48,
      "outputs": [
        {
          "output_type": "execute_result",
          "data": {
            "text/plain": [
              "                              MAE\n",
              "No Scaling           10021.848845\n",
              "Abosolute Max Score  13872.915866\n",
              "Min Max Score        13872.915866\n",
              "standard Scaling     14068.828275\n",
              "Robust Scaler        14195.764879"
            ],
            "text/html": [
              "\n",
              "  <div id=\"df-46a651b3-a608-4cef-b817-559e9ec93aad\">\n",
              "    <div class=\"colab-df-container\">\n",
              "      <div>\n",
              "<style scoped>\n",
              "    .dataframe tbody tr th:only-of-type {\n",
              "        vertical-align: middle;\n",
              "    }\n",
              "\n",
              "    .dataframe tbody tr th {\n",
              "        vertical-align: top;\n",
              "    }\n",
              "\n",
              "    .dataframe thead th {\n",
              "        text-align: right;\n",
              "    }\n",
              "</style>\n",
              "<table border=\"1\" class=\"dataframe\">\n",
              "  <thead>\n",
              "    <tr style=\"text-align: right;\">\n",
              "      <th></th>\n",
              "      <th>MAE</th>\n",
              "    </tr>\n",
              "  </thead>\n",
              "  <tbody>\n",
              "    <tr>\n",
              "      <th>No Scaling</th>\n",
              "      <td>10021.848845</td>\n",
              "    </tr>\n",
              "    <tr>\n",
              "      <th>Abosolute Max Score</th>\n",
              "      <td>13872.915866</td>\n",
              "    </tr>\n",
              "    <tr>\n",
              "      <th>Min Max Score</th>\n",
              "      <td>13872.915866</td>\n",
              "    </tr>\n",
              "    <tr>\n",
              "      <th>standard Scaling</th>\n",
              "      <td>14068.828275</td>\n",
              "    </tr>\n",
              "    <tr>\n",
              "      <th>Robust Scaler</th>\n",
              "      <td>14195.764879</td>\n",
              "    </tr>\n",
              "  </tbody>\n",
              "</table>\n",
              "</div>\n",
              "      <button class=\"colab-df-convert\" onclick=\"convertToInteractive('df-46a651b3-a608-4cef-b817-559e9ec93aad')\"\n",
              "              title=\"Convert this dataframe to an interactive table.\"\n",
              "              style=\"display:none;\">\n",
              "        \n",
              "  <svg xmlns=\"http://www.w3.org/2000/svg\" height=\"24px\"viewBox=\"0 0 24 24\"\n",
              "       width=\"24px\">\n",
              "    <path d=\"M0 0h24v24H0V0z\" fill=\"none\"/>\n",
              "    <path d=\"M18.56 5.44l.94 2.06.94-2.06 2.06-.94-2.06-.94-.94-2.06-.94 2.06-2.06.94zm-11 1L8.5 8.5l.94-2.06 2.06-.94-2.06-.94L8.5 2.5l-.94 2.06-2.06.94zm10 10l.94 2.06.94-2.06 2.06-.94-2.06-.94-.94-2.06-.94 2.06-2.06.94z\"/><path d=\"M17.41 7.96l-1.37-1.37c-.4-.4-.92-.59-1.43-.59-.52 0-1.04.2-1.43.59L10.3 9.45l-7.72 7.72c-.78.78-.78 2.05 0 2.83L4 21.41c.39.39.9.59 1.41.59.51 0 1.02-.2 1.41-.59l7.78-7.78 2.81-2.81c.8-.78.8-2.07 0-2.86zM5.41 20L4 18.59l7.72-7.72 1.47 1.35L5.41 20z\"/>\n",
              "  </svg>\n",
              "      </button>\n",
              "      \n",
              "  <style>\n",
              "    .colab-df-container {\n",
              "      display:flex;\n",
              "      flex-wrap:wrap;\n",
              "      gap: 12px;\n",
              "    }\n",
              "\n",
              "    .colab-df-convert {\n",
              "      background-color: #E8F0FE;\n",
              "      border: none;\n",
              "      border-radius: 50%;\n",
              "      cursor: pointer;\n",
              "      display: none;\n",
              "      fill: #1967D2;\n",
              "      height: 32px;\n",
              "      padding: 0 0 0 0;\n",
              "      width: 32px;\n",
              "    }\n",
              "\n",
              "    .colab-df-convert:hover {\n",
              "      background-color: #E2EBFA;\n",
              "      box-shadow: 0px 1px 2px rgba(60, 64, 67, 0.3), 0px 1px 3px 1px rgba(60, 64, 67, 0.15);\n",
              "      fill: #174EA6;\n",
              "    }\n",
              "\n",
              "    [theme=dark] .colab-df-convert {\n",
              "      background-color: #3B4455;\n",
              "      fill: #D2E3FC;\n",
              "    }\n",
              "\n",
              "    [theme=dark] .colab-df-convert:hover {\n",
              "      background-color: #434B5C;\n",
              "      box-shadow: 0px 1px 3px 1px rgba(0, 0, 0, 0.15);\n",
              "      filter: drop-shadow(0px 1px 2px rgba(0, 0, 0, 0.3));\n",
              "      fill: #FFFFFF;\n",
              "    }\n",
              "  </style>\n",
              "\n",
              "      <script>\n",
              "        const buttonEl =\n",
              "          document.querySelector('#df-46a651b3-a608-4cef-b817-559e9ec93aad button.colab-df-convert');\n",
              "        buttonEl.style.display =\n",
              "          google.colab.kernel.accessAllowed ? 'block' : 'none';\n",
              "\n",
              "        async function convertToInteractive(key) {\n",
              "          const element = document.querySelector('#df-46a651b3-a608-4cef-b817-559e9ec93aad');\n",
              "          const dataTable =\n",
              "            await google.colab.kernel.invokeFunction('convertToInteractive',\n",
              "                                                     [key], {});\n",
              "          if (!dataTable) return;\n",
              "\n",
              "          const docLinkHtml = 'Like what you see? Visit the ' +\n",
              "            '<a target=\"_blank\" href=https://colab.research.google.com/notebooks/data_table.ipynb>data table notebook</a>'\n",
              "            + ' to learn more about interactive tables.';\n",
              "          element.innerHTML = '';\n",
              "          dataTable['output_type'] = 'display_data';\n",
              "          await google.colab.output.renderOutput(dataTable, element);\n",
              "          const docLink = document.createElement('div');\n",
              "          docLink.innerHTML = docLinkHtml;\n",
              "          element.appendChild(docLink);\n",
              "        }\n",
              "      </script>\n",
              "    </div>\n",
              "  </div>\n",
              "  "
            ]
          },
          "metadata": {},
          "execution_count": 48
        }
      ]
    },
    {
      "cell_type": "markdown",
      "source": [
        "You can see that scaling the features has brought down the RMSE score . Specifically, the normalized data performs a tad bit better than the standardized data."
      ],
      "metadata": {
        "id": "7AwsMnrpRrad"
      }
    },
    {
      "cell_type": "markdown",
      "source": [
        "**2-Support Vector Regressor**"
      ],
      "metadata": {
        "id": "3j4Ns8AtSB8M"
      }
    },
    {
      "cell_type": "code",
      "source": [
        "\n",
        "#let's do a simple exmaple where we compare results with the different features scaling techniques. We will remove the categorical data for this. \n",
        "\n",
        "#the model we will be using is SVR. \n",
        "\n",
        "#we will use year and odometer to predict price \n",
        "\n",
        "from  sklearn.svm import SVR\n",
        "from sklearn.metrics import mean_absolute_error\n",
        "\n",
        "#noscaling \n",
        "svr_am = SVR(kernel='rbf',C=5)\n",
        "svr_am.fit(X_train.loc[:,['car_age','odometer']], y_train)\n",
        "pred = svr_am.predict(X_test.loc[:,['car_age','odometer']])\n",
        "\n",
        "#absolute max \n",
        "svm_am = SVR(kernel='rbf',C=5)\n",
        "svm_am.fit(df_am.loc[:,['car_age','odometer']], y_train)\n",
        "am_pred = svm_am.predict(X_test.loc[:,['car_age','odometer']])\n",
        "\n",
        "#min max (should get same results)\n",
        "svm_mm = SVR(kernel='rbf',C=5)\n",
        "svm_mm.fit(df_min_max.loc[:,['car_age','odometer']], y_train)\n",
        "mm_pred = svm_mm.predict(X_test.loc[:,['car_age','odometer']])\n",
        "\n",
        "#standard (z score)\n",
        "svm_std = SVR(kernel='rbf',C=5)\n",
        "svm_std.fit(df_std.loc[:,['car_age','odometer']], y_train)\n",
        "std_pred = svm_std.predict(X_test.loc[:,['car_age','odometer']])\n",
        "\n",
        "#robust scaler \n",
        "svm_rob = SVR(kernel='rbf',C=5)\n",
        "svm_rob.fit(df_rob.loc[:,['car_age','odometer']], y_train)\n",
        "rob_pred = svm_rob.predict(X_test.loc[:,['car_age','odometer']])\n",
        "\n"
      ],
      "metadata": {
        "colab": {
          "base_uri": "https://localhost:8080/"
        },
        "id": "qj2C7ATTSKVf",
        "outputId": "bd57ef0a-d969-4941-83c0-e0c004c7e678"
      },
      "execution_count": 49,
      "outputs": [
        {
          "output_type": "stream",
          "name": "stderr",
          "text": [
            "/usr/local/lib/python3.8/dist-packages/sklearn/utils/validation.py:1143: DataConversionWarning: A column-vector y was passed when a 1d array was expected. Please change the shape of y to (n_samples, ), for example using ravel().\n",
            "  y = column_or_1d(y, warn=True)\n",
            "/usr/local/lib/python3.8/dist-packages/sklearn/utils/validation.py:1143: DataConversionWarning: A column-vector y was passed when a 1d array was expected. Please change the shape of y to (n_samples, ), for example using ravel().\n",
            "  y = column_or_1d(y, warn=True)\n",
            "/usr/local/lib/python3.8/dist-packages/sklearn/utils/validation.py:1143: DataConversionWarning: A column-vector y was passed when a 1d array was expected. Please change the shape of y to (n_samples, ), for example using ravel().\n",
            "  y = column_or_1d(y, warn=True)\n",
            "/usr/local/lib/python3.8/dist-packages/sklearn/utils/validation.py:1143: DataConversionWarning: A column-vector y was passed when a 1d array was expected. Please change the shape of y to (n_samples, ), for example using ravel().\n",
            "  y = column_or_1d(y, warn=True)\n",
            "/usr/local/lib/python3.8/dist-packages/sklearn/utils/validation.py:1143: DataConversionWarning: A column-vector y was passed when a 1d array was expected. Please change the shape of y to (n_samples, ), for example using ravel().\n",
            "  y = column_or_1d(y, warn=True)\n"
          ]
        }
      ]
    },
    {
      "cell_type": "code",
      "source": [
        "rmse=[]\n",
        "rmse.append(mean_absolute_error(y_test,pred) )\n",
        "rmse.append( mean_absolute_error(y_test,am_pred))\n",
        "rmse.append(mean_absolute_error(y_test,mm_pred))\n",
        "rmse.append(mean_absolute_error(y_test,std_pred))\n",
        "rmse.append(mean_absolute_error(y_test,rob_pred))\n",
        "\n",
        "# visualizing the result\n",
        "df_reults = pd.DataFrame({'MAE - SVM':rmse},index=['No Scaling','Abosolute Max Score','Min Max Score','standard Scaling','Robust Scaler'])\n",
        "df_reults"
      ],
      "metadata": {
        "colab": {
          "base_uri": "https://localhost:8080/",
          "height": 206
        },
        "id": "wmoo3jgYUqt6",
        "outputId": "ae8ccc68-c20e-4f56-b33d-797aa622ce02"
      },
      "execution_count": 50,
      "outputs": [
        {
          "output_type": "execute_result",
          "data": {
            "text/plain": [
              "                              MAE\n",
              "No Scaling           10574.718989\n",
              "Abosolute Max Score  11708.927932\n",
              "Min Max Score        11708.927932\n",
              "standard Scaling     11699.173587\n",
              "Robust Scaler        11700.884107"
            ],
            "text/html": [
              "\n",
              "  <div id=\"df-b24ee736-6385-4801-8415-795956e92aee\">\n",
              "    <div class=\"colab-df-container\">\n",
              "      <div>\n",
              "<style scoped>\n",
              "    .dataframe tbody tr th:only-of-type {\n",
              "        vertical-align: middle;\n",
              "    }\n",
              "\n",
              "    .dataframe tbody tr th {\n",
              "        vertical-align: top;\n",
              "    }\n",
              "\n",
              "    .dataframe thead th {\n",
              "        text-align: right;\n",
              "    }\n",
              "</style>\n",
              "<table border=\"1\" class=\"dataframe\">\n",
              "  <thead>\n",
              "    <tr style=\"text-align: right;\">\n",
              "      <th></th>\n",
              "      <th>MAE</th>\n",
              "    </tr>\n",
              "  </thead>\n",
              "  <tbody>\n",
              "    <tr>\n",
              "      <th>No Scaling</th>\n",
              "      <td>10574.718989</td>\n",
              "    </tr>\n",
              "    <tr>\n",
              "      <th>Abosolute Max Score</th>\n",
              "      <td>11708.927932</td>\n",
              "    </tr>\n",
              "    <tr>\n",
              "      <th>Min Max Score</th>\n",
              "      <td>11708.927932</td>\n",
              "    </tr>\n",
              "    <tr>\n",
              "      <th>standard Scaling</th>\n",
              "      <td>11699.173587</td>\n",
              "    </tr>\n",
              "    <tr>\n",
              "      <th>Robust Scaler</th>\n",
              "      <td>11700.884107</td>\n",
              "    </tr>\n",
              "  </tbody>\n",
              "</table>\n",
              "</div>\n",
              "      <button class=\"colab-df-convert\" onclick=\"convertToInteractive('df-b24ee736-6385-4801-8415-795956e92aee')\"\n",
              "              title=\"Convert this dataframe to an interactive table.\"\n",
              "              style=\"display:none;\">\n",
              "        \n",
              "  <svg xmlns=\"http://www.w3.org/2000/svg\" height=\"24px\"viewBox=\"0 0 24 24\"\n",
              "       width=\"24px\">\n",
              "    <path d=\"M0 0h24v24H0V0z\" fill=\"none\"/>\n",
              "    <path d=\"M18.56 5.44l.94 2.06.94-2.06 2.06-.94-2.06-.94-.94-2.06-.94 2.06-2.06.94zm-11 1L8.5 8.5l.94-2.06 2.06-.94-2.06-.94L8.5 2.5l-.94 2.06-2.06.94zm10 10l.94 2.06.94-2.06 2.06-.94-2.06-.94-.94-2.06-.94 2.06-2.06.94z\"/><path d=\"M17.41 7.96l-1.37-1.37c-.4-.4-.92-.59-1.43-.59-.52 0-1.04.2-1.43.59L10.3 9.45l-7.72 7.72c-.78.78-.78 2.05 0 2.83L4 21.41c.39.39.9.59 1.41.59.51 0 1.02-.2 1.41-.59l7.78-7.78 2.81-2.81c.8-.78.8-2.07 0-2.86zM5.41 20L4 18.59l7.72-7.72 1.47 1.35L5.41 20z\"/>\n",
              "  </svg>\n",
              "      </button>\n",
              "      \n",
              "  <style>\n",
              "    .colab-df-container {\n",
              "      display:flex;\n",
              "      flex-wrap:wrap;\n",
              "      gap: 12px;\n",
              "    }\n",
              "\n",
              "    .colab-df-convert {\n",
              "      background-color: #E8F0FE;\n",
              "      border: none;\n",
              "      border-radius: 50%;\n",
              "      cursor: pointer;\n",
              "      display: none;\n",
              "      fill: #1967D2;\n",
              "      height: 32px;\n",
              "      padding: 0 0 0 0;\n",
              "      width: 32px;\n",
              "    }\n",
              "\n",
              "    .colab-df-convert:hover {\n",
              "      background-color: #E2EBFA;\n",
              "      box-shadow: 0px 1px 2px rgba(60, 64, 67, 0.3), 0px 1px 3px 1px rgba(60, 64, 67, 0.15);\n",
              "      fill: #174EA6;\n",
              "    }\n",
              "\n",
              "    [theme=dark] .colab-df-convert {\n",
              "      background-color: #3B4455;\n",
              "      fill: #D2E3FC;\n",
              "    }\n",
              "\n",
              "    [theme=dark] .colab-df-convert:hover {\n",
              "      background-color: #434B5C;\n",
              "      box-shadow: 0px 1px 3px 1px rgba(0, 0, 0, 0.15);\n",
              "      filter: drop-shadow(0px 1px 2px rgba(0, 0, 0, 0.3));\n",
              "      fill: #FFFFFF;\n",
              "    }\n",
              "  </style>\n",
              "\n",
              "      <script>\n",
              "        const buttonEl =\n",
              "          document.querySelector('#df-b24ee736-6385-4801-8415-795956e92aee button.colab-df-convert');\n",
              "        buttonEl.style.display =\n",
              "          google.colab.kernel.accessAllowed ? 'block' : 'none';\n",
              "\n",
              "        async function convertToInteractive(key) {\n",
              "          const element = document.querySelector('#df-b24ee736-6385-4801-8415-795956e92aee');\n",
              "          const dataTable =\n",
              "            await google.colab.kernel.invokeFunction('convertToInteractive',\n",
              "                                                     [key], {});\n",
              "          if (!dataTable) return;\n",
              "\n",
              "          const docLinkHtml = 'Like what you see? Visit the ' +\n",
              "            '<a target=\"_blank\" href=https://colab.research.google.com/notebooks/data_table.ipynb>data table notebook</a>'\n",
              "            + ' to learn more about interactive tables.';\n",
              "          element.innerHTML = '';\n",
              "          dataTable['output_type'] = 'display_data';\n",
              "          await google.colab.output.renderOutput(dataTable, element);\n",
              "          const docLink = document.createElement('div');\n",
              "          docLink.innerHTML = docLinkHtml;\n",
              "          element.appendChild(docLink);\n",
              "        }\n",
              "      </script>\n",
              "    </div>\n",
              "  </div>\n",
              "  "
            ]
          },
          "metadata": {},
          "execution_count": 50
        }
      ]
    },
    {
      "cell_type": "markdown",
      "source": [
        "We can see that scaling the features does bring down the RMSE score. And the standardized data has performed better than the normalized data.\n",
        "\n",
        "The sklearn documentation states that SVM, with RBF kernel,  assumes that all the features are centered around zero and variance is of the same order. This is because a feature with a variance greater than that of others prevents the estimator from learning from all the features. Great!\n"
      ],
      "metadata": {
        "id": "xYPT1iO_U6SL"
      }
    },
    {
      "cell_type": "markdown",
      "source": [
        "###3-Decision Tree"
      ],
      "metadata": {
        "id": "MWndPhV1VQFW"
      }
    },
    {
      "cell_type": "code",
      "source": [
        "\n",
        "#let's do a simple exmaple where we compare results with the different features scaling techniques. We will remove the categorical data for this. \n",
        "\n",
        "#the model we will be using is DecisionTreeRegressor. \n",
        "\n",
        "#we will use year and odometer to predict price \n",
        "\n",
        "from sklearn.tree import DecisionTreeRegressor\n",
        "from sklearn.metrics import mean_absolute_error\n",
        "\n",
        "#noscaling \n",
        "dt_am =DecisionTreeRegressor(max_depth=10,random_state=27)\n",
        "dt_am.fit(X_train.loc[:,['car_age','odometer']], y_train)\n",
        "pred = dt_am.predict(X_test.loc[:,['car_age','odometer']])\n",
        "\n",
        "#absolute max \n",
        "dt_am = DecisionTreeRegressor(max_depth=10,random_state=27)\n",
        "dt_am.fit(df_am.loc[:,['car_age','odometer']], y_train)\n",
        "am_pred = dt_am.predict(X_test.loc[:,['car_age','odometer']])\n",
        "\n",
        "#min max (should get same results)\n",
        "dt_mm = DecisionTreeRegressor(max_depth=10,random_state=27)\n",
        "dt_mm.fit(df_min_max.loc[:,['car_age','odometer']], y_train)\n",
        "mm_pred = dt_mm.predict(X_test.loc[:,['car_age','odometer']])\n",
        "\n",
        "#standard (z score)\n",
        "dt_std = DecisionTreeRegressor(max_depth=10,random_state=27)\n",
        "dt_std.fit(df_std.loc[:,['car_age','odometer']], y_train)\n",
        "std_pred = dt_std.predict(X_test.loc[:,['car_age','odometer']])\n",
        "\n",
        "#robust scaler \n",
        "dt_rob = DecisionTreeRegressor(max_depth=10,random_state=27)\n",
        "dt_rob.fit(df_rob.loc[:,['car_age','odometer']], y_train)\n",
        "rob_pred = dt_rob.predict(X_test.loc[:,['car_age','odometer']])\n",
        "\n"
      ],
      "metadata": {
        "id": "OymYkUl7VRUz"
      },
      "execution_count": 51,
      "outputs": []
    },
    {
      "cell_type": "code",
      "source": [
        "rmse=[]\n",
        "rmse.append(mean_absolute_error(y_test,pred) )\n",
        "rmse.append( mean_absolute_error(y_test,am_pred))\n",
        "rmse.append(mean_absolute_error(y_test,mm_pred))\n",
        "rmse.append(mean_absolute_error(y_test,std_pred))\n",
        "rmse.append(mean_absolute_error(y_test,rob_pred))\n",
        "\n",
        "# visualizing the result\n",
        "df_reults = pd.DataFrame({'MAE - DecisionTreeRegressor':rmse},index=['No Scaling','Abosolute Max Score','Min Max Score','standard Scaling','Robust Scaler'])\n",
        "df_reults"
      ],
      "metadata": {
        "colab": {
          "base_uri": "https://localhost:8080/",
          "height": 206
        },
        "id": "9JtTWUVTVRhA",
        "outputId": "0fa9eaf7-95b1-4209-ea5b-0af9fc3737fb"
      },
      "execution_count": 52,
      "outputs": [
        {
          "output_type": "execute_result",
          "data": {
            "text/plain": [
              "                        MAE - SVM\n",
              "No Scaling            8833.482868\n",
              "Abosolute Max Score  14535.729955\n",
              "Min Max Score        14535.729955\n",
              "standard Scaling     14721.679499\n",
              "Robust Scaler        14747.108355"
            ],
            "text/html": [
              "\n",
              "  <div id=\"df-b1156e1c-f81c-47c7-aafe-f0e416404bd5\">\n",
              "    <div class=\"colab-df-container\">\n",
              "      <div>\n",
              "<style scoped>\n",
              "    .dataframe tbody tr th:only-of-type {\n",
              "        vertical-align: middle;\n",
              "    }\n",
              "\n",
              "    .dataframe tbody tr th {\n",
              "        vertical-align: top;\n",
              "    }\n",
              "\n",
              "    .dataframe thead th {\n",
              "        text-align: right;\n",
              "    }\n",
              "</style>\n",
              "<table border=\"1\" class=\"dataframe\">\n",
              "  <thead>\n",
              "    <tr style=\"text-align: right;\">\n",
              "      <th></th>\n",
              "      <th>MAE - SVM</th>\n",
              "    </tr>\n",
              "  </thead>\n",
              "  <tbody>\n",
              "    <tr>\n",
              "      <th>No Scaling</th>\n",
              "      <td>8833.482868</td>\n",
              "    </tr>\n",
              "    <tr>\n",
              "      <th>Abosolute Max Score</th>\n",
              "      <td>14535.729955</td>\n",
              "    </tr>\n",
              "    <tr>\n",
              "      <th>Min Max Score</th>\n",
              "      <td>14535.729955</td>\n",
              "    </tr>\n",
              "    <tr>\n",
              "      <th>standard Scaling</th>\n",
              "      <td>14721.679499</td>\n",
              "    </tr>\n",
              "    <tr>\n",
              "      <th>Robust Scaler</th>\n",
              "      <td>14747.108355</td>\n",
              "    </tr>\n",
              "  </tbody>\n",
              "</table>\n",
              "</div>\n",
              "      <button class=\"colab-df-convert\" onclick=\"convertToInteractive('df-b1156e1c-f81c-47c7-aafe-f0e416404bd5')\"\n",
              "              title=\"Convert this dataframe to an interactive table.\"\n",
              "              style=\"display:none;\">\n",
              "        \n",
              "  <svg xmlns=\"http://www.w3.org/2000/svg\" height=\"24px\"viewBox=\"0 0 24 24\"\n",
              "       width=\"24px\">\n",
              "    <path d=\"M0 0h24v24H0V0z\" fill=\"none\"/>\n",
              "    <path d=\"M18.56 5.44l.94 2.06.94-2.06 2.06-.94-2.06-.94-.94-2.06-.94 2.06-2.06.94zm-11 1L8.5 8.5l.94-2.06 2.06-.94-2.06-.94L8.5 2.5l-.94 2.06-2.06.94zm10 10l.94 2.06.94-2.06 2.06-.94-2.06-.94-.94-2.06-.94 2.06-2.06.94z\"/><path d=\"M17.41 7.96l-1.37-1.37c-.4-.4-.92-.59-1.43-.59-.52 0-1.04.2-1.43.59L10.3 9.45l-7.72 7.72c-.78.78-.78 2.05 0 2.83L4 21.41c.39.39.9.59 1.41.59.51 0 1.02-.2 1.41-.59l7.78-7.78 2.81-2.81c.8-.78.8-2.07 0-2.86zM5.41 20L4 18.59l7.72-7.72 1.47 1.35L5.41 20z\"/>\n",
              "  </svg>\n",
              "      </button>\n",
              "      \n",
              "  <style>\n",
              "    .colab-df-container {\n",
              "      display:flex;\n",
              "      flex-wrap:wrap;\n",
              "      gap: 12px;\n",
              "    }\n",
              "\n",
              "    .colab-df-convert {\n",
              "      background-color: #E8F0FE;\n",
              "      border: none;\n",
              "      border-radius: 50%;\n",
              "      cursor: pointer;\n",
              "      display: none;\n",
              "      fill: #1967D2;\n",
              "      height: 32px;\n",
              "      padding: 0 0 0 0;\n",
              "      width: 32px;\n",
              "    }\n",
              "\n",
              "    .colab-df-convert:hover {\n",
              "      background-color: #E2EBFA;\n",
              "      box-shadow: 0px 1px 2px rgba(60, 64, 67, 0.3), 0px 1px 3px 1px rgba(60, 64, 67, 0.15);\n",
              "      fill: #174EA6;\n",
              "    }\n",
              "\n",
              "    [theme=dark] .colab-df-convert {\n",
              "      background-color: #3B4455;\n",
              "      fill: #D2E3FC;\n",
              "    }\n",
              "\n",
              "    [theme=dark] .colab-df-convert:hover {\n",
              "      background-color: #434B5C;\n",
              "      box-shadow: 0px 1px 3px 1px rgba(0, 0, 0, 0.15);\n",
              "      filter: drop-shadow(0px 1px 2px rgba(0, 0, 0, 0.3));\n",
              "      fill: #FFFFFF;\n",
              "    }\n",
              "  </style>\n",
              "\n",
              "      <script>\n",
              "        const buttonEl =\n",
              "          document.querySelector('#df-b1156e1c-f81c-47c7-aafe-f0e416404bd5 button.colab-df-convert');\n",
              "        buttonEl.style.display =\n",
              "          google.colab.kernel.accessAllowed ? 'block' : 'none';\n",
              "\n",
              "        async function convertToInteractive(key) {\n",
              "          const element = document.querySelector('#df-b1156e1c-f81c-47c7-aafe-f0e416404bd5');\n",
              "          const dataTable =\n",
              "            await google.colab.kernel.invokeFunction('convertToInteractive',\n",
              "                                                     [key], {});\n",
              "          if (!dataTable) return;\n",
              "\n",
              "          const docLinkHtml = 'Like what you see? Visit the ' +\n",
              "            '<a target=\"_blank\" href=https://colab.research.google.com/notebooks/data_table.ipynb>data table notebook</a>'\n",
              "            + ' to learn more about interactive tables.';\n",
              "          element.innerHTML = '';\n",
              "          dataTable['output_type'] = 'display_data';\n",
              "          await google.colab.output.renderOutput(dataTable, element);\n",
              "          const docLink = document.createElement('div');\n",
              "          docLink.innerHTML = docLinkHtml;\n",
              "          element.appendChild(docLink);\n",
              "        }\n",
              "      </script>\n",
              "    </div>\n",
              "  </div>\n",
              "  "
            ]
          },
          "metadata": {},
          "execution_count": 52
        }
      ]
    },
    {
      "cell_type": "markdown",
      "source": [
        "You can see that the RMSE score has not moved an inch on scaling the features. So rest assured when you are using tree-based algorithms on your data"
      ],
      "metadata": {
        "id": "Ts2YwFoKWDY2"
      }
    },
    {
      "cell_type": "markdown",
      "source": [
        "**Key Takeaways**\n",
        "\n",
        "- Feature scaling is an important preprocessing step in machine learning that helps to ensure that all features are on a similar scale, which can improve the performance of algorithms.\n",
        "\n",
        "- The choice between normalization and standardization depends on the distribution of the data, the algorithm being used, and the context of the problem.\n",
        "\n",
        "- Normalization is appropriate for data with a skewed distribution, while standardization is appropriate for data with a Gaussian distribution.\n"
      ],
      "metadata": {
        "id": "zZp14mS3WXyP"
      }
    },
    {
      "cell_type": "markdown",
      "source": [
        "**Remember**\n",
        "\n",
        "1. **Standardization** involves transforming the features such that they have a mean of zero and a standard deviation of one. This is done by subtracting the mean and dividing by the standard deviation of each feature\n",
        "\n",
        "2. On the other hand, **Normalization** scales the features to a fixed range, usually [0, 1]. This is done by subtracting the minimum value of each feature and dividing by the difference between the maximum value and the minimum value."
      ],
      "metadata": {
        "id": "SeQhYXhLWuYy"
      }
    },
    {
      "cell_type": "markdown",
      "source": [
        "##Resources"
      ],
      "metadata": {
        "id": "jCbVRxgdfhXP"
      }
    },
    {
      "cell_type": "markdown",
      "source": [
        "\n",
        "\n",
        "\n",
        "\n",
        "\n",
        "1- https://www.analyticsvidhya.com/blog/2021/05/feature-scaling-techniques-in-python-a-complete-guide/\n",
        "\n",
        "2- https://www.analyticsvidhya.com/blog/2020/04/feature-scaling-machine-learning-normalization-standardization/#:~:text=Normalization%20is%20a%20scaling%20technique,known%20as%20Min%2DMax%20scaling.&text=Here%2C%20Xmax%20and%20Xmin%20are,values%20of%20the%20feature%20respectively.\n",
        "\n",
        "\n",
        "3- https://www.analyticsvidhya.com/blog/2021/05/feature-scaling-techniques-in-python-a-complete-guide/\n"
      ],
      "metadata": {
        "id": "QXyZTAizXZDh"
      }
    },
    {
      "cell_type": "code",
      "source": [],
      "metadata": {
        "id": "y-9BBjyzXcXn"
      },
      "execution_count": null,
      "outputs": []
    }
  ]
}