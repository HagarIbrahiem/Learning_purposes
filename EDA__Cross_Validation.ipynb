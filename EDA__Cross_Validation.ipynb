{
  "nbformat": 4,
  "nbformat_minor": 0,
  "metadata": {
    "colab": {
      "provenance": [],
      "collapsed_sections": [
        "BgT8WgpI9plF",
        "gfD-yT9z-snS",
        "VfRY6XykbEpj"
      ],
      "authorship_tag": "ABX9TyMXfbkY+RfpNI2g50kM7LuL",
      "include_colab_link": true
    },
    "kernelspec": {
      "name": "python3",
      "display_name": "Python 3"
    },
    "language_info": {
      "name": "python"
    }
  },
  "cells": [
    {
      "cell_type": "markdown",
      "metadata": {
        "id": "view-in-github",
        "colab_type": "text"
      },
      "source": [
        "<a href=\"https://colab.research.google.com/github/HagarIbrahiem/Learning_purposes/blob/main/EDA__Cross_Validation.ipynb\" target=\"_parent\"><img src=\"https://colab.research.google.com/assets/colab-badge.svg\" alt=\"Open In Colab\"/></a>"
      ]
    },
    {
      "cell_type": "markdown",
      "source": [
        "#**Cross Vaalidation**\n",
        "\n",
        " Cross-Validation is a validation technique for assessing the functioning of a particular model with the help of samples obtained from a data set.\n",
        "\n",
        " While there are numerous ways to cross-validate a model, all methods aim to test a data sample kept aside from the training data set. A set of 3 steps are involved in the process of cross-validation. These are as follows :\n",
        "\n",
        " \n",
        "\n",
        "1- Separate a part of the data set from the rest.\n",
        "\n",
        "2- Utilize the rest of the data set to train the ML model.\n",
        "\n",
        "3- Once the model is ready, validate the model using the data set that was separated earlier.\n",
        "\n"
      ],
      "metadata": {
        "id": "1ypbgSbxKTn2"
      }
    },
    {
      "cell_type": "markdown",
      "source": [
        "**Why Cross-Validation is Important?**\n",
        "\n",
        "1- More than validating the model and testing its accuracy, cross-validation is used for measuring overfitting and any other errors that might be noticed while testing the model.\n",
        "\n",
        "2- Similarly, cross-validation can also be used to identify and mitigate underfitting.\n",
        "\n",
        "3- CV is useful if we have limited data when our test set is not large enough. \n",
        "\n",
        "4- It is always preferred to use a model with better CV performance"
      ],
      "metadata": {
        "id": "WJzO2DrmLBXZ"
      }
    },
    {
      "cell_type": "markdown",
      "source": [
        "### Load Data"
      ],
      "metadata": {
        "id": "GN9sAQMyaQdB"
      }
    },
    {
      "cell_type": "code",
      "execution_count": 1,
      "metadata": {
        "id": "CrP2y7W98qqh"
      },
      "outputs": [],
      "source": [
        "import numpy as np\n",
        "import pandas as pd\n",
        "import matplotlib.pyplot as plt"
      ]
    },
    {
      "cell_type": "code",
      "source": [
        "from google.colab import drive\n",
        "drive.mount('/content/drive')\n",
        "!ls drive/'My Drive'/ML_Process_Data_Files/Section_8_Cross_Validation"
      ],
      "metadata": {
        "colab": {
          "base_uri": "https://localhost:8080/"
        },
        "id": "cLuQrl2X8uZj",
        "outputId": "1bc0a91f-59f1-42dc-e89f-a85a7224665e"
      },
      "execution_count": 2,
      "outputs": [
        {
          "output_type": "stream",
          "name": "stdout",
          "text": [
            "Mounted at /content/drive\n",
            "fraud_data.csv\n"
          ]
        }
      ]
    },
    {
      "cell_type": "code",
      "source": [
        "df = pd.read_csv(\"drive/My Drive/ML_Process_Data_Files/Section_8_Cross_Validation/fraud_data.csv\")\n",
        "\n"
      ],
      "metadata": {
        "id": "eX1fWNmE8u4y"
      },
      "execution_count": 37,
      "outputs": []
    },
    {
      "cell_type": "code",
      "source": [
        "df.shape"
      ],
      "metadata": {
        "colab": {
          "base_uri": "https://localhost:8080/"
        },
        "id": "Ue4oDI779BV2",
        "outputId": "9f2de456-cb85-47cd-ffc6-a5ebf31c9f59"
      },
      "execution_count": 4,
      "outputs": [
        {
          "output_type": "execute_result",
          "data": {
            "text/plain": [
              "(108213, 14)"
            ]
          },
          "metadata": {},
          "execution_count": 4
        }
      ]
    },
    {
      "cell_type": "code",
      "source": [
        "df[df['isFraud'] == 1].shape"
      ],
      "metadata": {
        "colab": {
          "base_uri": "https://localhost:8080/"
        },
        "id": "b1CeYXUw9HhK",
        "outputId": "27478eb8-3496-4ddc-d163-1e0aed0a069a"
      },
      "execution_count": 5,
      "outputs": [
        {
          "output_type": "execute_result",
          "data": {
            "text/plain": [
              "(8213, 14)"
            ]
          },
          "metadata": {},
          "execution_count": 5
        }
      ]
    },
    {
      "cell_type": "code",
      "source": [
        "df[df['isFraud'] == 0].shape"
      ],
      "metadata": {
        "colab": {
          "base_uri": "https://localhost:8080/"
        },
        "id": "hfYsRSLO9K8v",
        "outputId": "cd72c08a-8c1a-422b-c7f3-6494bb5a79c4"
      },
      "execution_count": 7,
      "outputs": [
        {
          "output_type": "execute_result",
          "data": {
            "text/plain": [
              "(100000, 14)"
            ]
          },
          "metadata": {},
          "execution_count": 7
        }
      ]
    },
    {
      "cell_type": "code",
      "source": [
        "## Sample down to improve speed\n",
        "pos = df[df['isFraud'] == 1].copy()\n",
        "neg = df[df['isFraud'] == 0].sample(100000)\n",
        "\n",
        "df = pos.append(neg)"
      ],
      "metadata": {
        "id": "08OV1jxG8u6_"
      },
      "execution_count": 8,
      "outputs": []
    },
    {
      "cell_type": "code",
      "source": [
        "df.shape"
      ],
      "metadata": {
        "colab": {
          "base_uri": "https://localhost:8080/"
        },
        "id": "pPHsWbCQ8u-2",
        "outputId": "b89b02f4-586a-4149-f30c-e19da9ab1726"
      },
      "execution_count": 9,
      "outputs": [
        {
          "output_type": "execute_result",
          "data": {
            "text/plain": [
              "(108213, 14)"
            ]
          },
          "metadata": {},
          "execution_count": 9
        }
      ]
    },
    {
      "cell_type": "code",
      "source": [
        "df.head(1)"
      ],
      "metadata": {
        "colab": {
          "base_uri": "https://localhost:8080/",
          "height": 179
        },
        "id": "GkTp9AqK9_di",
        "outputId": "3ee239c0-d270-48e2-ba84-11d761389f54"
      },
      "execution_count": 11,
      "outputs": [
        {
          "output_type": "execute_result",
          "data": {
            "text/plain": [
              "   Unnamed: 0  Unnamed: 0.1  step      type  amount     nameOrig  \\\n",
              "0           2             2     1  TRANSFER   181.0  C1305486145   \n",
              "\n",
              "   oldbalanceOrg  newbalanceOrig    nameDest  oldbalanceDest  newbalanceDest  \\\n",
              "0          181.0             0.0  C553264065             0.0             0.0   \n",
              "\n",
              "   isFraud  isFlaggedFraud        date  \n",
              "0        1               0  2021-11-27  "
            ],
            "text/html": [
              "\n",
              "  <div id=\"df-7dae9fc7-5c15-43fa-bf6c-8769432a0ca0\">\n",
              "    <div class=\"colab-df-container\">\n",
              "      <div>\n",
              "<style scoped>\n",
              "    .dataframe tbody tr th:only-of-type {\n",
              "        vertical-align: middle;\n",
              "    }\n",
              "\n",
              "    .dataframe tbody tr th {\n",
              "        vertical-align: top;\n",
              "    }\n",
              "\n",
              "    .dataframe thead th {\n",
              "        text-align: right;\n",
              "    }\n",
              "</style>\n",
              "<table border=\"1\" class=\"dataframe\">\n",
              "  <thead>\n",
              "    <tr style=\"text-align: right;\">\n",
              "      <th></th>\n",
              "      <th>Unnamed: 0</th>\n",
              "      <th>Unnamed: 0.1</th>\n",
              "      <th>step</th>\n",
              "      <th>type</th>\n",
              "      <th>amount</th>\n",
              "      <th>nameOrig</th>\n",
              "      <th>oldbalanceOrg</th>\n",
              "      <th>newbalanceOrig</th>\n",
              "      <th>nameDest</th>\n",
              "      <th>oldbalanceDest</th>\n",
              "      <th>newbalanceDest</th>\n",
              "      <th>isFraud</th>\n",
              "      <th>isFlaggedFraud</th>\n",
              "      <th>date</th>\n",
              "    </tr>\n",
              "  </thead>\n",
              "  <tbody>\n",
              "    <tr>\n",
              "      <th>0</th>\n",
              "      <td>2</td>\n",
              "      <td>2</td>\n",
              "      <td>1</td>\n",
              "      <td>TRANSFER</td>\n",
              "      <td>181.0</td>\n",
              "      <td>C1305486145</td>\n",
              "      <td>181.0</td>\n",
              "      <td>0.0</td>\n",
              "      <td>C553264065</td>\n",
              "      <td>0.0</td>\n",
              "      <td>0.0</td>\n",
              "      <td>1</td>\n",
              "      <td>0</td>\n",
              "      <td>2021-11-27</td>\n",
              "    </tr>\n",
              "  </tbody>\n",
              "</table>\n",
              "</div>\n",
              "      <button class=\"colab-df-convert\" onclick=\"convertToInteractive('df-7dae9fc7-5c15-43fa-bf6c-8769432a0ca0')\"\n",
              "              title=\"Convert this dataframe to an interactive table.\"\n",
              "              style=\"display:none;\">\n",
              "        \n",
              "  <svg xmlns=\"http://www.w3.org/2000/svg\" height=\"24px\"viewBox=\"0 0 24 24\"\n",
              "       width=\"24px\">\n",
              "    <path d=\"M0 0h24v24H0V0z\" fill=\"none\"/>\n",
              "    <path d=\"M18.56 5.44l.94 2.06.94-2.06 2.06-.94-2.06-.94-.94-2.06-.94 2.06-2.06.94zm-11 1L8.5 8.5l.94-2.06 2.06-.94-2.06-.94L8.5 2.5l-.94 2.06-2.06.94zm10 10l.94 2.06.94-2.06 2.06-.94-2.06-.94-.94-2.06-.94 2.06-2.06.94z\"/><path d=\"M17.41 7.96l-1.37-1.37c-.4-.4-.92-.59-1.43-.59-.52 0-1.04.2-1.43.59L10.3 9.45l-7.72 7.72c-.78.78-.78 2.05 0 2.83L4 21.41c.39.39.9.59 1.41.59.51 0 1.02-.2 1.41-.59l7.78-7.78 2.81-2.81c.8-.78.8-2.07 0-2.86zM5.41 20L4 18.59l7.72-7.72 1.47 1.35L5.41 20z\"/>\n",
              "  </svg>\n",
              "      </button>\n",
              "      \n",
              "  <style>\n",
              "    .colab-df-container {\n",
              "      display:flex;\n",
              "      flex-wrap:wrap;\n",
              "      gap: 12px;\n",
              "    }\n",
              "\n",
              "    .colab-df-convert {\n",
              "      background-color: #E8F0FE;\n",
              "      border: none;\n",
              "      border-radius: 50%;\n",
              "      cursor: pointer;\n",
              "      display: none;\n",
              "      fill: #1967D2;\n",
              "      height: 32px;\n",
              "      padding: 0 0 0 0;\n",
              "      width: 32px;\n",
              "    }\n",
              "\n",
              "    .colab-df-convert:hover {\n",
              "      background-color: #E2EBFA;\n",
              "      box-shadow: 0px 1px 2px rgba(60, 64, 67, 0.3), 0px 1px 3px 1px rgba(60, 64, 67, 0.15);\n",
              "      fill: #174EA6;\n",
              "    }\n",
              "\n",
              "    [theme=dark] .colab-df-convert {\n",
              "      background-color: #3B4455;\n",
              "      fill: #D2E3FC;\n",
              "    }\n",
              "\n",
              "    [theme=dark] .colab-df-convert:hover {\n",
              "      background-color: #434B5C;\n",
              "      box-shadow: 0px 1px 3px 1px rgba(0, 0, 0, 0.15);\n",
              "      filter: drop-shadow(0px 1px 2px rgba(0, 0, 0, 0.3));\n",
              "      fill: #FFFFFF;\n",
              "    }\n",
              "  </style>\n",
              "\n",
              "      <script>\n",
              "        const buttonEl =\n",
              "          document.querySelector('#df-7dae9fc7-5c15-43fa-bf6c-8769432a0ca0 button.colab-df-convert');\n",
              "        buttonEl.style.display =\n",
              "          google.colab.kernel.accessAllowed ? 'block' : 'none';\n",
              "\n",
              "        async function convertToInteractive(key) {\n",
              "          const element = document.querySelector('#df-7dae9fc7-5c15-43fa-bf6c-8769432a0ca0');\n",
              "          const dataTable =\n",
              "            await google.colab.kernel.invokeFunction('convertToInteractive',\n",
              "                                                     [key], {});\n",
              "          if (!dataTable) return;\n",
              "\n",
              "          const docLinkHtml = 'Like what you see? Visit the ' +\n",
              "            '<a target=\"_blank\" href=https://colab.research.google.com/notebooks/data_table.ipynb>data table notebook</a>'\n",
              "            + ' to learn more about interactive tables.';\n",
              "          element.innerHTML = '';\n",
              "          dataTable['output_type'] = 'display_data';\n",
              "          await google.colab.output.renderOutput(dataTable, element);\n",
              "          const docLink = document.createElement('div');\n",
              "          docLink.innerHTML = docLinkHtml;\n",
              "          element.appendChild(docLink);\n",
              "        }\n",
              "      </script>\n",
              "    </div>\n",
              "  </div>\n",
              "  "
            ]
          },
          "metadata": {},
          "execution_count": 11
        }
      ]
    },
    {
      "cell_type": "code",
      "source": [
        "df.columns"
      ],
      "metadata": {
        "colab": {
          "base_uri": "https://localhost:8080/"
        },
        "id": "L_NGSSEb-Hwi",
        "outputId": "bb71ea3f-52fb-4513-e1fb-e864795c2ec2"
      },
      "execution_count": 12,
      "outputs": [
        {
          "output_type": "execute_result",
          "data": {
            "text/plain": [
              "Index(['Unnamed: 0', 'Unnamed: 0.1', 'step', 'type', 'amount', 'nameOrig',\n",
              "       'oldbalanceOrg', 'newbalanceOrig', 'nameDest', 'oldbalanceDest',\n",
              "       'newbalanceDest', 'isFraud', 'isFlaggedFraud', 'date'],\n",
              "      dtype='object')"
            ]
          },
          "metadata": {},
          "execution_count": 12
        }
      ]
    },
    {
      "cell_type": "markdown",
      "source": [
        "# Cross Validation Teecniques"
      ],
      "metadata": {
        "id": "TFn_MuAQaXAE"
      }
    },
    {
      "cell_type": "markdown",
      "source": [
        "##First: Holdout Cross-Validation OR (Train-Test-Split)"
      ],
      "metadata": {
        "id": "TWwcc5E0agGb"
      }
    },
    {
      "cell_type": "markdown",
      "source": [
        "\n",
        "\n",
        "- the simplest form of CV. To get started, the data sample is divided into two parts - Training Data Set and Testing Data Set. \n",
        "\n",
        "- Before the division takes place, the data sample is shuffled so that samples get mixed and lead to an accurate training data set.\n",
        "\n",
        "- As the training data set is twice the size of the test set in machine learning, the model is trained with a large number of samples as compared to the samples available in the testing data set.  Usually, the ratio of training data set to testing data set is `70:30 or 80:20`. The next step is to train the model with the training data set and once it is trained, the model is tested with the testing data set. \n",
        "\n",
        "\n",
        "\n",
        "**Pros:**\n",
        "\n",
        "- Easy and efficient\n",
        "\n",
        "**Cons:**\n",
        "- Not suitable for an imbalanced dataset.\n",
        "- A lot of data is isolated from training the model.\n",
        "\n",
        "\n",
        " While the training data set is kept to be more than the testing data set in terms of size, it could be possible that the training data set is not representative of the whole data sample. \n",
        "\n",
        " the testing data set could contain essential characteristics of the whole data that can get missed out. This method is also known as the train/test split approach. \n",
        "\n",
        " Moreover, the drawback of using only one testing set is that the test Error can vary greatly depending on which observations were used in the training and testing sets. It’s possible that if we use a different set of observations for the training set and the testing set that our test Error could turn out to be much larger or smaller. \n",
        "\n",
        " 3- Not suitable for an imbalanced dataset, as a lot of data is isolated from training the model. \n",
        "\n",
        " One way to avoid this problem is to fit a model several times using a different training and testing set each time, then calculating the test Error to be the average of all of the test MSE’s.( K-Fold CV - Discussed later)\n",
        "\n",
        "- Typically, the most important parameters are: \n",
        "\n",
        "`X`: The feature set you're looking to split. \n",
        "\n",
        "`y`: The target variable you're looking to split.\n",
        "\n",
        "`test_size`: The size of your testing set. Typically, this is denoted as a fraction such as `0.33`. \n",
        "\n",
        "`random_state`: This is the seed of the random shuffle. I recommend setting a seed so everytime you rerun your notebook, your results stay consistent. \n",
        "\n",
        "`stratify`: This is an optional argument. But stratifying will reduce the variance in the random shuffle to ensure that your training and testing sets are more similar than not."
      ],
      "metadata": {
        "id": "BgT8WgpI9plF"
      }
    },
    {
      "cell_type": "code",
      "source": [
        "from sklearn.model_selection import train_test_split\n",
        "from sklearn.metrics import average_precision_score\n",
        "from sklearn.ensemble import RandomForestClassifier\n",
        "\n",
        "features = [\n",
        "    'amount',\n",
        "    'oldbalanceOrg',\n",
        "    'newbalanceOrig',\n",
        "    'oldbalanceDest',\n",
        "    'newbalanceDest'\n",
        "]\n",
        "\n",
        "X = df[features]\n",
        "y = df['isFraud']"
      ],
      "metadata": {
        "id": "zni0Bskb8vES"
      },
      "execution_count": 13,
      "outputs": []
    },
    {
      "cell_type": "code",
      "source": [
        "X.head()"
      ],
      "metadata": {
        "colab": {
          "base_uri": "https://localhost:8080/",
          "height": 206
        },
        "id": "cWsHTgCw8vKD",
        "outputId": "ca742e1b-85b4-494d-d8cf-7d7a59057ee3"
      },
      "execution_count": 15,
      "outputs": [
        {
          "output_type": "execute_result",
          "data": {
            "text/plain": [
              "    amount  oldbalanceOrg  newbalanceOrig  oldbalanceDest  newbalanceDest\n",
              "0    181.0          181.0             0.0             0.0             0.0\n",
              "1    181.0          181.0             0.0         21182.0             0.0\n",
              "2   2806.0         2806.0             0.0             0.0             0.0\n",
              "3   2806.0         2806.0             0.0         26202.0             0.0\n",
              "4  20128.0        20128.0             0.0             0.0             0.0"
            ],
            "text/html": [
              "\n",
              "  <div id=\"df-f6d42ee3-05ea-42d4-ab2b-8a8ac746f589\">\n",
              "    <div class=\"colab-df-container\">\n",
              "      <div>\n",
              "<style scoped>\n",
              "    .dataframe tbody tr th:only-of-type {\n",
              "        vertical-align: middle;\n",
              "    }\n",
              "\n",
              "    .dataframe tbody tr th {\n",
              "        vertical-align: top;\n",
              "    }\n",
              "\n",
              "    .dataframe thead th {\n",
              "        text-align: right;\n",
              "    }\n",
              "</style>\n",
              "<table border=\"1\" class=\"dataframe\">\n",
              "  <thead>\n",
              "    <tr style=\"text-align: right;\">\n",
              "      <th></th>\n",
              "      <th>amount</th>\n",
              "      <th>oldbalanceOrg</th>\n",
              "      <th>newbalanceOrig</th>\n",
              "      <th>oldbalanceDest</th>\n",
              "      <th>newbalanceDest</th>\n",
              "    </tr>\n",
              "  </thead>\n",
              "  <tbody>\n",
              "    <tr>\n",
              "      <th>0</th>\n",
              "      <td>181.0</td>\n",
              "      <td>181.0</td>\n",
              "      <td>0.0</td>\n",
              "      <td>0.0</td>\n",
              "      <td>0.0</td>\n",
              "    </tr>\n",
              "    <tr>\n",
              "      <th>1</th>\n",
              "      <td>181.0</td>\n",
              "      <td>181.0</td>\n",
              "      <td>0.0</td>\n",
              "      <td>21182.0</td>\n",
              "      <td>0.0</td>\n",
              "    </tr>\n",
              "    <tr>\n",
              "      <th>2</th>\n",
              "      <td>2806.0</td>\n",
              "      <td>2806.0</td>\n",
              "      <td>0.0</td>\n",
              "      <td>0.0</td>\n",
              "      <td>0.0</td>\n",
              "    </tr>\n",
              "    <tr>\n",
              "      <th>3</th>\n",
              "      <td>2806.0</td>\n",
              "      <td>2806.0</td>\n",
              "      <td>0.0</td>\n",
              "      <td>26202.0</td>\n",
              "      <td>0.0</td>\n",
              "    </tr>\n",
              "    <tr>\n",
              "      <th>4</th>\n",
              "      <td>20128.0</td>\n",
              "      <td>20128.0</td>\n",
              "      <td>0.0</td>\n",
              "      <td>0.0</td>\n",
              "      <td>0.0</td>\n",
              "    </tr>\n",
              "  </tbody>\n",
              "</table>\n",
              "</div>\n",
              "      <button class=\"colab-df-convert\" onclick=\"convertToInteractive('df-f6d42ee3-05ea-42d4-ab2b-8a8ac746f589')\"\n",
              "              title=\"Convert this dataframe to an interactive table.\"\n",
              "              style=\"display:none;\">\n",
              "        \n",
              "  <svg xmlns=\"http://www.w3.org/2000/svg\" height=\"24px\"viewBox=\"0 0 24 24\"\n",
              "       width=\"24px\">\n",
              "    <path d=\"M0 0h24v24H0V0z\" fill=\"none\"/>\n",
              "    <path d=\"M18.56 5.44l.94 2.06.94-2.06 2.06-.94-2.06-.94-.94-2.06-.94 2.06-2.06.94zm-11 1L8.5 8.5l.94-2.06 2.06-.94-2.06-.94L8.5 2.5l-.94 2.06-2.06.94zm10 10l.94 2.06.94-2.06 2.06-.94-2.06-.94-.94-2.06-.94 2.06-2.06.94z\"/><path d=\"M17.41 7.96l-1.37-1.37c-.4-.4-.92-.59-1.43-.59-.52 0-1.04.2-1.43.59L10.3 9.45l-7.72 7.72c-.78.78-.78 2.05 0 2.83L4 21.41c.39.39.9.59 1.41.59.51 0 1.02-.2 1.41-.59l7.78-7.78 2.81-2.81c.8-.78.8-2.07 0-2.86zM5.41 20L4 18.59l7.72-7.72 1.47 1.35L5.41 20z\"/>\n",
              "  </svg>\n",
              "      </button>\n",
              "      \n",
              "  <style>\n",
              "    .colab-df-container {\n",
              "      display:flex;\n",
              "      flex-wrap:wrap;\n",
              "      gap: 12px;\n",
              "    }\n",
              "\n",
              "    .colab-df-convert {\n",
              "      background-color: #E8F0FE;\n",
              "      border: none;\n",
              "      border-radius: 50%;\n",
              "      cursor: pointer;\n",
              "      display: none;\n",
              "      fill: #1967D2;\n",
              "      height: 32px;\n",
              "      padding: 0 0 0 0;\n",
              "      width: 32px;\n",
              "    }\n",
              "\n",
              "    .colab-df-convert:hover {\n",
              "      background-color: #E2EBFA;\n",
              "      box-shadow: 0px 1px 2px rgba(60, 64, 67, 0.3), 0px 1px 3px 1px rgba(60, 64, 67, 0.15);\n",
              "      fill: #174EA6;\n",
              "    }\n",
              "\n",
              "    [theme=dark] .colab-df-convert {\n",
              "      background-color: #3B4455;\n",
              "      fill: #D2E3FC;\n",
              "    }\n",
              "\n",
              "    [theme=dark] .colab-df-convert:hover {\n",
              "      background-color: #434B5C;\n",
              "      box-shadow: 0px 1px 3px 1px rgba(0, 0, 0, 0.15);\n",
              "      filter: drop-shadow(0px 1px 2px rgba(0, 0, 0, 0.3));\n",
              "      fill: #FFFFFF;\n",
              "    }\n",
              "  </style>\n",
              "\n",
              "      <script>\n",
              "        const buttonEl =\n",
              "          document.querySelector('#df-f6d42ee3-05ea-42d4-ab2b-8a8ac746f589 button.colab-df-convert');\n",
              "        buttonEl.style.display =\n",
              "          google.colab.kernel.accessAllowed ? 'block' : 'none';\n",
              "\n",
              "        async function convertToInteractive(key) {\n",
              "          const element = document.querySelector('#df-f6d42ee3-05ea-42d4-ab2b-8a8ac746f589');\n",
              "          const dataTable =\n",
              "            await google.colab.kernel.invokeFunction('convertToInteractive',\n",
              "                                                     [key], {});\n",
              "          if (!dataTable) return;\n",
              "\n",
              "          const docLinkHtml = 'Like what you see? Visit the ' +\n",
              "            '<a target=\"_blank\" href=https://colab.research.google.com/notebooks/data_table.ipynb>data table notebook</a>'\n",
              "            + ' to learn more about interactive tables.';\n",
              "          element.innerHTML = '';\n",
              "          dataTable['output_type'] = 'display_data';\n",
              "          await google.colab.output.renderOutput(dataTable, element);\n",
              "          const docLink = document.createElement('div');\n",
              "          docLink.innerHTML = docLinkHtml;\n",
              "          element.appendChild(docLink);\n",
              "        }\n",
              "      </script>\n",
              "    </div>\n",
              "  </div>\n",
              "  "
            ]
          },
          "metadata": {},
          "execution_count": 15
        }
      ]
    },
    {
      "cell_type": "code",
      "source": [
        "y.head()"
      ],
      "metadata": {
        "colab": {
          "base_uri": "https://localhost:8080/"
        },
        "id": "X59eunK48vOk",
        "outputId": "7958316a-0975-4a9e-cc27-7c36bdc8b696"
      },
      "execution_count": 16,
      "outputs": [
        {
          "output_type": "execute_result",
          "data": {
            "text/plain": [
              "0    1\n",
              "1    1\n",
              "2    1\n",
              "3    1\n",
              "4    1\n",
              "Name: isFraud, dtype: int64"
            ]
          },
          "metadata": {},
          "execution_count": 16
        }
      ]
    },
    {
      "cell_type": "code",
      "source": [
        "\n",
        "X_train, X_test, y_train, y_test = train_test_split(X, y, test_size=0.33, random_state=42)\n",
        "\n",
        "model = RandomForestClassifier()\n",
        "\n",
        "model.fit(X_train, y_train)\n",
        "y_preds = model.predict(X_test)\n",
        "\n",
        "print(average_precision_score(y_preds, y_test))"
      ],
      "metadata": {
        "colab": {
          "base_uri": "https://localhost:8080/"
        },
        "id": "FicgMlYl8vRM",
        "outputId": "db6fa17e-0fca-423e-de37-3e4e5a6e60bc"
      },
      "execution_count": 17,
      "outputs": [
        {
          "output_type": "stream",
          "name": "stdout",
          "text": [
            "0.9343445158328166\n"
          ]
        }
      ]
    },
    {
      "cell_type": "markdown",
      "source": [
        "**Taking so much time more than CV-Train_tets_split , yet Accuracy is much better**"
      ],
      "metadata": {
        "id": "feruN0Ko_wdK"
      }
    },
    {
      "cell_type": "markdown",
      "source": [
        " ## Second: K-Fold Cross Validation"
      ],
      "metadata": {
        "id": "RESxcPWqapY5"
      }
    },
    {
      "cell_type": "markdown",
      "source": [
        "\n",
        " \n",
        " K-Fold is we’re essentially dividing our dataset into multiple datasets, then running train-test-split multiple times, across these subsets.\n",
        "\n",
        "Import parameters we should keep in mind: \n",
        "\n",
        "`n_splits`: This is the number of splits we want to make within our dataset. \n",
        "\n",
        "`shuffle`: This tells us whether we should shuffle our data before splitting into folds. \n",
        "\n",
        "`random_state`: This is the random seed we're setting, similar to train-test-split.\n",
        "\n",
        "\n",
        "This particular type of cross-validation is considered to be an unbiased and inclusive validation method as it involves the training and testing of almost every subset. \n",
        "\n",
        "**Pros:**\n",
        "- The model has low bias\n",
        "- Low time complexity\n",
        "- The entire dataset is utilized for both training and validation.\n",
        "\n",
        "**Cons:**\n",
        "- Not suitable for an imbalanced dataset."
      ],
      "metadata": {
        "id": "gfD-yT9z-snS"
      }
    },
    {
      "cell_type": "markdown",
      "source": [
        "![image.png](https://miro.medium.com/v2/resize:fit:640/1*2rRcNnIokzJU_-NXm29IMA.gif)"
      ],
      "metadata": {
        "id": "37uJCQmARuAD"
      }
    },
    {
      "cell_type": "code",
      "source": [
        "from sklearn.model_selection import KFold\n",
        "\n",
        "kf = KFold(n_splits=3, shuffle = True, random_state = 42)\n",
        "kf.get_n_splits(X)\n",
        "\n",
        "folds = {}\n",
        "\n",
        "for train, test in kf.split(X):\n",
        "    # Fold\n",
        "    fold_number = 1\n",
        "    # Store fold number\n",
        "    folds[fold_number] = (train.shape, test.shape)\n",
        "    print('train: %s, test: %s' % (train.shape, test.shape))\n",
        "    fold_number += 1"
      ],
      "metadata": {
        "colab": {
          "base_uri": "https://localhost:8080/"
        },
        "id": "8IYhDtDq8vWW",
        "outputId": "cb72ff12-d9cf-479f-9186-e5873ad2bc2c"
      },
      "execution_count": 20,
      "outputs": [
        {
          "output_type": "stream",
          "name": "stdout",
          "text": [
            "train: (72142,), test: (36071,)\n",
            "train: (72142,), test: (36071,)\n",
            "train: (72142,), test: (36071,)\n"
          ]
        }
      ]
    },
    {
      "cell_type": "markdown",
      "source": [
        "After completing K-Fold Cross-Validation we'll want to calculate a cross-validation score. Typically, we'll get the scores for each fold, then take an average:"
      ],
      "metadata": {
        "id": "vmI9h-G3_j7-"
      }
    },
    {
      "cell_type": "code",
      "source": [
        "from sklearn.model_selection import cross_val_score\n",
        "\n",
        "model = RandomForestClassifier()\n",
        "\n",
        "scores = cross_val_score(model, X, y, scoring='accuracy', cv=kf, n_jobs=-1)\n",
        "\n",
        "print(np.mean(scores))"
      ],
      "metadata": {
        "colab": {
          "base_uri": "https://localhost:8080/"
        },
        "id": "o7es5sZq8vdG",
        "outputId": "9246bcac-0f72-446e-d608-aa66ea8b8baa"
      },
      "execution_count": 21,
      "outputs": [
        {
          "output_type": "stream",
          "name": "stdout",
          "text": [
            "0.9945385489728591\n"
          ]
        }
      ]
    },
    {
      "cell_type": "markdown",
      "source": [],
      "metadata": {
        "id": "8dAlN8g6ajkw"
      }
    },
    {
      "cell_type": "markdown",
      "source": [
        "**Differences between the two methods**\n",
        "\n",
        "![image.png](data:image/png;base64,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)"
      ],
      "metadata": {
        "id": "zMRfEdO8SrcQ"
      }
    },
    {
      "cell_type": "markdown",
      "source": [
        "## Third: Monte Carlo Cross Validation"
      ],
      "metadata": {
        "id": "_1I8izWfavGO"
      }
    },
    {
      "cell_type": "markdown",
      "source": [
        "\n",
        "\n",
        "Steps:\n",
        "\n",
        "1- Split training data randomly. For each iteration, the train-test split percentage is different.\n",
        "\n",
        "2- Fit the model on train data set for that iteration and calculate test error using the fitted model on test data.\n",
        "\n",
        "3- Repeat many iterations (say 100 or 500 or even 1000 iterations) and take the average of the test errors.\n",
        "\n",
        "**Pros:** \n",
        "- The model has low bias\n",
        "- Low time complexity\n",
        "- The entire dataset is utilized for both training and validation.\n",
        "\n",
        "**Cons:**\n",
        "\n",
        "- Not suitable for an imbalanced dataset.\n",
        "\n",
        "- particular data points could be left while some data points could be repeatedly used for training and testing. \n"
      ],
      "metadata": {
        "id": "lUTV5HgFDu67"
      }
    },
    {
      "cell_type": "markdown",
      "source": [
        "![image.png](data:image/png;base64,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)"
      ],
      "metadata": {
        "id": "PqjSTkv0R5o8"
      }
    },
    {
      "cell_type": "code",
      "source": [
        "from sklearn.model_selection import ShuffleSplit\n",
        "\n",
        "rs = ShuffleSplit(n_splits=5, test_size=.25, random_state=0)\n",
        "rs.get_n_splits(df)\n",
        "\n",
        "all_scores = []\n",
        "for train_index, test_index in rs.split(df):\n",
        "#     print(\"TRAIN:\", train_index, \"TEST:\", test_index)\n",
        "\n",
        "    X_train, X_test = X.iloc[train_index], X.iloc[test_index]\n",
        "    y_train, y_test = y.iloc[train_index], y.iloc[test_index]\n",
        "    \n",
        "    model = RandomForestClassifier()\n",
        "\n",
        "    model.fit(X_train, y_train)\n",
        "    y_preds = model.predict(X_test)\n",
        "\n",
        "    pr_auc = average_precision_score(y_preds, y_test)\n",
        "    \n",
        "    all_scores.append(pr_auc)"
      ],
      "metadata": {
        "id": "7mMFL95IDogD"
      },
      "execution_count": 26,
      "outputs": []
    },
    {
      "cell_type": "code",
      "source": [
        "all_scores"
      ],
      "metadata": {
        "colab": {
          "base_uri": "https://localhost:8080/"
        },
        "id": "60l6bKN7EDDN",
        "outputId": "797d24a3-5fee-47fc-8c67-68817e997ddc"
      },
      "execution_count": 27,
      "outputs": [
        {
          "output_type": "execute_result",
          "data": {
            "text/plain": [
              "[0.9397609383809661,\n",
              " 0.9288495860053583,\n",
              " 0.9223806782311365,\n",
              " 0.9275676979087082,\n",
              " 0.9384021490867778]"
            ]
          },
          "metadata": {},
          "execution_count": 27
        }
      ]
    },
    {
      "cell_type": "code",
      "source": [
        "print(np.mean(all_scores))"
      ],
      "metadata": {
        "colab": {
          "base_uri": "https://localhost:8080/"
        },
        "id": "eHiRo88aEFZU",
        "outputId": "759cedeb-cc5d-49f0-dac7-07cd3b5a3129"
      },
      "execution_count": 29,
      "outputs": [
        {
          "output_type": "stream",
          "name": "stdout",
          "text": [
            "0.9313922099225893\n"
          ]
        }
      ]
    },
    {
      "cell_type": "markdown",
      "source": [
        "##Forth: Leave One Out Cross Validation"
      ],
      "metadata": {
        "id": "Gi691FtQa5dI"
      }
    },
    {
      "cell_type": "markdown",
      "source": [
        "\n",
        "\n",
        "For a dataset having n rows, 1st row is selected for validation, and the rest (n-1) rows are used to train the model. For the next iteration, the 2nd row is selected for validation and rest to train the model. Similarly, the process is repeated until n steps or the desired number of operations. We then calculate the test Error to be the average of all of the test Errors\n",
        "\n",
        "\n",
        "**Pros**:\n",
        "\n",
        "- Simple, easy to understand, and implement.\n",
        "\n",
        "**Cons**:\n",
        "\n",
        "- The model may lead to a low bias.\n",
        "- a computationally expensive method , as a major part of the data sample is used for training the model, however, only a single data point is used to evaluate its accuracy.  Therefore, this type is often considered to be .\n",
        "\n",
        "\n",
        " For the sake of time, we're goint to limit our dataset to 100 data points here:"
      ],
      "metadata": {
        "id": "7pk_ui3GAA6n"
      }
    },
    {
      "cell_type": "markdown",
      "source": [
        "![image.png](https://miro.medium.com/v2/resize:fit:600/1*26vyRHpqGbVAwJq_csUqZQ.gif)"
      ],
      "metadata": {
        "id": "PUXScgshVvKe"
      }
    },
    {
      "cell_type": "code",
      "source": [
        "from sklearn.model_selection import LeaveOneOut\n",
        "from sklearn.metrics import accuracy_score\n",
        "\n",
        "loo = LeaveOneOut()\n",
        "loo.get_n_splits(X)\n",
        "\n",
        "\n",
        "all_preds = []\n",
        "\n",
        "for train_index, test_index in loo.split(X[:100]):\n",
        "    print(\"TRAIN:\", train_index, \"TEST:\", test_index)\n",
        "    X_train, X_test = X.iloc[train_index], X.iloc[test_index]\n",
        "    y_train, y_test = y.iloc[train_index], y.iloc[test_index]\n",
        "    model = RandomForestClassifier()\n",
        "\n",
        "    model.fit(X_train, y_train)\n",
        "    y_preds = model.predict(X_test)\n",
        "\n",
        "    correct = y_preds[0] == y_test.values[0]\n",
        "    \n",
        "    all_preds.append(correct)"
      ],
      "metadata": {
        "colab": {
          "base_uri": "https://localhost:8080/"
        },
        "id": "Fzehm4uS8vj1",
        "outputId": "ebc8aa2d-851e-4eae-c960-e1b2d734df41"
      },
      "execution_count": 22,
      "outputs": [
        {
          "output_type": "stream",
          "name": "stdout",
          "text": [
            "TRAIN: [ 1  2  3  4  5  6  7  8  9 10 11 12 13 14 15 16 17 18 19 20 21 22 23 24\n",
            " 25 26 27 28 29 30 31 32 33 34 35 36 37 38 39 40 41 42 43 44 45 46 47 48\n",
            " 49 50 51 52 53 54 55 56 57 58 59 60 61 62 63 64 65 66 67 68 69 70 71 72\n",
            " 73 74 75 76 77 78 79 80 81 82 83 84 85 86 87 88 89 90 91 92 93 94 95 96\n",
            " 97 98 99] TEST: [0]\n",
            "TRAIN: [ 0  2  3  4  5  6  7  8  9 10 11 12 13 14 15 16 17 18 19 20 21 22 23 24\n",
            " 25 26 27 28 29 30 31 32 33 34 35 36 37 38 39 40 41 42 43 44 45 46 47 48\n",
            " 49 50 51 52 53 54 55 56 57 58 59 60 61 62 63 64 65 66 67 68 69 70 71 72\n",
            " 73 74 75 76 77 78 79 80 81 82 83 84 85 86 87 88 89 90 91 92 93 94 95 96\n",
            " 97 98 99] TEST: [1]\n",
            "TRAIN: [ 0  1  3  4  5  6  7  8  9 10 11 12 13 14 15 16 17 18 19 20 21 22 23 24\n",
            " 25 26 27 28 29 30 31 32 33 34 35 36 37 38 39 40 41 42 43 44 45 46 47 48\n",
            " 49 50 51 52 53 54 55 56 57 58 59 60 61 62 63 64 65 66 67 68 69 70 71 72\n",
            " 73 74 75 76 77 78 79 80 81 82 83 84 85 86 87 88 89 90 91 92 93 94 95 96\n",
            " 97 98 99] TEST: [2]\n",
            "TRAIN: [ 0  1  2  4  5  6  7  8  9 10 11 12 13 14 15 16 17 18 19 20 21 22 23 24\n",
            " 25 26 27 28 29 30 31 32 33 34 35 36 37 38 39 40 41 42 43 44 45 46 47 48\n",
            " 49 50 51 52 53 54 55 56 57 58 59 60 61 62 63 64 65 66 67 68 69 70 71 72\n",
            " 73 74 75 76 77 78 79 80 81 82 83 84 85 86 87 88 89 90 91 92 93 94 95 96\n",
            " 97 98 99] TEST: [3]\n",
            "TRAIN: [ 0  1  2  3  5  6  7  8  9 10 11 12 13 14 15 16 17 18 19 20 21 22 23 24\n",
            " 25 26 27 28 29 30 31 32 33 34 35 36 37 38 39 40 41 42 43 44 45 46 47 48\n",
            " 49 50 51 52 53 54 55 56 57 58 59 60 61 62 63 64 65 66 67 68 69 70 71 72\n",
            " 73 74 75 76 77 78 79 80 81 82 83 84 85 86 87 88 89 90 91 92 93 94 95 96\n",
            " 97 98 99] TEST: [4]\n",
            "TRAIN: [ 0  1  2  3  4  6  7  8  9 10 11 12 13 14 15 16 17 18 19 20 21 22 23 24\n",
            " 25 26 27 28 29 30 31 32 33 34 35 36 37 38 39 40 41 42 43 44 45 46 47 48\n",
            " 49 50 51 52 53 54 55 56 57 58 59 60 61 62 63 64 65 66 67 68 69 70 71 72\n",
            " 73 74 75 76 77 78 79 80 81 82 83 84 85 86 87 88 89 90 91 92 93 94 95 96\n",
            " 97 98 99] TEST: [5]\n",
            "TRAIN: [ 0  1  2  3  4  5  7  8  9 10 11 12 13 14 15 16 17 18 19 20 21 22 23 24\n",
            " 25 26 27 28 29 30 31 32 33 34 35 36 37 38 39 40 41 42 43 44 45 46 47 48\n",
            " 49 50 51 52 53 54 55 56 57 58 59 60 61 62 63 64 65 66 67 68 69 70 71 72\n",
            " 73 74 75 76 77 78 79 80 81 82 83 84 85 86 87 88 89 90 91 92 93 94 95 96\n",
            " 97 98 99] TEST: [6]\n",
            "TRAIN: [ 0  1  2  3  4  5  6  8  9 10 11 12 13 14 15 16 17 18 19 20 21 22 23 24\n",
            " 25 26 27 28 29 30 31 32 33 34 35 36 37 38 39 40 41 42 43 44 45 46 47 48\n",
            " 49 50 51 52 53 54 55 56 57 58 59 60 61 62 63 64 65 66 67 68 69 70 71 72\n",
            " 73 74 75 76 77 78 79 80 81 82 83 84 85 86 87 88 89 90 91 92 93 94 95 96\n",
            " 97 98 99] TEST: [7]\n",
            "TRAIN: [ 0  1  2  3  4  5  6  7  9 10 11 12 13 14 15 16 17 18 19 20 21 22 23 24\n",
            " 25 26 27 28 29 30 31 32 33 34 35 36 37 38 39 40 41 42 43 44 45 46 47 48\n",
            " 49 50 51 52 53 54 55 56 57 58 59 60 61 62 63 64 65 66 67 68 69 70 71 72\n",
            " 73 74 75 76 77 78 79 80 81 82 83 84 85 86 87 88 89 90 91 92 93 94 95 96\n",
            " 97 98 99] TEST: [8]\n",
            "TRAIN: [ 0  1  2  3  4  5  6  7  8 10 11 12 13 14 15 16 17 18 19 20 21 22 23 24\n",
            " 25 26 27 28 29 30 31 32 33 34 35 36 37 38 39 40 41 42 43 44 45 46 47 48\n",
            " 49 50 51 52 53 54 55 56 57 58 59 60 61 62 63 64 65 66 67 68 69 70 71 72\n",
            " 73 74 75 76 77 78 79 80 81 82 83 84 85 86 87 88 89 90 91 92 93 94 95 96\n",
            " 97 98 99] TEST: [9]\n",
            "TRAIN: [ 0  1  2  3  4  5  6  7  8  9 11 12 13 14 15 16 17 18 19 20 21 22 23 24\n",
            " 25 26 27 28 29 30 31 32 33 34 35 36 37 38 39 40 41 42 43 44 45 46 47 48\n",
            " 49 50 51 52 53 54 55 56 57 58 59 60 61 62 63 64 65 66 67 68 69 70 71 72\n",
            " 73 74 75 76 77 78 79 80 81 82 83 84 85 86 87 88 89 90 91 92 93 94 95 96\n",
            " 97 98 99] TEST: [10]\n",
            "TRAIN: [ 0  1  2  3  4  5  6  7  8  9 10 12 13 14 15 16 17 18 19 20 21 22 23 24\n",
            " 25 26 27 28 29 30 31 32 33 34 35 36 37 38 39 40 41 42 43 44 45 46 47 48\n",
            " 49 50 51 52 53 54 55 56 57 58 59 60 61 62 63 64 65 66 67 68 69 70 71 72\n",
            " 73 74 75 76 77 78 79 80 81 82 83 84 85 86 87 88 89 90 91 92 93 94 95 96\n",
            " 97 98 99] TEST: [11]\n",
            "TRAIN: [ 0  1  2  3  4  5  6  7  8  9 10 11 13 14 15 16 17 18 19 20 21 22 23 24\n",
            " 25 26 27 28 29 30 31 32 33 34 35 36 37 38 39 40 41 42 43 44 45 46 47 48\n",
            " 49 50 51 52 53 54 55 56 57 58 59 60 61 62 63 64 65 66 67 68 69 70 71 72\n",
            " 73 74 75 76 77 78 79 80 81 82 83 84 85 86 87 88 89 90 91 92 93 94 95 96\n",
            " 97 98 99] TEST: [12]\n",
            "TRAIN: [ 0  1  2  3  4  5  6  7  8  9 10 11 12 14 15 16 17 18 19 20 21 22 23 24\n",
            " 25 26 27 28 29 30 31 32 33 34 35 36 37 38 39 40 41 42 43 44 45 46 47 48\n",
            " 49 50 51 52 53 54 55 56 57 58 59 60 61 62 63 64 65 66 67 68 69 70 71 72\n",
            " 73 74 75 76 77 78 79 80 81 82 83 84 85 86 87 88 89 90 91 92 93 94 95 96\n",
            " 97 98 99] TEST: [13]\n",
            "TRAIN: [ 0  1  2  3  4  5  6  7  8  9 10 11 12 13 15 16 17 18 19 20 21 22 23 24\n",
            " 25 26 27 28 29 30 31 32 33 34 35 36 37 38 39 40 41 42 43 44 45 46 47 48\n",
            " 49 50 51 52 53 54 55 56 57 58 59 60 61 62 63 64 65 66 67 68 69 70 71 72\n",
            " 73 74 75 76 77 78 79 80 81 82 83 84 85 86 87 88 89 90 91 92 93 94 95 96\n",
            " 97 98 99] TEST: [14]\n",
            "TRAIN: [ 0  1  2  3  4  5  6  7  8  9 10 11 12 13 14 16 17 18 19 20 21 22 23 24\n",
            " 25 26 27 28 29 30 31 32 33 34 35 36 37 38 39 40 41 42 43 44 45 46 47 48\n",
            " 49 50 51 52 53 54 55 56 57 58 59 60 61 62 63 64 65 66 67 68 69 70 71 72\n",
            " 73 74 75 76 77 78 79 80 81 82 83 84 85 86 87 88 89 90 91 92 93 94 95 96\n",
            " 97 98 99] TEST: [15]\n",
            "TRAIN: [ 0  1  2  3  4  5  6  7  8  9 10 11 12 13 14 15 17 18 19 20 21 22 23 24\n",
            " 25 26 27 28 29 30 31 32 33 34 35 36 37 38 39 40 41 42 43 44 45 46 47 48\n",
            " 49 50 51 52 53 54 55 56 57 58 59 60 61 62 63 64 65 66 67 68 69 70 71 72\n",
            " 73 74 75 76 77 78 79 80 81 82 83 84 85 86 87 88 89 90 91 92 93 94 95 96\n",
            " 97 98 99] TEST: [16]\n",
            "TRAIN: [ 0  1  2  3  4  5  6  7  8  9 10 11 12 13 14 15 16 18 19 20 21 22 23 24\n",
            " 25 26 27 28 29 30 31 32 33 34 35 36 37 38 39 40 41 42 43 44 45 46 47 48\n",
            " 49 50 51 52 53 54 55 56 57 58 59 60 61 62 63 64 65 66 67 68 69 70 71 72\n",
            " 73 74 75 76 77 78 79 80 81 82 83 84 85 86 87 88 89 90 91 92 93 94 95 96\n",
            " 97 98 99] TEST: [17]\n",
            "TRAIN: [ 0  1  2  3  4  5  6  7  8  9 10 11 12 13 14 15 16 17 19 20 21 22 23 24\n",
            " 25 26 27 28 29 30 31 32 33 34 35 36 37 38 39 40 41 42 43 44 45 46 47 48\n",
            " 49 50 51 52 53 54 55 56 57 58 59 60 61 62 63 64 65 66 67 68 69 70 71 72\n",
            " 73 74 75 76 77 78 79 80 81 82 83 84 85 86 87 88 89 90 91 92 93 94 95 96\n",
            " 97 98 99] TEST: [18]\n",
            "TRAIN: [ 0  1  2  3  4  5  6  7  8  9 10 11 12 13 14 15 16 17 18 20 21 22 23 24\n",
            " 25 26 27 28 29 30 31 32 33 34 35 36 37 38 39 40 41 42 43 44 45 46 47 48\n",
            " 49 50 51 52 53 54 55 56 57 58 59 60 61 62 63 64 65 66 67 68 69 70 71 72\n",
            " 73 74 75 76 77 78 79 80 81 82 83 84 85 86 87 88 89 90 91 92 93 94 95 96\n",
            " 97 98 99] TEST: [19]\n",
            "TRAIN: [ 0  1  2  3  4  5  6  7  8  9 10 11 12 13 14 15 16 17 18 19 21 22 23 24\n",
            " 25 26 27 28 29 30 31 32 33 34 35 36 37 38 39 40 41 42 43 44 45 46 47 48\n",
            " 49 50 51 52 53 54 55 56 57 58 59 60 61 62 63 64 65 66 67 68 69 70 71 72\n",
            " 73 74 75 76 77 78 79 80 81 82 83 84 85 86 87 88 89 90 91 92 93 94 95 96\n",
            " 97 98 99] TEST: [20]\n",
            "TRAIN: [ 0  1  2  3  4  5  6  7  8  9 10 11 12 13 14 15 16 17 18 19 20 22 23 24\n",
            " 25 26 27 28 29 30 31 32 33 34 35 36 37 38 39 40 41 42 43 44 45 46 47 48\n",
            " 49 50 51 52 53 54 55 56 57 58 59 60 61 62 63 64 65 66 67 68 69 70 71 72\n",
            " 73 74 75 76 77 78 79 80 81 82 83 84 85 86 87 88 89 90 91 92 93 94 95 96\n",
            " 97 98 99] TEST: [21]\n",
            "TRAIN: [ 0  1  2  3  4  5  6  7  8  9 10 11 12 13 14 15 16 17 18 19 20 21 23 24\n",
            " 25 26 27 28 29 30 31 32 33 34 35 36 37 38 39 40 41 42 43 44 45 46 47 48\n",
            " 49 50 51 52 53 54 55 56 57 58 59 60 61 62 63 64 65 66 67 68 69 70 71 72\n",
            " 73 74 75 76 77 78 79 80 81 82 83 84 85 86 87 88 89 90 91 92 93 94 95 96\n",
            " 97 98 99] TEST: [22]\n",
            "TRAIN: [ 0  1  2  3  4  5  6  7  8  9 10 11 12 13 14 15 16 17 18 19 20 21 22 24\n",
            " 25 26 27 28 29 30 31 32 33 34 35 36 37 38 39 40 41 42 43 44 45 46 47 48\n",
            " 49 50 51 52 53 54 55 56 57 58 59 60 61 62 63 64 65 66 67 68 69 70 71 72\n",
            " 73 74 75 76 77 78 79 80 81 82 83 84 85 86 87 88 89 90 91 92 93 94 95 96\n",
            " 97 98 99] TEST: [23]\n",
            "TRAIN: [ 0  1  2  3  4  5  6  7  8  9 10 11 12 13 14 15 16 17 18 19 20 21 22 23\n",
            " 25 26 27 28 29 30 31 32 33 34 35 36 37 38 39 40 41 42 43 44 45 46 47 48\n",
            " 49 50 51 52 53 54 55 56 57 58 59 60 61 62 63 64 65 66 67 68 69 70 71 72\n",
            " 73 74 75 76 77 78 79 80 81 82 83 84 85 86 87 88 89 90 91 92 93 94 95 96\n",
            " 97 98 99] TEST: [24]\n",
            "TRAIN: [ 0  1  2  3  4  5  6  7  8  9 10 11 12 13 14 15 16 17 18 19 20 21 22 23\n",
            " 24 26 27 28 29 30 31 32 33 34 35 36 37 38 39 40 41 42 43 44 45 46 47 48\n",
            " 49 50 51 52 53 54 55 56 57 58 59 60 61 62 63 64 65 66 67 68 69 70 71 72\n",
            " 73 74 75 76 77 78 79 80 81 82 83 84 85 86 87 88 89 90 91 92 93 94 95 96\n",
            " 97 98 99] TEST: [25]\n",
            "TRAIN: [ 0  1  2  3  4  5  6  7  8  9 10 11 12 13 14 15 16 17 18 19 20 21 22 23\n",
            " 24 25 27 28 29 30 31 32 33 34 35 36 37 38 39 40 41 42 43 44 45 46 47 48\n",
            " 49 50 51 52 53 54 55 56 57 58 59 60 61 62 63 64 65 66 67 68 69 70 71 72\n",
            " 73 74 75 76 77 78 79 80 81 82 83 84 85 86 87 88 89 90 91 92 93 94 95 96\n",
            " 97 98 99] TEST: [26]\n",
            "TRAIN: [ 0  1  2  3  4  5  6  7  8  9 10 11 12 13 14 15 16 17 18 19 20 21 22 23\n",
            " 24 25 26 28 29 30 31 32 33 34 35 36 37 38 39 40 41 42 43 44 45 46 47 48\n",
            " 49 50 51 52 53 54 55 56 57 58 59 60 61 62 63 64 65 66 67 68 69 70 71 72\n",
            " 73 74 75 76 77 78 79 80 81 82 83 84 85 86 87 88 89 90 91 92 93 94 95 96\n",
            " 97 98 99] TEST: [27]\n",
            "TRAIN: [ 0  1  2  3  4  5  6  7  8  9 10 11 12 13 14 15 16 17 18 19 20 21 22 23\n",
            " 24 25 26 27 29 30 31 32 33 34 35 36 37 38 39 40 41 42 43 44 45 46 47 48\n",
            " 49 50 51 52 53 54 55 56 57 58 59 60 61 62 63 64 65 66 67 68 69 70 71 72\n",
            " 73 74 75 76 77 78 79 80 81 82 83 84 85 86 87 88 89 90 91 92 93 94 95 96\n",
            " 97 98 99] TEST: [28]\n",
            "TRAIN: [ 0  1  2  3  4  5  6  7  8  9 10 11 12 13 14 15 16 17 18 19 20 21 22 23\n",
            " 24 25 26 27 28 30 31 32 33 34 35 36 37 38 39 40 41 42 43 44 45 46 47 48\n",
            " 49 50 51 52 53 54 55 56 57 58 59 60 61 62 63 64 65 66 67 68 69 70 71 72\n",
            " 73 74 75 76 77 78 79 80 81 82 83 84 85 86 87 88 89 90 91 92 93 94 95 96\n",
            " 97 98 99] TEST: [29]\n",
            "TRAIN: [ 0  1  2  3  4  5  6  7  8  9 10 11 12 13 14 15 16 17 18 19 20 21 22 23\n",
            " 24 25 26 27 28 29 31 32 33 34 35 36 37 38 39 40 41 42 43 44 45 46 47 48\n",
            " 49 50 51 52 53 54 55 56 57 58 59 60 61 62 63 64 65 66 67 68 69 70 71 72\n",
            " 73 74 75 76 77 78 79 80 81 82 83 84 85 86 87 88 89 90 91 92 93 94 95 96\n",
            " 97 98 99] TEST: [30]\n",
            "TRAIN: [ 0  1  2  3  4  5  6  7  8  9 10 11 12 13 14 15 16 17 18 19 20 21 22 23\n",
            " 24 25 26 27 28 29 30 32 33 34 35 36 37 38 39 40 41 42 43 44 45 46 47 48\n",
            " 49 50 51 52 53 54 55 56 57 58 59 60 61 62 63 64 65 66 67 68 69 70 71 72\n",
            " 73 74 75 76 77 78 79 80 81 82 83 84 85 86 87 88 89 90 91 92 93 94 95 96\n",
            " 97 98 99] TEST: [31]\n",
            "TRAIN: [ 0  1  2  3  4  5  6  7  8  9 10 11 12 13 14 15 16 17 18 19 20 21 22 23\n",
            " 24 25 26 27 28 29 30 31 33 34 35 36 37 38 39 40 41 42 43 44 45 46 47 48\n",
            " 49 50 51 52 53 54 55 56 57 58 59 60 61 62 63 64 65 66 67 68 69 70 71 72\n",
            " 73 74 75 76 77 78 79 80 81 82 83 84 85 86 87 88 89 90 91 92 93 94 95 96\n",
            " 97 98 99] TEST: [32]\n",
            "TRAIN: [ 0  1  2  3  4  5  6  7  8  9 10 11 12 13 14 15 16 17 18 19 20 21 22 23\n",
            " 24 25 26 27 28 29 30 31 32 34 35 36 37 38 39 40 41 42 43 44 45 46 47 48\n",
            " 49 50 51 52 53 54 55 56 57 58 59 60 61 62 63 64 65 66 67 68 69 70 71 72\n",
            " 73 74 75 76 77 78 79 80 81 82 83 84 85 86 87 88 89 90 91 92 93 94 95 96\n",
            " 97 98 99] TEST: [33]\n",
            "TRAIN: [ 0  1  2  3  4  5  6  7  8  9 10 11 12 13 14 15 16 17 18 19 20 21 22 23\n",
            " 24 25 26 27 28 29 30 31 32 33 35 36 37 38 39 40 41 42 43 44 45 46 47 48\n",
            " 49 50 51 52 53 54 55 56 57 58 59 60 61 62 63 64 65 66 67 68 69 70 71 72\n",
            " 73 74 75 76 77 78 79 80 81 82 83 84 85 86 87 88 89 90 91 92 93 94 95 96\n",
            " 97 98 99] TEST: [34]\n",
            "TRAIN: [ 0  1  2  3  4  5  6  7  8  9 10 11 12 13 14 15 16 17 18 19 20 21 22 23\n",
            " 24 25 26 27 28 29 30 31 32 33 34 36 37 38 39 40 41 42 43 44 45 46 47 48\n",
            " 49 50 51 52 53 54 55 56 57 58 59 60 61 62 63 64 65 66 67 68 69 70 71 72\n",
            " 73 74 75 76 77 78 79 80 81 82 83 84 85 86 87 88 89 90 91 92 93 94 95 96\n",
            " 97 98 99] TEST: [35]\n",
            "TRAIN: [ 0  1  2  3  4  5  6  7  8  9 10 11 12 13 14 15 16 17 18 19 20 21 22 23\n",
            " 24 25 26 27 28 29 30 31 32 33 34 35 37 38 39 40 41 42 43 44 45 46 47 48\n",
            " 49 50 51 52 53 54 55 56 57 58 59 60 61 62 63 64 65 66 67 68 69 70 71 72\n",
            " 73 74 75 76 77 78 79 80 81 82 83 84 85 86 87 88 89 90 91 92 93 94 95 96\n",
            " 97 98 99] TEST: [36]\n",
            "TRAIN: [ 0  1  2  3  4  5  6  7  8  9 10 11 12 13 14 15 16 17 18 19 20 21 22 23\n",
            " 24 25 26 27 28 29 30 31 32 33 34 35 36 38 39 40 41 42 43 44 45 46 47 48\n",
            " 49 50 51 52 53 54 55 56 57 58 59 60 61 62 63 64 65 66 67 68 69 70 71 72\n",
            " 73 74 75 76 77 78 79 80 81 82 83 84 85 86 87 88 89 90 91 92 93 94 95 96\n",
            " 97 98 99] TEST: [37]\n",
            "TRAIN: [ 0  1  2  3  4  5  6  7  8  9 10 11 12 13 14 15 16 17 18 19 20 21 22 23\n",
            " 24 25 26 27 28 29 30 31 32 33 34 35 36 37 39 40 41 42 43 44 45 46 47 48\n",
            " 49 50 51 52 53 54 55 56 57 58 59 60 61 62 63 64 65 66 67 68 69 70 71 72\n",
            " 73 74 75 76 77 78 79 80 81 82 83 84 85 86 87 88 89 90 91 92 93 94 95 96\n",
            " 97 98 99] TEST: [38]\n",
            "TRAIN: [ 0  1  2  3  4  5  6  7  8  9 10 11 12 13 14 15 16 17 18 19 20 21 22 23\n",
            " 24 25 26 27 28 29 30 31 32 33 34 35 36 37 38 40 41 42 43 44 45 46 47 48\n",
            " 49 50 51 52 53 54 55 56 57 58 59 60 61 62 63 64 65 66 67 68 69 70 71 72\n",
            " 73 74 75 76 77 78 79 80 81 82 83 84 85 86 87 88 89 90 91 92 93 94 95 96\n",
            " 97 98 99] TEST: [39]\n",
            "TRAIN: [ 0  1  2  3  4  5  6  7  8  9 10 11 12 13 14 15 16 17 18 19 20 21 22 23\n",
            " 24 25 26 27 28 29 30 31 32 33 34 35 36 37 38 39 41 42 43 44 45 46 47 48\n",
            " 49 50 51 52 53 54 55 56 57 58 59 60 61 62 63 64 65 66 67 68 69 70 71 72\n",
            " 73 74 75 76 77 78 79 80 81 82 83 84 85 86 87 88 89 90 91 92 93 94 95 96\n",
            " 97 98 99] TEST: [40]\n",
            "TRAIN: [ 0  1  2  3  4  5  6  7  8  9 10 11 12 13 14 15 16 17 18 19 20 21 22 23\n",
            " 24 25 26 27 28 29 30 31 32 33 34 35 36 37 38 39 40 42 43 44 45 46 47 48\n",
            " 49 50 51 52 53 54 55 56 57 58 59 60 61 62 63 64 65 66 67 68 69 70 71 72\n",
            " 73 74 75 76 77 78 79 80 81 82 83 84 85 86 87 88 89 90 91 92 93 94 95 96\n",
            " 97 98 99] TEST: [41]\n",
            "TRAIN: [ 0  1  2  3  4  5  6  7  8  9 10 11 12 13 14 15 16 17 18 19 20 21 22 23\n",
            " 24 25 26 27 28 29 30 31 32 33 34 35 36 37 38 39 40 41 43 44 45 46 47 48\n",
            " 49 50 51 52 53 54 55 56 57 58 59 60 61 62 63 64 65 66 67 68 69 70 71 72\n",
            " 73 74 75 76 77 78 79 80 81 82 83 84 85 86 87 88 89 90 91 92 93 94 95 96\n",
            " 97 98 99] TEST: [42]\n",
            "TRAIN: [ 0  1  2  3  4  5  6  7  8  9 10 11 12 13 14 15 16 17 18 19 20 21 22 23\n",
            " 24 25 26 27 28 29 30 31 32 33 34 35 36 37 38 39 40 41 42 44 45 46 47 48\n",
            " 49 50 51 52 53 54 55 56 57 58 59 60 61 62 63 64 65 66 67 68 69 70 71 72\n",
            " 73 74 75 76 77 78 79 80 81 82 83 84 85 86 87 88 89 90 91 92 93 94 95 96\n",
            " 97 98 99] TEST: [43]\n",
            "TRAIN: [ 0  1  2  3  4  5  6  7  8  9 10 11 12 13 14 15 16 17 18 19 20 21 22 23\n",
            " 24 25 26 27 28 29 30 31 32 33 34 35 36 37 38 39 40 41 42 43 45 46 47 48\n",
            " 49 50 51 52 53 54 55 56 57 58 59 60 61 62 63 64 65 66 67 68 69 70 71 72\n",
            " 73 74 75 76 77 78 79 80 81 82 83 84 85 86 87 88 89 90 91 92 93 94 95 96\n",
            " 97 98 99] TEST: [44]\n",
            "TRAIN: [ 0  1  2  3  4  5  6  7  8  9 10 11 12 13 14 15 16 17 18 19 20 21 22 23\n",
            " 24 25 26 27 28 29 30 31 32 33 34 35 36 37 38 39 40 41 42 43 44 46 47 48\n",
            " 49 50 51 52 53 54 55 56 57 58 59 60 61 62 63 64 65 66 67 68 69 70 71 72\n",
            " 73 74 75 76 77 78 79 80 81 82 83 84 85 86 87 88 89 90 91 92 93 94 95 96\n",
            " 97 98 99] TEST: [45]\n",
            "TRAIN: [ 0  1  2  3  4  5  6  7  8  9 10 11 12 13 14 15 16 17 18 19 20 21 22 23\n",
            " 24 25 26 27 28 29 30 31 32 33 34 35 36 37 38 39 40 41 42 43 44 45 47 48\n",
            " 49 50 51 52 53 54 55 56 57 58 59 60 61 62 63 64 65 66 67 68 69 70 71 72\n",
            " 73 74 75 76 77 78 79 80 81 82 83 84 85 86 87 88 89 90 91 92 93 94 95 96\n",
            " 97 98 99] TEST: [46]\n",
            "TRAIN: [ 0  1  2  3  4  5  6  7  8  9 10 11 12 13 14 15 16 17 18 19 20 21 22 23\n",
            " 24 25 26 27 28 29 30 31 32 33 34 35 36 37 38 39 40 41 42 43 44 45 46 48\n",
            " 49 50 51 52 53 54 55 56 57 58 59 60 61 62 63 64 65 66 67 68 69 70 71 72\n",
            " 73 74 75 76 77 78 79 80 81 82 83 84 85 86 87 88 89 90 91 92 93 94 95 96\n",
            " 97 98 99] TEST: [47]\n",
            "TRAIN: [ 0  1  2  3  4  5  6  7  8  9 10 11 12 13 14 15 16 17 18 19 20 21 22 23\n",
            " 24 25 26 27 28 29 30 31 32 33 34 35 36 37 38 39 40 41 42 43 44 45 46 47\n",
            " 49 50 51 52 53 54 55 56 57 58 59 60 61 62 63 64 65 66 67 68 69 70 71 72\n",
            " 73 74 75 76 77 78 79 80 81 82 83 84 85 86 87 88 89 90 91 92 93 94 95 96\n",
            " 97 98 99] TEST: [48]\n",
            "TRAIN: [ 0  1  2  3  4  5  6  7  8  9 10 11 12 13 14 15 16 17 18 19 20 21 22 23\n",
            " 24 25 26 27 28 29 30 31 32 33 34 35 36 37 38 39 40 41 42 43 44 45 46 47\n",
            " 48 50 51 52 53 54 55 56 57 58 59 60 61 62 63 64 65 66 67 68 69 70 71 72\n",
            " 73 74 75 76 77 78 79 80 81 82 83 84 85 86 87 88 89 90 91 92 93 94 95 96\n",
            " 97 98 99] TEST: [49]\n",
            "TRAIN: [ 0  1  2  3  4  5  6  7  8  9 10 11 12 13 14 15 16 17 18 19 20 21 22 23\n",
            " 24 25 26 27 28 29 30 31 32 33 34 35 36 37 38 39 40 41 42 43 44 45 46 47\n",
            " 48 49 51 52 53 54 55 56 57 58 59 60 61 62 63 64 65 66 67 68 69 70 71 72\n",
            " 73 74 75 76 77 78 79 80 81 82 83 84 85 86 87 88 89 90 91 92 93 94 95 96\n",
            " 97 98 99] TEST: [50]\n",
            "TRAIN: [ 0  1  2  3  4  5  6  7  8  9 10 11 12 13 14 15 16 17 18 19 20 21 22 23\n",
            " 24 25 26 27 28 29 30 31 32 33 34 35 36 37 38 39 40 41 42 43 44 45 46 47\n",
            " 48 49 50 52 53 54 55 56 57 58 59 60 61 62 63 64 65 66 67 68 69 70 71 72\n",
            " 73 74 75 76 77 78 79 80 81 82 83 84 85 86 87 88 89 90 91 92 93 94 95 96\n",
            " 97 98 99] TEST: [51]\n",
            "TRAIN: [ 0  1  2  3  4  5  6  7  8  9 10 11 12 13 14 15 16 17 18 19 20 21 22 23\n",
            " 24 25 26 27 28 29 30 31 32 33 34 35 36 37 38 39 40 41 42 43 44 45 46 47\n",
            " 48 49 50 51 53 54 55 56 57 58 59 60 61 62 63 64 65 66 67 68 69 70 71 72\n",
            " 73 74 75 76 77 78 79 80 81 82 83 84 85 86 87 88 89 90 91 92 93 94 95 96\n",
            " 97 98 99] TEST: [52]\n",
            "TRAIN: [ 0  1  2  3  4  5  6  7  8  9 10 11 12 13 14 15 16 17 18 19 20 21 22 23\n",
            " 24 25 26 27 28 29 30 31 32 33 34 35 36 37 38 39 40 41 42 43 44 45 46 47\n",
            " 48 49 50 51 52 54 55 56 57 58 59 60 61 62 63 64 65 66 67 68 69 70 71 72\n",
            " 73 74 75 76 77 78 79 80 81 82 83 84 85 86 87 88 89 90 91 92 93 94 95 96\n",
            " 97 98 99] TEST: [53]\n",
            "TRAIN: [ 0  1  2  3  4  5  6  7  8  9 10 11 12 13 14 15 16 17 18 19 20 21 22 23\n",
            " 24 25 26 27 28 29 30 31 32 33 34 35 36 37 38 39 40 41 42 43 44 45 46 47\n",
            " 48 49 50 51 52 53 55 56 57 58 59 60 61 62 63 64 65 66 67 68 69 70 71 72\n",
            " 73 74 75 76 77 78 79 80 81 82 83 84 85 86 87 88 89 90 91 92 93 94 95 96\n",
            " 97 98 99] TEST: [54]\n",
            "TRAIN: [ 0  1  2  3  4  5  6  7  8  9 10 11 12 13 14 15 16 17 18 19 20 21 22 23\n",
            " 24 25 26 27 28 29 30 31 32 33 34 35 36 37 38 39 40 41 42 43 44 45 46 47\n",
            " 48 49 50 51 52 53 54 56 57 58 59 60 61 62 63 64 65 66 67 68 69 70 71 72\n",
            " 73 74 75 76 77 78 79 80 81 82 83 84 85 86 87 88 89 90 91 92 93 94 95 96\n",
            " 97 98 99] TEST: [55]\n",
            "TRAIN: [ 0  1  2  3  4  5  6  7  8  9 10 11 12 13 14 15 16 17 18 19 20 21 22 23\n",
            " 24 25 26 27 28 29 30 31 32 33 34 35 36 37 38 39 40 41 42 43 44 45 46 47\n",
            " 48 49 50 51 52 53 54 55 57 58 59 60 61 62 63 64 65 66 67 68 69 70 71 72\n",
            " 73 74 75 76 77 78 79 80 81 82 83 84 85 86 87 88 89 90 91 92 93 94 95 96\n",
            " 97 98 99] TEST: [56]\n",
            "TRAIN: [ 0  1  2  3  4  5  6  7  8  9 10 11 12 13 14 15 16 17 18 19 20 21 22 23\n",
            " 24 25 26 27 28 29 30 31 32 33 34 35 36 37 38 39 40 41 42 43 44 45 46 47\n",
            " 48 49 50 51 52 53 54 55 56 58 59 60 61 62 63 64 65 66 67 68 69 70 71 72\n",
            " 73 74 75 76 77 78 79 80 81 82 83 84 85 86 87 88 89 90 91 92 93 94 95 96\n",
            " 97 98 99] TEST: [57]\n",
            "TRAIN: [ 0  1  2  3  4  5  6  7  8  9 10 11 12 13 14 15 16 17 18 19 20 21 22 23\n",
            " 24 25 26 27 28 29 30 31 32 33 34 35 36 37 38 39 40 41 42 43 44 45 46 47\n",
            " 48 49 50 51 52 53 54 55 56 57 59 60 61 62 63 64 65 66 67 68 69 70 71 72\n",
            " 73 74 75 76 77 78 79 80 81 82 83 84 85 86 87 88 89 90 91 92 93 94 95 96\n",
            " 97 98 99] TEST: [58]\n",
            "TRAIN: [ 0  1  2  3  4  5  6  7  8  9 10 11 12 13 14 15 16 17 18 19 20 21 22 23\n",
            " 24 25 26 27 28 29 30 31 32 33 34 35 36 37 38 39 40 41 42 43 44 45 46 47\n",
            " 48 49 50 51 52 53 54 55 56 57 58 60 61 62 63 64 65 66 67 68 69 70 71 72\n",
            " 73 74 75 76 77 78 79 80 81 82 83 84 85 86 87 88 89 90 91 92 93 94 95 96\n",
            " 97 98 99] TEST: [59]\n",
            "TRAIN: [ 0  1  2  3  4  5  6  7  8  9 10 11 12 13 14 15 16 17 18 19 20 21 22 23\n",
            " 24 25 26 27 28 29 30 31 32 33 34 35 36 37 38 39 40 41 42 43 44 45 46 47\n",
            " 48 49 50 51 52 53 54 55 56 57 58 59 61 62 63 64 65 66 67 68 69 70 71 72\n",
            " 73 74 75 76 77 78 79 80 81 82 83 84 85 86 87 88 89 90 91 92 93 94 95 96\n",
            " 97 98 99] TEST: [60]\n",
            "TRAIN: [ 0  1  2  3  4  5  6  7  8  9 10 11 12 13 14 15 16 17 18 19 20 21 22 23\n",
            " 24 25 26 27 28 29 30 31 32 33 34 35 36 37 38 39 40 41 42 43 44 45 46 47\n",
            " 48 49 50 51 52 53 54 55 56 57 58 59 60 62 63 64 65 66 67 68 69 70 71 72\n",
            " 73 74 75 76 77 78 79 80 81 82 83 84 85 86 87 88 89 90 91 92 93 94 95 96\n",
            " 97 98 99] TEST: [61]\n",
            "TRAIN: [ 0  1  2  3  4  5  6  7  8  9 10 11 12 13 14 15 16 17 18 19 20 21 22 23\n",
            " 24 25 26 27 28 29 30 31 32 33 34 35 36 37 38 39 40 41 42 43 44 45 46 47\n",
            " 48 49 50 51 52 53 54 55 56 57 58 59 60 61 63 64 65 66 67 68 69 70 71 72\n",
            " 73 74 75 76 77 78 79 80 81 82 83 84 85 86 87 88 89 90 91 92 93 94 95 96\n",
            " 97 98 99] TEST: [62]\n",
            "TRAIN: [ 0  1  2  3  4  5  6  7  8  9 10 11 12 13 14 15 16 17 18 19 20 21 22 23\n",
            " 24 25 26 27 28 29 30 31 32 33 34 35 36 37 38 39 40 41 42 43 44 45 46 47\n",
            " 48 49 50 51 52 53 54 55 56 57 58 59 60 61 62 64 65 66 67 68 69 70 71 72\n",
            " 73 74 75 76 77 78 79 80 81 82 83 84 85 86 87 88 89 90 91 92 93 94 95 96\n",
            " 97 98 99] TEST: [63]\n",
            "TRAIN: [ 0  1  2  3  4  5  6  7  8  9 10 11 12 13 14 15 16 17 18 19 20 21 22 23\n",
            " 24 25 26 27 28 29 30 31 32 33 34 35 36 37 38 39 40 41 42 43 44 45 46 47\n",
            " 48 49 50 51 52 53 54 55 56 57 58 59 60 61 62 63 65 66 67 68 69 70 71 72\n",
            " 73 74 75 76 77 78 79 80 81 82 83 84 85 86 87 88 89 90 91 92 93 94 95 96\n",
            " 97 98 99] TEST: [64]\n",
            "TRAIN: [ 0  1  2  3  4  5  6  7  8  9 10 11 12 13 14 15 16 17 18 19 20 21 22 23\n",
            " 24 25 26 27 28 29 30 31 32 33 34 35 36 37 38 39 40 41 42 43 44 45 46 47\n",
            " 48 49 50 51 52 53 54 55 56 57 58 59 60 61 62 63 64 66 67 68 69 70 71 72\n",
            " 73 74 75 76 77 78 79 80 81 82 83 84 85 86 87 88 89 90 91 92 93 94 95 96\n",
            " 97 98 99] TEST: [65]\n",
            "TRAIN: [ 0  1  2  3  4  5  6  7  8  9 10 11 12 13 14 15 16 17 18 19 20 21 22 23\n",
            " 24 25 26 27 28 29 30 31 32 33 34 35 36 37 38 39 40 41 42 43 44 45 46 47\n",
            " 48 49 50 51 52 53 54 55 56 57 58 59 60 61 62 63 64 65 67 68 69 70 71 72\n",
            " 73 74 75 76 77 78 79 80 81 82 83 84 85 86 87 88 89 90 91 92 93 94 95 96\n",
            " 97 98 99] TEST: [66]\n",
            "TRAIN: [ 0  1  2  3  4  5  6  7  8  9 10 11 12 13 14 15 16 17 18 19 20 21 22 23\n",
            " 24 25 26 27 28 29 30 31 32 33 34 35 36 37 38 39 40 41 42 43 44 45 46 47\n",
            " 48 49 50 51 52 53 54 55 56 57 58 59 60 61 62 63 64 65 66 68 69 70 71 72\n",
            " 73 74 75 76 77 78 79 80 81 82 83 84 85 86 87 88 89 90 91 92 93 94 95 96\n",
            " 97 98 99] TEST: [67]\n",
            "TRAIN: [ 0  1  2  3  4  5  6  7  8  9 10 11 12 13 14 15 16 17 18 19 20 21 22 23\n",
            " 24 25 26 27 28 29 30 31 32 33 34 35 36 37 38 39 40 41 42 43 44 45 46 47\n",
            " 48 49 50 51 52 53 54 55 56 57 58 59 60 61 62 63 64 65 66 67 69 70 71 72\n",
            " 73 74 75 76 77 78 79 80 81 82 83 84 85 86 87 88 89 90 91 92 93 94 95 96\n",
            " 97 98 99] TEST: [68]\n",
            "TRAIN: [ 0  1  2  3  4  5  6  7  8  9 10 11 12 13 14 15 16 17 18 19 20 21 22 23\n",
            " 24 25 26 27 28 29 30 31 32 33 34 35 36 37 38 39 40 41 42 43 44 45 46 47\n",
            " 48 49 50 51 52 53 54 55 56 57 58 59 60 61 62 63 64 65 66 67 68 70 71 72\n",
            " 73 74 75 76 77 78 79 80 81 82 83 84 85 86 87 88 89 90 91 92 93 94 95 96\n",
            " 97 98 99] TEST: [69]\n",
            "TRAIN: [ 0  1  2  3  4  5  6  7  8  9 10 11 12 13 14 15 16 17 18 19 20 21 22 23\n",
            " 24 25 26 27 28 29 30 31 32 33 34 35 36 37 38 39 40 41 42 43 44 45 46 47\n",
            " 48 49 50 51 52 53 54 55 56 57 58 59 60 61 62 63 64 65 66 67 68 69 71 72\n",
            " 73 74 75 76 77 78 79 80 81 82 83 84 85 86 87 88 89 90 91 92 93 94 95 96\n",
            " 97 98 99] TEST: [70]\n",
            "TRAIN: [ 0  1  2  3  4  5  6  7  8  9 10 11 12 13 14 15 16 17 18 19 20 21 22 23\n",
            " 24 25 26 27 28 29 30 31 32 33 34 35 36 37 38 39 40 41 42 43 44 45 46 47\n",
            " 48 49 50 51 52 53 54 55 56 57 58 59 60 61 62 63 64 65 66 67 68 69 70 72\n",
            " 73 74 75 76 77 78 79 80 81 82 83 84 85 86 87 88 89 90 91 92 93 94 95 96\n",
            " 97 98 99] TEST: [71]\n",
            "TRAIN: [ 0  1  2  3  4  5  6  7  8  9 10 11 12 13 14 15 16 17 18 19 20 21 22 23\n",
            " 24 25 26 27 28 29 30 31 32 33 34 35 36 37 38 39 40 41 42 43 44 45 46 47\n",
            " 48 49 50 51 52 53 54 55 56 57 58 59 60 61 62 63 64 65 66 67 68 69 70 71\n",
            " 73 74 75 76 77 78 79 80 81 82 83 84 85 86 87 88 89 90 91 92 93 94 95 96\n",
            " 97 98 99] TEST: [72]\n",
            "TRAIN: [ 0  1  2  3  4  5  6  7  8  9 10 11 12 13 14 15 16 17 18 19 20 21 22 23\n",
            " 24 25 26 27 28 29 30 31 32 33 34 35 36 37 38 39 40 41 42 43 44 45 46 47\n",
            " 48 49 50 51 52 53 54 55 56 57 58 59 60 61 62 63 64 65 66 67 68 69 70 71\n",
            " 72 74 75 76 77 78 79 80 81 82 83 84 85 86 87 88 89 90 91 92 93 94 95 96\n",
            " 97 98 99] TEST: [73]\n",
            "TRAIN: [ 0  1  2  3  4  5  6  7  8  9 10 11 12 13 14 15 16 17 18 19 20 21 22 23\n",
            " 24 25 26 27 28 29 30 31 32 33 34 35 36 37 38 39 40 41 42 43 44 45 46 47\n",
            " 48 49 50 51 52 53 54 55 56 57 58 59 60 61 62 63 64 65 66 67 68 69 70 71\n",
            " 72 73 75 76 77 78 79 80 81 82 83 84 85 86 87 88 89 90 91 92 93 94 95 96\n",
            " 97 98 99] TEST: [74]\n",
            "TRAIN: [ 0  1  2  3  4  5  6  7  8  9 10 11 12 13 14 15 16 17 18 19 20 21 22 23\n",
            " 24 25 26 27 28 29 30 31 32 33 34 35 36 37 38 39 40 41 42 43 44 45 46 47\n",
            " 48 49 50 51 52 53 54 55 56 57 58 59 60 61 62 63 64 65 66 67 68 69 70 71\n",
            " 72 73 74 76 77 78 79 80 81 82 83 84 85 86 87 88 89 90 91 92 93 94 95 96\n",
            " 97 98 99] TEST: [75]\n",
            "TRAIN: [ 0  1  2  3  4  5  6  7  8  9 10 11 12 13 14 15 16 17 18 19 20 21 22 23\n",
            " 24 25 26 27 28 29 30 31 32 33 34 35 36 37 38 39 40 41 42 43 44 45 46 47\n",
            " 48 49 50 51 52 53 54 55 56 57 58 59 60 61 62 63 64 65 66 67 68 69 70 71\n",
            " 72 73 74 75 77 78 79 80 81 82 83 84 85 86 87 88 89 90 91 92 93 94 95 96\n",
            " 97 98 99] TEST: [76]\n",
            "TRAIN: [ 0  1  2  3  4  5  6  7  8  9 10 11 12 13 14 15 16 17 18 19 20 21 22 23\n",
            " 24 25 26 27 28 29 30 31 32 33 34 35 36 37 38 39 40 41 42 43 44 45 46 47\n",
            " 48 49 50 51 52 53 54 55 56 57 58 59 60 61 62 63 64 65 66 67 68 69 70 71\n",
            " 72 73 74 75 76 78 79 80 81 82 83 84 85 86 87 88 89 90 91 92 93 94 95 96\n",
            " 97 98 99] TEST: [77]\n",
            "TRAIN: [ 0  1  2  3  4  5  6  7  8  9 10 11 12 13 14 15 16 17 18 19 20 21 22 23\n",
            " 24 25 26 27 28 29 30 31 32 33 34 35 36 37 38 39 40 41 42 43 44 45 46 47\n",
            " 48 49 50 51 52 53 54 55 56 57 58 59 60 61 62 63 64 65 66 67 68 69 70 71\n",
            " 72 73 74 75 76 77 79 80 81 82 83 84 85 86 87 88 89 90 91 92 93 94 95 96\n",
            " 97 98 99] TEST: [78]\n",
            "TRAIN: [ 0  1  2  3  4  5  6  7  8  9 10 11 12 13 14 15 16 17 18 19 20 21 22 23\n",
            " 24 25 26 27 28 29 30 31 32 33 34 35 36 37 38 39 40 41 42 43 44 45 46 47\n",
            " 48 49 50 51 52 53 54 55 56 57 58 59 60 61 62 63 64 65 66 67 68 69 70 71\n",
            " 72 73 74 75 76 77 78 80 81 82 83 84 85 86 87 88 89 90 91 92 93 94 95 96\n",
            " 97 98 99] TEST: [79]\n",
            "TRAIN: [ 0  1  2  3  4  5  6  7  8  9 10 11 12 13 14 15 16 17 18 19 20 21 22 23\n",
            " 24 25 26 27 28 29 30 31 32 33 34 35 36 37 38 39 40 41 42 43 44 45 46 47\n",
            " 48 49 50 51 52 53 54 55 56 57 58 59 60 61 62 63 64 65 66 67 68 69 70 71\n",
            " 72 73 74 75 76 77 78 79 81 82 83 84 85 86 87 88 89 90 91 92 93 94 95 96\n",
            " 97 98 99] TEST: [80]\n",
            "TRAIN: [ 0  1  2  3  4  5  6  7  8  9 10 11 12 13 14 15 16 17 18 19 20 21 22 23\n",
            " 24 25 26 27 28 29 30 31 32 33 34 35 36 37 38 39 40 41 42 43 44 45 46 47\n",
            " 48 49 50 51 52 53 54 55 56 57 58 59 60 61 62 63 64 65 66 67 68 69 70 71\n",
            " 72 73 74 75 76 77 78 79 80 82 83 84 85 86 87 88 89 90 91 92 93 94 95 96\n",
            " 97 98 99] TEST: [81]\n",
            "TRAIN: [ 0  1  2  3  4  5  6  7  8  9 10 11 12 13 14 15 16 17 18 19 20 21 22 23\n",
            " 24 25 26 27 28 29 30 31 32 33 34 35 36 37 38 39 40 41 42 43 44 45 46 47\n",
            " 48 49 50 51 52 53 54 55 56 57 58 59 60 61 62 63 64 65 66 67 68 69 70 71\n",
            " 72 73 74 75 76 77 78 79 80 81 83 84 85 86 87 88 89 90 91 92 93 94 95 96\n",
            " 97 98 99] TEST: [82]\n",
            "TRAIN: [ 0  1  2  3  4  5  6  7  8  9 10 11 12 13 14 15 16 17 18 19 20 21 22 23\n",
            " 24 25 26 27 28 29 30 31 32 33 34 35 36 37 38 39 40 41 42 43 44 45 46 47\n",
            " 48 49 50 51 52 53 54 55 56 57 58 59 60 61 62 63 64 65 66 67 68 69 70 71\n",
            " 72 73 74 75 76 77 78 79 80 81 82 84 85 86 87 88 89 90 91 92 93 94 95 96\n",
            " 97 98 99] TEST: [83]\n",
            "TRAIN: [ 0  1  2  3  4  5  6  7  8  9 10 11 12 13 14 15 16 17 18 19 20 21 22 23\n",
            " 24 25 26 27 28 29 30 31 32 33 34 35 36 37 38 39 40 41 42 43 44 45 46 47\n",
            " 48 49 50 51 52 53 54 55 56 57 58 59 60 61 62 63 64 65 66 67 68 69 70 71\n",
            " 72 73 74 75 76 77 78 79 80 81 82 83 85 86 87 88 89 90 91 92 93 94 95 96\n",
            " 97 98 99] TEST: [84]\n",
            "TRAIN: [ 0  1  2  3  4  5  6  7  8  9 10 11 12 13 14 15 16 17 18 19 20 21 22 23\n",
            " 24 25 26 27 28 29 30 31 32 33 34 35 36 37 38 39 40 41 42 43 44 45 46 47\n",
            " 48 49 50 51 52 53 54 55 56 57 58 59 60 61 62 63 64 65 66 67 68 69 70 71\n",
            " 72 73 74 75 76 77 78 79 80 81 82 83 84 86 87 88 89 90 91 92 93 94 95 96\n",
            " 97 98 99] TEST: [85]\n",
            "TRAIN: [ 0  1  2  3  4  5  6  7  8  9 10 11 12 13 14 15 16 17 18 19 20 21 22 23\n",
            " 24 25 26 27 28 29 30 31 32 33 34 35 36 37 38 39 40 41 42 43 44 45 46 47\n",
            " 48 49 50 51 52 53 54 55 56 57 58 59 60 61 62 63 64 65 66 67 68 69 70 71\n",
            " 72 73 74 75 76 77 78 79 80 81 82 83 84 85 87 88 89 90 91 92 93 94 95 96\n",
            " 97 98 99] TEST: [86]\n",
            "TRAIN: [ 0  1  2  3  4  5  6  7  8  9 10 11 12 13 14 15 16 17 18 19 20 21 22 23\n",
            " 24 25 26 27 28 29 30 31 32 33 34 35 36 37 38 39 40 41 42 43 44 45 46 47\n",
            " 48 49 50 51 52 53 54 55 56 57 58 59 60 61 62 63 64 65 66 67 68 69 70 71\n",
            " 72 73 74 75 76 77 78 79 80 81 82 83 84 85 86 88 89 90 91 92 93 94 95 96\n",
            " 97 98 99] TEST: [87]\n",
            "TRAIN: [ 0  1  2  3  4  5  6  7  8  9 10 11 12 13 14 15 16 17 18 19 20 21 22 23\n",
            " 24 25 26 27 28 29 30 31 32 33 34 35 36 37 38 39 40 41 42 43 44 45 46 47\n",
            " 48 49 50 51 52 53 54 55 56 57 58 59 60 61 62 63 64 65 66 67 68 69 70 71\n",
            " 72 73 74 75 76 77 78 79 80 81 82 83 84 85 86 87 89 90 91 92 93 94 95 96\n",
            " 97 98 99] TEST: [88]\n",
            "TRAIN: [ 0  1  2  3  4  5  6  7  8  9 10 11 12 13 14 15 16 17 18 19 20 21 22 23\n",
            " 24 25 26 27 28 29 30 31 32 33 34 35 36 37 38 39 40 41 42 43 44 45 46 47\n",
            " 48 49 50 51 52 53 54 55 56 57 58 59 60 61 62 63 64 65 66 67 68 69 70 71\n",
            " 72 73 74 75 76 77 78 79 80 81 82 83 84 85 86 87 88 90 91 92 93 94 95 96\n",
            " 97 98 99] TEST: [89]\n",
            "TRAIN: [ 0  1  2  3  4  5  6  7  8  9 10 11 12 13 14 15 16 17 18 19 20 21 22 23\n",
            " 24 25 26 27 28 29 30 31 32 33 34 35 36 37 38 39 40 41 42 43 44 45 46 47\n",
            " 48 49 50 51 52 53 54 55 56 57 58 59 60 61 62 63 64 65 66 67 68 69 70 71\n",
            " 72 73 74 75 76 77 78 79 80 81 82 83 84 85 86 87 88 89 91 92 93 94 95 96\n",
            " 97 98 99] TEST: [90]\n",
            "TRAIN: [ 0  1  2  3  4  5  6  7  8  9 10 11 12 13 14 15 16 17 18 19 20 21 22 23\n",
            " 24 25 26 27 28 29 30 31 32 33 34 35 36 37 38 39 40 41 42 43 44 45 46 47\n",
            " 48 49 50 51 52 53 54 55 56 57 58 59 60 61 62 63 64 65 66 67 68 69 70 71\n",
            " 72 73 74 75 76 77 78 79 80 81 82 83 84 85 86 87 88 89 90 92 93 94 95 96\n",
            " 97 98 99] TEST: [91]\n",
            "TRAIN: [ 0  1  2  3  4  5  6  7  8  9 10 11 12 13 14 15 16 17 18 19 20 21 22 23\n",
            " 24 25 26 27 28 29 30 31 32 33 34 35 36 37 38 39 40 41 42 43 44 45 46 47\n",
            " 48 49 50 51 52 53 54 55 56 57 58 59 60 61 62 63 64 65 66 67 68 69 70 71\n",
            " 72 73 74 75 76 77 78 79 80 81 82 83 84 85 86 87 88 89 90 91 93 94 95 96\n",
            " 97 98 99] TEST: [92]\n",
            "TRAIN: [ 0  1  2  3  4  5  6  7  8  9 10 11 12 13 14 15 16 17 18 19 20 21 22 23\n",
            " 24 25 26 27 28 29 30 31 32 33 34 35 36 37 38 39 40 41 42 43 44 45 46 47\n",
            " 48 49 50 51 52 53 54 55 56 57 58 59 60 61 62 63 64 65 66 67 68 69 70 71\n",
            " 72 73 74 75 76 77 78 79 80 81 82 83 84 85 86 87 88 89 90 91 92 94 95 96\n",
            " 97 98 99] TEST: [93]\n",
            "TRAIN: [ 0  1  2  3  4  5  6  7  8  9 10 11 12 13 14 15 16 17 18 19 20 21 22 23\n",
            " 24 25 26 27 28 29 30 31 32 33 34 35 36 37 38 39 40 41 42 43 44 45 46 47\n",
            " 48 49 50 51 52 53 54 55 56 57 58 59 60 61 62 63 64 65 66 67 68 69 70 71\n",
            " 72 73 74 75 76 77 78 79 80 81 82 83 84 85 86 87 88 89 90 91 92 93 95 96\n",
            " 97 98 99] TEST: [94]\n",
            "TRAIN: [ 0  1  2  3  4  5  6  7  8  9 10 11 12 13 14 15 16 17 18 19 20 21 22 23\n",
            " 24 25 26 27 28 29 30 31 32 33 34 35 36 37 38 39 40 41 42 43 44 45 46 47\n",
            " 48 49 50 51 52 53 54 55 56 57 58 59 60 61 62 63 64 65 66 67 68 69 70 71\n",
            " 72 73 74 75 76 77 78 79 80 81 82 83 84 85 86 87 88 89 90 91 92 93 94 96\n",
            " 97 98 99] TEST: [95]\n",
            "TRAIN: [ 0  1  2  3  4  5  6  7  8  9 10 11 12 13 14 15 16 17 18 19 20 21 22 23\n",
            " 24 25 26 27 28 29 30 31 32 33 34 35 36 37 38 39 40 41 42 43 44 45 46 47\n",
            " 48 49 50 51 52 53 54 55 56 57 58 59 60 61 62 63 64 65 66 67 68 69 70 71\n",
            " 72 73 74 75 76 77 78 79 80 81 82 83 84 85 86 87 88 89 90 91 92 93 94 95\n",
            " 97 98 99] TEST: [96]\n",
            "TRAIN: [ 0  1  2  3  4  5  6  7  8  9 10 11 12 13 14 15 16 17 18 19 20 21 22 23\n",
            " 24 25 26 27 28 29 30 31 32 33 34 35 36 37 38 39 40 41 42 43 44 45 46 47\n",
            " 48 49 50 51 52 53 54 55 56 57 58 59 60 61 62 63 64 65 66 67 68 69 70 71\n",
            " 72 73 74 75 76 77 78 79 80 81 82 83 84 85 86 87 88 89 90 91 92 93 94 95\n",
            " 96 98 99] TEST: [97]\n",
            "TRAIN: [ 0  1  2  3  4  5  6  7  8  9 10 11 12 13 14 15 16 17 18 19 20 21 22 23\n",
            " 24 25 26 27 28 29 30 31 32 33 34 35 36 37 38 39 40 41 42 43 44 45 46 47\n",
            " 48 49 50 51 52 53 54 55 56 57 58 59 60 61 62 63 64 65 66 67 68 69 70 71\n",
            " 72 73 74 75 76 77 78 79 80 81 82 83 84 85 86 87 88 89 90 91 92 93 94 95\n",
            " 96 97 99] TEST: [98]\n",
            "TRAIN: [ 0  1  2  3  4  5  6  7  8  9 10 11 12 13 14 15 16 17 18 19 20 21 22 23\n",
            " 24 25 26 27 28 29 30 31 32 33 34 35 36 37 38 39 40 41 42 43 44 45 46 47\n",
            " 48 49 50 51 52 53 54 55 56 57 58 59 60 61 62 63 64 65 66 67 68 69 70 71\n",
            " 72 73 74 75 76 77 78 79 80 81 82 83 84 85 86 87 88 89 90 91 92 93 94 95\n",
            " 96 97 98] TEST: [99]\n"
          ]
        },
        {
          "output_type": "execute_result",
          "data": {
            "text/plain": [
              "1.0"
            ]
          },
          "metadata": {},
          "execution_count": 22
        }
      ]
    },
    {
      "cell_type": "code",
      "source": [
        "\n",
        "sum(all_preds)/len(all_preds)"
      ],
      "metadata": {
        "colab": {
          "base_uri": "https://localhost:8080/"
        },
        "id": "-6gB-eQ-8vo6",
        "outputId": "2b2bdefa-c684-405b-9c17-f358f7ca7827"
      },
      "execution_count": 23,
      "outputs": [
        {
          "output_type": "execute_result",
          "data": {
            "text/plain": [
              "1.0"
            ]
          },
          "metadata": {},
          "execution_count": 23
        }
      ]
    },
    {
      "cell_type": "markdown",
      "source": [
        "## Fifth: Stratified k-fold cross-validation:"
      ],
      "metadata": {
        "id": "Pc26Iq5fa-Vx"
      }
    },
    {
      "cell_type": "markdown",
      "source": [
        "\n",
        "\n",
        "For all the cross-validation techniques discussed above, they may not work well with an imbalanced dataset. Stratified k-fold cross-validation solved the problem of an imbalanced dataset.\n",
        "\n",
        "In Stratified k-fold cross-validation, the dataset is partitioned into k groups or folds such that the validation data has an equal number of instances of target class label. This ensures that one particular class is not over present in the validation or train data especially when the dataset is imbalanced.\n",
        "\n",
        "**Pros:**\n",
        "- Works well for an imbalanced dataset.\n",
        "\n",
        "**Cons:**\n",
        "- Not suitable for time series dataset."
      ],
      "metadata": {
        "id": "As-GIHJOXItG"
      }
    },
    {
      "cell_type": "code",
      "source": [
        "from sklearn.model_selection import StratifiedKFold\n",
        "\n",
        "# X = df[features]\n",
        "# y = df['isFraud']\n",
        "\n",
        "# Create StratifiedKFold object.\n",
        "skf = StratifiedKFold(n_splits=10, shuffle=True, random_state=1)\n",
        "lst_accu_stratified = []\n",
        "  \n",
        "for train_index, test_index in skf.split(X,y):\n",
        "    x_train_fold, x_test_fold = X[train_index], X[test_index]\n",
        "    y_train_fold, y_test_fold = y[train_index], y[test_index]\n",
        "    \n",
        "    model = RandomForestClassifier()\n",
        "\n",
        "    model.fit(X_train, y_train)\n",
        "    y_preds = model.predict(X_test)\n",
        "\n",
        "    pr_auc = average_precision_score(y_preds, y_test)\n",
        "\n",
        "all_scores.append(pr_auc)\n"
      ],
      "metadata": {
        "colab": {
          "base_uri": "https://localhost:8080/",
          "height": 235
        },
        "id": "SWotHh0MbXUJ",
        "outputId": "949bfc11-c65d-42dd-d85f-9a6c3075a3c3"
      },
      "execution_count": 39,
      "outputs": [
        {
          "output_type": "error",
          "ename": "TypeError",
          "evalue": "ignored",
          "traceback": [
            "\u001b[0;31m---------------------------------------------------------------------------\u001b[0m",
            "\u001b[0;31mTypeError\u001b[0m                                 Traceback (most recent call last)",
            "\u001b[0;32m<ipython-input-39-4b1e6cf97dae>\u001b[0m in \u001b[0;36m<module>\u001b[0;34m\u001b[0m\n\u001b[1;32m      5\u001b[0m \u001b[0mlst_accu_stratified\u001b[0m \u001b[0;34m=\u001b[0m \u001b[0;34m[\u001b[0m\u001b[0;34m]\u001b[0m\u001b[0;34m\u001b[0m\u001b[0;34m\u001b[0m\u001b[0m\n\u001b[1;32m      6\u001b[0m \u001b[0;34m\u001b[0m\u001b[0m\n\u001b[0;32m----> 7\u001b[0;31m \u001b[0;32mfor\u001b[0m \u001b[0mtrain_index\u001b[0m\u001b[0;34m,\u001b[0m \u001b[0mtest_index\u001b[0m \u001b[0;32min\u001b[0m \u001b[0mskf\u001b[0m\u001b[0;34m.\u001b[0m\u001b[0msplit\u001b[0m\u001b[0;34m(\u001b[0m\u001b[0mdf\u001b[0m\u001b[0;34m)\u001b[0m\u001b[0;34m:\u001b[0m\u001b[0;34m\u001b[0m\u001b[0;34m\u001b[0m\u001b[0m\n\u001b[0m\u001b[1;32m      8\u001b[0m     \u001b[0mx_train_fold\u001b[0m\u001b[0;34m,\u001b[0m \u001b[0mx_test_fold\u001b[0m \u001b[0;34m=\u001b[0m \u001b[0mX\u001b[0m\u001b[0;34m[\u001b[0m\u001b[0mtrain_index\u001b[0m\u001b[0;34m]\u001b[0m\u001b[0;34m,\u001b[0m \u001b[0mX\u001b[0m\u001b[0;34m[\u001b[0m\u001b[0mtest_index\u001b[0m\u001b[0;34m]\u001b[0m\u001b[0;34m\u001b[0m\u001b[0;34m\u001b[0m\u001b[0m\n\u001b[1;32m      9\u001b[0m     \u001b[0my_train_fold\u001b[0m\u001b[0;34m,\u001b[0m \u001b[0my_test_fold\u001b[0m \u001b[0;34m=\u001b[0m \u001b[0my\u001b[0m\u001b[0;34m[\u001b[0m\u001b[0mtrain_index\u001b[0m\u001b[0;34m]\u001b[0m\u001b[0;34m,\u001b[0m \u001b[0my\u001b[0m\u001b[0;34m[\u001b[0m\u001b[0mtest_index\u001b[0m\u001b[0;34m]\u001b[0m\u001b[0;34m\u001b[0m\u001b[0;34m\u001b[0m\u001b[0m\n",
            "\u001b[0;31mTypeError\u001b[0m: split() missing 1 required positional argument: 'y'"
          ]
        }
      ]
    },
    {
      "cell_type": "markdown",
      "source": [
        "## Sixth : Rolling Cross Validation OR (Time Series KFold)\n"
      ],
      "metadata": {
        "id": "VfRY6XykbEpj"
      }
    },
    {
      "cell_type": "markdown",
      "source": [
        "\n",
        "\n",
        "For data based on time series, no cross-validation method is effective except the rolling cross-validation method. This method involves taking a subset out of the data set that serves as the training data set. \n",
        "\n",
        "The order of the data is very important for time-series related problem. For time-related dataset random split or k-fold split of data into train and validation may not yield good results.\n",
        "\n",
        "For the time-series dataset, the split of data into train and validation is according to the time . For a particular iteration, the next instance of train data can be treated as validation data.\n",
        "\n"
      ],
      "metadata": {
        "id": "Oh23ybiTDGjS"
      }
    },
    {
      "cell_type": "markdown",
      "source": [
        "![image.png](data:image/png;base64,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)"
      ],
      "metadata": {
        "id": "mLDAXq2gXuCs"
      }
    },
    {
      "cell_type": "markdown",
      "source": [
        "As mentioned in the above diagram, for the 1st iteration, 1st 3 rows are considered as train data and the next instance T4 is validation data. The chance of choice of train and validation data is forwarded for further iterations."
      ],
      "metadata": {
        "id": "UuTOdPDGX0Ap"
      }
    },
    {
      "cell_type": "code",
      "source": [
        "from sklearn.model_selection import TimeSeriesSplit\n",
        "\n",
        "tscv = TimeSeriesSplit()\n",
        "\n",
        "all_scores = []\n",
        "\n",
        "for train_index, test_index in tscv.split(X):\n",
        "#     print(\"TRAIN:\", train_index, \"TEST:\", test_index)\n",
        "    X_train, X_test = X.iloc[train_index], X.iloc[test_index]\n",
        "    y_train, y_test = y.iloc[train_index], y.iloc[test_index]\n",
        "    \n",
        "    model = RandomForestClassifier()\n",
        "\n",
        "    model.fit(X_train, y_train)\n",
        "    y_preds = model.predict(X_test)\n",
        "\n",
        "    pr_auc = average_precision_score(y_preds, y_test)\n",
        "    \n",
        "    all_scores.append(pr_auc)\n",
        "    \n",
        "    \n",
        "print(all_scores)"
      ],
      "metadata": {
        "colab": {
          "base_uri": "https://localhost:8080/"
        },
        "id": "ia7LO8nMC6e5",
        "outputId": "cb9dca20-149f-46ef-b043-cf3467be09fc"
      },
      "execution_count": 25,
      "outputs": [
        {
          "output_type": "stream",
          "name": "stdout",
          "text": [
            "[0.012087607429997227, 0.00787357915164957, 0.005433878569448295, 0.0047130579428888274, 0.003271416689769892]\n"
          ]
        }
      ]
    },
    {
      "cell_type": "code",
      "source": [
        "print(np.mean(all_scores))"
      ],
      "metadata": {
        "colab": {
          "base_uri": "https://localhost:8080/"
        },
        "id": "xdXFhLFwEJPd",
        "outputId": "462f6481-813b-45c3-cfe7-b5a76cfb77fa"
      },
      "execution_count": 28,
      "outputs": [
        {
          "output_type": "stream",
          "name": "stdout",
          "text": [
            "0.9945385489728591\n"
          ]
        }
      ]
    },
    {
      "cell_type": "markdown",
      "source": [
        "**Rsources**\n",
        "\n",
        "- https://www.analyticssteps.com/blogs/7-types-cross-validation\n",
        "\n",
        "- https://towardsdatascience.com/understanding-8-types-of-cross-validation-80c935a4976d"
      ],
      "metadata": {
        "id": "LNGEaRMxN8OM"
      }
    },
    {
      "cell_type": "code",
      "source": [],
      "metadata": {
        "id": "n9Gugqv-EXg-"
      },
      "execution_count": null,
      "outputs": []
    }
  ]
}