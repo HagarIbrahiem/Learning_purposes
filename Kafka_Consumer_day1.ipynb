{
  "cells": [
    {
      "cell_type": "markdown",
      "metadata": {
        "id": "view-in-github",
        "colab_type": "text"
      },
      "source": [
        "<a href=\"https://colab.research.google.com/github/HagarIbrahiem/Learning_purposes/blob/main/Kafka_Consumer_day1.ipynb\" target=\"_parent\"><img src=\"https://colab.research.google.com/assets/colab-badge.svg\" alt=\"Open In Colab\"/></a>"
      ]
    },
    {
      "cell_type": "code",
      "execution_count": null,
      "metadata": {
        "id": "lAwnpI-z7NbH"
      },
      "outputs": [],
      "source": [
        "# pip install confluent-kafka\n"
      ]
    },
    {
      "cell_type": "code",
      "execution_count": null,
      "metadata": {
        "id": "iY2uCSEj5zbp"
      },
      "outputs": [],
      "source": [
        "from confluent_kafka import Consumer\n",
        "\n",
        "\n",
        "topic = 'HagarBendary'\n",
        "group_id= \"foooooooo3\"\n",
        "conf = {'bootstrap.servers': \"34.70.120.136:9094,35.202.98.23:9094,34.133.105.230:9094\",\n",
        "        'group.id':group_id ,\n",
        "        'enable.auto.commit':False,   #diable auto commit\n",
        "        'auto.offset.reset': 'latest'}  #smallest  #earliest\n",
        "\n",
        "consumer = Consumer(conf)"
      ]
    },
    {
      "cell_type": "code",
      "execution_count": null,
      "metadata": {
        "colab": {
          "background_save": true,
          "base_uri": "https://localhost:8080/"
        },
        "id": "YXGya-kV7I6s",
        "outputId": "080af0e6-770d-41d9-a12e-1ce33425ca38"
      },
      "outputs": [
        {
          "name": "stdout",
          "output_type": "stream",
          "text": [
            "Message Recieved b'Mamdouh: hey'\n",
            "Message Recieved b'Hager:  test'\n",
            "Message Recieved b'Mamdouh: 3yz anam'\n",
            "Message Recieved b'Hager: 5ly balk el bus hyfotna'\n",
            "Message Recieved b'Mamdouh: while True:   msg = \"Mamdouh: \"+ input(\"Mando: \")   producer.produce(topic,value=msg, key=\\'key\\')   producer.flush()'\n",
            "Message Recieved b'hiii'\n",
            "Message Recieved b'hola!'\n",
            "Message Recieved b'Mamdouh: ektbo asamyko abl el msg'\n",
            "Message Recieved b'Mamdouh: shinzou sasageyo'\n",
            "Message Recieved b'Ana ht25r ya hndsa xD, Gooda'\n",
            "Message Recieved b'L bus ya bashmohndsa xD, Gooda'\n",
            "Message Recieved b'zahara: hello :)'\n",
            "Message Recieved b'Hager: : )) '\n",
            "Message Recieved b'Ishraq: Hola!'\n",
            "Message Recieved b'Mamdouh: rkzo fl el mo7adra :D'\n",
            "Message Recieved b'Hager: :))'\n",
            "Message Recieved b'Mamdouh: Mamdouh Logged OUT'\n",
            "Message Recieved b'Ishraq: mrkzeen ahoh!'\n",
            "Message Recieved b'ana sherif m3ako f iti'\n",
            "Message Recieved b'Hager: el Buuuus b2a'\n",
            "Message Recieved b'value'\n",
            "Message Recieved b'Ishraq: \\xd9\\x8a\\xd9\\x84\\xd8\\xa7 \\xd8\\xb1\\xd9\\x88\\xd8\\xad\\xd9\\x88\\xd8\\xa7 \\xd8\\xa7\\xd9\\x84\\xd8\\xad\\xd9\\x81\\xd9\\x88\\xd8\\xa7 \\xd8\\xa7\\xd9\\x84\\xd8\\xa8\\xd8\\xa7\\xd8\\xb5\\xd8\\xa7\\xd8\\xaa'\n",
            "Message Recieved b'Mostafa: Sasa was here.'\n",
            "Message Recieved b'Ishraq: lazem franko'\n",
            "Message Recieved b'When the deadline of deep Learning Project'\n",
            "Message Recieved b'Ishraq: yalla ro7o el7a2o l busses'\n",
            "Message Recieved b'Hager: no encode for arabic '\n",
            "Message Recieved b'Hager: Yala , Salam :))'\n",
            "Message Recieved b\"'Ya Halaa bikom'\"\n",
            "Message Recieved b'Ishraq: Bye!'\n",
            "Message Recieved b'kfaya late b2a zh2na'\n",
            "Message Recieved b'Yousef: Hello :)'\n",
            "Message Recieved b'Alaa: wish you safe trip'\n",
            "Message Recieved b'Hamza: Hiiii '\n",
            "Message Recieved b'Alaa: wish you safe trip'\n",
            "Message Recieved b'Ana hamza mawgoood aho'\n",
            "Message Recieved b'elpop: Hello all '\n",
            "Message Recieved b'Alaa: see you tomorrow'\n",
            "Message Recieved b'From Alaa to Eng. Mamdouh, we need the HPC slides :)'\n",
            "Message Recieved b'Essam-> kfaya late b2a zh2na 3ayzen 3 ayam sma7 lkl elgroup min eng.mamdouh'\n",
            "Message Recieved b'Alaa: When will the HPC lecture begin?'\n",
            "Message Recieved b\"hey there i'm using whats app : Elfeky\"\n",
            "Message Recieved b\"hey there i'm using whats app : Elfeky\"\n",
            "Message Recieved b\"hey there i'm using whats app : Elfeky\"\n",
            "Message Recieved b\"hey there i'm using whats app : Elfeky\"\n",
            "Message Recieved b'how to make a messanger from home'\n",
            "Message Recieved b'steps: make while loop'\n",
            "Message Recieved b'tthen enter your messages'\n",
            "Message Recieved b'bye'\n"
          ]
        }
      ],
      "source": [
        "try:\n",
        "        consumer.subscribe([topic])\n",
        "\n",
        "        while True:\n",
        "            msg = consumer.poll(timeout=1.0)\n",
        "            if msg is None: continue\n",
        "\n",
        "            if msg.error():\n",
        "                if msg.error().code() == KafkaError._PARTITION_EOF:\n",
        "                    # End of partition event\n",
        "                    sys.stderr.write('%% %s [%d] reached end at offset %d\\n' %\n",
        "                                     (msg.topic(), msg.partition(), msg.offset()))\n",
        "                elif msg.error():\n",
        "                    raise KafkaException(msg.error())\n",
        "            else:\n",
        "                print(\"Message Recieved\" , msg.value())\n",
        "                consumer.commit(asynchronous=True)\n",
        "finally:\n",
        "        # Close down consumer to commit final offsets.\n",
        "        consumer.close()\n"
      ]
    },
    {
      "cell_type": "code",
      "execution_count": null,
      "metadata": {
        "id": "o8jAjdw98bnZ"
      },
      "outputs": [],
      "source": []
    }
  ],
  "metadata": {
    "colab": {
      "provenance": [],
      "authorship_tag": "ABX9TyN8cyP98DZFM4OTYn/27M74",
      "include_colab_link": true
    },
    "kernelspec": {
      "display_name": "Python 3",
      "name": "python3"
    },
    "language_info": {
      "name": "python"
    }
  },
  "nbformat": 4,
  "nbformat_minor": 0
}